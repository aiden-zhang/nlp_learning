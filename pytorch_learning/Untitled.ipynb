{
 "cells": [
  {
   "cell_type": "markdown",
   "id": "b7fb97fb-08fd-4aaf-aa2b-4781520b3d7f",
   "metadata": {},
   "source": [
    "**第5---**"
   ]
  },
  {
   "cell_type": "code",
   "execution_count": 1,
   "id": "0eb0506e-089d-4e3c-85a4-9f9005fa679c",
   "metadata": {},
   "outputs": [
    {
     "data": {
      "text/plain": [
       "'1.9.0+cpu'"
      ]
     },
     "execution_count": 1,
     "metadata": {},
     "output_type": "execute_result"
    }
   ],
   "source": [
    "import torch\n",
    "torch.__version__"
   ]
  },
  {
   "cell_type": "code",
   "execution_count": 2,
   "id": "505fa5d9-a9f0-42ae-8463-74868de58fae",
   "metadata": {
    "tags": []
   },
   "outputs": [
    {
     "data": {
      "text/plain": [
       "False"
      ]
     },
     "execution_count": 2,
     "metadata": {},
     "output_type": "execute_result"
    }
   ],
   "source": [
    "torch.cuda.is_available()"
   ]
  },
  {
   "cell_type": "code",
   "execution_count": 6,
   "id": "f7c33d85-1b99-45ea-9902-04451cda599c",
   "metadata": {},
   "outputs": [
    {
     "name": "stdout",
     "output_type": "stream",
     "text": [
      "hello world\n"
     ]
    }
   ],
   "source": [
    "def myHello():\n",
    "    print('hello world')\n",
    "    \n",
    "myHello()"
   ]
  },
  {
   "cell_type": "code",
   "execution_count": 9,
   "id": "8a394f5d-d01b-432f-81a2-6c142d0465cd",
   "metadata": {},
   "outputs": [
    {
     "name": "stdout",
     "output_type": "stream",
     "text": [
      "hello world\n"
     ]
    }
   ],
   "source": [
    "myHello()"
   ]
  },
  {
   "cell_type": "code",
   "execution_count": 8,
   "id": "91be5a1b-41ab-40d8-95d6-2a27b4b3d14a",
   "metadata": {},
   "outputs": [
    {
     "name": "stdout",
     "output_type": "stream",
     "text": [
      "nihao\n"
     ]
    }
   ],
   "source": [
    "print('nihao')"
   ]
  },
  {
   "cell_type": "code",
   "execution_count": 10,
   "id": "6939cba9-4dd6-4b01-a449-0c79e6404ed3",
   "metadata": {},
   "outputs": [
    {
     "name": "stdout",
     "output_type": "stream",
     "text": [
      "hello world\n"
     ]
    }
   ],
   "source": [
    "myHello()"
   ]
  },
  {
   "cell_type": "code",
   "execution_count": 11,
   "id": "9e148ccd-1731-4f02-9fd5-dd4a223445da",
   "metadata": {},
   "outputs": [
    {
     "name": "stdout",
     "output_type": "stream",
     "text": [
      "hello world\n"
     ]
    }
   ],
   "source": [
    "myHello()"
   ]
  },
  {
   "cell_type": "code",
   "execution_count": null,
   "id": "ca3d2552-3e5c-40b2-8855-905a710051d5",
   "metadata": {},
   "outputs": [],
   "source": []
  }
 ],
 "metadata": {
  "kernelspec": {
   "display_name": "Python 3",
   "language": "python",
   "name": "python3"
  },
  "language_info": {
   "codemirror_mode": {
    "name": "ipython",
    "version": 3
   },
   "file_extension": ".py",
   "mimetype": "text/x-python",
   "name": "python",
   "nbconvert_exporter": "python",
   "pygments_lexer": "ipython3",
   "version": "3.8.10"
  },
  "toc": {
   "base_numbering": 1,
   "nav_menu": {},
   "number_sections": true,
   "sideBar": true,
   "skip_h1_title": false,
   "title_cell": "Table of Contents",
   "title_sidebar": "Contents",
   "toc_cell": false,
   "toc_position": {},
   "toc_section_display": true,
   "toc_window_display": false
  },
  "toc-autonumbering": true,
  "toc-showtags": false
 },
 "nbformat": 4,
 "nbformat_minor": 5
}
