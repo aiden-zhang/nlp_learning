{
 "cells": [
  {
   "cell_type": "code",
   "execution_count": 1,
   "metadata": {
    "colab": {
     "base_uri": "https://localhost:8080/"
    },
    "executionInfo": {
     "elapsed": 29943,
     "status": "ok",
     "timestamp": 1641179469146,
     "user": {
      "displayName": "aiden zhang",
      "photoUrl": "https://lh3.googleusercontent.com/a/default-user=s64",
      "userId": "00038965460335847869"
     },
     "user_tz": -480
    },
    "id": "ht1MGUZS6S1n",
    "outputId": "4361b354-7e00-4d37-9861-1e151e7c3dbc"
   },
   "outputs": [
    {
     "name": "stdout",
     "output_type": "stream",
     "text": [
      "Mounted at /content/gdrive\n",
      "Collecting transformers\n",
      "  Downloading transformers-4.15.0-py3-none-any.whl (3.4 MB)\n",
      "\u001b[K     |████████████████████████████████| 3.4 MB 9.8 MB/s \n",
      "\u001b[?25hCollecting sacremoses\n",
      "  Downloading sacremoses-0.0.46-py3-none-any.whl (895 kB)\n",
      "\u001b[K     |████████████████████████████████| 895 kB 23.4 MB/s \n",
      "\u001b[?25hCollecting pyyaml>=5.1\n",
      "  Downloading PyYAML-6.0-cp37-cp37m-manylinux_2_5_x86_64.manylinux1_x86_64.manylinux_2_12_x86_64.manylinux2010_x86_64.whl (596 kB)\n",
      "\u001b[K     |████████████████████████████████| 596 kB 60.5 MB/s \n",
      "\u001b[?25hCollecting huggingface-hub<1.0,>=0.1.0\n",
      "  Downloading huggingface_hub-0.2.1-py3-none-any.whl (61 kB)\n",
      "\u001b[K     |████████████████████████████████| 61 kB 484 kB/s \n",
      "\u001b[?25hRequirement already satisfied: packaging>=20.0 in /usr/local/lib/python3.7/dist-packages (from transformers) (21.3)\n",
      "Requirement already satisfied: numpy>=1.17 in /usr/local/lib/python3.7/dist-packages (from transformers) (1.19.5)\n",
      "Requirement already satisfied: requests in /usr/local/lib/python3.7/dist-packages (from transformers) (2.23.0)\n",
      "Requirement already satisfied: importlib-metadata in /usr/local/lib/python3.7/dist-packages (from transformers) (4.8.2)\n",
      "Requirement already satisfied: regex!=2019.12.17 in /usr/local/lib/python3.7/dist-packages (from transformers) (2019.12.20)\n",
      "Collecting tokenizers<0.11,>=0.10.1\n",
      "  Downloading tokenizers-0.10.3-cp37-cp37m-manylinux_2_5_x86_64.manylinux1_x86_64.manylinux_2_12_x86_64.manylinux2010_x86_64.whl (3.3 MB)\n",
      "\u001b[K     |████████████████████████████████| 3.3 MB 45.0 MB/s \n",
      "\u001b[?25hRequirement already satisfied: tqdm>=4.27 in /usr/local/lib/python3.7/dist-packages (from transformers) (4.62.3)\n",
      "Requirement already satisfied: filelock in /usr/local/lib/python3.7/dist-packages (from transformers) (3.4.0)\n",
      "Requirement already satisfied: typing-extensions>=3.7.4.3 in /usr/local/lib/python3.7/dist-packages (from huggingface-hub<1.0,>=0.1.0->transformers) (3.10.0.2)\n",
      "Requirement already satisfied: pyparsing!=3.0.5,>=2.0.2 in /usr/local/lib/python3.7/dist-packages (from packaging>=20.0->transformers) (3.0.6)\n",
      "Requirement already satisfied: zipp>=0.5 in /usr/local/lib/python3.7/dist-packages (from importlib-metadata->transformers) (3.6.0)\n",
      "Requirement already satisfied: urllib3!=1.25.0,!=1.25.1,<1.26,>=1.21.1 in /usr/local/lib/python3.7/dist-packages (from requests->transformers) (1.24.3)\n",
      "Requirement already satisfied: idna<3,>=2.5 in /usr/local/lib/python3.7/dist-packages (from requests->transformers) (2.10)\n",
      "Requirement already satisfied: chardet<4,>=3.0.2 in /usr/local/lib/python3.7/dist-packages (from requests->transformers) (3.0.4)\n",
      "Requirement already satisfied: certifi>=2017.4.17 in /usr/local/lib/python3.7/dist-packages (from requests->transformers) (2021.10.8)\n",
      "Requirement already satisfied: six in /usr/local/lib/python3.7/dist-packages (from sacremoses->transformers) (1.15.0)\n",
      "Requirement already satisfied: click in /usr/local/lib/python3.7/dist-packages (from sacremoses->transformers) (7.1.2)\n",
      "Requirement already satisfied: joblib in /usr/local/lib/python3.7/dist-packages (from sacremoses->transformers) (1.1.0)\n",
      "Installing collected packages: pyyaml, tokenizers, sacremoses, huggingface-hub, transformers\n",
      "  Attempting uninstall: pyyaml\n",
      "    Found existing installation: PyYAML 3.13\n",
      "    Uninstalling PyYAML-3.13:\n",
      "      Successfully uninstalled PyYAML-3.13\n",
      "Successfully installed huggingface-hub-0.2.1 pyyaml-6.0 sacremoses-0.0.46 tokenizers-0.10.3 transformers-4.15.0\n",
      "Collecting pytorch-crf==0.7.2\n",
      "  Downloading pytorch_crf-0.7.2-py3-none-any.whl (9.5 kB)\n",
      "Installing collected packages: pytorch-crf\n",
      "Successfully installed pytorch-crf-0.7.2\n",
      "change to path: /content/gdrive/MyDrive/第二次进行实体识别-面向课程_toColab/\n",
      "current path:\n",
      "/content/gdrive/MyDrive/第二次进行实体识别-面向课程_toColab\n",
      "ls in current path:\n",
      "bert+bert_crf.ipynb\t data\t\t     test.ipynb\n",
      "bert_crf.h5\t\t model_zoo.py\t     安装crf.txt\n",
      "bert.h5\t\t\t parameter.pkl\t     测试模型.ipynb\n",
      "bilstm+bilstm_crf.ipynb  prev_trained_model\n"
     ]
    }
   ],
   "source": [
    "#colab中运行jupyter文件的步骤：\n",
    "# 1.挂载云盘\n",
    "from google.colab import drive\n",
    "drive.mount('/content/gdrive')\n",
    "\n",
    "# 2.安装需要的软件\n",
    "!pip3 install transformers\n",
    "!pip3 install pytorch-crf==0.7.2\n",
    "\n",
    "import os\n",
    "def get_root_dir():\n",
    "    if os.path.exists('/content/gdrive/MyDrive/第二次进行实体识别-面向课程_toColab/'):\n",
    "        return '/content/gdrive/MyDrive/第二次进行实体识别-面向课程_toColab/' #在Colab里\n",
    "    else:\n",
    "        return './' #在本地\n",
    "\n",
    "# 3.调用系统命令，切换到对应工程路径，相当于cd，但是直接!cd是不行的\n",
    "print(\"change to path:\",get_root_dir())\n",
    "os.chdir(get_root_dir())\n",
    "\n",
    "# 4.再次确认路径\n",
    "print('current path:')\n",
    "!pwd\n",
    "print('ls in current path:')\n",
    "!ls\n",
    "\n",
    "# 不借助print()实现多输出结果的打印\n",
    "from IPython.core.interactiveshell import InteractiveShell\n",
    "InteractiveShell.ast_node_interactivity = 'all'\n"
   ]
  },
  {
   "cell_type": "markdown",
   "metadata": {
    "ExecuteTime": {
     "end_time": "2021-08-26T08:38:01.972285Z",
     "start_time": "2021-08-26T08:38:01.958368Z"
    },
    "id": "eZLTMFNJ6BDY"
   },
   "source": [
    "# 课前准备"
   ]
  },
  {
   "cell_type": "markdown",
   "metadata": {
    "id": "_w-_ed9Y6BDf"
   },
   "source": [
    "![image.png](attachment:image.png)"
   ]
  },
  {
   "cell_type": "markdown",
   "metadata": {
    "id": "SYerv1_06BDg"
   },
   "source": [
    "![image.png](attachment:image.png)"
   ]
  },
  {
   "cell_type": "markdown",
   "metadata": {
    "id": "_XhDwvb06BDg"
   },
   "source": [
    "![image.png](attachment:image.png)"
   ]
  },
  {
   "cell_type": "markdown",
   "metadata": {
    "id": "1LFsZXx26BDh"
   },
   "source": [
    "注意1：\n",
    "    ner任务，是需要获取句子中每个词的标签，在实现过程中一般是对每个字，基于一定规则进行打标签，具体方式可以参考上图显示\n",
    "\n",
    "注意2：\n",
    "    一般ner的标签是：\n",
    "    1. S-game，所代表的含义是，这单个字为代表game的实体\n",
    "    2. B-game，所代表的含义是，为这个game实体的开始标志位\n",
    "    3. E-game，所代表的含义是，为这个game实体的结束的标志位\n",
    "    4. I-game，所代表的含义是，为这个game实体的中间的标志位\n",
    "    4. O，所代表的含义是，这个字不是我们待处理的实体\n",
    "\n",
    "那么现在我们就开始构建相应的数据集"
   ]
  },
  {
   "cell_type": "markdown",
   "metadata": {
    "id": "KSYMqoi76BDi"
   },
   "source": [
    "# 数据预处理"
   ]
  },
  {
   "cell_type": "code",
   "execution_count": 1,
   "metadata": {
    "ExecuteTime": {
     "end_time": "2021-08-28T08:45:21.446713Z",
     "start_time": "2021-08-28T08:45:20.743396Z"
    },
    "colab": {
     "base_uri": "https://localhost:8080/"
    },
    "executionInfo": {
     "elapsed": 8096,
     "status": "ok",
     "timestamp": 1641180690148,
     "user": {
      "displayName": "aiden zhang",
      "photoUrl": "https://lh3.googleusercontent.com/a/default-user=s64",
      "userId": "00038965460335847869"
     },
     "user_tz": -480
    },
    "id": "Lk2U-ZUk6BDj",
    "outputId": "05680468-a692-4418-c00a-78230f484183"
   },
   "outputs": [
    {
     "name": "stdout",
     "output_type": "stream",
     "text": [
      "d_model : 768\n",
      "hid_dim : 300\n",
      "epoch : 100\n",
      "batch_size : 100\n",
      "n_layers : 2\n",
      "dropout : 0.1\n",
      "device : cpu\n",
      "lr : 0.001\n",
      "momentum : 0.99\n"
     ]
    }
   ],
   "source": [
    "from collections import defaultdict\n",
    "from operator import itemgetter\n",
    "from tqdm import tqdm\n",
    "import numpy as np\n",
    "import random\n",
    "import torch \n",
    "import jieba\n",
    "import json\n",
    "import os\n",
    "\n",
    "import pickle as pk\n",
    "\n",
    "if torch.cuda.is_available():\n",
    "    device = torch.device('cuda:0')\n",
    "    torch.cuda.set_device(0)\n",
    "else:\n",
    "    device = torch.device('cpu')\n",
    "# 确定模型训练方式，GPU训练或CPU训练\n",
    "parameter_copy = {\n",
    "    # 此处embedding维度为768\n",
    "    'd_model':768, \n",
    "    # rnn的隐层维度为300\n",
    "    'hid_dim':300,\n",
    "    # 训练的批次为100轮\n",
    "    'epoch':100,\n",
    "    # 单次训练的batch_size为100条数据\n",
    "    'batch_size':100,\n",
    "    # 设置两个lstm，原文应该是一个\n",
    "    'n_layers':2,\n",
    "    # 设置dropout，为防止过拟合\n",
    "    'dropout':0.1,\n",
    "    # 配置cpu、gpu\n",
    "    'device':device,\n",
    "    # 设置训练学习率\n",
    "    'lr':0.001,\n",
    "    # 优化器的参数，动量主要用于随机梯度下降\n",
    "    'momentum':0.99,\n",
    "}\n",
    "\n",
    "def build_dataSet(parameter):\n",
    "    data_name = ['train','dev']\n",
    "    # 准备相应的字典\n",
    "    data_set = {}\n",
    "    key_table = defaultdict(int)\n",
    "    vocab_table = defaultdict(int)\n",
    "    # 预先准备相应的标志位\n",
    "    vocab_table['<PAD>'] = 0\n",
    "    vocab_table['<UNK>'] = 0\n",
    "    # 数据内容可以参考data文件夹下的README，基于CLUENER 数据进行处理\n",
    "    # 因为有两份数据，dev和train，因为构建时候同时进行构建\n",
    "    for i in data_name:\n",
    "        data_set[i] = []\n",
    "        data_src = open('data/'+i+'.json','r',encoding = 'utf-8').readlines()\n",
    "        for data in data_src:\n",
    "            # 加载相应的数据\n",
    "            data = json.loads(data)\n",
    "            # 获取对应的文本和标签\n",
    "            text = list(data['text'])\n",
    "            label = data['label']\n",
    "            # 初始化标准ner标签\n",
    "            label_new = ['O']*len(text)\n",
    "            key_table['O']\n",
    "            # 根据其所带有的标签，如game、address进行数据提取\n",
    "            for keys in label:\n",
    "                inds = label[keys].values()\n",
    "                # 因为其标签下的数据是一个数组，代表这类型标签的数据有多个\n",
    "                # 因此循环处理，且护士其keys（文本内容），因为可以通过id索引到\n",
    "                for id_list in inds:\n",
    "                    for ind in id_list:\n",
    "                        if ind[1] - ind[0] == 0:\n",
    "                            # 当id号相同，表明这个实体只有一个字，\n",
    "                            # 那么他的标签为'S-'+对应的字段\n",
    "                            keys_list = ['S-'+keys]\n",
    "                            label_new[ind[0]] = keys_list[0]\n",
    "                        if ind[1] - ind[0] == 1:\n",
    "                            # 如果id号相差，仅为1，表明这个实体有两个字\n",
    "                            # 那么他的标签为 B-*，E-*，表明开始和结束的位置\n",
    "                            keys_list = ['B-'+keys,'E-'+keys]\n",
    "                            label_new[ind[0]] = keys_list[0]\n",
    "                            label_new[ind[1]] = keys_list[1]\n",
    "                        if ind[1] - ind[0] > 1:\n",
    "                            # 如果id号相差，大于1，表明这个实体有多个字\n",
    "                            # 那么他的标签除了 B-*，E-*，表明开始和结束的位置\n",
    "                            # 还应该有I-*，来表明中间的位置\n",
    "                            keys_list = ['B-'+keys,'I-'+keys,'E-'+keys]\n",
    "                            label_new[ind[0]] = keys_list[0]\n",
    "                            label_new[ind[0]+1:ind[1]] = [keys_list[1]]*(ind[1]-1-ind[0])\n",
    "                            label_new[ind[1]] = keys_list[2]\n",
    "                        for key in keys_list:\n",
    "                            # 为了后面标签转id，提前准好相应的字典\n",
    "                            key_table[key] += 1\n",
    "            # 此处用于构建文本的字典\n",
    "            for j in text:\n",
    "                vocab_table[j] += 1\n",
    "            # 保存文本和处理好的标签\n",
    "            data_set[i].append([text,label_new])\n",
    "    # 保存标签转id，id转标签的字典\n",
    "    key2ind = dict(zip(key_table.keys(),range(len(key_table))))\n",
    "    ind2key = dict(zip(range(len(key_table)),key_table.keys()))\n",
    "    # 保存字转id，id转字的字典\n",
    "    word2ind = dict(zip(vocab_table.keys(),range(len(vocab_table))))\n",
    "    ind2word = dict(zip(range(len(vocab_table)),vocab_table.keys()))\n",
    "    parameter['key2ind'] = key2ind\n",
    "    parameter['ind2key'] = ind2key\n",
    "    parameter['word2ind'] = word2ind\n",
    "    parameter['ind2word'] = ind2word\n",
    "    parameter['data_set'] = data_set\n",
    "    parameter['output_size'] = len(key2ind)\n",
    "    parameter['word_size'] = len(word2ind)\n",
    "    return parameter\n",
    "\n",
    "\n",
    "def batch_yield(parameter,shuffle = True,isTrain = True):\n",
    "    # 构建数据迭代器\n",
    "    # 根据训练状态或非训练状态获取相应数据\n",
    "    data_set = parameter['data_set']['train'] if isTrain else parameter['data_set']['dev']\n",
    "    Epoch = parameter['epoch'] if isTrain else 1\n",
    "    for epoch in range(Epoch):\n",
    "        # 每轮对原始数据进行随机化\n",
    "        if shuffle:\n",
    "            random.shuffle(data_set)\n",
    "        inputs,targets = [],[]\n",
    "        max_len = 0\n",
    "        for items in tqdm(data_set):\n",
    "            # 基于所构建的字典，将原始文本转成id，进行多分类\n",
    "            input = itemgetter(*items[0])(parameter['word2ind'])\n",
    "            target = itemgetter(*items[1])(parameter['key2ind'])\n",
    "            input = input if type(input) == type(()) else (input,0)\n",
    "            target = target if type(target) == type(()) else (target,0)\n",
    "            if len(input) > max_len:\n",
    "                max_len = len(input)\n",
    "            inputs.append(list(input))\n",
    "            targets.append(list(target))\n",
    "            if len(inputs) >= parameter['batch_size']:\n",
    "                # 填空补齐\n",
    "                inputs = [i+[0]*(max_len-len(i)) for i in inputs]\n",
    "                targets = [i+[0]*(max_len-len(i)) for i in targets]\n",
    "                yield list2torch(inputs),list2torch(targets),None,False\n",
    "                inputs,targets = [],[]\n",
    "                max_len = 0\n",
    "        inputs = [i+[0]*(max_len-len(i)) for i in inputs]\n",
    "        targets = [i+[0]*(max_len-len(i)) for i in targets]\n",
    "        yield list2torch(inputs),list2torch(targets),epoch,False\n",
    "        inputs,targets = [],[]\n",
    "        max_len = 0\n",
    "    yield None,None,None,True\n",
    "            \n",
    "\n",
    "def list2torch(ins):\n",
    "    return torch.from_numpy(np.array(ins))\n",
    "\n",
    "# 因此这边提前配置好用于训练的相关参数\n",
    "# 不要每次重新生成\n",
    "if not os.path.exists('parameter.pkl'):\n",
    "    parameter = parameter_copy\n",
    "    # 构建相关字典和对应的数据集\n",
    "    parameter = build_dataSet(parameter)\n",
    "    pk.dump(parameter,open('parameter.pkl','wb'))\n",
    "else:\n",
    "    # 读取已经处理好的parameter，但是考虑到模型训练的参数会发生变化，\n",
    "    # 因此此处对于parameter中模型训练参数进行替换\n",
    "    parameter = pk.load(open('parameter.pkl','rb'))\n",
    "    for i in parameter_copy.keys():\n",
    "        if i not in parameter:\n",
    "            parameter[i] = parameter_copy[i]\n",
    "            continue\n",
    "        if parameter_copy[i] != parameter[i]:\n",
    "            parameter[i] = parameter_copy[i]\n",
    "    for i in parameter_copy.keys():\n",
    "        print(i,':',parameter[i])\n",
    "    pk.dump(parameter,open('parameter.pkl','wb'))\n",
    "    del parameter_copy,i"
   ]
  },
  {
   "cell_type": "code",
   "execution_count": 3,
   "metadata": {
    "ExecuteTime": {
     "end_time": "2021-08-28T06:48:04.612625Z",
     "start_time": "2021-08-28T06:48:04.580711Z"
    },
    "colab": {
     "base_uri": "https://localhost:8080/"
    },
    "executionInfo": {
     "elapsed": 375,
     "status": "ok",
     "timestamp": 1641180696307,
     "user": {
      "displayName": "aiden zhang",
      "photoUrl": "https://lh3.googleusercontent.com/a/default-user=s64",
      "userId": "00038965460335847869"
     },
     "user_tz": -480
    },
    "id": "2BR-pEMF6BDq",
    "outputId": "311c3fd5-d5e3-4986-ea9c-99bfd123cf5b",
    "scrolled": true
   },
   "outputs": [
    {
     "name": "stderr",
     "output_type": "stream",
     "text": [
      "\r",
      "  0%|                                                                                        | 0/10748 [00:00<?, ?it/s]"
     ]
    },
    {
     "data": {
      "text/plain": [
       "(torch.Size([100, 50]), torch.Size([100, 50]))"
      ]
     },
     "execution_count": 3,
     "metadata": {},
     "output_type": "execute_result"
    }
   ],
   "source": [
    "test_yield = batch_yield(parameter)\n",
    "ins,target,epoch,keys = next(test_yield)\n",
    "ins.shape,target.shape"
   ]
  },
  {
   "cell_type": "code",
   "execution_count": 4,
   "metadata": {
    "ExecuteTime": {
     "end_time": "2021-08-28T07:00:59.832715Z",
     "start_time": "2021-08-28T07:00:59.827729Z"
    },
    "colab": {
     "base_uri": "https://localhost:8080/"
    },
    "executionInfo": {
     "elapsed": 12,
     "status": "ok",
     "timestamp": 1641180698075,
     "user": {
      "displayName": "aiden zhang",
      "photoUrl": "https://lh3.googleusercontent.com/a/default-user=s64",
      "userId": "00038965460335847869"
     },
     "user_tz": -480
    },
    "id": "zCAH0QlL6BDr",
    "outputId": "49023ba8-e243-443f-f1eb-f3dd99d5c5ed",
    "scrolled": true
   },
   "outputs": [
    {
     "data": {
      "text/plain": [
       "{'O': 0,\n",
       " 'B-name': 1,\n",
       " 'I-name': 2,\n",
       " 'E-name': 3,\n",
       " 'B-company': 4,\n",
       " 'I-company': 5,\n",
       " 'E-company': 6,\n",
       " 'B-game': 7,\n",
       " 'I-game': 8,\n",
       " 'E-game': 9,\n",
       " 'B-organization': 10,\n",
       " 'I-organization': 11,\n",
       " 'E-organization': 12,\n",
       " 'B-movie': 13,\n",
       " 'I-movie': 14,\n",
       " 'E-movie': 15,\n",
       " 'B-address': 16,\n",
       " 'E-address': 17,\n",
       " 'B-position': 18,\n",
       " 'I-position': 19,\n",
       " 'E-position': 20,\n",
       " 'B-government': 21,\n",
       " 'I-government': 22,\n",
       " 'E-government': 23,\n",
       " 'B-scene': 24,\n",
       " 'I-scene': 25,\n",
       " 'E-scene': 26,\n",
       " 'I-address': 27,\n",
       " 'B-book': 28,\n",
       " 'I-book': 29,\n",
       " 'E-book': 30,\n",
       " 'S-company': 31,\n",
       " 'S-address': 32,\n",
       " 'S-name': 33,\n",
       " 'S-position': 34}"
      ]
     },
     "execution_count": 4,
     "metadata": {},
     "output_type": "execute_result"
    }
   ],
   "source": [
    "parameter['key2ind']"
   ]
  },
  {
   "cell_type": "code",
   "execution_count": null,
   "metadata": {},
   "outputs": [],
   "source": [
    "parameter['data_set']['train'][0]"
   ]
  },
  {
   "cell_type": "markdown",
   "metadata": {
    "id": "O5lKYncZ6BDs"
   },
   "source": [
    "# 基于双向lstm"
   ]
  },
  {
   "cell_type": "code",
   "execution_count": 5,
   "metadata": {
    "ExecuteTime": {
     "end_time": "2021-08-28T08:45:25.512343Z",
     "start_time": "2021-08-28T08:45:25.495388Z"
    },
    "executionInfo": {
     "elapsed": 395,
     "status": "ok",
     "timestamp": 1641180701304,
     "user": {
      "displayName": "aiden zhang",
      "photoUrl": "https://lh3.googleusercontent.com/a/default-user=s64",
      "userId": "00038965460335847869"
     },
     "user_tz": -480
    },
    "id": "cJezdmMV6BDt"
   },
   "outputs": [],
   "source": [
    "import torch.nn.functional as F # pytorch 激活函数的类\n",
    "from torch import nn,optim # 构建模型和优化器\n",
    "\n",
    "# 构建基于bilstm实现ner\n",
    "class bilstm(nn.Module):\n",
    "    def __init__(self, parameter):\n",
    "        super(bilstm, self).__init__()\n",
    "        word_size = parameter['word_size']\n",
    "        embedding_dim = parameter['d_model']\n",
    "        # 此处直接基于id，对字进行编码\n",
    "        self.embedding = nn.Embedding(word_size, embedding_dim, padding_idx=0)\n",
    "\n",
    "        hidden_size = parameter['hid_dim']\n",
    "        num_layers = parameter['n_layers']\n",
    "        dropout = parameter['dropout']\n",
    "        self.lstm = nn.LSTM(embedding_dim, hidden_size, num_layers, bidirectional=True, batch_first=True, dropout=dropout)\n",
    "\n",
    "        output_size = parameter['output_size']\n",
    "        self.fc = nn.Linear(hidden_size*2, output_size)\n",
    "        \n",
    "        \n",
    "    def forward(self, x):\n",
    "        out = self.embedding(x)\n",
    "        out,(h, c)= self.lstm(out)\n",
    "        out = self.fc(out)\n",
    "        return out.view(-1,out.size(-1))"
   ]
  },
  {
   "cell_type": "code",
   "execution_count": 5,
   "metadata": {
    "executionInfo": {
     "elapsed": 377,
     "status": "ok",
     "timestamp": 1641180703045,
     "user": {
      "displayName": "aiden zhang",
      "photoUrl": "https://lh3.googleusercontent.com/a/default-user=s64",
      "userId": "00038965460335847869"
     },
     "user_tz": -480
    },
    "id": "N7zdEN176BDt"
   },
   "outputs": [],
   "source": []
  },
  {
   "cell_type": "code",
   "execution_count": 6,
   "metadata": {
    "ExecuteTime": {
     "end_time": "2021-08-26T09:40:55.038695Z",
     "start_time": "2021-08-26T09:31:32.033962Z"
    },
    "colab": {
     "base_uri": "https://localhost:8080/"
    },
    "executionInfo": {
     "elapsed": 492038,
     "status": "ok",
     "timestamp": 1641181196867,
     "user": {
      "displayName": "aiden zhang",
      "photoUrl": "https://lh3.googleusercontent.com/a/default-user=s64",
      "userId": "00038965460335847869"
     },
     "user_tz": -480
    },
    "id": "OtfY_5NQ6BDu",
    "outputId": "d6a1ca8b-3b6d-4c06-d343-d28130389eb4"
   },
   "outputs": [
    {
     "data": {
      "text/plain": [
       "bilstm(\n",
       "  (embedding): Embedding(3746, 768, padding_idx=0)\n",
       "  (lstm): LSTM(768, 300, num_layers=2, batch_first=True, dropout=0.1, bidirectional=True)\n",
       "  (fc): Linear(in_features=600, out_features=35, bias=True)\n",
       ")"
      ]
     },
     "execution_count": 6,
     "metadata": {},
     "output_type": "execute_result"
    },
    {
     "name": "stderr",
     "output_type": "stream",
     "text": [
      "\n",
      "  0%|          | 0/10748 [00:00<?, ?it/s]\u001b[A\n",
      "  1%|          | 100/10748 [00:00<00:18, 589.61it/s]\u001b[A\n",
      "  3%|▎         | 300/10748 [00:00<00:08, 1229.04it/s]\u001b[A\n",
      "  6%|▌         | 600/10748 [00:00<00:05, 1698.77it/s]\u001b[A\n",
      "  8%|▊         | 900/10748 [00:00<00:05, 1928.63it/s]\u001b[A\n",
      " 11%|█         | 1200/10748 [00:00<00:04, 2053.74it/s]\u001b[A\n",
      " 14%|█▍        | 1500/10748 [00:00<00:04, 2129.61it/s]\u001b[A\n",
      " 17%|█▋        | 1800/10748 [00:00<00:04, 2190.33it/s]\u001b[A\n",
      " 20%|█▉        | 2100/10748 [00:01<00:03, 2215.43it/s]\u001b[A\n",
      " 22%|██▏       | 2400/10748 [00:01<00:03, 2226.34it/s]\u001b[A\n",
      " 25%|██▌       | 2700/10748 [00:01<00:03, 2243.24it/s]\u001b[A\n",
      " 28%|██▊       | 3000/10748 [00:01<00:03, 2251.89it/s]\u001b[A\n",
      " 31%|███       | 3300/10748 [00:01<00:03, 2252.28it/s]\u001b[A\n",
      " 33%|███▎      | 3600/10748 [00:01<00:03, 2252.08it/s]\u001b[A\n",
      " 36%|███▋      | 3900/10748 [00:01<00:03, 2267.05it/s]\u001b[A\n",
      " 39%|███▉      | 4200/10748 [00:01<00:02, 2278.95it/s]\u001b[A\n",
      " 42%|████▏     | 4500/10748 [00:02<00:02, 2277.54it/s]\u001b[A\n",
      " 45%|████▍     | 4800/10748 [00:02<00:02, 2277.41it/s]\u001b[A\n",
      " 47%|████▋     | 5100/10748 [00:02<00:02, 2273.79it/s]\u001b[A\n",
      " 50%|█████     | 5400/10748 [00:02<00:02, 2272.72it/s]\u001b[A\n",
      " 53%|█████▎    | 5700/10748 [00:02<00:02, 2280.60it/s]\u001b[A\n",
      " 56%|█████▌    | 6000/10748 [00:02<00:02, 2288.89it/s]\u001b[A\n",
      " 59%|█████▊    | 6300/10748 [00:02<00:01, 2289.86it/s]\u001b[A\n",
      " 61%|██████▏   | 6600/10748 [00:03<00:01, 2282.27it/s]\u001b[A\n",
      " 64%|██████▍   | 6900/10748 [00:03<00:01, 2277.88it/s]\u001b[A\n",
      " 67%|██████▋   | 7200/10748 [00:03<00:01, 2286.67it/s]\u001b[A\n",
      " 70%|██████▉   | 7500/10748 [00:03<00:01, 2280.77it/s]\u001b[A\n",
      " 73%|███████▎  | 7800/10748 [00:03<00:01, 2266.65it/s]\u001b[A\n",
      " 75%|███████▌  | 8100/10748 [00:03<00:01, 2281.45it/s]\u001b[A\n",
      " 78%|███████▊  | 8400/10748 [00:03<00:01, 2267.66it/s]\u001b[A\n",
      " 81%|████████  | 8700/10748 [00:03<00:00, 2274.92it/s]\u001b[A\n",
      " 84%|████████▎ | 9000/10748 [00:04<00:00, 2283.27it/s]\u001b[A\n",
      " 87%|████████▋ | 9300/10748 [00:04<00:00, 2285.58it/s]\u001b[A\n",
      " 89%|████████▉ | 9600/10748 [00:04<00:00, 2283.39it/s]\u001b[A\n",
      " 92%|█████████▏| 9900/10748 [00:04<00:00, 2284.31it/s]\u001b[A\n",
      " 95%|█████████▍| 10200/10748 [00:04<00:00, 2290.93it/s]\u001b[A\n",
      "100%|██████████| 10748/10748 [00:04<00:00, 2222.07it/s]\n"
     ]
    },
    {
     "name": "stdout",
     "output_type": "stream",
     "text": [
      "epoch [1/100], Loss: 1.0517\n"
     ]
    },
    {
     "name": "stderr",
     "output_type": "stream",
     "text": [
      "\n",
      "  0%|          | 0/10748 [00:00<?, ?it/s]\u001b[A\n",
      "  3%|▎         | 300/10748 [00:00<00:04, 2375.21it/s]\u001b[A\n",
      "  6%|▌         | 600/10748 [00:00<00:04, 2344.03it/s]\u001b[A\n",
      "  8%|▊         | 900/10748 [00:00<00:04, 2335.02it/s]\u001b[A\n",
      " 11%|█         | 1200/10748 [00:00<00:04, 2312.73it/s]\u001b[A\n",
      " 14%|█▍        | 1500/10748 [00:00<00:04, 2309.70it/s]\u001b[A\n",
      " 17%|█▋        | 1800/10748 [00:00<00:03, 2298.05it/s]\u001b[A\n",
      " 20%|█▉        | 2100/10748 [00:00<00:03, 2291.88it/s]\u001b[A\n",
      " 22%|██▏       | 2400/10748 [00:01<00:03, 2288.39it/s]\u001b[A\n",
      " 25%|██▌       | 2700/10748 [00:01<00:03, 2297.18it/s]\u001b[A\n",
      " 28%|██▊       | 3000/10748 [00:01<00:03, 2306.33it/s]\u001b[A\n",
      " 31%|███       | 3300/10748 [00:01<00:03, 2293.37it/s]\u001b[A\n",
      " 33%|███▎      | 3600/10748 [00:01<00:03, 2295.71it/s]\u001b[A\n",
      " 36%|███▋      | 3900/10748 [00:01<00:03, 2280.68it/s]\u001b[A\n",
      " 39%|███▉      | 4200/10748 [00:01<00:02, 2284.61it/s]\u001b[A\n",
      " 42%|████▏     | 4500/10748 [00:01<00:02, 2282.31it/s]\u001b[A\n",
      " 45%|████▍     | 4800/10748 [00:02<00:02, 2288.06it/s]\u001b[A\n",
      " 47%|████▋     | 5100/10748 [00:02<00:02, 2290.41it/s]\u001b[A\n",
      " 50%|█████     | 5400/10748 [00:02<00:02, 2288.80it/s]\u001b[A\n",
      " 53%|█████▎    | 5700/10748 [00:02<00:02, 2289.07it/s]\u001b[A\n",
      " 56%|█████▌    | 6000/10748 [00:02<00:02, 2295.37it/s]\u001b[A\n",
      " 59%|█████▊    | 6300/10748 [00:02<00:01, 2297.10it/s]\u001b[A\n",
      " 61%|██████▏   | 6600/10748 [00:02<00:01, 2298.62it/s]\u001b[A\n",
      " 64%|██████▍   | 6900/10748 [00:03<00:01, 2282.94it/s]\u001b[A\n",
      " 67%|██████▋   | 7200/10748 [00:03<00:01, 2288.86it/s]\u001b[A\n",
      " 70%|██████▉   | 7500/10748 [00:03<00:01, 2294.37it/s]\u001b[A\n",
      " 73%|███████▎  | 7800/10748 [00:03<00:01, 2292.64it/s]\u001b[A\n",
      " 75%|███████▌  | 8100/10748 [00:03<00:01, 2291.31it/s]\u001b[A\n",
      " 78%|███████▊  | 8400/10748 [00:03<00:01, 2290.43it/s]\u001b[A\n",
      " 81%|████████  | 8700/10748 [00:03<00:00, 2276.79it/s]\u001b[A\n",
      " 84%|████████▎ | 9000/10748 [00:03<00:00, 2290.67it/s]\u001b[A\n",
      " 87%|████████▋ | 9300/10748 [00:04<00:00, 2281.40it/s]\u001b[A\n",
      " 89%|████████▉ | 9600/10748 [00:04<00:00, 2288.75it/s]\u001b[A\n",
      " 92%|█████████▏| 9900/10748 [00:04<00:00, 2283.51it/s]\u001b[A\n",
      " 95%|█████████▍| 10200/10748 [00:04<00:00, 2286.33it/s]\u001b[A\n",
      "100%|██████████| 10748/10748 [00:04<00:00, 2298.28it/s]\n"
     ]
    },
    {
     "name": "stdout",
     "output_type": "stream",
     "text": [
      "epoch [2/100], Loss: 0.6444\n"
     ]
    },
    {
     "name": "stderr",
     "output_type": "stream",
     "text": [
      "\n",
      "  0%|          | 0/10748 [00:00<?, ?it/s]\u001b[A\n",
      "  3%|▎         | 300/10748 [00:00<00:04, 2323.67it/s]\u001b[A\n",
      "  6%|▌         | 600/10748 [00:00<00:04, 2301.40it/s]\u001b[A\n",
      "  8%|▊         | 900/10748 [00:00<00:04, 2293.62it/s]\u001b[A\n",
      " 11%|█         | 1200/10748 [00:00<00:04, 2287.92it/s]\u001b[A\n",
      " 14%|█▍        | 1500/10748 [00:00<00:04, 2278.16it/s]\u001b[A\n",
      " 17%|█▋        | 1800/10748 [00:00<00:03, 2273.72it/s]\u001b[A\n",
      " 20%|█▉        | 2100/10748 [00:00<00:03, 2274.02it/s]\u001b[A\n",
      " 22%|██▏       | 2400/10748 [00:01<00:03, 2279.38it/s]\u001b[A\n",
      " 25%|██▌       | 2700/10748 [00:01<00:03, 2277.28it/s]\u001b[A\n",
      " 28%|██▊       | 3000/10748 [00:01<00:03, 2293.91it/s]\u001b[A\n",
      " 31%|███       | 3300/10748 [00:01<00:03, 2290.44it/s]\u001b[A\n",
      " 33%|███▎      | 3600/10748 [00:01<00:03, 2290.96it/s]\u001b[A\n",
      " 36%|███▋      | 3900/10748 [00:01<00:03, 2280.18it/s]\u001b[A\n",
      " 39%|███▉      | 4200/10748 [00:01<00:02, 2281.68it/s]\u001b[A\n",
      " 42%|████▏     | 4500/10748 [00:01<00:02, 2271.10it/s]\u001b[A\n",
      " 45%|████▍     | 4800/10748 [00:02<00:02, 2276.28it/s]\u001b[A\n",
      " 47%|████▋     | 5100/10748 [00:02<00:02, 2282.78it/s]\u001b[A\n",
      " 50%|█████     | 5400/10748 [00:02<00:02, 2285.50it/s]\u001b[A\n",
      " 53%|█████▎    | 5700/10748 [00:02<00:02, 2289.72it/s]\u001b[A\n",
      " 56%|█████▌    | 6000/10748 [00:02<00:02, 2288.70it/s]\u001b[A\n",
      " 59%|█████▊    | 6300/10748 [00:02<00:01, 2293.83it/s]\u001b[A\n",
      " 61%|██████▏   | 6600/10748 [00:02<00:01, 2286.65it/s]\u001b[A\n",
      " 64%|██████▍   | 6900/10748 [00:03<00:01, 2277.50it/s]\u001b[A\n",
      " 67%|██████▋   | 7200/10748 [00:03<00:01, 2277.65it/s]\u001b[A\n",
      " 70%|██████▉   | 7500/10748 [00:03<00:01, 2286.86it/s]\u001b[A\n",
      " 73%|███████▎  | 7800/10748 [00:03<00:01, 2292.50it/s]\u001b[A\n",
      " 75%|███████▌  | 8100/10748 [00:03<00:01, 2294.19it/s]\u001b[A\n",
      " 78%|███████▊  | 8400/10748 [00:03<00:01, 2304.83it/s]\u001b[A\n",
      " 81%|████████  | 8700/10748 [00:03<00:00, 2309.82it/s]\u001b[A\n",
      " 84%|████████▎ | 9000/10748 [00:03<00:00, 2298.60it/s]\u001b[A\n",
      " 87%|████████▋ | 9300/10748 [00:04<00:00, 2287.21it/s]\u001b[A\n",
      " 89%|████████▉ | 9600/10748 [00:04<00:00, 2284.27it/s]\u001b[A\n",
      " 92%|█████████▏| 9900/10748 [00:04<00:00, 2275.23it/s]\u001b[A\n",
      " 95%|█████████▍| 10200/10748 [00:04<00:00, 2279.25it/s]\u001b[A\n",
      "100%|██████████| 10748/10748 [00:04<00:00, 2294.33it/s]\n"
     ]
    },
    {
     "name": "stdout",
     "output_type": "stream",
     "text": [
      "epoch [3/100], Loss: 0.4691\n"
     ]
    },
    {
     "name": "stderr",
     "output_type": "stream",
     "text": [
      "\n",
      "  0%|          | 0/10748 [00:00<?, ?it/s]\u001b[A\n",
      "  3%|▎         | 300/10748 [00:00<00:04, 2329.41it/s]\u001b[A\n",
      "  6%|▌         | 600/10748 [00:00<00:04, 2311.99it/s]\u001b[A\n",
      "  8%|▊         | 900/10748 [00:00<00:04, 2318.77it/s]\u001b[A\n",
      " 11%|█         | 1200/10748 [00:00<00:04, 2304.69it/s]\u001b[A\n",
      " 14%|█▍        | 1500/10748 [00:00<00:04, 2303.73it/s]\u001b[A\n",
      " 17%|█▋        | 1800/10748 [00:00<00:03, 2294.29it/s]\u001b[A\n",
      " 20%|█▉        | 2100/10748 [00:00<00:03, 2279.74it/s]\u001b[A\n",
      " 22%|██▏       | 2400/10748 [00:01<00:03, 2284.39it/s]\u001b[A\n",
      " 25%|██▌       | 2700/10748 [00:01<00:03, 2285.16it/s]\u001b[A\n",
      " 28%|██▊       | 3000/10748 [00:01<00:03, 2297.54it/s]\u001b[A\n",
      " 31%|███       | 3300/10748 [00:01<00:03, 2278.16it/s]\u001b[A\n",
      " 33%|███▎      | 3600/10748 [00:01<00:03, 2273.21it/s]\u001b[A\n",
      " 36%|███▋      | 3900/10748 [00:01<00:02, 2283.34it/s]\u001b[A\n",
      " 39%|███▉      | 4200/10748 [00:01<00:02, 2285.70it/s]\u001b[A\n",
      " 42%|████▏     | 4500/10748 [00:01<00:02, 2273.85it/s]\u001b[A\n",
      " 45%|████▍     | 4800/10748 [00:02<00:02, 2275.95it/s]\u001b[A\n",
      " 47%|████▋     | 5100/10748 [00:02<00:02, 2288.44it/s]\u001b[A\n",
      " 50%|█████     | 5400/10748 [00:02<00:02, 2289.82it/s]\u001b[A\n",
      " 53%|█████▎    | 5700/10748 [00:02<00:02, 2294.09it/s]\u001b[A\n",
      " 56%|█████▌    | 6000/10748 [00:02<00:02, 2285.32it/s]\u001b[A\n",
      " 59%|█████▊    | 6300/10748 [00:02<00:01, 2282.17it/s]\u001b[A\n",
      " 61%|██████▏   | 6600/10748 [00:02<00:01, 2276.64it/s]\u001b[A\n",
      " 64%|██████▍   | 6900/10748 [00:03<00:01, 2282.28it/s]\u001b[A\n",
      " 67%|██████▋   | 7200/10748 [00:03<00:01, 2283.91it/s]\u001b[A\n",
      " 70%|██████▉   | 7500/10748 [00:03<00:01, 2294.01it/s]\u001b[A\n",
      " 73%|███████▎  | 7800/10748 [00:03<00:01, 2297.41it/s]\u001b[A\n",
      " 75%|███████▌  | 8100/10748 [00:03<00:01, 2299.02it/s]\u001b[A\n",
      " 78%|███████▊  | 8400/10748 [00:03<00:01, 2305.30it/s]\u001b[A\n",
      " 81%|████████  | 8700/10748 [00:03<00:00, 2276.70it/s]\u001b[A\n",
      " 84%|████████▎ | 9000/10748 [00:03<00:00, 2269.82it/s]\u001b[A\n",
      " 87%|████████▋ | 9300/10748 [00:04<00:00, 2277.19it/s]\u001b[A\n",
      " 89%|████████▉ | 9600/10748 [00:04<00:00, 2286.24it/s]\u001b[A\n",
      " 92%|█████████▏| 9900/10748 [00:04<00:00, 2277.96it/s]\u001b[A\n",
      " 95%|█████████▍| 10200/10748 [00:04<00:00, 2276.31it/s]\u001b[A\n",
      "100%|██████████| 10748/10748 [00:04<00:00, 2295.39it/s]\n"
     ]
    },
    {
     "name": "stdout",
     "output_type": "stream",
     "text": [
      "epoch [4/100], Loss: 0.3539\n"
     ]
    },
    {
     "name": "stderr",
     "output_type": "stream",
     "text": [
      "\n",
      "  0%|          | 0/10748 [00:00<?, ?it/s]\u001b[A\n",
      "  3%|▎         | 300/10748 [00:00<00:04, 2351.25it/s]\u001b[A\n",
      "  6%|▌         | 600/10748 [00:00<00:04, 2316.34it/s]\u001b[A\n",
      "  8%|▊         | 900/10748 [00:00<00:04, 2313.74it/s]\u001b[A\n",
      " 11%|█         | 1200/10748 [00:00<00:04, 2279.62it/s]\u001b[A\n",
      " 14%|█▍        | 1500/10748 [00:00<00:04, 2287.87it/s]\u001b[A\n",
      " 17%|█▋        | 1800/10748 [00:00<00:03, 2291.71it/s]\u001b[A\n",
      " 20%|█▉        | 2100/10748 [00:00<00:03, 2285.09it/s]\u001b[A\n",
      " 22%|██▏       | 2400/10748 [00:01<00:03, 2280.69it/s]\u001b[A\n",
      " 25%|██▌       | 2700/10748 [00:01<00:03, 2280.58it/s]\u001b[A\n",
      " 28%|██▊       | 3000/10748 [00:01<00:03, 2276.43it/s]\u001b[A\n",
      " 31%|███       | 3300/10748 [00:01<00:03, 2278.42it/s]\u001b[A\n",
      " 33%|███▎      | 3600/10748 [00:01<00:03, 2276.02it/s]\u001b[A\n",
      " 36%|███▋      | 3900/10748 [00:01<00:03, 2274.69it/s]\u001b[A\n",
      " 39%|███▉      | 4200/10748 [00:01<00:02, 2275.71it/s]\u001b[A\n",
      " 42%|████▏     | 4500/10748 [00:01<00:02, 2271.31it/s]\u001b[A\n",
      " 45%|████▍     | 4800/10748 [00:02<00:02, 2273.38it/s]\u001b[A\n",
      " 47%|████▋     | 5100/10748 [00:02<00:02, 2266.32it/s]\u001b[A\n",
      " 50%|█████     | 5400/10748 [00:02<00:02, 2268.23it/s]\u001b[A\n",
      " 53%|█████▎    | 5700/10748 [00:02<00:02, 2264.94it/s]\u001b[A\n",
      " 56%|█████▌    | 6000/10748 [00:02<00:02, 2282.47it/s]\u001b[A\n",
      " 59%|█████▊    | 6300/10748 [00:02<00:01, 2294.12it/s]\u001b[A\n",
      " 61%|██████▏   | 6600/10748 [00:02<00:01, 2296.94it/s]\u001b[A\n",
      " 64%|██████▍   | 6900/10748 [00:03<00:01, 2292.44it/s]\u001b[A\n",
      " 67%|██████▋   | 7200/10748 [00:03<00:01, 2290.62it/s]\u001b[A\n",
      " 70%|██████▉   | 7500/10748 [00:03<00:01, 2286.71it/s]\u001b[A\n",
      " 73%|███████▎  | 7800/10748 [00:03<00:01, 2286.02it/s]\u001b[A\n",
      " 75%|███████▌  | 8100/10748 [00:03<00:01, 2283.54it/s]\u001b[A\n",
      " 78%|███████▊  | 8400/10748 [00:03<00:01, 2284.60it/s]\u001b[A\n",
      " 81%|████████  | 8700/10748 [00:03<00:00, 2290.13it/s]\u001b[A\n",
      " 84%|████████▎ | 9000/10748 [00:03<00:00, 2298.65it/s]\u001b[A\n",
      " 87%|████████▋ | 9300/10748 [00:04<00:00, 2295.48it/s]\u001b[A\n",
      " 89%|████████▉ | 9600/10748 [00:04<00:00, 2290.61it/s]\u001b[A\n",
      " 92%|█████████▏| 9900/10748 [00:04<00:00, 2281.58it/s]\u001b[A\n",
      " 95%|█████████▍| 10200/10748 [00:04<00:00, 2258.38it/s]\u001b[A\n",
      "100%|██████████| 10748/10748 [00:04<00:00, 2291.86it/s]\n"
     ]
    },
    {
     "name": "stdout",
     "output_type": "stream",
     "text": [
      "epoch [5/100], Loss: 0.2842\n"
     ]
    },
    {
     "name": "stderr",
     "output_type": "stream",
     "text": [
      "\n",
      "  0%|          | 0/10748 [00:00<?, ?it/s]\u001b[A\n",
      "  3%|▎         | 300/10748 [00:00<00:04, 2314.15it/s]\u001b[A\n",
      "  6%|▌         | 600/10748 [00:00<00:04, 2283.48it/s]\u001b[A\n",
      "  8%|▊         | 900/10748 [00:00<00:04, 2282.78it/s]\u001b[A\n",
      " 11%|█         | 1200/10748 [00:00<00:04, 2290.87it/s]\u001b[A\n",
      " 14%|█▍        | 1500/10748 [00:00<00:04, 2269.38it/s]\u001b[A\n",
      " 17%|█▋        | 1800/10748 [00:00<00:03, 2276.57it/s]\u001b[A\n",
      " 20%|█▉        | 2100/10748 [00:00<00:03, 2272.41it/s]\u001b[A\n",
      " 22%|██▏       | 2400/10748 [00:01<00:03, 2278.95it/s]\u001b[A\n",
      " 25%|██▌       | 2700/10748 [00:01<00:03, 2283.51it/s]\u001b[A\n",
      " 28%|██▊       | 3000/10748 [00:01<00:03, 2294.46it/s]\u001b[A\n",
      " 31%|███       | 3300/10748 [00:01<00:03, 2302.75it/s]\u001b[A\n",
      " 33%|███▎      | 3600/10748 [00:01<00:03, 2296.84it/s]\u001b[A\n",
      " 36%|███▋      | 3900/10748 [00:01<00:02, 2295.17it/s]\u001b[A\n",
      " 39%|███▉      | 4200/10748 [00:01<00:02, 2302.46it/s]\u001b[A\n",
      " 42%|████▏     | 4500/10748 [00:01<00:02, 2297.77it/s]\u001b[A\n",
      " 45%|████▍     | 4800/10748 [00:02<00:02, 2301.42it/s]\u001b[A\n",
      " 47%|████▋     | 5100/10748 [00:02<00:02, 2281.54it/s]\u001b[A\n",
      " 50%|█████     | 5400/10748 [00:02<00:02, 2282.49it/s]\u001b[A\n",
      " 53%|█████▎    | 5700/10748 [00:02<00:02, 2291.03it/s]\u001b[A\n",
      " 56%|█████▌    | 6000/10748 [00:02<00:02, 2284.13it/s]\u001b[A\n",
      " 59%|█████▊    | 6300/10748 [00:02<00:01, 2275.72it/s]\u001b[A\n",
      " 61%|██████▏   | 6600/10748 [00:02<00:01, 2284.55it/s]\u001b[A\n",
      " 64%|██████▍   | 6900/10748 [00:03<00:01, 2284.41it/s]\u001b[A\n",
      " 67%|██████▋   | 7200/10748 [00:03<00:01, 2276.35it/s]\u001b[A\n",
      " 70%|██████▉   | 7500/10748 [00:03<00:01, 2275.20it/s]\u001b[A\n",
      " 73%|███████▎  | 7800/10748 [00:03<00:01, 2273.29it/s]\u001b[A\n",
      " 75%|███████▌  | 8100/10748 [00:03<00:01, 2270.15it/s]\u001b[A\n",
      " 78%|███████▊  | 8400/10748 [00:03<00:01, 2269.27it/s]\u001b[A\n",
      " 81%|████████  | 8700/10748 [00:03<00:00, 2272.51it/s]\u001b[A\n",
      " 84%|████████▎ | 9000/10748 [00:03<00:00, 2277.50it/s]\u001b[A\n",
      " 87%|████████▋ | 9300/10748 [00:04<00:00, 2274.23it/s]\u001b[A\n",
      " 89%|████████▉ | 9600/10748 [00:04<00:00, 2269.81it/s]\u001b[A\n",
      " 92%|█████████▏| 9900/10748 [00:04<00:00, 2264.12it/s]\u001b[A\n",
      " 95%|█████████▍| 10200/10748 [00:04<00:00, 2267.87it/s]\u001b[A\n",
      "100%|██████████| 10748/10748 [00:04<00:00, 2290.55it/s]\n"
     ]
    },
    {
     "name": "stdout",
     "output_type": "stream",
     "text": [
      "epoch [6/100], Loss: 0.2302\n"
     ]
    },
    {
     "name": "stderr",
     "output_type": "stream",
     "text": [
      "\n",
      "  0%|          | 0/10748 [00:00<?, ?it/s]\u001b[A\n",
      "  3%|▎         | 300/10748 [00:00<00:04, 2405.97it/s]\u001b[A\n",
      "  6%|▌         | 600/10748 [00:00<00:04, 2309.53it/s]\u001b[A\n",
      "  8%|▊         | 900/10748 [00:00<00:04, 2294.41it/s]\u001b[A\n",
      " 11%|█         | 1200/10748 [00:00<00:04, 2287.15it/s]\u001b[A\n",
      " 14%|█▍        | 1500/10748 [00:00<00:04, 2277.36it/s]\u001b[A\n",
      " 17%|█▋        | 1800/10748 [00:00<00:03, 2279.28it/s]\u001b[A\n",
      " 20%|█▉        | 2100/10748 [00:00<00:03, 2284.33it/s]\u001b[A\n",
      " 22%|██▏       | 2400/10748 [00:01<00:03, 2296.11it/s]\u001b[A\n",
      " 25%|██▌       | 2700/10748 [00:01<00:03, 2290.26it/s]\u001b[A\n",
      " 28%|██▊       | 3000/10748 [00:01<00:03, 2289.45it/s]\u001b[A\n",
      " 31%|███       | 3300/10748 [00:01<00:03, 2285.99it/s]\u001b[A\n",
      " 33%|███▎      | 3600/10748 [00:01<00:03, 2280.92it/s]\u001b[A\n",
      " 36%|███▋      | 3900/10748 [00:01<00:02, 2283.76it/s]\u001b[A\n",
      " 39%|███▉      | 4200/10748 [00:01<00:02, 2290.26it/s]\u001b[A\n",
      " 42%|████▏     | 4500/10748 [00:01<00:02, 2305.38it/s]\u001b[A\n",
      " 45%|████▍     | 4800/10748 [00:02<00:02, 2304.04it/s]\u001b[A\n",
      " 47%|████▋     | 5100/10748 [00:02<00:02, 2276.06it/s]\u001b[A\n",
      " 50%|█████     | 5400/10748 [00:02<00:02, 2278.17it/s]\u001b[A\n",
      " 53%|█████▎    | 5700/10748 [00:02<00:02, 2277.52it/s]\u001b[A\n",
      " 56%|█████▌    | 6000/10748 [00:02<00:02, 2283.36it/s]\u001b[A\n",
      " 59%|█████▊    | 6300/10748 [00:02<00:01, 2288.34it/s]\u001b[A\n",
      " 61%|██████▏   | 6600/10748 [00:02<00:01, 2279.69it/s]\u001b[A\n",
      " 64%|██████▍   | 6900/10748 [00:03<00:01, 2286.78it/s]\u001b[A\n",
      " 67%|██████▋   | 7200/10748 [00:03<00:01, 2279.88it/s]\u001b[A\n",
      " 70%|██████▉   | 7500/10748 [00:03<00:01, 2275.48it/s]\u001b[A\n",
      " 73%|███████▎  | 7800/10748 [00:03<00:01, 2280.61it/s]\u001b[A\n",
      " 75%|███████▌  | 8100/10748 [00:03<00:01, 2268.88it/s]\u001b[A\n",
      " 78%|███████▊  | 8400/10748 [00:03<00:01, 2277.01it/s]\u001b[A\n",
      " 81%|████████  | 8700/10748 [00:03<00:00, 2272.39it/s]\u001b[A\n",
      " 84%|████████▎ | 9000/10748 [00:03<00:00, 2275.74it/s]\u001b[A\n",
      " 87%|████████▋ | 9300/10748 [00:04<00:00, 2264.25it/s]\u001b[A\n",
      " 89%|████████▉ | 9600/10748 [00:04<00:00, 2261.55it/s]\u001b[A\n",
      " 92%|█████████▏| 9900/10748 [00:04<00:00, 2262.15it/s]\u001b[A\n",
      " 95%|█████████▍| 10200/10748 [00:04<00:00, 2275.45it/s]\u001b[A\n",
      "100%|██████████| 10748/10748 [00:04<00:00, 2292.92it/s]\n"
     ]
    },
    {
     "name": "stdout",
     "output_type": "stream",
     "text": [
      "epoch [7/100], Loss: 0.1864\n"
     ]
    },
    {
     "name": "stderr",
     "output_type": "stream",
     "text": [
      "\n",
      "  0%|          | 0/10748 [00:00<?, ?it/s]\u001b[A\n",
      "  3%|▎         | 300/10748 [00:00<00:04, 2359.22it/s]\u001b[A\n",
      "  6%|▌         | 600/10748 [00:00<00:04, 2318.38it/s]\u001b[A\n",
      "  8%|▊         | 900/10748 [00:00<00:04, 2301.49it/s]\u001b[A\n",
      " 11%|█         | 1200/10748 [00:00<00:04, 2293.31it/s]\u001b[A\n",
      " 14%|█▍        | 1500/10748 [00:00<00:04, 2293.05it/s]\u001b[A\n",
      " 17%|█▋        | 1800/10748 [00:00<00:03, 2288.71it/s]\u001b[A\n",
      " 20%|█▉        | 2100/10748 [00:00<00:03, 2291.73it/s]\u001b[A\n",
      " 22%|██▏       | 2400/10748 [00:01<00:03, 2281.21it/s]\u001b[A\n",
      " 25%|██▌       | 2700/10748 [00:01<00:03, 2276.41it/s]\u001b[A\n",
      " 28%|██▊       | 3000/10748 [00:01<00:03, 2288.13it/s]\u001b[A\n",
      " 31%|███       | 3300/10748 [00:01<00:03, 2280.71it/s]\u001b[A\n",
      " 33%|███▎      | 3600/10748 [00:01<00:03, 2282.97it/s]\u001b[A\n",
      " 36%|███▋      | 3900/10748 [00:01<00:03, 2271.66it/s]\u001b[A\n",
      " 39%|███▉      | 4200/10748 [00:01<00:02, 2280.61it/s]\u001b[A\n",
      " 42%|████▏     | 4500/10748 [00:01<00:02, 2282.23it/s]\u001b[A\n",
      " 45%|████▍     | 4800/10748 [00:02<00:02, 2286.76it/s]\u001b[A\n",
      " 47%|████▋     | 5100/10748 [00:02<00:02, 2282.46it/s]\u001b[A\n",
      " 50%|█████     | 5400/10748 [00:02<00:02, 2284.81it/s]\u001b[A\n",
      " 53%|█████▎    | 5700/10748 [00:02<00:02, 2267.58it/s]\u001b[A\n",
      " 56%|█████▌    | 6000/10748 [00:02<00:02, 2274.00it/s]\u001b[A\n",
      " 59%|█████▊    | 6300/10748 [00:02<00:01, 2279.04it/s]\u001b[A\n",
      " 61%|██████▏   | 6600/10748 [00:02<00:01, 2285.58it/s]\u001b[A\n",
      " 64%|██████▍   | 6900/10748 [00:03<00:01, 2297.29it/s]\u001b[A\n",
      " 67%|██████▋   | 7200/10748 [00:03<00:01, 2288.27it/s]\u001b[A\n",
      " 70%|██████▉   | 7500/10748 [00:03<00:01, 2293.04it/s]\u001b[A\n",
      " 73%|███████▎  | 7800/10748 [00:03<00:01, 2291.56it/s]\u001b[A\n",
      " 75%|███████▌  | 8100/10748 [00:03<00:01, 2295.57it/s]\u001b[A\n",
      " 78%|███████▊  | 8400/10748 [00:03<00:01, 2287.74it/s]\u001b[A\n",
      " 81%|████████  | 8700/10748 [00:03<00:00, 2282.62it/s]\u001b[A\n",
      " 84%|████████▎ | 9000/10748 [00:03<00:00, 2279.85it/s]\u001b[A\n",
      " 87%|████████▋ | 9300/10748 [00:04<00:00, 2273.15it/s]\u001b[A\n",
      " 89%|████████▉ | 9600/10748 [00:04<00:00, 2264.70it/s]\u001b[A\n",
      " 92%|█████████▏| 9900/10748 [00:04<00:00, 2266.44it/s]\u001b[A\n",
      " 95%|█████████▍| 10200/10748 [00:04<00:00, 2266.06it/s]\u001b[A\n",
      "100%|██████████| 10748/10748 [00:04<00:00, 2291.35it/s]\n"
     ]
    },
    {
     "name": "stdout",
     "output_type": "stream",
     "text": [
      "epoch [8/100], Loss: 0.1542\n"
     ]
    },
    {
     "name": "stderr",
     "output_type": "stream",
     "text": [
      "\n",
      "  0%|          | 0/10748 [00:00<?, ?it/s]\u001b[A\n",
      "  3%|▎         | 300/10748 [00:00<00:04, 2320.56it/s]\u001b[A\n",
      "  6%|▌         | 600/10748 [00:00<00:04, 2275.16it/s]\u001b[A\n",
      "  8%|▊         | 900/10748 [00:00<00:04, 2282.38it/s]\u001b[A\n",
      " 11%|█         | 1200/10748 [00:00<00:04, 2288.09it/s]\u001b[A\n",
      " 14%|█▍        | 1500/10748 [00:00<00:04, 2279.31it/s]\u001b[A\n",
      " 17%|█▋        | 1800/10748 [00:00<00:03, 2277.92it/s]\u001b[A\n",
      " 20%|█▉        | 2100/10748 [00:00<00:03, 2287.97it/s]\u001b[A\n",
      " 22%|██▏       | 2400/10748 [00:01<00:03, 2288.33it/s]\u001b[A\n",
      " 25%|██▌       | 2700/10748 [00:01<00:03, 2263.78it/s]\u001b[A\n",
      " 28%|██▊       | 3000/10748 [00:01<00:03, 2278.65it/s]\u001b[A\n",
      " 31%|███       | 3300/10748 [00:01<00:03, 2285.78it/s]\u001b[A\n",
      " 33%|███▎      | 3600/10748 [00:01<00:03, 2286.14it/s]\u001b[A\n",
      " 36%|███▋      | 3900/10748 [00:01<00:02, 2297.77it/s]\u001b[A\n",
      " 39%|███▉      | 4200/10748 [00:01<00:02, 2290.50it/s]\u001b[A\n",
      " 42%|████▏     | 4500/10748 [00:01<00:02, 2277.22it/s]\u001b[A\n",
      " 45%|████▍     | 4800/10748 [00:02<00:02, 2278.73it/s]\u001b[A\n",
      " 47%|████▋     | 5100/10748 [00:02<00:02, 2276.19it/s]\u001b[A\n",
      " 50%|█████     | 5400/10748 [00:02<00:02, 2288.52it/s]\u001b[A\n",
      " 53%|█████▎    | 5700/10748 [00:02<00:02, 2291.33it/s]\u001b[A\n",
      " 56%|█████▌    | 6000/10748 [00:02<00:02, 2283.24it/s]\u001b[A\n",
      " 59%|█████▊    | 6300/10748 [00:02<00:01, 2293.18it/s]\u001b[A\n",
      " 61%|██████▏   | 6600/10748 [00:02<00:01, 2283.25it/s]\u001b[A\n",
      " 64%|██████▍   | 6900/10748 [00:03<00:01, 2281.46it/s]\u001b[A\n",
      " 67%|██████▋   | 7200/10748 [00:03<00:01, 2293.89it/s]\u001b[A\n",
      " 70%|██████▉   | 7500/10748 [00:03<00:01, 2287.10it/s]\u001b[A\n",
      " 73%|███████▎  | 7800/10748 [00:03<00:01, 2292.55it/s]\u001b[A\n",
      " 75%|███████▌  | 8100/10748 [00:03<00:01, 2291.03it/s]\u001b[A\n",
      " 78%|███████▊  | 8400/10748 [00:03<00:01, 2284.86it/s]\u001b[A\n",
      " 81%|████████  | 8700/10748 [00:03<00:00, 2283.87it/s]\u001b[A\n",
      " 84%|████████▎ | 9000/10748 [00:03<00:00, 2294.39it/s]\u001b[A\n",
      " 87%|████████▋ | 9300/10748 [00:04<00:00, 2290.43it/s]\u001b[A\n",
      " 89%|████████▉ | 9600/10748 [00:04<00:00, 2301.95it/s]\u001b[A\n",
      " 92%|█████████▏| 9900/10748 [00:04<00:00, 2296.47it/s]\u001b[A\n",
      " 95%|█████████▍| 10200/10748 [00:04<00:00, 2296.74it/s]\u001b[A\n",
      "100%|██████████| 10748/10748 [00:04<00:00, 2296.34it/s]\n"
     ]
    },
    {
     "name": "stdout",
     "output_type": "stream",
     "text": [
      "epoch [9/100], Loss: 0.1257\n"
     ]
    },
    {
     "name": "stderr",
     "output_type": "stream",
     "text": [
      "\n",
      "  0%|          | 0/10748 [00:00<?, ?it/s]\u001b[A\n",
      "  3%|▎         | 300/10748 [00:00<00:04, 2339.94it/s]\u001b[A\n",
      "  6%|▌         | 600/10748 [00:00<00:04, 2309.72it/s]\u001b[A\n",
      "  8%|▊         | 900/10748 [00:00<00:04, 2307.15it/s]\u001b[A\n",
      " 11%|█         | 1200/10748 [00:00<00:04, 2311.58it/s]\u001b[A\n",
      " 14%|█▍        | 1500/10748 [00:00<00:04, 2303.55it/s]\u001b[A\n",
      " 17%|█▋        | 1800/10748 [00:00<00:03, 2299.10it/s]\u001b[A\n",
      " 20%|█▉        | 2100/10748 [00:00<00:03, 2299.26it/s]\u001b[A\n",
      " 22%|██▏       | 2400/10748 [00:01<00:03, 2291.77it/s]\u001b[A\n",
      " 25%|██▌       | 2700/10748 [00:01<00:03, 2280.79it/s]\u001b[A\n",
      " 28%|██▊       | 3000/10748 [00:01<00:03, 2295.30it/s]\u001b[A\n",
      " 31%|███       | 3300/10748 [00:01<00:03, 2298.76it/s]\u001b[A\n",
      " 33%|███▎      | 3600/10748 [00:01<00:03, 2284.37it/s]\u001b[A\n",
      " 36%|███▋      | 3900/10748 [00:01<00:02, 2282.83it/s]\u001b[A\n",
      " 39%|███▉      | 4200/10748 [00:01<00:02, 2295.45it/s]\u001b[A\n",
      " 42%|████▏     | 4500/10748 [00:01<00:02, 2279.69it/s]\u001b[A\n",
      " 45%|████▍     | 4800/10748 [00:02<00:02, 2282.44it/s]\u001b[A\n",
      " 47%|████▋     | 5100/10748 [00:02<00:02, 2288.95it/s]\u001b[A\n",
      " 50%|█████     | 5400/10748 [00:02<00:02, 2288.06it/s]\u001b[A\n",
      " 53%|█████▎    | 5700/10748 [00:02<00:02, 2302.03it/s]\u001b[A\n",
      " 56%|█████▌    | 6000/10748 [00:02<00:02, 2295.43it/s]\u001b[A\n",
      " 59%|█████▊    | 6300/10748 [00:02<00:01, 2297.81it/s]\u001b[A\n",
      " 61%|██████▏   | 6600/10748 [00:02<00:01, 2280.55it/s]\u001b[A\n",
      " 64%|██████▍   | 6900/10748 [00:03<00:01, 2269.83it/s]\u001b[A\n",
      " 67%|██████▋   | 7200/10748 [00:03<00:01, 2265.83it/s]\u001b[A\n",
      " 70%|██████▉   | 7500/10748 [00:03<00:01, 2281.75it/s]\u001b[A\n",
      " 73%|███████▎  | 7800/10748 [00:03<00:01, 2276.77it/s]\u001b[A\n",
      " 75%|███████▌  | 8100/10748 [00:03<00:01, 2270.42it/s]\u001b[A\n",
      " 78%|███████▊  | 8400/10748 [00:03<00:01, 2264.70it/s]\u001b[A\n",
      " 81%|████████  | 8700/10748 [00:03<00:00, 2266.69it/s]\u001b[A\n",
      " 84%|████████▎ | 9000/10748 [00:03<00:00, 2278.16it/s]\u001b[A\n",
      " 87%|████████▋ | 9300/10748 [00:04<00:00, 2286.57it/s]\u001b[A\n",
      " 89%|████████▉ | 9600/10748 [00:04<00:00, 2291.93it/s]\u001b[A\n",
      " 92%|█████████▏| 9900/10748 [00:04<00:00, 2289.18it/s]\u001b[A\n",
      " 95%|█████████▍| 10200/10748 [00:04<00:00, 2294.09it/s]\u001b[A\n",
      "100%|██████████| 10748/10748 [00:04<00:00, 2297.26it/s]\n"
     ]
    },
    {
     "name": "stdout",
     "output_type": "stream",
     "text": [
      "epoch [10/100], Loss: 0.1010\n"
     ]
    },
    {
     "name": "stderr",
     "output_type": "stream",
     "text": [
      "\n",
      "  0%|          | 0/10748 [00:00<?, ?it/s]\u001b[A\n",
      "  3%|▎         | 300/10748 [00:00<00:04, 2335.60it/s]\u001b[A\n",
      "  6%|▌         | 600/10748 [00:00<00:04, 2293.15it/s]\u001b[A\n",
      "  8%|▊         | 900/10748 [00:00<00:04, 2277.03it/s]\u001b[A\n",
      " 11%|█         | 1200/10748 [00:00<00:04, 2275.28it/s]\u001b[A\n",
      " 14%|█▍        | 1500/10748 [00:00<00:04, 2280.91it/s]\u001b[A\n",
      " 17%|█▋        | 1800/10748 [00:00<00:03, 2259.89it/s]\u001b[A\n",
      " 20%|█▉        | 2100/10748 [00:00<00:03, 2244.93it/s]\u001b[A\n",
      " 22%|██▏       | 2400/10748 [00:01<00:03, 2259.48it/s]\u001b[A\n",
      " 25%|██▌       | 2700/10748 [00:01<00:03, 2260.63it/s]\u001b[A\n",
      " 28%|██▊       | 3000/10748 [00:01<00:03, 2277.28it/s]\u001b[A\n",
      " 31%|███       | 3300/10748 [00:01<00:03, 2263.57it/s]\u001b[A\n",
      " 33%|███▎      | 3600/10748 [00:01<00:03, 2266.51it/s]\u001b[A\n",
      " 36%|███▋      | 3900/10748 [00:01<00:03, 2276.60it/s]\u001b[A\n",
      " 39%|███▉      | 4200/10748 [00:01<00:02, 2276.01it/s]\u001b[A\n",
      " 42%|████▏     | 4500/10748 [00:01<00:02, 2281.26it/s]\u001b[A\n",
      " 45%|████▍     | 4800/10748 [00:02<00:02, 2293.08it/s]\u001b[A\n",
      " 47%|████▋     | 5100/10748 [00:02<00:02, 2279.69it/s]\u001b[A\n",
      " 50%|█████     | 5400/10748 [00:02<00:02, 2291.97it/s]\u001b[A\n",
      " 53%|█████▎    | 5700/10748 [00:02<00:02, 2284.09it/s]\u001b[A\n",
      " 56%|█████▌    | 6000/10748 [00:02<00:02, 2291.43it/s]\u001b[A\n",
      " 59%|█████▊    | 6300/10748 [00:02<00:01, 2292.23it/s]\u001b[A\n",
      " 61%|██████▏   | 6600/10748 [00:02<00:01, 2291.06it/s]\u001b[A\n",
      " 64%|██████▍   | 6900/10748 [00:03<00:01, 2291.99it/s]\u001b[A\n",
      " 67%|██████▋   | 7200/10748 [00:03<00:01, 2279.60it/s]\u001b[A\n",
      " 70%|██████▉   | 7500/10748 [00:03<00:01, 2284.14it/s]\u001b[A\n",
      " 73%|███████▎  | 7800/10748 [00:03<00:01, 2282.61it/s]\u001b[A\n",
      " 75%|███████▌  | 8100/10748 [00:03<00:01, 2284.46it/s]\u001b[A\n",
      " 78%|███████▊  | 8400/10748 [00:03<00:01, 2292.60it/s]\u001b[A\n",
      " 81%|████████  | 8700/10748 [00:03<00:00, 2291.41it/s]\u001b[A\n",
      " 84%|████████▎ | 9000/10748 [00:03<00:00, 2289.34it/s]\u001b[A\n",
      " 87%|████████▋ | 9300/10748 [00:04<00:00, 2291.05it/s]\u001b[A\n",
      " 89%|████████▉ | 9600/10748 [00:04<00:00, 2288.50it/s]\u001b[A\n",
      " 92%|█████████▏| 9900/10748 [00:04<00:00, 2282.52it/s]\u001b[A\n",
      " 95%|█████████▍| 10200/10748 [00:04<00:00, 2281.65it/s]\u001b[A\n",
      "100%|██████████| 10748/10748 [00:04<00:00, 2289.68it/s]\n"
     ]
    },
    {
     "name": "stdout",
     "output_type": "stream",
     "text": [
      "epoch [11/100], Loss: 0.0816\n"
     ]
    },
    {
     "name": "stderr",
     "output_type": "stream",
     "text": [
      "\n",
      "  0%|          | 0/10748 [00:00<?, ?it/s]\u001b[A\n",
      "  3%|▎         | 300/10748 [00:00<00:04, 2339.51it/s]\u001b[A\n",
      "  6%|▌         | 600/10748 [00:00<00:04, 2304.16it/s]\u001b[A\n",
      "  8%|▊         | 900/10748 [00:00<00:04, 2302.96it/s]\u001b[A\n",
      " 11%|█         | 1200/10748 [00:00<00:04, 2295.31it/s]\u001b[A\n",
      " 14%|█▍        | 1500/10748 [00:00<00:04, 2296.15it/s]\u001b[A\n",
      " 17%|█▋        | 1800/10748 [00:00<00:03, 2294.69it/s]\u001b[A\n",
      " 20%|█▉        | 2100/10748 [00:00<00:03, 2296.72it/s]\u001b[A\n",
      " 22%|██▏       | 2400/10748 [00:01<00:03, 2285.17it/s]\u001b[A\n",
      " 25%|██▌       | 2700/10748 [00:01<00:03, 2294.27it/s]\u001b[A\n",
      " 28%|██▊       | 3000/10748 [00:01<00:03, 2282.64it/s]\u001b[A\n",
      " 31%|███       | 3300/10748 [00:01<00:03, 2285.75it/s]\u001b[A\n",
      " 33%|███▎      | 3600/10748 [00:01<00:03, 2266.76it/s]\u001b[A\n",
      " 36%|███▋      | 3900/10748 [00:01<00:03, 2273.00it/s]\u001b[A\n",
      " 39%|███▉      | 4200/10748 [00:01<00:02, 2281.89it/s]\u001b[A\n",
      " 42%|████▏     | 4500/10748 [00:01<00:02, 2293.45it/s]\u001b[A\n",
      " 45%|████▍     | 4800/10748 [00:02<00:02, 2290.44it/s]\u001b[A\n",
      " 47%|████▋     | 5100/10748 [00:02<00:02, 2290.78it/s]\u001b[A\n",
      " 50%|█████     | 5400/10748 [00:02<00:02, 2281.46it/s]\u001b[A\n",
      " 53%|█████▎    | 5700/10748 [00:02<00:02, 2288.75it/s]\u001b[A\n",
      " 56%|█████▌    | 6000/10748 [00:02<00:02, 2277.26it/s]\u001b[A\n",
      " 59%|█████▊    | 6300/10748 [00:02<00:01, 2271.24it/s]\u001b[A\n",
      " 61%|██████▏   | 6600/10748 [00:02<00:01, 2281.36it/s]\u001b[A\n",
      " 64%|██████▍   | 6900/10748 [00:03<00:01, 2282.84it/s]\u001b[A\n",
      " 67%|██████▋   | 7200/10748 [00:03<00:01, 2289.29it/s]\u001b[A\n",
      " 70%|██████▉   | 7500/10748 [00:03<00:01, 2283.41it/s]\u001b[A\n",
      " 73%|███████▎  | 7800/10748 [00:03<00:01, 2280.39it/s]\u001b[A\n",
      " 75%|███████▌  | 8100/10748 [00:03<00:01, 2272.77it/s]\u001b[A\n",
      " 78%|███████▊  | 8400/10748 [00:03<00:01, 2271.95it/s]\u001b[A\n",
      " 81%|████████  | 8700/10748 [00:03<00:00, 2291.43it/s]\u001b[A\n",
      " 84%|████████▎ | 9000/10748 [00:03<00:00, 2294.66it/s]\u001b[A\n",
      " 87%|████████▋ | 9300/10748 [00:04<00:00, 2293.17it/s]\u001b[A\n",
      " 89%|████████▉ | 9600/10748 [00:04<00:00, 2297.27it/s]\u001b[A\n",
      " 92%|█████████▏| 9900/10748 [00:04<00:00, 2303.24it/s]\u001b[A\n",
      " 95%|█████████▍| 10200/10748 [00:04<00:00, 2289.22it/s]\u001b[A\n",
      "100%|██████████| 10748/10748 [00:04<00:00, 2295.06it/s]\n"
     ]
    },
    {
     "name": "stdout",
     "output_type": "stream",
     "text": [
      "epoch [12/100], Loss: 0.0681\n"
     ]
    },
    {
     "name": "stderr",
     "output_type": "stream",
     "text": [
      "\n",
      "  0%|          | 0/10748 [00:00<?, ?it/s]\u001b[A\n",
      "  3%|▎         | 300/10748 [00:00<00:04, 2300.53it/s]\u001b[A\n",
      "  6%|▌         | 600/10748 [00:00<00:04, 2265.19it/s]\u001b[A\n",
      "  8%|▊         | 900/10748 [00:00<00:04, 2277.32it/s]\u001b[A\n",
      " 11%|█         | 1200/10748 [00:00<00:04, 2274.46it/s]\u001b[A\n",
      " 14%|█▍        | 1500/10748 [00:00<00:04, 2285.79it/s]\u001b[A\n",
      " 17%|█▋        | 1800/10748 [00:00<00:03, 2283.04it/s]\u001b[A\n",
      " 20%|█▉        | 2100/10748 [00:00<00:03, 2282.17it/s]\u001b[A\n",
      " 22%|██▏       | 2400/10748 [00:01<00:03, 2268.19it/s]\u001b[A\n",
      " 25%|██▌       | 2700/10748 [00:01<00:03, 2273.88it/s]\u001b[A\n",
      " 28%|██▊       | 3000/10748 [00:01<00:03, 2281.17it/s]\u001b[A\n",
      " 31%|███       | 3300/10748 [00:01<00:03, 2279.46it/s]\u001b[A\n",
      " 33%|███▎      | 3600/10748 [00:01<00:03, 2280.31it/s]\u001b[A\n",
      " 36%|███▋      | 3900/10748 [00:01<00:02, 2286.45it/s]\u001b[A\n",
      " 39%|███▉      | 4200/10748 [00:01<00:02, 2287.33it/s]\u001b[A\n",
      " 42%|████▏     | 4500/10748 [00:01<00:02, 2293.06it/s]\u001b[A\n",
      " 45%|████▍     | 4800/10748 [00:02<00:02, 2287.92it/s]\u001b[A\n",
      " 47%|████▋     | 5100/10748 [00:02<00:02, 2289.70it/s]\u001b[A\n",
      " 50%|█████     | 5400/10748 [00:02<00:02, 2288.43it/s]\u001b[A\n",
      " 53%|█████▎    | 5700/10748 [00:02<00:02, 2290.48it/s]\u001b[A\n",
      " 56%|█████▌    | 6000/10748 [00:02<00:02, 2277.94it/s]\u001b[A\n",
      " 59%|█████▊    | 6300/10748 [00:02<00:01, 2286.46it/s]\u001b[A\n",
      " 61%|██████▏   | 6600/10748 [00:02<00:01, 2283.41it/s]\u001b[A\n",
      " 64%|██████▍   | 6900/10748 [00:03<00:01, 2278.95it/s]\u001b[A\n",
      " 67%|██████▋   | 7200/10748 [00:03<00:01, 2281.24it/s]\u001b[A\n",
      " 70%|██████▉   | 7500/10748 [00:03<00:01, 2277.53it/s]\u001b[A\n",
      " 73%|███████▎  | 7800/10748 [00:03<00:01, 2278.71it/s]\u001b[A\n",
      " 75%|███████▌  | 8100/10748 [00:03<00:01, 2280.54it/s]\u001b[A\n",
      " 78%|███████▊  | 8400/10748 [00:03<00:01, 2282.30it/s]\u001b[A\n",
      " 81%|████████  | 8700/10748 [00:03<00:00, 2293.39it/s]\u001b[A\n",
      " 84%|████████▎ | 9000/10748 [00:03<00:00, 2298.93it/s]\u001b[A\n",
      " 87%|████████▋ | 9300/10748 [00:04<00:00, 2290.50it/s]\u001b[A\n",
      " 89%|████████▉ | 9600/10748 [00:04<00:00, 2288.22it/s]\u001b[A\n",
      " 92%|█████████▏| 9900/10748 [00:04<00:00, 2278.96it/s]\u001b[A\n",
      " 95%|█████████▍| 10200/10748 [00:04<00:00, 2274.04it/s]\u001b[A\n",
      "100%|██████████| 10748/10748 [00:04<00:00, 2292.87it/s]\n"
     ]
    },
    {
     "name": "stdout",
     "output_type": "stream",
     "text": [
      "epoch [13/100], Loss: 0.0540\n"
     ]
    },
    {
     "name": "stderr",
     "output_type": "stream",
     "text": [
      "\n",
      "  0%|          | 0/10748 [00:00<?, ?it/s]\u001b[A\n",
      "  3%|▎         | 300/10748 [00:00<00:04, 2381.77it/s]\u001b[A\n",
      "  6%|▌         | 600/10748 [00:00<00:04, 2294.25it/s]\u001b[A\n",
      "  8%|▊         | 900/10748 [00:00<00:04, 2275.20it/s]\u001b[A\n",
      " 11%|█         | 1200/10748 [00:00<00:04, 2284.66it/s]\u001b[A\n",
      " 14%|█▍        | 1500/10748 [00:00<00:04, 2276.72it/s]\u001b[A\n",
      " 17%|█▋        | 1800/10748 [00:00<00:03, 2278.56it/s]\u001b[A\n",
      " 20%|█▉        | 2100/10748 [00:00<00:03, 2275.63it/s]\u001b[A\n",
      " 22%|██▏       | 2400/10748 [00:01<00:03, 2273.68it/s]\u001b[A\n",
      " 25%|██▌       | 2700/10748 [00:01<00:03, 2261.40it/s]\u001b[A\n",
      " 28%|██▊       | 3000/10748 [00:01<00:03, 2264.84it/s]\u001b[A\n",
      " 31%|███       | 3300/10748 [00:01<00:03, 2265.76it/s]\u001b[A\n",
      " 33%|███▎      | 3600/10748 [00:01<00:03, 2276.11it/s]\u001b[A\n",
      " 36%|███▋      | 3900/10748 [00:01<00:03, 2274.20it/s]\u001b[A\n",
      " 39%|███▉      | 4200/10748 [00:01<00:02, 2276.96it/s]\u001b[A\n",
      " 42%|████▏     | 4500/10748 [00:01<00:02, 2276.60it/s]\u001b[A\n",
      " 45%|████▍     | 4800/10748 [00:02<00:02, 2277.38it/s]\u001b[A\n",
      " 47%|████▋     | 5100/10748 [00:02<00:02, 2268.42it/s]\u001b[A\n",
      " 50%|█████     | 5400/10748 [00:02<00:02, 2279.65it/s]\u001b[A\n",
      " 53%|█████▎    | 5700/10748 [00:02<00:02, 2293.56it/s]\u001b[A\n",
      " 56%|█████▌    | 6000/10748 [00:02<00:02, 2303.47it/s]\u001b[A\n",
      " 59%|█████▊    | 6300/10748 [00:02<00:01, 2307.45it/s]\u001b[A\n",
      " 61%|██████▏   | 6600/10748 [00:02<00:01, 2295.19it/s]\u001b[A\n",
      " 64%|██████▍   | 6900/10748 [00:03<00:01, 2286.99it/s]\u001b[A\n",
      " 67%|██████▋   | 7200/10748 [00:03<00:01, 2291.00it/s]\u001b[A\n",
      " 70%|██████▉   | 7500/10748 [00:03<00:01, 2285.62it/s]\u001b[A\n",
      " 73%|███████▎  | 7800/10748 [00:03<00:01, 2274.87it/s]\u001b[A\n",
      " 75%|███████▌  | 8100/10748 [00:03<00:01, 2262.92it/s]\u001b[A\n",
      " 78%|███████▊  | 8400/10748 [00:03<00:01, 2271.64it/s]\u001b[A\n",
      " 81%|████████  | 8700/10748 [00:03<00:00, 2275.67it/s]\u001b[A\n",
      " 84%|████████▎ | 9000/10748 [00:03<00:00, 2282.72it/s]\u001b[A\n",
      " 87%|████████▋ | 9300/10748 [00:04<00:00, 2285.25it/s]\u001b[A\n",
      " 89%|████████▉ | 9600/10748 [00:04<00:00, 2291.98it/s]\u001b[A\n",
      " 92%|█████████▏| 9900/10748 [00:04<00:00, 2285.98it/s]\u001b[A\n",
      " 95%|█████████▍| 10200/10748 [00:04<00:00, 2287.53it/s]\u001b[A\n",
      "100%|██████████| 10748/10748 [00:04<00:00, 2289.61it/s]\n"
     ]
    },
    {
     "name": "stdout",
     "output_type": "stream",
     "text": [
      "epoch [14/100], Loss: 0.0448\n"
     ]
    },
    {
     "name": "stderr",
     "output_type": "stream",
     "text": [
      "\n",
      "  0%|          | 0/10748 [00:00<?, ?it/s]\u001b[A\n",
      "  3%|▎         | 300/10748 [00:00<00:04, 2356.34it/s]\u001b[A\n",
      "  6%|▌         | 600/10748 [00:00<00:04, 2322.57it/s]\u001b[A\n",
      "  8%|▊         | 900/10748 [00:00<00:04, 2303.64it/s]\u001b[A\n",
      " 11%|█         | 1200/10748 [00:00<00:04, 2311.23it/s]\u001b[A\n",
      " 14%|█▍        | 1500/10748 [00:00<00:04, 2275.18it/s]\u001b[A\n",
      " 17%|█▋        | 1800/10748 [00:00<00:03, 2283.77it/s]\u001b[A\n",
      " 20%|█▉        | 2100/10748 [00:00<00:03, 2279.30it/s]\u001b[A\n",
      " 22%|██▏       | 2400/10748 [00:01<00:03, 2284.98it/s]\u001b[A\n",
      " 25%|██▌       | 2700/10748 [00:01<00:03, 2274.24it/s]\u001b[A\n",
      " 28%|██▊       | 3000/10748 [00:01<00:03, 2274.77it/s]\u001b[A\n",
      " 31%|███       | 3300/10748 [00:01<00:03, 2283.98it/s]\u001b[A\n",
      " 33%|███▎      | 3600/10748 [00:01<00:03, 2272.89it/s]\u001b[A\n",
      " 36%|███▋      | 3900/10748 [00:01<00:03, 2270.96it/s]\u001b[A\n",
      " 39%|███▉      | 4200/10748 [00:01<00:02, 2271.43it/s]\u001b[A\n",
      " 42%|████▏     | 4500/10748 [00:01<00:02, 2274.27it/s]\u001b[A\n",
      " 45%|████▍     | 4800/10748 [00:02<00:02, 2271.28it/s]\u001b[A\n",
      " 47%|████▋     | 5100/10748 [00:02<00:02, 2275.93it/s]\u001b[A\n",
      " 50%|█████     | 5400/10748 [00:02<00:02, 2284.18it/s]\u001b[A\n",
      " 53%|█████▎    | 5700/10748 [00:02<00:02, 2291.58it/s]\u001b[A\n",
      " 56%|█████▌    | 6000/10748 [00:02<00:02, 2290.48it/s]\u001b[A\n",
      " 59%|█████▊    | 6300/10748 [00:02<00:01, 2297.61it/s]\u001b[A\n",
      " 61%|██████▏   | 6600/10748 [00:02<00:01, 2288.65it/s]\u001b[A\n",
      " 64%|██████▍   | 6900/10748 [00:03<00:01, 2274.92it/s]\u001b[A\n",
      " 67%|██████▋   | 7200/10748 [00:03<00:01, 2268.23it/s]\u001b[A\n",
      " 70%|██████▉   | 7500/10748 [00:03<00:01, 2280.64it/s]\u001b[A\n",
      " 73%|███████▎  | 7800/10748 [00:03<00:01, 2276.09it/s]\u001b[A\n",
      " 75%|███████▌  | 8100/10748 [00:03<00:01, 2288.49it/s]\u001b[A\n",
      " 78%|███████▊  | 8400/10748 [00:03<00:01, 2280.17it/s]\u001b[A\n",
      " 81%|████████  | 8700/10748 [00:03<00:00, 2276.53it/s]\u001b[A\n",
      " 84%|████████▎ | 9000/10748 [00:03<00:00, 2274.99it/s]\u001b[A\n",
      " 87%|████████▋ | 9300/10748 [00:04<00:00, 2272.11it/s]\u001b[A\n",
      " 89%|████████▉ | 9600/10748 [00:04<00:00, 2292.95it/s]\u001b[A\n",
      " 92%|█████████▏| 9900/10748 [00:04<00:00, 2287.92it/s]\u001b[A\n",
      " 95%|█████████▍| 10200/10748 [00:04<00:00, 2280.88it/s]\u001b[A\n",
      "100%|██████████| 10748/10748 [00:04<00:00, 2289.99it/s]\n"
     ]
    },
    {
     "name": "stdout",
     "output_type": "stream",
     "text": [
      "epoch [15/100], Loss: 0.0361\n"
     ]
    },
    {
     "name": "stderr",
     "output_type": "stream",
     "text": [
      "\n",
      "  0%|          | 0/10748 [00:00<?, ?it/s]\u001b[A\n",
      "  3%|▎         | 300/10748 [00:00<00:04, 2361.79it/s]\u001b[A\n",
      "  6%|▌         | 600/10748 [00:00<00:04, 2326.08it/s]\u001b[A\n",
      "  8%|▊         | 900/10748 [00:00<00:04, 2316.17it/s]\u001b[A\n",
      " 11%|█         | 1200/10748 [00:00<00:04, 2309.86it/s]\u001b[A\n",
      " 14%|█▍        | 1500/10748 [00:00<00:04, 2304.27it/s]\u001b[A\n",
      " 17%|█▋        | 1800/10748 [00:00<00:03, 2308.90it/s]\u001b[A\n",
      " 20%|█▉        | 2100/10748 [00:00<00:03, 2291.43it/s]\u001b[A\n",
      " 22%|██▏       | 2400/10748 [00:01<00:03, 2293.22it/s]\u001b[A\n",
      " 25%|██▌       | 2700/10748 [00:01<00:03, 2303.07it/s]\u001b[A\n",
      " 28%|██▊       | 3000/10748 [00:01<00:03, 2296.32it/s]\u001b[A\n",
      " 31%|███       | 3300/10748 [00:01<00:03, 2302.64it/s]\u001b[A\n",
      " 33%|███▎      | 3600/10748 [00:01<00:03, 2303.97it/s]\u001b[A\n",
      " 36%|███▋      | 3900/10748 [00:01<00:02, 2293.71it/s]\u001b[A\n",
      " 39%|███▉      | 4200/10748 [00:01<00:02, 2276.53it/s]\u001b[A\n",
      " 42%|████▏     | 4500/10748 [00:01<00:02, 2263.66it/s]\u001b[A\n",
      " 45%|████▍     | 4800/10748 [00:02<00:02, 2263.99it/s]\u001b[A\n",
      " 47%|████▋     | 5100/10748 [00:02<00:02, 2259.97it/s]\u001b[A\n",
      " 50%|█████     | 5400/10748 [00:02<00:02, 2262.85it/s]\u001b[A\n",
      " 53%|█████▎    | 5700/10748 [00:02<00:02, 2260.62it/s]\u001b[A\n",
      " 56%|█████▌    | 6000/10748 [00:02<00:02, 2268.37it/s]\u001b[A\n",
      " 59%|█████▊    | 6300/10748 [00:02<00:01, 2277.08it/s]\u001b[A\n",
      " 61%|██████▏   | 6600/10748 [00:02<00:01, 2273.21it/s]\u001b[A\n",
      " 64%|██████▍   | 6900/10748 [00:03<00:01, 2272.72it/s]\u001b[A\n",
      " 67%|██████▋   | 7200/10748 [00:03<00:01, 2265.39it/s]\u001b[A\n",
      " 70%|██████▉   | 7500/10748 [00:03<00:01, 2275.54it/s]\u001b[A\n",
      " 73%|███████▎  | 7800/10748 [00:03<00:01, 2278.13it/s]\u001b[A\n",
      " 75%|███████▌  | 8100/10748 [00:03<00:01, 2291.86it/s]\u001b[A\n",
      " 78%|███████▊  | 8400/10748 [00:03<00:01, 2277.27it/s]\u001b[A\n",
      " 81%|████████  | 8700/10748 [00:03<00:00, 2284.04it/s]\u001b[A\n",
      " 84%|████████▎ | 9000/10748 [00:03<00:00, 2259.36it/s]\u001b[A\n",
      " 87%|████████▋ | 9300/10748 [00:04<00:00, 2265.01it/s]\u001b[A\n",
      " 89%|████████▉ | 9600/10748 [00:04<00:00, 2276.69it/s]\u001b[A\n",
      " 92%|█████████▏| 9900/10748 [00:04<00:00, 2273.15it/s]\u001b[A\n",
      " 95%|█████████▍| 10200/10748 [00:04<00:00, 2275.73it/s]\u001b[A\n",
      "100%|██████████| 10748/10748 [00:04<00:00, 2290.20it/s]\n"
     ]
    },
    {
     "name": "stdout",
     "output_type": "stream",
     "text": [
      "epoch [16/100], Loss: 0.0294\n"
     ]
    },
    {
     "name": "stderr",
     "output_type": "stream",
     "text": [
      "\n",
      "  0%|          | 0/10748 [00:00<?, ?it/s]\u001b[A\n",
      "  3%|▎         | 300/10748 [00:00<00:04, 2331.16it/s]\u001b[A\n",
      "  6%|▌         | 600/10748 [00:00<00:04, 2309.59it/s]\u001b[A\n",
      "  8%|▊         | 900/10748 [00:00<00:04, 2288.67it/s]\u001b[A\n",
      " 11%|█         | 1200/10748 [00:00<00:04, 2286.26it/s]\u001b[A\n",
      " 14%|█▍        | 1500/10748 [00:00<00:04, 2291.73it/s]\u001b[A\n",
      " 17%|█▋        | 1800/10748 [00:00<00:03, 2291.91it/s]\u001b[A\n",
      " 20%|█▉        | 2100/10748 [00:00<00:03, 2289.30it/s]\u001b[A\n",
      " 22%|██▏       | 2400/10748 [00:01<00:03, 2283.55it/s]\u001b[A\n",
      " 25%|██▌       | 2700/10748 [00:01<00:03, 2288.28it/s]\u001b[A\n",
      " 28%|██▊       | 3000/10748 [00:01<00:03, 2280.74it/s]\u001b[A\n",
      " 31%|███       | 3300/10748 [00:01<00:03, 2285.37it/s]\u001b[A\n",
      " 33%|███▎      | 3600/10748 [00:01<00:03, 2281.13it/s]\u001b[A\n",
      " 36%|███▋      | 3900/10748 [00:01<00:02, 2292.34it/s]\u001b[A\n",
      " 39%|███▉      | 4200/10748 [00:01<00:02, 2296.34it/s]\u001b[A\n",
      " 42%|████▏     | 4500/10748 [00:01<00:02, 2290.43it/s]\u001b[A\n",
      " 45%|████▍     | 4800/10748 [00:02<00:02, 2282.92it/s]\u001b[A\n",
      " 47%|████▋     | 5100/10748 [00:02<00:02, 2279.73it/s]\u001b[A\n",
      " 50%|█████     | 5400/10748 [00:02<00:02, 2291.37it/s]\u001b[A\n",
      " 53%|█████▎    | 5700/10748 [00:02<00:02, 2278.46it/s]\u001b[A\n",
      " 56%|█████▌    | 6000/10748 [00:02<00:02, 2287.01it/s]\u001b[A\n",
      " 59%|█████▊    | 6300/10748 [00:02<00:01, 2291.75it/s]\u001b[A\n",
      " 61%|██████▏   | 6600/10748 [00:02<00:01, 2289.88it/s]\u001b[A\n",
      " 64%|██████▍   | 6900/10748 [00:03<00:01, 2292.85it/s]\u001b[A\n",
      " 67%|██████▋   | 7200/10748 [00:03<00:01, 2274.83it/s]\u001b[A\n",
      " 70%|██████▉   | 7500/10748 [00:03<00:01, 2285.97it/s]\u001b[A\n",
      " 73%|███████▎  | 7800/10748 [00:03<00:01, 2275.21it/s]\u001b[A\n",
      " 75%|███████▌  | 8100/10748 [00:03<00:01, 2283.79it/s]\u001b[A\n",
      " 78%|███████▊  | 8400/10748 [00:03<00:01, 2281.03it/s]\u001b[A\n",
      " 81%|████████  | 8700/10748 [00:03<00:00, 2278.76it/s]\u001b[A\n",
      " 84%|████████▎ | 9000/10748 [00:03<00:00, 2276.18it/s]\u001b[A\n",
      " 87%|████████▋ | 9300/10748 [00:04<00:00, 2287.06it/s]\u001b[A\n",
      " 89%|████████▉ | 9600/10748 [00:04<00:00, 2283.22it/s]\u001b[A\n",
      " 92%|█████████▏| 9900/10748 [00:04<00:00, 2289.82it/s]\u001b[A\n",
      " 95%|█████████▍| 10200/10748 [00:04<00:00, 2280.79it/s]\u001b[A\n",
      "100%|██████████| 10748/10748 [00:04<00:00, 2294.58it/s]\n"
     ]
    },
    {
     "name": "stdout",
     "output_type": "stream",
     "text": [
      "epoch [17/100], Loss: 0.0252\n"
     ]
    },
    {
     "name": "stderr",
     "output_type": "stream",
     "text": [
      "\n",
      "  0%|          | 0/10748 [00:00<?, ?it/s]\u001b[A\n",
      "  3%|▎         | 300/10748 [00:00<00:04, 2326.67it/s]\u001b[A\n",
      "  6%|▌         | 600/10748 [00:00<00:04, 2292.98it/s]\u001b[A\n",
      "  8%|▊         | 900/10748 [00:00<00:04, 2307.68it/s]\u001b[A\n",
      " 11%|█         | 1200/10748 [00:00<00:04, 2311.73it/s]\u001b[A\n",
      " 14%|█▍        | 1500/10748 [00:00<00:04, 2284.78it/s]\u001b[A\n",
      " 17%|█▋        | 1800/10748 [00:00<00:03, 2276.43it/s]\u001b[A\n",
      " 20%|█▉        | 2100/10748 [00:00<00:03, 2281.60it/s]\u001b[A\n",
      " 22%|██▏       | 2400/10748 [00:01<00:03, 2275.89it/s]\u001b[A\n",
      " 25%|██▌       | 2700/10748 [00:01<00:03, 2288.22it/s]\u001b[A\n",
      " 28%|██▊       | 3000/10748 [00:01<00:03, 2292.05it/s]\u001b[A\n",
      " 31%|███       | 3300/10748 [00:01<00:03, 2271.17it/s]\u001b[A\n",
      " 33%|███▎      | 3600/10748 [00:01<00:03, 2271.24it/s]\u001b[A\n",
      " 36%|███▋      | 3900/10748 [00:01<00:03, 2269.59it/s]\u001b[A\n",
      " 39%|███▉      | 4200/10748 [00:01<00:02, 2257.77it/s]\u001b[A\n",
      " 42%|████▏     | 4500/10748 [00:01<00:02, 2272.67it/s]\u001b[A\n",
      " 45%|████▍     | 4800/10748 [00:02<00:02, 2270.89it/s]\u001b[A\n",
      " 47%|████▋     | 5100/10748 [00:02<00:02, 2277.04it/s]\u001b[A\n",
      " 50%|█████     | 5400/10748 [00:02<00:02, 2264.60it/s]\u001b[A\n",
      " 53%|█████▎    | 5700/10748 [00:02<00:02, 2274.61it/s]\u001b[A\n",
      " 56%|█████▌    | 6000/10748 [00:02<00:02, 2285.43it/s]\u001b[A\n",
      " 59%|█████▊    | 6300/10748 [00:02<00:01, 2289.13it/s]\u001b[A\n",
      " 61%|██████▏   | 6600/10748 [00:02<00:01, 2288.72it/s]\u001b[A\n",
      " 64%|██████▍   | 6900/10748 [00:03<00:01, 2284.96it/s]\u001b[A\n",
      " 67%|██████▋   | 7200/10748 [00:03<00:01, 2295.41it/s]\u001b[A\n",
      " 70%|██████▉   | 7500/10748 [00:03<00:01, 2280.53it/s]\u001b[A\n",
      " 73%|███████▎  | 7800/10748 [00:03<00:01, 2274.31it/s]\u001b[A\n",
      " 75%|███████▌  | 8100/10748 [00:03<00:01, 2272.31it/s]\u001b[A\n",
      " 78%|███████▊  | 8400/10748 [00:03<00:01, 2273.98it/s]\u001b[A\n",
      " 81%|████████  | 8700/10748 [00:03<00:00, 2274.31it/s]\u001b[A\n",
      " 84%|████████▎ | 9000/10748 [00:03<00:00, 2271.13it/s]\u001b[A\n",
      " 87%|████████▋ | 9300/10748 [00:04<00:00, 2269.24it/s]\u001b[A\n",
      " 89%|████████▉ | 9600/10748 [00:04<00:00, 2270.49it/s]\u001b[A\n",
      " 92%|█████████▏| 9900/10748 [00:04<00:00, 2269.43it/s]\u001b[A\n",
      " 95%|█████████▍| 10200/10748 [00:04<00:00, 2264.31it/s]\u001b[A\n",
      "100%|██████████| 10748/10748 [00:04<00:00, 2288.16it/s]\n"
     ]
    },
    {
     "name": "stdout",
     "output_type": "stream",
     "text": [
      "epoch [18/100], Loss: 0.0214\n"
     ]
    },
    {
     "name": "stderr",
     "output_type": "stream",
     "text": [
      "\n",
      "  0%|          | 0/10748 [00:00<?, ?it/s]\u001b[A\n",
      "  3%|▎         | 300/10748 [00:00<00:04, 2379.99it/s]\u001b[A\n",
      "  6%|▌         | 600/10748 [00:00<00:04, 2311.36it/s]\u001b[A\n",
      "  8%|▊         | 900/10748 [00:00<00:04, 2313.09it/s]\u001b[A\n",
      " 11%|█         | 1200/10748 [00:00<00:04, 2278.73it/s]\u001b[A\n",
      " 14%|█▍        | 1500/10748 [00:00<00:04, 2278.07it/s]\u001b[A\n",
      " 17%|█▋        | 1800/10748 [00:00<00:03, 2273.24it/s]\u001b[A\n",
      " 20%|█▉        | 2100/10748 [00:00<00:03, 2286.34it/s]\u001b[A\n",
      " 22%|██▏       | 2400/10748 [00:01<00:03, 2289.04it/s]\u001b[A\n",
      " 25%|██▌       | 2700/10748 [00:01<00:03, 2297.26it/s]\u001b[A\n",
      " 28%|██▊       | 3000/10748 [00:01<00:03, 2284.77it/s]\u001b[A\n",
      " 31%|███       | 3300/10748 [00:01<00:03, 2282.92it/s]\u001b[A\n",
      " 33%|███▎      | 3600/10748 [00:01<00:03, 2276.11it/s]\u001b[A\n",
      " 36%|███▋      | 3900/10748 [00:01<00:03, 2265.19it/s]\u001b[A\n",
      " 39%|███▉      | 4200/10748 [00:01<00:02, 2268.07it/s]\u001b[A\n",
      " 42%|████▏     | 4500/10748 [00:01<00:02, 2272.99it/s]\u001b[A\n",
      " 45%|████▍     | 4800/10748 [00:02<00:02, 2273.10it/s]\u001b[A\n",
      " 47%|████▋     | 5100/10748 [00:02<00:02, 2283.35it/s]\u001b[A\n",
      " 50%|█████     | 5400/10748 [00:02<00:02, 2288.92it/s]\u001b[A\n",
      " 53%|█████▎    | 5700/10748 [00:02<00:02, 2285.90it/s]\u001b[A\n",
      " 56%|█████▌    | 6000/10748 [00:02<00:02, 2276.02it/s]\u001b[A\n",
      " 59%|█████▊    | 6300/10748 [00:02<00:01, 2274.96it/s]\u001b[A\n",
      " 61%|██████▏   | 6600/10748 [00:02<00:01, 2273.36it/s]\u001b[A\n",
      " 64%|██████▍   | 6900/10748 [00:03<00:01, 2276.40it/s]\u001b[A\n",
      " 67%|██████▋   | 7200/10748 [00:03<00:01, 2274.20it/s]\u001b[A\n",
      " 70%|██████▉   | 7500/10748 [00:03<00:01, 2288.30it/s]\u001b[A\n",
      " 73%|███████▎  | 7800/10748 [00:03<00:01, 2294.43it/s]\u001b[A\n",
      " 75%|███████▌  | 8100/10748 [00:03<00:01, 2292.59it/s]\u001b[A\n",
      " 78%|███████▊  | 8400/10748 [00:03<00:01, 2289.51it/s]\u001b[A\n",
      " 81%|████████  | 8700/10748 [00:03<00:00, 2281.95it/s]\u001b[A\n",
      " 84%|████████▎ | 9000/10748 [00:03<00:00, 2283.46it/s]\u001b[A\n",
      " 87%|████████▋ | 9300/10748 [00:04<00:00, 2303.67it/s]\u001b[A\n",
      " 89%|████████▉ | 9600/10748 [00:04<00:00, 2309.80it/s]\u001b[A\n",
      " 92%|█████████▏| 9900/10748 [00:04<00:00, 2307.03it/s]\u001b[A\n",
      " 95%|█████████▍| 10200/10748 [00:04<00:00, 2296.04it/s]\u001b[A\n",
      "100%|██████████| 10748/10748 [00:04<00:00, 2293.46it/s]\n"
     ]
    },
    {
     "name": "stdout",
     "output_type": "stream",
     "text": [
      "epoch [19/100], Loss: 0.0177\n"
     ]
    },
    {
     "name": "stderr",
     "output_type": "stream",
     "text": [
      "\n",
      "  0%|          | 0/10748 [00:00<?, ?it/s]\u001b[A\n",
      "  3%|▎         | 300/10748 [00:00<00:04, 2379.49it/s]\u001b[A\n",
      "  6%|▌         | 600/10748 [00:00<00:04, 2305.54it/s]\u001b[A\n",
      "  8%|▊         | 900/10748 [00:00<00:04, 2292.18it/s]\u001b[A\n",
      " 11%|█         | 1200/10748 [00:00<00:04, 2276.80it/s]\u001b[A\n",
      " 14%|█▍        | 1500/10748 [00:00<00:04, 2283.53it/s]\u001b[A\n",
      " 17%|█▋        | 1800/10748 [00:00<00:03, 2284.72it/s]\u001b[A\n",
      " 20%|█▉        | 2100/10748 [00:00<00:03, 2294.57it/s]\u001b[A\n",
      " 22%|██▏       | 2400/10748 [00:01<00:03, 2297.74it/s]\u001b[A\n",
      " 25%|██▌       | 2700/10748 [00:01<00:03, 2281.09it/s]\u001b[A\n",
      " 28%|██▊       | 3000/10748 [00:01<00:03, 2263.17it/s]\u001b[A\n",
      " 31%|███       | 3300/10748 [00:01<00:03, 2264.48it/s]\u001b[A\n",
      " 33%|███▎      | 3600/10748 [00:01<00:03, 2266.43it/s]\u001b[A\n",
      " 36%|███▋      | 3900/10748 [00:01<00:03, 2275.74it/s]\u001b[A\n",
      " 39%|███▉      | 4200/10748 [00:01<00:02, 2279.54it/s]\u001b[A\n",
      " 42%|████▏     | 4500/10748 [00:01<00:02, 2274.04it/s]\u001b[A\n",
      " 45%|████▍     | 4800/10748 [00:02<00:02, 2264.85it/s]\u001b[A\n",
      " 47%|████▋     | 5100/10748 [00:02<00:02, 2273.35it/s]\u001b[A\n",
      " 50%|█████     | 5400/10748 [00:02<00:02, 2281.49it/s]\u001b[A\n",
      " 53%|█████▎    | 5700/10748 [00:02<00:02, 2289.22it/s]\u001b[A\n",
      " 56%|█████▌    | 6000/10748 [00:02<00:02, 2284.31it/s]\u001b[A\n",
      " 59%|█████▊    | 6300/10748 [00:02<00:01, 2297.86it/s]\u001b[A\n",
      " 61%|██████▏   | 6600/10748 [00:02<00:01, 2296.33it/s]\u001b[A\n",
      " 64%|██████▍   | 6900/10748 [00:03<00:01, 2294.30it/s]\u001b[A\n",
      " 67%|██████▋   | 7200/10748 [00:03<00:01, 2279.55it/s]\u001b[A\n",
      " 70%|██████▉   | 7500/10748 [00:03<00:01, 2288.26it/s]\u001b[A\n",
      " 73%|███████▎  | 7800/10748 [00:03<00:01, 2284.75it/s]\u001b[A\n",
      " 75%|███████▌  | 8100/10748 [00:03<00:01, 2284.25it/s]\u001b[A\n",
      " 78%|███████▊  | 8400/10748 [00:03<00:01, 2278.42it/s]\u001b[A\n",
      " 81%|████████  | 8700/10748 [00:03<00:00, 2281.27it/s]\u001b[A\n",
      " 84%|████████▎ | 9000/10748 [00:03<00:00, 2275.89it/s]\u001b[A\n",
      " 87%|████████▋ | 9300/10748 [00:04<00:00, 2268.66it/s]\u001b[A\n",
      " 89%|████████▉ | 9600/10748 [00:04<00:00, 2258.62it/s]\u001b[A\n",
      " 92%|█████████▏| 9900/10748 [00:04<00:00, 2256.81it/s]\u001b[A\n",
      " 95%|█████████▍| 10200/10748 [00:04<00:00, 2275.93it/s]\u001b[A\n",
      "100%|██████████| 10748/10748 [00:04<00:00, 2290.49it/s]\n"
     ]
    },
    {
     "name": "stdout",
     "output_type": "stream",
     "text": [
      "epoch [20/100], Loss: 0.0151\n"
     ]
    },
    {
     "name": "stderr",
     "output_type": "stream",
     "text": [
      "\n",
      "  0%|          | 0/10748 [00:00<?, ?it/s]\u001b[A\n",
      "  3%|▎         | 300/10748 [00:00<00:04, 2380.43it/s]\u001b[A\n",
      "  6%|▌         | 600/10748 [00:00<00:04, 2302.80it/s]\u001b[A\n",
      "  8%|▊         | 900/10748 [00:00<00:04, 2305.62it/s]\u001b[A\n",
      " 11%|█         | 1200/10748 [00:00<00:04, 2308.55it/s]\u001b[A\n",
      " 14%|█▍        | 1500/10748 [00:00<00:04, 2290.19it/s]\u001b[A\n",
      " 17%|█▋        | 1800/10748 [00:00<00:03, 2290.90it/s]\u001b[A\n",
      " 20%|█▉        | 2100/10748 [00:00<00:03, 2287.16it/s]\u001b[A\n",
      " 22%|██▏       | 2400/10748 [00:01<00:03, 2288.64it/s]\u001b[A\n",
      " 25%|██▌       | 2700/10748 [00:01<00:03, 2283.03it/s]\u001b[A\n",
      " 28%|██▊       | 3000/10748 [00:01<00:03, 2263.99it/s]\u001b[A\n",
      " 31%|███       | 3300/10748 [00:01<00:03, 2277.03it/s]\u001b[A\n",
      " 33%|███▎      | 3600/10748 [00:01<00:03, 2282.72it/s]\u001b[A\n",
      " 36%|███▋      | 3900/10748 [00:01<00:02, 2283.56it/s]\u001b[A\n",
      " 39%|███▉      | 4200/10748 [00:01<00:02, 2282.04it/s]\u001b[A\n",
      " 42%|████▏     | 4500/10748 [00:01<00:02, 2291.69it/s]\u001b[A\n",
      " 45%|████▍     | 4800/10748 [00:02<00:02, 2296.52it/s]\u001b[A\n",
      " 47%|████▋     | 5100/10748 [00:02<00:02, 2297.36it/s]\u001b[A\n",
      " 50%|█████     | 5400/10748 [00:02<00:02, 2285.70it/s]\u001b[A\n",
      " 53%|█████▎    | 5700/10748 [00:02<00:02, 2281.93it/s]\u001b[A\n",
      " 56%|█████▌    | 6000/10748 [00:02<00:02, 2275.04it/s]\u001b[A\n",
      " 59%|█████▊    | 6300/10748 [00:02<00:01, 2271.36it/s]\u001b[A\n",
      " 61%|██████▏   | 6600/10748 [00:02<00:01, 2289.44it/s]\u001b[A\n",
      " 64%|██████▍   | 6900/10748 [00:03<00:01, 2283.95it/s]\u001b[A\n",
      " 67%|██████▋   | 7200/10748 [00:03<00:01, 2282.05it/s]\u001b[A\n",
      " 70%|██████▉   | 7500/10748 [00:03<00:01, 2284.37it/s]\u001b[A\n",
      " 73%|███████▎  | 7800/10748 [00:03<00:01, 2270.97it/s]\u001b[A\n",
      " 75%|███████▌  | 8100/10748 [00:03<00:01, 2268.60it/s]\u001b[A\n",
      " 78%|███████▊  | 8400/10748 [00:03<00:01, 2273.71it/s]\u001b[A\n",
      " 81%|████████  | 8700/10748 [00:03<00:00, 2269.52it/s]\u001b[A\n",
      " 84%|████████▎ | 9000/10748 [00:03<00:00, 2243.80it/s]\u001b[A\n",
      " 87%|████████▋ | 9300/10748 [00:04<00:00, 2249.02it/s]\u001b[A\n",
      " 89%|████████▉ | 9600/10748 [00:04<00:00, 2267.32it/s]\u001b[A\n",
      " 92%|█████████▏| 9900/10748 [00:04<00:00, 2266.10it/s]\u001b[A\n",
      " 95%|█████████▍| 10200/10748 [00:04<00:00, 2277.71it/s]\u001b[A\n",
      "100%|██████████| 10748/10748 [00:04<00:00, 2289.29it/s]\n"
     ]
    },
    {
     "name": "stdout",
     "output_type": "stream",
     "text": [
      "epoch [21/100], Loss: 0.0142\n"
     ]
    },
    {
     "name": "stderr",
     "output_type": "stream",
     "text": [
      "\n",
      "  0%|          | 0/10748 [00:00<?, ?it/s]\u001b[A\n",
      "  3%|▎         | 300/10748 [00:00<00:04, 2354.52it/s]\u001b[A\n",
      "  6%|▌         | 600/10748 [00:00<00:04, 2314.91it/s]\u001b[A\n",
      "  8%|▊         | 900/10748 [00:00<00:04, 2284.82it/s]\u001b[A\n",
      " 11%|█         | 1200/10748 [00:00<00:04, 2276.32it/s]\u001b[A\n",
      " 14%|█▍        | 1500/10748 [00:00<00:04, 2262.16it/s]\u001b[A\n",
      " 17%|█▋        | 1800/10748 [00:00<00:03, 2285.05it/s]\u001b[A\n",
      " 20%|█▉        | 2100/10748 [00:00<00:03, 2269.99it/s]\u001b[A\n",
      " 22%|██▏       | 2400/10748 [00:01<00:03, 2273.42it/s]\u001b[A\n",
      " 25%|██▌       | 2700/10748 [00:01<00:03, 2286.50it/s]\u001b[A\n",
      " 28%|██▊       | 3000/10748 [00:01<00:03, 2273.82it/s]\u001b[A\n",
      " 31%|███       | 3300/10748 [00:01<00:03, 2278.90it/s]\u001b[A\n",
      " 33%|███▎      | 3600/10748 [00:01<00:03, 2286.17it/s]\u001b[A\n",
      " 36%|███▋      | 3900/10748 [00:01<00:03, 2279.96it/s]\u001b[A\n",
      " 39%|███▉      | 4200/10748 [00:01<00:02, 2281.71it/s]\u001b[A\n",
      " 42%|████▏     | 4500/10748 [00:01<00:02, 2278.28it/s]\u001b[A\n",
      " 45%|████▍     | 4800/10748 [00:02<00:02, 2289.29it/s]\u001b[A\n",
      " 47%|████▋     | 5100/10748 [00:02<00:02, 2298.95it/s]\u001b[A\n",
      " 50%|█████     | 5400/10748 [00:02<00:02, 2291.84it/s]\u001b[A\n",
      " 53%|█████▎    | 5700/10748 [00:02<00:02, 2286.01it/s]\u001b[A\n",
      " 56%|█████▌    | 6000/10748 [00:02<00:02, 2297.63it/s]\u001b[A\n",
      " 59%|█████▊    | 6300/10748 [00:02<00:01, 2288.13it/s]\u001b[A\n",
      " 61%|██████▏   | 6600/10748 [00:02<00:01, 2293.96it/s]\u001b[A\n",
      " 64%|██████▍   | 6900/10748 [00:03<00:01, 2280.18it/s]\u001b[A\n",
      " 67%|██████▋   | 7200/10748 [00:03<00:01, 2284.99it/s]\u001b[A\n",
      " 70%|██████▉   | 7500/10748 [00:03<00:01, 2282.16it/s]\u001b[A\n",
      " 73%|███████▎  | 7800/10748 [00:03<00:01, 2288.04it/s]\u001b[A\n",
      " 75%|███████▌  | 8100/10748 [00:03<00:01, 2294.07it/s]\u001b[A\n",
      " 78%|███████▊  | 8400/10748 [00:03<00:01, 2288.02it/s]\u001b[A\n",
      " 81%|████████  | 8700/10748 [00:03<00:00, 2299.25it/s]\u001b[A\n",
      " 84%|████████▎ | 9000/10748 [00:03<00:00, 2304.23it/s]\u001b[A\n",
      " 87%|████████▋ | 9300/10748 [00:04<00:00, 2303.43it/s]\u001b[A\n",
      " 89%|████████▉ | 9600/10748 [00:04<00:00, 2291.82it/s]\u001b[A\n",
      " 92%|█████████▏| 9900/10748 [00:04<00:00, 2282.59it/s]\u001b[A\n",
      " 95%|█████████▍| 10200/10748 [00:04<00:00, 2281.14it/s]\u001b[A\n",
      "100%|██████████| 10748/10748 [00:04<00:00, 2295.56it/s]\n"
     ]
    },
    {
     "name": "stdout",
     "output_type": "stream",
     "text": [
      "epoch [22/100], Loss: 0.0117\n"
     ]
    },
    {
     "name": "stderr",
     "output_type": "stream",
     "text": [
      "\n",
      "  0%|          | 0/10748 [00:00<?, ?it/s]\u001b[A\n",
      "  3%|▎         | 300/10748 [00:00<00:04, 2326.07it/s]\u001b[A\n",
      "  6%|▌         | 600/10748 [00:00<00:04, 2312.00it/s]\u001b[A\n",
      "  8%|▊         | 900/10748 [00:00<00:04, 2297.29it/s]\u001b[A\n",
      " 11%|█         | 1200/10748 [00:00<00:04, 2299.53it/s]\u001b[A\n",
      " 14%|█▍        | 1500/10748 [00:00<00:04, 2285.88it/s]\u001b[A\n",
      " 17%|█▋        | 1800/10748 [00:00<00:03, 2296.37it/s]\u001b[A\n",
      " 20%|█▉        | 2100/10748 [00:00<00:03, 2291.22it/s]\u001b[A\n",
      " 22%|██▏       | 2400/10748 [00:01<00:03, 2295.29it/s]\u001b[A\n",
      " 25%|██▌       | 2700/10748 [00:01<00:03, 2294.73it/s]\u001b[A\n",
      " 28%|██▊       | 3000/10748 [00:01<00:03, 2295.91it/s]\u001b[A\n",
      " 31%|███       | 3300/10748 [00:01<00:03, 2293.08it/s]\u001b[A\n",
      " 33%|███▎      | 3600/10748 [00:01<00:03, 2293.83it/s]\u001b[A\n",
      " 36%|███▋      | 3900/10748 [00:01<00:02, 2289.32it/s]\u001b[A\n",
      " 39%|███▉      | 4200/10748 [00:01<00:02, 2285.06it/s]\u001b[A\n",
      " 42%|████▏     | 4500/10748 [00:01<00:02, 2279.11it/s]\u001b[A\n",
      " 45%|████▍     | 4800/10748 [00:02<00:02, 2284.89it/s]\u001b[A\n",
      " 47%|████▋     | 5100/10748 [00:02<00:02, 2291.82it/s]\u001b[A\n",
      " 50%|█████     | 5400/10748 [00:02<00:02, 2290.80it/s]\u001b[A\n",
      " 53%|█████▎    | 5700/10748 [00:02<00:02, 2298.01it/s]\u001b[A\n",
      " 56%|█████▌    | 6000/10748 [00:02<00:02, 2293.77it/s]\u001b[A\n",
      " 59%|█████▊    | 6300/10748 [00:02<00:01, 2281.82it/s]\u001b[A\n",
      " 61%|██████▏   | 6600/10748 [00:02<00:01, 2286.17it/s]\u001b[A\n",
      " 64%|██████▍   | 6900/10748 [00:03<00:01, 2289.61it/s]\u001b[A\n",
      " 67%|██████▋   | 7200/10748 [00:03<00:01, 2292.10it/s]\u001b[A\n",
      " 70%|██████▉   | 7500/10748 [00:03<00:01, 2291.03it/s]\u001b[A\n",
      " 73%|███████▎  | 7800/10748 [00:03<00:01, 2296.70it/s]\u001b[A\n",
      " 75%|███████▌  | 8100/10748 [00:03<00:01, 2295.86it/s]\u001b[A\n",
      " 78%|███████▊  | 8400/10748 [00:03<00:01, 2287.54it/s]\u001b[A\n",
      " 81%|████████  | 8700/10748 [00:03<00:00, 2298.01it/s]\u001b[A\n",
      " 84%|████████▎ | 9000/10748 [00:03<00:00, 2288.87it/s]\u001b[A\n",
      " 87%|████████▋ | 9300/10748 [00:04<00:00, 2300.49it/s]\u001b[A\n",
      " 89%|████████▉ | 9600/10748 [00:04<00:00, 2292.17it/s]\u001b[A\n",
      " 92%|█████████▏| 9900/10748 [00:04<00:00, 2282.62it/s]\u001b[A\n",
      " 95%|█████████▍| 10200/10748 [00:04<00:00, 2278.90it/s]\u001b[A\n",
      "100%|██████████| 10748/10748 [00:04<00:00, 2299.03it/s]\n"
     ]
    },
    {
     "name": "stdout",
     "output_type": "stream",
     "text": [
      "epoch [23/100], Loss: 0.0104\n"
     ]
    },
    {
     "name": "stderr",
     "output_type": "stream",
     "text": [
      "\n",
      "  0%|          | 0/10748 [00:00<?, ?it/s]\u001b[A\n",
      "  3%|▎         | 300/10748 [00:00<00:04, 2362.70it/s]\u001b[A\n",
      "  6%|▌         | 600/10748 [00:00<00:04, 2295.85it/s]\u001b[A\n",
      "  8%|▊         | 900/10748 [00:00<00:04, 2275.65it/s]\u001b[A\n",
      " 11%|█         | 1200/10748 [00:00<00:04, 2279.53it/s]\u001b[A\n",
      " 14%|█▍        | 1500/10748 [00:00<00:04, 2285.30it/s]\u001b[A\n",
      " 17%|█▋        | 1800/10748 [00:00<00:03, 2280.20it/s]\u001b[A\n",
      " 20%|█▉        | 2100/10748 [00:00<00:03, 2277.01it/s]\u001b[A\n",
      " 22%|██▏       | 2400/10748 [00:01<00:03, 2264.10it/s]\u001b[A\n",
      " 25%|██▌       | 2700/10748 [00:01<00:03, 2245.86it/s]\u001b[A\n",
      " 28%|██▊       | 3000/10748 [00:01<00:03, 2251.03it/s]\u001b[A\n",
      " 31%|███       | 3300/10748 [00:01<00:03, 2256.56it/s]\u001b[A\n",
      " 33%|███▎      | 3600/10748 [00:01<00:03, 2268.65it/s]\u001b[A\n",
      " 36%|███▋      | 3900/10748 [00:01<00:03, 2274.36it/s]\u001b[A\n",
      " 39%|███▉      | 4200/10748 [00:01<00:02, 2282.25it/s]\u001b[A\n",
      " 42%|████▏     | 4500/10748 [00:01<00:02, 2287.61it/s]\u001b[A\n",
      " 45%|████▍     | 4800/10748 [00:02<00:02, 2290.23it/s]\u001b[A\n",
      " 47%|████▋     | 5100/10748 [00:02<00:02, 2295.34it/s]\u001b[A\n",
      " 50%|█████     | 5400/10748 [00:02<00:02, 2284.32it/s]\u001b[A\n",
      " 53%|█████▎    | 5700/10748 [00:02<00:02, 2292.79it/s]\u001b[A\n",
      " 56%|█████▌    | 6000/10748 [00:02<00:02, 2292.65it/s]\u001b[A\n",
      " 59%|█████▊    | 6300/10748 [00:02<00:01, 2284.87it/s]\u001b[A\n",
      " 61%|██████▏   | 6600/10748 [00:02<00:01, 2284.27it/s]\u001b[A\n",
      " 64%|██████▍   | 6900/10748 [00:03<00:01, 2294.58it/s]\u001b[A\n",
      " 67%|██████▋   | 7200/10748 [00:03<00:01, 2282.74it/s]\u001b[A\n",
      " 70%|██████▉   | 7500/10748 [00:03<00:01, 2288.78it/s]\u001b[A\n",
      " 73%|███████▎  | 7800/10748 [00:03<00:01, 2278.25it/s]\u001b[A\n",
      " 75%|███████▌  | 8100/10748 [00:03<00:01, 2287.24it/s]\u001b[A\n",
      " 78%|███████▊  | 8400/10748 [00:03<00:01, 2293.81it/s]\u001b[A\n",
      " 81%|████████  | 8700/10748 [00:03<00:00, 2279.12it/s]\u001b[A\n",
      " 84%|████████▎ | 9000/10748 [00:03<00:00, 2279.66it/s]\u001b[A\n",
      " 87%|████████▋ | 9300/10748 [00:04<00:00, 2283.12it/s]\u001b[A\n",
      " 89%|████████▉ | 9600/10748 [00:04<00:00, 2279.73it/s]\u001b[A\n",
      " 92%|█████████▏| 9900/10748 [00:04<00:00, 2288.53it/s]\u001b[A\n",
      " 95%|█████████▍| 10200/10748 [00:04<00:00, 2281.56it/s]\u001b[A\n",
      "100%|██████████| 10748/10748 [00:04<00:00, 2289.18it/s]\n"
     ]
    },
    {
     "name": "stdout",
     "output_type": "stream",
     "text": [
      "epoch [24/100], Loss: 0.0102\n"
     ]
    },
    {
     "name": "stderr",
     "output_type": "stream",
     "text": [
      "\n",
      "  0%|          | 0/10748 [00:00<?, ?it/s]\u001b[A\n",
      "  3%|▎         | 300/10748 [00:00<00:04, 2342.27it/s]\u001b[A\n",
      "  6%|▌         | 600/10748 [00:00<00:04, 2295.90it/s]\u001b[A\n",
      "  8%|▊         | 900/10748 [00:00<00:04, 2301.86it/s]\u001b[A\n",
      " 11%|█         | 1200/10748 [00:00<00:04, 2277.77it/s]\u001b[A\n",
      " 14%|█▍        | 1500/10748 [00:00<00:04, 2291.02it/s]\u001b[A\n",
      " 17%|█▋        | 1800/10748 [00:00<00:03, 2293.96it/s]\u001b[A\n",
      " 20%|█▉        | 2100/10748 [00:00<00:03, 2292.31it/s]\u001b[A\n",
      " 22%|██▏       | 2400/10748 [00:01<00:03, 2291.76it/s]\u001b[A\n",
      " 25%|██▌       | 2700/10748 [00:01<00:03, 2283.25it/s]\u001b[A\n",
      " 28%|██▊       | 3000/10748 [00:01<00:03, 2282.52it/s]\u001b[A\n",
      " 31%|███       | 3300/10748 [00:01<00:03, 2287.16it/s]\u001b[A\n",
      " 33%|███▎      | 3600/10748 [00:01<00:03, 2284.24it/s]\u001b[A\n",
      " 36%|███▋      | 3900/10748 [00:01<00:03, 2282.13it/s]\u001b[A\n",
      " 39%|███▉      | 4200/10748 [00:01<00:02, 2274.32it/s]\u001b[A\n",
      " 42%|████▏     | 4500/10748 [00:01<00:02, 2266.25it/s]\u001b[A\n",
      " 45%|████▍     | 4800/10748 [00:02<00:02, 2272.90it/s]\u001b[A\n",
      " 47%|████▋     | 5100/10748 [00:02<00:02, 2283.62it/s]\u001b[A\n",
      " 50%|█████     | 5400/10748 [00:02<00:02, 2296.68it/s]\u001b[A\n",
      " 53%|█████▎    | 5700/10748 [00:02<00:02, 2290.13it/s]\u001b[A\n",
      " 56%|█████▌    | 6000/10748 [00:02<00:02, 2289.90it/s]\u001b[A\n",
      " 59%|█████▊    | 6300/10748 [00:02<00:01, 2291.99it/s]\u001b[A\n",
      " 61%|██████▏   | 6600/10748 [00:02<00:01, 2280.79it/s]\u001b[A\n",
      " 64%|██████▍   | 6900/10748 [00:03<00:01, 2272.20it/s]\u001b[A\n",
      " 67%|██████▋   | 7200/10748 [00:03<00:01, 2286.70it/s]\u001b[A\n",
      " 70%|██████▉   | 7500/10748 [00:03<00:01, 2290.28it/s]\u001b[A\n",
      " 73%|███████▎  | 7800/10748 [00:03<00:01, 2285.93it/s]\u001b[A\n",
      " 75%|███████▌  | 8100/10748 [00:03<00:01, 2276.32it/s]\u001b[A\n",
      " 78%|███████▊  | 8400/10748 [00:03<00:01, 2280.20it/s]\u001b[A\n",
      " 81%|████████  | 8700/10748 [00:03<00:00, 2286.62it/s]\u001b[A\n",
      " 84%|████████▎ | 9000/10748 [00:03<00:00, 2287.07it/s]\u001b[A\n",
      " 87%|████████▋ | 9300/10748 [00:04<00:00, 2281.57it/s]\u001b[A\n",
      " 89%|████████▉ | 9600/10748 [00:04<00:00, 2283.26it/s]\u001b[A\n",
      " 92%|█████████▏| 9900/10748 [00:04<00:00, 2270.89it/s]\u001b[A\n",
      " 95%|█████████▍| 10200/10748 [00:04<00:00, 2271.71it/s]\u001b[A\n",
      "100%|██████████| 10748/10748 [00:04<00:00, 2292.18it/s]\n"
     ]
    },
    {
     "name": "stdout",
     "output_type": "stream",
     "text": [
      "epoch [25/100], Loss: 0.0087\n"
     ]
    },
    {
     "name": "stderr",
     "output_type": "stream",
     "text": [
      "\n",
      "  0%|          | 0/10748 [00:00<?, ?it/s]\u001b[A\n",
      "  3%|▎         | 300/10748 [00:00<00:04, 2313.27it/s]\u001b[A\n",
      "  6%|▌         | 600/10748 [00:00<00:04, 2295.33it/s]\u001b[A\n",
      "  8%|▊         | 900/10748 [00:00<00:04, 2286.94it/s]\u001b[A\n",
      " 11%|█         | 1200/10748 [00:00<00:04, 2285.08it/s]\u001b[A\n",
      " 14%|█▍        | 1500/10748 [00:00<00:04, 2281.99it/s]\u001b[A\n",
      " 17%|█▋        | 1800/10748 [00:00<00:03, 2277.56it/s]\u001b[A\n",
      " 20%|█▉        | 2100/10748 [00:00<00:03, 2271.38it/s]\u001b[A\n",
      " 22%|██▏       | 2400/10748 [00:01<00:03, 2282.80it/s]\u001b[A\n",
      " 25%|██▌       | 2700/10748 [00:01<00:03, 2294.44it/s]\u001b[A\n",
      " 28%|██▊       | 3000/10748 [00:01<00:03, 2305.08it/s]\u001b[A\n",
      " 31%|███       | 3300/10748 [00:01<00:03, 2283.05it/s]\u001b[A\n",
      " 33%|███▎      | 3600/10748 [00:01<00:03, 2279.20it/s]\u001b[A\n",
      " 36%|███▋      | 3900/10748 [00:01<00:02, 2289.51it/s]\u001b[A\n",
      " 39%|███▉      | 4200/10748 [00:01<00:02, 2286.29it/s]\u001b[A\n",
      " 42%|████▏     | 4500/10748 [00:01<00:02, 2283.79it/s]\u001b[A\n",
      " 45%|████▍     | 4800/10748 [00:02<00:02, 2276.63it/s]\u001b[A\n",
      " 47%|████▋     | 5100/10748 [00:02<00:02, 2268.32it/s]\u001b[A\n",
      " 50%|█████     | 5400/10748 [00:02<00:02, 2274.50it/s]\u001b[A\n",
      " 53%|█████▎    | 5700/10748 [00:02<00:02, 2269.15it/s]\u001b[A\n",
      " 56%|█████▌    | 6000/10748 [00:02<00:02, 2272.09it/s]\u001b[A\n",
      " 59%|█████▊    | 6300/10748 [00:02<00:01, 2285.38it/s]\u001b[A\n",
      " 61%|██████▏   | 6600/10748 [00:02<00:01, 2297.35it/s]\u001b[A\n",
      " 64%|██████▍   | 6900/10748 [00:03<00:01, 2300.53it/s]\u001b[A\n",
      " 67%|██████▋   | 7200/10748 [00:03<00:01, 2276.48it/s]\u001b[A\n",
      " 70%|██████▉   | 7500/10748 [00:03<00:01, 2277.20it/s]\u001b[A\n",
      " 73%|███████▎  | 7800/10748 [00:03<00:01, 2289.46it/s]\u001b[A\n",
      " 75%|███████▌  | 8100/10748 [00:03<00:01, 2287.76it/s]\u001b[A\n",
      " 78%|███████▊  | 8400/10748 [00:03<00:01, 2294.38it/s]\u001b[A\n",
      " 81%|████████  | 8700/10748 [00:03<00:00, 2287.08it/s]\u001b[A\n",
      " 84%|████████▎ | 9000/10748 [00:03<00:00, 2288.03it/s]\u001b[A\n",
      " 87%|████████▋ | 9300/10748 [00:04<00:00, 2294.41it/s]\u001b[A\n",
      " 89%|████████▉ | 9600/10748 [00:04<00:00, 2285.38it/s]\u001b[A\n",
      " 92%|█████████▏| 9900/10748 [00:04<00:00, 2287.34it/s]\u001b[A\n",
      " 95%|█████████▍| 10200/10748 [00:04<00:00, 2285.57it/s]\u001b[A\n",
      "100%|██████████| 10748/10748 [00:04<00:00, 2293.54it/s]\n"
     ]
    },
    {
     "name": "stdout",
     "output_type": "stream",
     "text": [
      "epoch [26/100], Loss: 0.0072\n"
     ]
    },
    {
     "name": "stderr",
     "output_type": "stream",
     "text": [
      "\n",
      "  0%|          | 0/10748 [00:00<?, ?it/s]\u001b[A\n",
      "  3%|▎         | 300/10748 [00:00<00:04, 2347.22it/s]\u001b[A\n",
      "  6%|▌         | 600/10748 [00:00<00:04, 2298.72it/s]\u001b[A\n",
      "  8%|▊         | 900/10748 [00:00<00:04, 2284.25it/s]\u001b[A\n",
      " 11%|█         | 1200/10748 [00:00<00:04, 2282.51it/s]\u001b[A\n",
      " 14%|█▍        | 1500/10748 [00:00<00:04, 2287.82it/s]\u001b[A\n",
      " 17%|█▋        | 1800/10748 [00:00<00:03, 2284.15it/s]\u001b[A\n",
      " 20%|█▉        | 2100/10748 [00:00<00:03, 2289.07it/s]\u001b[A\n",
      " 22%|██▏       | 2400/10748 [00:01<00:03, 2286.67it/s]\u001b[A\n",
      " 25%|██▌       | 2700/10748 [00:01<00:03, 2292.80it/s]\u001b[A\n",
      " 28%|██▊       | 3000/10748 [00:01<00:03, 2298.01it/s]\u001b[A\n",
      " 31%|███       | 3300/10748 [00:01<00:03, 2285.69it/s]\u001b[A\n",
      " 33%|███▎      | 3600/10748 [00:01<00:03, 2262.43it/s]\u001b[A\n",
      " 36%|███▋      | 3900/10748 [00:01<00:03, 2269.99it/s]\u001b[A\n",
      " 39%|███▉      | 4200/10748 [00:01<00:02, 2270.95it/s]\u001b[A\n",
      " 42%|████▏     | 4500/10748 [00:01<00:02, 2274.63it/s]\u001b[A\n",
      " 45%|████▍     | 4800/10748 [00:02<00:02, 2286.57it/s]\u001b[A\n",
      " 47%|████▋     | 5100/10748 [00:02<00:02, 2279.52it/s]\u001b[A\n",
      " 50%|█████     | 5400/10748 [00:02<00:02, 2272.22it/s]\u001b[A\n",
      " 53%|█████▎    | 5700/10748 [00:02<00:02, 2280.35it/s]\u001b[A\n",
      " 56%|█████▌    | 6000/10748 [00:02<00:02, 2284.52it/s]\u001b[A\n",
      " 59%|█████▊    | 6300/10748 [00:02<00:01, 2279.54it/s]\u001b[A\n",
      " 61%|██████▏   | 6600/10748 [00:02<00:01, 2274.21it/s]\u001b[A\n",
      " 64%|██████▍   | 6900/10748 [00:03<00:01, 2271.71it/s]\u001b[A\n",
      " 67%|██████▋   | 7200/10748 [00:03<00:01, 2283.06it/s]\u001b[A\n",
      " 70%|██████▉   | 7500/10748 [00:03<00:01, 2284.36it/s]\u001b[A\n",
      " 73%|███████▎  | 7800/10748 [00:03<00:01, 2295.67it/s]\u001b[A\n",
      " 75%|███████▌  | 8100/10748 [00:03<00:01, 2291.73it/s]\u001b[A\n",
      " 78%|███████▊  | 8400/10748 [00:03<00:01, 2280.39it/s]\u001b[A\n",
      " 81%|████████  | 8700/10748 [00:03<00:00, 2284.45it/s]\u001b[A\n",
      " 84%|████████▎ | 9000/10748 [00:03<00:00, 2272.67it/s]\u001b[A\n",
      " 87%|████████▋ | 9300/10748 [00:04<00:00, 2266.62it/s]\u001b[A\n",
      " 89%|████████▉ | 9600/10748 [00:04<00:00, 2278.64it/s]\u001b[A\n",
      " 92%|█████████▏| 9900/10748 [00:04<00:00, 2268.12it/s]\u001b[A\n",
      " 95%|█████████▍| 10200/10748 [00:04<00:00, 2267.30it/s]\u001b[A\n",
      "100%|██████████| 10748/10748 [00:04<00:00, 2288.13it/s]\n"
     ]
    },
    {
     "name": "stdout",
     "output_type": "stream",
     "text": [
      "epoch [27/100], Loss: 0.0062\n"
     ]
    },
    {
     "name": "stderr",
     "output_type": "stream",
     "text": [
      "\n",
      "  0%|          | 0/10748 [00:00<?, ?it/s]\u001b[A\n",
      "  3%|▎         | 300/10748 [00:00<00:04, 2347.93it/s]\u001b[A\n",
      "  6%|▌         | 600/10748 [00:00<00:04, 2321.87it/s]\u001b[A\n",
      "  8%|▊         | 900/10748 [00:00<00:04, 2304.01it/s]\u001b[A\n",
      " 11%|█         | 1200/10748 [00:00<00:04, 2296.68it/s]\u001b[A\n",
      " 14%|█▍        | 1500/10748 [00:00<00:04, 2297.91it/s]\u001b[A\n",
      " 17%|█▋        | 1800/10748 [00:00<00:03, 2291.76it/s]\u001b[A\n",
      " 20%|█▉        | 2100/10748 [00:00<00:03, 2292.93it/s]\u001b[A\n",
      " 22%|██▏       | 2400/10748 [00:01<00:03, 2287.62it/s]\u001b[A\n",
      " 25%|██▌       | 2700/10748 [00:01<00:03, 2288.72it/s]\u001b[A\n",
      " 28%|██▊       | 3000/10748 [00:01<00:03, 2277.47it/s]\u001b[A\n",
      " 31%|███       | 3300/10748 [00:01<00:03, 2271.71it/s]\u001b[A\n",
      " 33%|███▎      | 3600/10748 [00:01<00:03, 2272.98it/s]\u001b[A\n",
      " 36%|███▋      | 3900/10748 [00:01<00:02, 2289.74it/s]\u001b[A\n",
      " 39%|███▉      | 4200/10748 [00:01<00:02, 2285.45it/s]\u001b[A\n",
      " 42%|████▏     | 4500/10748 [00:01<00:02, 2278.61it/s]\u001b[A\n",
      " 45%|████▍     | 4800/10748 [00:02<00:02, 2289.09it/s]\u001b[A\n",
      " 47%|████▋     | 5100/10748 [00:02<00:02, 2279.29it/s]\u001b[A\n",
      " 50%|█████     | 5400/10748 [00:02<00:02, 2291.21it/s]\u001b[A\n",
      " 53%|█████▎    | 5700/10748 [00:02<00:02, 2285.31it/s]\u001b[A\n",
      " 56%|█████▌    | 6000/10748 [00:02<00:02, 2280.72it/s]\u001b[A\n",
      " 59%|█████▊    | 6300/10748 [00:02<00:01, 2278.67it/s]\u001b[A\n",
      " 61%|██████▏   | 6600/10748 [00:02<00:01, 2283.32it/s]\u001b[A\n",
      " 64%|██████▍   | 6900/10748 [00:03<00:01, 2278.40it/s]\u001b[A\n",
      " 67%|██████▋   | 7200/10748 [00:03<00:01, 2276.36it/s]\u001b[A\n",
      " 70%|██████▉   | 7500/10748 [00:03<00:01, 2274.53it/s]\u001b[A\n",
      " 73%|███████▎  | 7800/10748 [00:03<00:01, 2279.57it/s]\u001b[A\n",
      " 75%|███████▌  | 8100/10748 [00:03<00:01, 2273.14it/s]\u001b[A\n",
      " 78%|███████▊  | 8400/10748 [00:03<00:01, 2276.74it/s]\u001b[A\n",
      " 81%|████████  | 8700/10748 [00:03<00:00, 2285.74it/s]\u001b[A\n",
      " 84%|████████▎ | 9000/10748 [00:03<00:00, 2285.06it/s]\u001b[A\n",
      " 87%|████████▋ | 9300/10748 [00:04<00:00, 2293.27it/s]\u001b[A\n",
      " 89%|████████▉ | 9600/10748 [00:04<00:00, 2300.27it/s]\u001b[A\n",
      " 92%|█████████▏| 9900/10748 [00:04<00:00, 2305.30it/s]\u001b[A\n",
      " 95%|█████████▍| 10200/10748 [00:04<00:00, 2298.21it/s]\u001b[A\n",
      "100%|██████████| 10748/10748 [00:04<00:00, 2294.96it/s]\n"
     ]
    },
    {
     "name": "stdout",
     "output_type": "stream",
     "text": [
      "epoch [28/100], Loss: 0.0059\n"
     ]
    },
    {
     "name": "stderr",
     "output_type": "stream",
     "text": [
      "\n",
      "  0%|          | 0/10748 [00:00<?, ?it/s]\u001b[A\n",
      "  3%|▎         | 300/10748 [00:00<00:04, 2302.69it/s]\u001b[A\n",
      "  6%|▌         | 600/10748 [00:00<00:04, 2253.13it/s]\u001b[A\n",
      "  8%|▊         | 900/10748 [00:00<00:04, 2267.22it/s]\u001b[A\n",
      " 11%|█         | 1200/10748 [00:00<00:04, 2281.14it/s]\u001b[A\n",
      " 14%|█▍        | 1500/10748 [00:00<00:04, 2287.14it/s]\u001b[A\n",
      " 17%|█▋        | 1800/10748 [00:00<00:03, 2293.27it/s]\u001b[A\n",
      " 20%|█▉        | 2100/10748 [00:00<00:03, 2283.39it/s]\u001b[A\n",
      " 22%|██▏       | 2400/10748 [00:01<00:03, 2278.92it/s]\u001b[A\n",
      " 25%|██▌       | 2700/10748 [00:01<00:03, 2286.67it/s]\u001b[A\n",
      " 28%|██▊       | 3000/10748 [00:01<00:03, 2275.14it/s]\u001b[A\n",
      " 31%|███       | 3300/10748 [00:01<00:03, 2272.72it/s]\u001b[A\n",
      " 33%|███▎      | 3600/10748 [00:01<00:03, 2264.90it/s]\u001b[A\n",
      " 36%|███▋      | 3900/10748 [00:01<00:03, 2258.18it/s]\u001b[A\n",
      " 39%|███▉      | 4200/10748 [00:01<00:02, 2266.56it/s]\u001b[A\n",
      " 42%|████▏     | 4500/10748 [00:01<00:02, 2278.82it/s]\u001b[A\n",
      " 45%|████▍     | 4800/10748 [00:02<00:02, 2270.76it/s]\u001b[A\n",
      " 47%|████▋     | 5100/10748 [00:02<00:02, 2275.53it/s]\u001b[A\n",
      " 50%|█████     | 5400/10748 [00:02<00:02, 2275.86it/s]\u001b[A\n",
      " 53%|█████▎    | 5700/10748 [00:02<00:02, 2291.53it/s]\u001b[A\n",
      " 56%|█████▌    | 6000/10748 [00:02<00:02, 2292.33it/s]\u001b[A\n",
      " 59%|█████▊    | 6300/10748 [00:02<00:01, 2286.70it/s]\u001b[A\n",
      " 61%|██████▏   | 6600/10748 [00:02<00:01, 2291.19it/s]\u001b[A\n",
      " 64%|██████▍   | 6900/10748 [00:03<00:01, 2278.86it/s]\u001b[A\n",
      " 67%|██████▋   | 7200/10748 [00:03<00:01, 2285.65it/s]\u001b[A\n",
      " 70%|██████▉   | 7500/10748 [00:03<00:01, 2283.99it/s]\u001b[A\n",
      " 73%|███████▎  | 7800/10748 [00:03<00:01, 2286.30it/s]\u001b[A\n",
      " 75%|███████▌  | 8100/10748 [00:03<00:01, 2290.20it/s]\u001b[A\n",
      " 78%|███████▊  | 8400/10748 [00:03<00:01, 2299.44it/s]\u001b[A\n",
      " 81%|████████  | 8700/10748 [00:03<00:00, 2285.41it/s]\u001b[A\n",
      " 84%|████████▎ | 9000/10748 [00:03<00:00, 2285.53it/s]\u001b[A\n",
      " 87%|████████▋ | 9300/10748 [00:04<00:00, 2264.64it/s]\u001b[A\n",
      " 89%|████████▉ | 9600/10748 [00:04<00:00, 2270.62it/s]\u001b[A\n",
      " 92%|█████████▏| 9900/10748 [00:04<00:00, 2272.65it/s]\u001b[A\n",
      " 95%|█████████▍| 10200/10748 [00:04<00:00, 2278.59it/s]\u001b[A\n",
      "100%|██████████| 10748/10748 [00:04<00:00, 2291.37it/s]\n"
     ]
    },
    {
     "name": "stdout",
     "output_type": "stream",
     "text": [
      "epoch [29/100], Loss: 0.0052\n"
     ]
    },
    {
     "name": "stderr",
     "output_type": "stream",
     "text": [
      "\n",
      "  0%|          | 0/10748 [00:00<?, ?it/s]\u001b[A\n",
      "  3%|▎         | 300/10748 [00:00<00:04, 2354.58it/s]\u001b[A\n",
      "  6%|▌         | 600/10748 [00:00<00:04, 2309.34it/s]\u001b[A\n",
      "  8%|▊         | 900/10748 [00:00<00:04, 2306.58it/s]\u001b[A\n",
      " 11%|█         | 1200/10748 [00:00<00:04, 2296.23it/s]\u001b[A\n",
      " 14%|█▍        | 1500/10748 [00:00<00:04, 2294.47it/s]\u001b[A\n",
      " 17%|█▋        | 1800/10748 [00:00<00:03, 2290.71it/s]\u001b[A\n",
      " 20%|█▉        | 2100/10748 [00:00<00:03, 2285.53it/s]\u001b[A\n",
      " 22%|██▏       | 2400/10748 [00:01<00:03, 2290.55it/s]\u001b[A\n",
      " 25%|██▌       | 2700/10748 [00:01<00:03, 2262.55it/s]\u001b[A\n",
      " 28%|██▊       | 3000/10748 [00:01<00:03, 2280.11it/s]\u001b[A\n",
      " 31%|███       | 3300/10748 [00:01<00:03, 2263.66it/s]\u001b[A\n",
      " 33%|███▎      | 3600/10748 [00:01<00:03, 2277.32it/s]\u001b[A\n",
      " 36%|███▋      | 3900/10748 [00:01<00:02, 2284.02it/s]\u001b[A\n",
      " 39%|███▉      | 4200/10748 [00:01<00:02, 2281.79it/s]\u001b[A\n",
      " 42%|████▏     | 4500/10748 [00:01<00:02, 2281.11it/s]\u001b[A\n",
      " 45%|████▍     | 4800/10748 [00:02<00:02, 2275.07it/s]\u001b[A\n",
      " 47%|████▋     | 5100/10748 [00:02<00:02, 2264.53it/s]\u001b[A\n",
      " 50%|█████     | 5400/10748 [00:02<00:02, 2271.53it/s]\u001b[A\n",
      " 53%|█████▎    | 5700/10748 [00:02<00:02, 2285.16it/s]\u001b[A\n",
      " 56%|█████▌    | 6000/10748 [00:02<00:02, 2280.12it/s]\u001b[A\n",
      " 59%|█████▊    | 6300/10748 [00:02<00:01, 2263.96it/s]\u001b[A\n",
      " 61%|██████▏   | 6600/10748 [00:02<00:01, 2253.58it/s]\u001b[A\n",
      " 64%|██████▍   | 6900/10748 [00:03<00:01, 2264.74it/s]\u001b[A\n",
      " 67%|██████▋   | 7200/10748 [00:03<00:01, 2270.53it/s]\u001b[A\n",
      " 70%|██████▉   | 7500/10748 [00:03<00:01, 2265.46it/s]\u001b[A\n",
      " 73%|███████▎  | 7800/10748 [00:03<00:01, 2270.11it/s]\u001b[A\n",
      " 75%|███████▌  | 8100/10748 [00:03<00:01, 2283.74it/s]\u001b[A\n",
      " 78%|███████▊  | 8400/10748 [00:03<00:01, 2291.08it/s]\u001b[A\n",
      " 81%|████████  | 8700/10748 [00:03<00:00, 2286.13it/s]\u001b[A\n",
      " 84%|████████▎ | 9000/10748 [00:03<00:00, 2295.01it/s]\u001b[A\n",
      " 87%|████████▋ | 9300/10748 [00:04<00:00, 2289.12it/s]\u001b[A\n",
      " 89%|████████▉ | 9600/10748 [00:04<00:00, 2283.35it/s]\u001b[A\n",
      " 92%|█████████▏| 9900/10748 [00:04<00:00, 2285.33it/s]\u001b[A\n",
      " 95%|█████████▍| 10200/10748 [00:04<00:00, 2295.11it/s]\u001b[A\n",
      "100%|██████████| 10748/10748 [00:04<00:00, 2290.14it/s]\n"
     ]
    },
    {
     "name": "stdout",
     "output_type": "stream",
     "text": [
      "epoch [30/100], Loss: 0.0046\n"
     ]
    },
    {
     "name": "stderr",
     "output_type": "stream",
     "text": [
      "\n",
      "  0%|          | 0/10748 [00:00<?, ?it/s]\u001b[A\n",
      "  3%|▎         | 300/10748 [00:00<00:04, 2324.60it/s]\u001b[A\n",
      "  6%|▌         | 600/10748 [00:00<00:04, 2246.89it/s]\u001b[A\n",
      "  8%|▊         | 900/10748 [00:00<00:04, 2253.67it/s]\u001b[A\n",
      " 11%|█         | 1200/10748 [00:00<00:04, 2247.08it/s]\u001b[A\n",
      " 14%|█▍        | 1500/10748 [00:00<00:04, 2266.88it/s]\u001b[A\n",
      " 17%|█▋        | 1800/10748 [00:00<00:03, 2280.75it/s]\u001b[A\n",
      " 20%|█▉        | 2100/10748 [00:00<00:03, 2283.20it/s]\u001b[A\n",
      " 22%|██▏       | 2400/10748 [00:01<00:03, 2288.98it/s]\u001b[A\n",
      " 25%|██▌       | 2700/10748 [00:01<00:03, 2292.15it/s]\u001b[A\n",
      " 28%|██▊       | 3000/10748 [00:01<00:03, 2285.55it/s]\u001b[A\n",
      " 31%|███       | 3300/10748 [00:01<00:03, 2285.11it/s]\u001b[A\n",
      " 33%|███▎      | 3600/10748 [00:01<00:03, 2274.81it/s]\u001b[A\n",
      " 36%|███▋      | 3900/10748 [00:01<00:03, 2272.45it/s]\u001b[A\n",
      " 39%|███▉      | 4200/10748 [00:01<00:02, 2284.47it/s]\u001b[A\n",
      " 42%|████▏     | 4500/10748 [00:01<00:02, 2287.45it/s]\u001b[A\n",
      " 45%|████▍     | 4800/10748 [00:02<00:02, 2272.42it/s]\u001b[A\n",
      " 47%|████▋     | 5100/10748 [00:02<00:02, 2264.85it/s]\u001b[A\n",
      " 50%|█████     | 5400/10748 [00:02<00:02, 2266.26it/s]\u001b[A\n",
      " 53%|█████▎    | 5700/10748 [00:02<00:02, 2277.96it/s]\u001b[A\n",
      " 56%|█████▌    | 6000/10748 [00:02<00:02, 2275.62it/s]\u001b[A\n",
      " 59%|█████▊    | 6300/10748 [00:02<00:01, 2292.67it/s]\u001b[A\n",
      " 61%|██████▏   | 6600/10748 [00:02<00:01, 2295.11it/s]\u001b[A\n",
      " 64%|██████▍   | 6900/10748 [00:03<00:01, 2283.62it/s]\u001b[A\n",
      " 67%|██████▋   | 7200/10748 [00:03<00:01, 2285.04it/s]\u001b[A\n",
      " 70%|██████▉   | 7500/10748 [00:03<00:01, 2276.42it/s]\u001b[A\n",
      " 73%|███████▎  | 7800/10748 [00:03<00:01, 2273.83it/s]\u001b[A\n",
      " 75%|███████▌  | 8100/10748 [00:03<00:01, 2258.07it/s]\u001b[A\n",
      " 78%|███████▊  | 8400/10748 [00:03<00:01, 2261.81it/s]\u001b[A\n",
      " 81%|████████  | 8700/10748 [00:03<00:00, 2263.97it/s]\u001b[A\n",
      " 84%|████████▎ | 9000/10748 [00:03<00:00, 2274.49it/s]\u001b[A\n",
      " 87%|████████▋ | 9300/10748 [00:04<00:00, 2283.12it/s]\u001b[A\n",
      " 89%|████████▉ | 9600/10748 [00:04<00:00, 2277.43it/s]\u001b[A\n",
      " 92%|█████████▏| 9900/10748 [00:04<00:00, 2284.30it/s]\u001b[A\n",
      " 95%|█████████▍| 10200/10748 [00:04<00:00, 2263.88it/s]\u001b[A\n",
      "100%|██████████| 10748/10748 [00:04<00:00, 2285.13it/s]\n"
     ]
    },
    {
     "name": "stdout",
     "output_type": "stream",
     "text": [
      "epoch [31/100], Loss: 0.0039\n"
     ]
    },
    {
     "name": "stderr",
     "output_type": "stream",
     "text": [
      "\n",
      "  0%|          | 0/10748 [00:00<?, ?it/s]\u001b[A\n",
      "  3%|▎         | 300/10748 [00:00<00:04, 2366.92it/s]\u001b[A\n",
      "  6%|▌         | 600/10748 [00:00<00:04, 2294.20it/s]\u001b[A\n",
      "  8%|▊         | 900/10748 [00:00<00:04, 2274.14it/s]\u001b[A\n",
      " 11%|█         | 1200/10748 [00:00<00:04, 2287.34it/s]\u001b[A\n",
      " 14%|█▍        | 1500/10748 [00:00<00:04, 2284.08it/s]\u001b[A\n",
      " 17%|█▋        | 1800/10748 [00:00<00:03, 2290.78it/s]\u001b[A\n",
      " 20%|█▉        | 2100/10748 [00:00<00:03, 2292.29it/s]\u001b[A\n",
      " 22%|██▏       | 2400/10748 [00:01<00:03, 2283.65it/s]\u001b[A\n",
      " 25%|██▌       | 2700/10748 [00:01<00:03, 2276.47it/s]\u001b[A\n",
      " 28%|██▊       | 3000/10748 [00:01<00:03, 2274.86it/s]\u001b[A\n",
      " 31%|███       | 3300/10748 [00:01<00:03, 2274.08it/s]\u001b[A\n",
      " 33%|███▎      | 3600/10748 [00:01<00:03, 2274.32it/s]\u001b[A\n",
      " 36%|███▋      | 3900/10748 [00:01<00:03, 2272.21it/s]\u001b[A\n",
      " 39%|███▉      | 4200/10748 [00:01<00:02, 2279.99it/s]\u001b[A\n",
      " 42%|████▏     | 4500/10748 [00:01<00:02, 2271.51it/s]\u001b[A\n",
      " 45%|████▍     | 4800/10748 [00:02<00:02, 2287.35it/s]\u001b[A\n",
      " 47%|████▋     | 5100/10748 [00:02<00:02, 2281.54it/s]\u001b[A\n",
      " 50%|█████     | 5400/10748 [00:02<00:02, 2296.64it/s]\u001b[A\n",
      " 53%|█████▎    | 5700/10748 [00:02<00:02, 2282.17it/s]\u001b[A\n",
      " 56%|█████▌    | 6000/10748 [00:02<00:02, 2284.57it/s]\u001b[A\n",
      " 59%|█████▊    | 6300/10748 [00:02<00:01, 2291.28it/s]\u001b[A\n",
      " 61%|██████▏   | 6600/10748 [00:02<00:01, 2288.25it/s]\u001b[A\n",
      " 64%|██████▍   | 6900/10748 [00:03<00:01, 2283.05it/s]\u001b[A\n",
      " 67%|██████▋   | 7200/10748 [00:03<00:01, 2293.14it/s]\u001b[A\n",
      " 70%|██████▉   | 7500/10748 [00:03<00:01, 2284.63it/s]\u001b[A\n",
      " 73%|███████▎  | 7800/10748 [00:03<00:01, 2279.28it/s]\u001b[A\n",
      " 75%|███████▌  | 8100/10748 [00:03<00:01, 2275.55it/s]\u001b[A\n",
      " 78%|███████▊  | 8400/10748 [00:03<00:01, 2277.92it/s]\u001b[A\n",
      " 81%|████████  | 8700/10748 [00:03<00:00, 2276.09it/s]\u001b[A\n",
      " 84%|████████▎ | 9000/10748 [00:03<00:00, 2267.89it/s]\u001b[A\n",
      " 87%|████████▋ | 9300/10748 [00:04<00:00, 2275.58it/s]\u001b[A\n",
      " 89%|████████▉ | 9600/10748 [00:04<00:00, 2280.13it/s]\u001b[A\n",
      " 92%|█████████▏| 9900/10748 [00:04<00:00, 2276.14it/s]\u001b[A\n",
      " 95%|█████████▍| 10200/10748 [00:04<00:00, 2263.80it/s]\u001b[A\n",
      "100%|██████████| 10748/10748 [00:04<00:00, 2289.98it/s]\n"
     ]
    },
    {
     "name": "stdout",
     "output_type": "stream",
     "text": [
      "epoch [32/100], Loss: 0.0037\n"
     ]
    },
    {
     "name": "stderr",
     "output_type": "stream",
     "text": [
      "\n",
      "  0%|          | 0/10748 [00:00<?, ?it/s]\u001b[A\n",
      "  3%|▎         | 300/10748 [00:00<00:04, 2363.04it/s]\u001b[A\n",
      "  6%|▌         | 600/10748 [00:00<00:04, 2293.43it/s]\u001b[A\n",
      "  8%|▊         | 900/10748 [00:00<00:04, 2284.74it/s]\u001b[A\n",
      " 11%|█         | 1200/10748 [00:00<00:04, 2268.01it/s]\u001b[A\n",
      " 14%|█▍        | 1500/10748 [00:00<00:04, 2248.30it/s]\u001b[A\n",
      " 17%|█▋        | 1800/10748 [00:00<00:03, 2253.76it/s]\u001b[A\n",
      " 20%|█▉        | 2100/10748 [00:00<00:03, 2259.12it/s]\u001b[A\n",
      " 22%|██▏       | 2400/10748 [00:01<00:03, 2274.65it/s]\u001b[A\n",
      " 25%|██▌       | 2700/10748 [00:01<00:03, 2285.75it/s]\u001b[A\n",
      " 28%|██▊       | 3000/10748 [00:01<00:03, 2285.88it/s]\u001b[A\n",
      " 31%|███       | 3300/10748 [00:01<00:03, 2289.59it/s]\u001b[A\n",
      " 33%|███▎      | 3600/10748 [00:01<00:03, 2284.24it/s]\u001b[A\n",
      " 36%|███▋      | 3900/10748 [00:01<00:02, 2284.50it/s]\u001b[A\n",
      " 39%|███▉      | 4200/10748 [00:01<00:02, 2276.50it/s]\u001b[A\n",
      " 42%|████▏     | 4500/10748 [00:01<00:02, 2254.52it/s]\u001b[A\n",
      " 45%|████▍     | 4800/10748 [00:02<00:02, 2263.42it/s]\u001b[A\n",
      " 47%|████▋     | 5100/10748 [00:02<00:02, 2272.03it/s]\u001b[A\n",
      " 50%|█████     | 5400/10748 [00:02<00:02, 2283.91it/s]\u001b[A\n",
      " 53%|█████▎    | 5700/10748 [00:02<00:02, 2262.29it/s]\u001b[A\n",
      " 56%|█████▌    | 6000/10748 [00:02<00:02, 2263.05it/s]\u001b[A\n",
      " 59%|█████▊    | 6300/10748 [00:02<00:01, 2272.93it/s]\u001b[A\n",
      " 61%|██████▏   | 6600/10748 [00:02<00:01, 2277.81it/s]\u001b[A\n",
      " 64%|██████▍   | 6900/10748 [00:03<00:01, 2288.28it/s]\u001b[A\n",
      " 67%|██████▋   | 7200/10748 [00:03<00:01, 2287.15it/s]\u001b[A\n",
      " 70%|██████▉   | 7500/10748 [00:03<00:01, 2283.32it/s]\u001b[A\n",
      " 73%|███████▎  | 7800/10748 [00:03<00:01, 2274.84it/s]\u001b[A\n",
      " 75%|███████▌  | 8100/10748 [00:03<00:01, 2279.62it/s]\u001b[A\n",
      " 78%|███████▊  | 8400/10748 [00:03<00:01, 2277.07it/s]\u001b[A\n",
      " 81%|████████  | 8700/10748 [00:03<00:00, 2280.40it/s]\u001b[A\n",
      " 84%|████████▎ | 9000/10748 [00:03<00:00, 2286.72it/s]\u001b[A\n",
      " 87%|████████▋ | 9300/10748 [00:04<00:00, 2291.46it/s]\u001b[A\n",
      " 89%|████████▉ | 9600/10748 [00:04<00:00, 2289.39it/s]\u001b[A\n",
      " 92%|█████████▏| 9900/10748 [00:04<00:00, 2284.46it/s]\u001b[A\n",
      " 95%|█████████▍| 10200/10748 [00:04<00:00, 2269.01it/s]\u001b[A\n",
      "100%|██████████| 10748/10748 [00:04<00:00, 2285.40it/s]\n"
     ]
    },
    {
     "name": "stdout",
     "output_type": "stream",
     "text": [
      "epoch [33/100], Loss: 0.0035\n"
     ]
    },
    {
     "name": "stderr",
     "output_type": "stream",
     "text": [
      "\n",
      "  0%|          | 0/10748 [00:00<?, ?it/s]\u001b[A\n",
      "  3%|▎         | 300/10748 [00:00<00:04, 2328.97it/s]\u001b[A\n",
      "  6%|▌         | 600/10748 [00:00<00:04, 2277.60it/s]\u001b[A\n",
      "  8%|▊         | 900/10748 [00:00<00:04, 2296.35it/s]\u001b[A\n",
      " 11%|█         | 1200/10748 [00:00<00:04, 2300.28it/s]\u001b[A\n",
      " 14%|█▍        | 1500/10748 [00:00<00:04, 2300.82it/s]\u001b[A\n",
      " 17%|█▋        | 1800/10748 [00:00<00:03, 2264.71it/s]\u001b[A\n",
      " 20%|█▉        | 2100/10748 [00:00<00:03, 2260.83it/s]\u001b[A\n",
      " 22%|██▏       | 2400/10748 [00:01<00:03, 2274.67it/s]\u001b[A\n",
      " 25%|██▌       | 2700/10748 [00:01<00:03, 2286.73it/s]\u001b[A\n",
      " 28%|██▊       | 3000/10748 [00:01<00:03, 2275.28it/s]\u001b[A\n",
      " 31%|███       | 3300/10748 [00:01<00:03, 2285.52it/s]\u001b[A\n",
      " 33%|███▎      | 3600/10748 [00:01<00:03, 2285.06it/s]\u001b[A\n",
      " 36%|███▋      | 3900/10748 [00:01<00:02, 2283.89it/s]\u001b[A\n",
      " 39%|███▉      | 4200/10748 [00:01<00:02, 2271.30it/s]\u001b[A\n",
      " 42%|████▏     | 4500/10748 [00:01<00:02, 2284.84it/s]\u001b[A\n",
      " 45%|████▍     | 4800/10748 [00:02<00:02, 2284.14it/s]\u001b[A\n",
      " 47%|████▋     | 5100/10748 [00:02<00:02, 2280.05it/s]\u001b[A\n",
      " 50%|█████     | 5400/10748 [00:02<00:02, 2284.94it/s]\u001b[A\n",
      " 53%|█████▎    | 5700/10748 [00:02<00:02, 2280.16it/s]\u001b[A\n",
      " 56%|█████▌    | 6000/10748 [00:02<00:02, 2269.85it/s]\u001b[A\n",
      " 59%|█████▊    | 6300/10748 [00:02<00:01, 2250.10it/s]\u001b[A\n",
      " 61%|██████▏   | 6600/10748 [00:02<00:01, 2252.57it/s]\u001b[A\n",
      " 64%|██████▍   | 6900/10748 [00:03<00:01, 2258.11it/s]\u001b[A\n",
      " 67%|██████▋   | 7200/10748 [00:03<00:01, 2260.51it/s]\u001b[A\n",
      " 70%|██████▉   | 7500/10748 [00:03<00:01, 2263.70it/s]\u001b[A\n",
      " 73%|███████▎  | 7800/10748 [00:03<00:01, 2273.85it/s]\u001b[A\n",
      " 75%|███████▌  | 8100/10748 [00:03<00:01, 2272.71it/s]\u001b[A\n",
      " 78%|███████▊  | 8400/10748 [00:03<00:01, 2278.88it/s]\u001b[A\n",
      " 81%|████████  | 8700/10748 [00:03<00:00, 2269.55it/s]\u001b[A\n",
      " 84%|████████▎ | 9000/10748 [00:03<00:00, 2247.55it/s]\u001b[A\n",
      " 87%|████████▋ | 9300/10748 [00:04<00:00, 2256.23it/s]\u001b[A\n",
      " 89%|████████▉ | 9600/10748 [00:04<00:00, 2253.92it/s]\u001b[A\n",
      " 92%|█████████▏| 9900/10748 [00:04<00:00, 2256.49it/s]\u001b[A\n",
      " 95%|█████████▍| 10200/10748 [00:04<00:00, 2267.95it/s]\u001b[A\n",
      "100%|██████████| 10748/10748 [00:04<00:00, 2282.82it/s]\n"
     ]
    },
    {
     "name": "stdout",
     "output_type": "stream",
     "text": [
      "epoch [34/100], Loss: 0.0036\n"
     ]
    },
    {
     "name": "stderr",
     "output_type": "stream",
     "text": [
      "\n",
      "  0%|          | 0/10748 [00:00<?, ?it/s]\u001b[A\n",
      "  3%|▎         | 300/10748 [00:00<00:04, 2367.47it/s]\u001b[A\n",
      "  6%|▌         | 600/10748 [00:00<00:04, 2307.52it/s]\u001b[A\n",
      "  8%|▊         | 900/10748 [00:00<00:04, 2290.33it/s]\u001b[A\n",
      " 11%|█         | 1200/10748 [00:00<00:04, 2243.20it/s]\u001b[A\n",
      " 14%|█▍        | 1500/10748 [00:00<00:04, 2249.15it/s]\u001b[A\n",
      " 17%|█▋        | 1800/10748 [00:00<00:03, 2271.39it/s]\u001b[A\n",
      " 20%|█▉        | 2100/10748 [00:00<00:03, 2266.32it/s]\u001b[A\n",
      " 22%|██▏       | 2400/10748 [00:01<00:03, 2257.06it/s]\u001b[A\n",
      " 25%|██▌       | 2700/10748 [00:01<00:03, 2272.10it/s]\u001b[A\n",
      " 28%|██▊       | 3000/10748 [00:01<00:03, 2273.13it/s]\u001b[A\n",
      " 31%|███       | 3300/10748 [00:01<00:03, 2277.47it/s]\u001b[A\n",
      " 33%|███▎      | 3600/10748 [00:01<00:03, 2276.75it/s]\u001b[A\n",
      " 36%|███▋      | 3900/10748 [00:01<00:03, 2272.98it/s]\u001b[A\n",
      " 39%|███▉      | 4200/10748 [00:01<00:02, 2277.97it/s]\u001b[A\n",
      " 42%|████▏     | 4500/10748 [00:01<00:02, 2290.55it/s]\u001b[A\n",
      " 45%|████▍     | 4800/10748 [00:02<00:02, 2274.94it/s]\u001b[A\n",
      " 47%|████▋     | 5100/10748 [00:02<00:02, 2261.39it/s]\u001b[A\n",
      " 50%|█████     | 5400/10748 [00:02<00:02, 2264.49it/s]\u001b[A\n",
      " 53%|█████▎    | 5700/10748 [00:02<00:02, 2250.87it/s]\u001b[A\n",
      " 56%|█████▌    | 6000/10748 [00:02<00:02, 2247.60it/s]\u001b[A\n",
      " 59%|█████▊    | 6300/10748 [00:02<00:01, 2250.91it/s]\u001b[A\n",
      " 61%|██████▏   | 6600/10748 [00:02<00:01, 2240.88it/s]\u001b[A\n",
      " 64%|██████▍   | 6900/10748 [00:03<00:01, 2250.36it/s]\u001b[A\n",
      " 67%|██████▋   | 7200/10748 [00:03<00:01, 2259.69it/s]\u001b[A\n",
      " 70%|██████▉   | 7500/10748 [00:03<00:01, 2269.45it/s]\u001b[A\n",
      " 73%|███████▎  | 7800/10748 [00:03<00:01, 2279.42it/s]\u001b[A\n",
      " 75%|███████▌  | 8100/10748 [00:03<00:01, 2282.53it/s]\u001b[A\n",
      " 78%|███████▊  | 8400/10748 [00:03<00:01, 2285.41it/s]\u001b[A\n",
      " 81%|████████  | 8700/10748 [00:03<00:00, 2296.76it/s]\u001b[A\n",
      " 84%|████████▎ | 9000/10748 [00:03<00:00, 2295.21it/s]\u001b[A\n",
      " 87%|████████▋ | 9300/10748 [00:04<00:00, 2299.67it/s]\u001b[A\n",
      " 89%|████████▉ | 9600/10748 [00:04<00:00, 2281.99it/s]\u001b[A\n",
      " 92%|█████████▏| 9900/10748 [00:04<00:00, 2287.11it/s]\u001b[A\n",
      " 95%|█████████▍| 10200/10748 [00:04<00:00, 2295.29it/s]\u001b[A\n",
      "100%|██████████| 10748/10748 [00:04<00:00, 2285.15it/s]\n"
     ]
    },
    {
     "name": "stdout",
     "output_type": "stream",
     "text": [
      "epoch [35/100], Loss: 0.0033\n"
     ]
    },
    {
     "name": "stderr",
     "output_type": "stream",
     "text": [
      "\n",
      "  0%|          | 0/10748 [00:00<?, ?it/s]\u001b[A\n",
      "  3%|▎         | 300/10748 [00:00<00:04, 2316.24it/s]\u001b[A\n",
      "  6%|▌         | 600/10748 [00:00<00:04, 2319.16it/s]\u001b[A\n",
      "  8%|▊         | 900/10748 [00:00<00:04, 2318.54it/s]\u001b[A\n",
      " 11%|█         | 1200/10748 [00:00<00:04, 2303.52it/s]\u001b[A\n",
      " 14%|█▍        | 1500/10748 [00:00<00:04, 2301.43it/s]\u001b[A\n",
      " 17%|█▋        | 1800/10748 [00:00<00:03, 2296.04it/s]\u001b[A\n",
      " 20%|█▉        | 2100/10748 [00:00<00:03, 2304.41it/s]\u001b[A\n",
      " 22%|██▏       | 2400/10748 [00:01<00:03, 2309.33it/s]\u001b[A\n",
      " 25%|██▌       | 2700/10748 [00:01<00:03, 2308.55it/s]\u001b[A\n",
      " 28%|██▊       | 3000/10748 [00:01<00:03, 2291.93it/s]\u001b[A\n",
      " 31%|███       | 3300/10748 [00:01<00:03, 2297.53it/s]\u001b[A\n",
      " 33%|███▎      | 3600/10748 [00:01<00:03, 2286.58it/s]\u001b[A\n",
      " 36%|███▋      | 3900/10748 [00:01<00:02, 2295.25it/s]\u001b[A\n",
      " 39%|███▉      | 4200/10748 [00:01<00:02, 2290.17it/s]\u001b[A\n",
      " 42%|████▏     | 4500/10748 [00:01<00:02, 2274.31it/s]\u001b[A\n",
      " 45%|████▍     | 4800/10748 [00:02<00:02, 2278.41it/s]\u001b[A\n",
      " 47%|████▋     | 5100/10748 [00:02<00:02, 2280.36it/s]\u001b[A\n",
      " 50%|█████     | 5400/10748 [00:02<00:02, 2269.37it/s]\u001b[A\n",
      " 53%|█████▎    | 5700/10748 [00:02<00:02, 2262.97it/s]\u001b[A\n",
      " 56%|█████▌    | 6000/10748 [00:02<00:02, 2266.23it/s]\u001b[A\n",
      " 59%|█████▊    | 6300/10748 [00:02<00:01, 2266.59it/s]\u001b[A\n",
      " 61%|██████▏   | 6600/10748 [00:02<00:01, 2273.63it/s]\u001b[A\n",
      " 64%|██████▍   | 6900/10748 [00:03<00:01, 2281.88it/s]\u001b[A\n",
      " 67%|██████▋   | 7200/10748 [00:03<00:01, 2284.32it/s]\u001b[A\n",
      " 70%|██████▉   | 7500/10748 [00:03<00:01, 2285.73it/s]\u001b[A\n",
      " 73%|███████▎  | 7800/10748 [00:03<00:01, 2270.92it/s]\u001b[A\n",
      " 75%|███████▌  | 8100/10748 [00:03<00:01, 2272.21it/s]\u001b[A\n",
      " 78%|███████▊  | 8400/10748 [00:03<00:01, 2276.24it/s]\u001b[A\n",
      " 81%|████████  | 8700/10748 [00:03<00:00, 2265.58it/s]\u001b[A\n",
      " 84%|████████▎ | 9000/10748 [00:03<00:00, 2260.02it/s]\u001b[A\n",
      " 87%|████████▋ | 9300/10748 [00:04<00:00, 2269.30it/s]\u001b[A\n",
      " 89%|████████▉ | 9600/10748 [00:04<00:00, 2272.18it/s]\u001b[A\n",
      " 92%|█████████▏| 9900/10748 [00:04<00:00, 2272.37it/s]\u001b[A\n",
      " 95%|█████████▍| 10200/10748 [00:04<00:00, 2279.65it/s]\u001b[A\n",
      "100%|██████████| 10748/10748 [00:04<00:00, 2292.18it/s]\n"
     ]
    },
    {
     "name": "stdout",
     "output_type": "stream",
     "text": [
      "epoch [36/100], Loss: 0.0027\n"
     ]
    },
    {
     "name": "stderr",
     "output_type": "stream",
     "text": [
      "\n",
      "  0%|          | 0/10748 [00:00<?, ?it/s]\u001b[A\n",
      "  3%|▎         | 300/10748 [00:00<00:04, 2373.67it/s]\u001b[A\n",
      "  6%|▌         | 600/10748 [00:00<00:04, 2285.14it/s]\u001b[A\n",
      "  8%|▊         | 900/10748 [00:00<00:04, 2276.60it/s]\u001b[A\n",
      " 11%|█         | 1200/10748 [00:00<00:04, 2291.42it/s]\u001b[A\n",
      " 14%|█▍        | 1500/10748 [00:00<00:04, 2299.06it/s]\u001b[A\n",
      " 17%|█▋        | 1800/10748 [00:00<00:03, 2305.51it/s]\u001b[A\n",
      " 20%|█▉        | 2100/10748 [00:00<00:03, 2281.23it/s]\u001b[A\n",
      " 22%|██▏       | 2400/10748 [00:01<00:03, 2268.93it/s]\u001b[A\n",
      " 25%|██▌       | 2700/10748 [00:01<00:03, 2282.00it/s]\u001b[A\n",
      " 28%|██▊       | 3000/10748 [00:01<00:03, 2284.26it/s]\u001b[A\n",
      " 31%|███       | 3300/10748 [00:01<00:03, 2285.88it/s]\u001b[A\n",
      " 33%|███▎      | 3600/10748 [00:01<00:03, 2294.00it/s]\u001b[A\n",
      " 36%|███▋      | 3900/10748 [00:01<00:02, 2292.68it/s]\u001b[A\n",
      " 39%|███▉      | 4200/10748 [00:01<00:02, 2284.51it/s]\u001b[A\n",
      " 42%|████▏     | 4500/10748 [00:01<00:02, 2291.38it/s]\u001b[A\n",
      " 45%|████▍     | 4800/10748 [00:02<00:02, 2294.55it/s]\u001b[A\n",
      " 47%|████▋     | 5100/10748 [00:02<00:02, 2295.54it/s]\u001b[A\n",
      " 50%|█████     | 5400/10748 [00:02<00:02, 2298.60it/s]\u001b[A\n",
      " 53%|█████▎    | 5700/10748 [00:02<00:02, 2292.28it/s]\u001b[A\n",
      " 56%|█████▌    | 6000/10748 [00:02<00:02, 2290.68it/s]\u001b[A\n",
      " 59%|█████▊    | 6300/10748 [00:02<00:01, 2280.78it/s]\u001b[A\n",
      " 61%|██████▏   | 6600/10748 [00:02<00:01, 2273.92it/s]\u001b[A\n",
      " 64%|██████▍   | 6900/10748 [00:03<00:01, 2274.17it/s]\u001b[A\n",
      " 67%|██████▋   | 7200/10748 [00:03<00:01, 2285.20it/s]\u001b[A\n",
      " 70%|██████▉   | 7500/10748 [00:03<00:01, 2287.54it/s]\u001b[A\n",
      " 73%|███████▎  | 7800/10748 [00:03<00:01, 2279.13it/s]\u001b[A\n",
      " 75%|███████▌  | 8100/10748 [00:03<00:01, 2282.86it/s]\u001b[A\n",
      " 78%|███████▊  | 8400/10748 [00:03<00:01, 2277.59it/s]\u001b[A\n",
      " 81%|████████  | 8700/10748 [00:03<00:00, 2279.68it/s]\u001b[A\n",
      " 84%|████████▎ | 9000/10748 [00:03<00:00, 2280.00it/s]\u001b[A\n",
      " 87%|████████▋ | 9300/10748 [00:04<00:00, 2282.08it/s]\u001b[A\n",
      " 89%|████████▉ | 9600/10748 [00:04<00:00, 2287.03it/s]\u001b[A\n",
      " 92%|█████████▏| 9900/10748 [00:04<00:00, 2286.22it/s]\u001b[A\n",
      " 95%|█████████▍| 10200/10748 [00:04<00:00, 2283.33it/s]\u001b[A\n",
      "100%|██████████| 10748/10748 [00:04<00:00, 2292.54it/s]\n"
     ]
    },
    {
     "name": "stdout",
     "output_type": "stream",
     "text": [
      "epoch [37/100], Loss: 0.0025\n"
     ]
    },
    {
     "name": "stderr",
     "output_type": "stream",
     "text": [
      "\n",
      "  0%|          | 0/10748 [00:00<?, ?it/s]\u001b[A\n",
      "  3%|▎         | 300/10748 [00:00<00:04, 2264.60it/s]\u001b[A\n",
      "  6%|▌         | 600/10748 [00:00<00:04, 2269.29it/s]\u001b[A\n",
      "  8%|▊         | 900/10748 [00:00<00:04, 2274.50it/s]\u001b[A\n",
      " 11%|█         | 1200/10748 [00:00<00:04, 2264.17it/s]\u001b[A\n",
      " 14%|█▍        | 1500/10748 [00:00<00:04, 2273.32it/s]\u001b[A\n",
      " 17%|█▋        | 1800/10748 [00:00<00:03, 2264.73it/s]\u001b[A\n",
      " 20%|█▉        | 2100/10748 [00:00<00:03, 2272.53it/s]\u001b[A\n",
      " 22%|██▏       | 2400/10748 [00:01<00:03, 2272.54it/s]\u001b[A\n",
      " 25%|██▌       | 2700/10748 [00:01<00:03, 2272.34it/s]\u001b[A\n",
      " 28%|██▊       | 3000/10748 [00:01<00:03, 2283.71it/s]\u001b[A\n",
      " 31%|███       | 3300/10748 [00:01<00:03, 2288.72it/s]\u001b[A\n",
      " 33%|███▎      | 3600/10748 [00:01<00:03, 2278.42it/s]\u001b[A\n",
      " 36%|███▋      | 3900/10748 [00:01<00:02, 2292.48it/s]\u001b[A\n",
      " 39%|███▉      | 4200/10748 [00:01<00:02, 2302.64it/s]\u001b[A\n",
      " 42%|████▏     | 4500/10748 [00:01<00:02, 2287.06it/s]\u001b[A\n",
      " 45%|████▍     | 4800/10748 [00:02<00:02, 2285.77it/s]\u001b[A\n",
      " 47%|████▋     | 5100/10748 [00:02<00:02, 2277.51it/s]\u001b[A\n",
      " 50%|█████     | 5400/10748 [00:02<00:02, 2264.88it/s]\u001b[A\n",
      " 53%|█████▎    | 5700/10748 [00:02<00:02, 2275.03it/s]\u001b[A\n",
      " 56%|█████▌    | 6000/10748 [00:02<00:02, 2274.73it/s]\u001b[A\n",
      " 59%|█████▊    | 6300/10748 [00:02<00:01, 2278.40it/s]\u001b[A\n",
      " 61%|██████▏   | 6600/10748 [00:02<00:01, 2275.83it/s]\u001b[A\n",
      " 64%|██████▍   | 6900/10748 [00:03<00:01, 2272.13it/s]\u001b[A\n",
      " 67%|██████▋   | 7200/10748 [00:03<00:01, 2276.96it/s]\u001b[A\n",
      " 70%|██████▉   | 7500/10748 [00:03<00:01, 2284.40it/s]\u001b[A\n",
      " 73%|███████▎  | 7800/10748 [00:03<00:01, 2285.46it/s]\u001b[A\n",
      " 75%|███████▌  | 8100/10748 [00:03<00:01, 2292.92it/s]\u001b[A\n",
      " 78%|███████▊  | 8400/10748 [00:03<00:01, 2283.61it/s]\u001b[A\n",
      " 81%|████████  | 8700/10748 [00:03<00:00, 2275.75it/s]\u001b[A\n",
      " 84%|████████▎ | 9000/10748 [00:03<00:00, 2262.86it/s]\u001b[A\n",
      " 87%|████████▋ | 9300/10748 [00:04<00:00, 2273.79it/s]\u001b[A\n",
      " 89%|████████▉ | 9600/10748 [00:04<00:00, 2281.55it/s]\u001b[A\n",
      " 92%|█████████▏| 9900/10748 [00:04<00:00, 2274.51it/s]\u001b[A\n",
      " 95%|█████████▍| 10200/10748 [00:04<00:00, 2280.11it/s]\u001b[A\n",
      "100%|██████████| 10748/10748 [00:04<00:00, 2287.79it/s]\n"
     ]
    },
    {
     "name": "stdout",
     "output_type": "stream",
     "text": [
      "epoch [38/100], Loss: 0.0023\n"
     ]
    },
    {
     "name": "stderr",
     "output_type": "stream",
     "text": [
      "\n",
      "  0%|          | 0/10748 [00:00<?, ?it/s]\u001b[A\n",
      "  3%|▎         | 300/10748 [00:00<00:04, 2331.37it/s]\u001b[A\n",
      "  6%|▌         | 600/10748 [00:00<00:04, 2285.99it/s]\u001b[A\n",
      "  8%|▊         | 900/10748 [00:00<00:04, 2284.01it/s]\u001b[A\n",
      " 11%|█         | 1200/10748 [00:00<00:04, 2269.23it/s]\u001b[A\n",
      " 14%|█▍        | 1500/10748 [00:00<00:04, 2277.39it/s]\u001b[A\n",
      " 17%|█▋        | 1800/10748 [00:00<00:03, 2285.32it/s]\u001b[A\n",
      " 20%|█▉        | 2100/10748 [00:00<00:03, 2264.65it/s]\u001b[A\n",
      " 22%|██▏       | 2400/10748 [00:01<00:03, 2260.52it/s]\u001b[A\n",
      " 25%|██▌       | 2700/10748 [00:01<00:03, 2265.20it/s]\u001b[A\n",
      " 28%|██▊       | 3000/10748 [00:01<00:03, 2279.12it/s]\u001b[A\n",
      " 31%|███       | 3300/10748 [00:01<00:03, 2271.84it/s]\u001b[A\n",
      " 33%|███▎      | 3600/10748 [00:01<00:03, 2259.14it/s]\u001b[A\n",
      " 36%|███▋      | 3900/10748 [00:01<00:03, 2254.89it/s]\u001b[A\n",
      " 39%|███▉      | 4200/10748 [00:01<00:02, 2255.66it/s]\u001b[A\n",
      " 42%|████▏     | 4500/10748 [00:01<00:02, 2271.73it/s]\u001b[A\n",
      " 45%|████▍     | 4800/10748 [00:02<00:02, 2272.76it/s]\u001b[A\n",
      " 47%|████▋     | 5100/10748 [00:02<00:02, 2281.18it/s]\u001b[A\n",
      " 50%|█████     | 5400/10748 [00:02<00:02, 2278.74it/s]\u001b[A\n",
      " 53%|█████▎    | 5700/10748 [00:02<00:02, 2267.40it/s]\u001b[A\n",
      " 56%|█████▌    | 6000/10748 [00:02<00:02, 2284.59it/s]\u001b[A\n",
      " 59%|█████▊    | 6300/10748 [00:02<00:01, 2287.96it/s]\u001b[A\n",
      " 61%|██████▏   | 6600/10748 [00:02<00:01, 2283.87it/s]\u001b[A\n",
      " 64%|██████▍   | 6900/10748 [00:03<00:01, 2284.10it/s]\u001b[A\n",
      " 67%|██████▋   | 7200/10748 [00:03<00:01, 2269.39it/s]\u001b[A\n",
      " 70%|██████▉   | 7500/10748 [00:03<00:01, 2267.49it/s]\u001b[A\n",
      " 73%|███████▎  | 7800/10748 [00:03<00:01, 2262.38it/s]\u001b[A\n",
      " 75%|███████▌  | 8100/10748 [00:03<00:01, 2259.09it/s]\u001b[A\n",
      " 78%|███████▊  | 8400/10748 [00:03<00:01, 2252.23it/s]\u001b[A\n",
      " 81%|████████  | 8700/10748 [00:03<00:00, 2260.47it/s]\u001b[A\n",
      " 84%|████████▎ | 9000/10748 [00:03<00:00, 2264.96it/s]\u001b[A\n",
      " 87%|████████▋ | 9300/10748 [00:04<00:00, 2282.03it/s]\u001b[A\n",
      " 89%|████████▉ | 9600/10748 [00:04<00:00, 2273.19it/s]\u001b[A\n",
      " 92%|█████████▏| 9900/10748 [00:04<00:00, 2269.50it/s]\u001b[A\n",
      " 95%|█████████▍| 10200/10748 [00:04<00:00, 2265.55it/s]\u001b[A\n",
      "100%|██████████| 10748/10748 [00:04<00:00, 2279.59it/s]\n"
     ]
    },
    {
     "name": "stdout",
     "output_type": "stream",
     "text": [
      "epoch [39/100], Loss: 0.0022\n"
     ]
    },
    {
     "name": "stderr",
     "output_type": "stream",
     "text": [
      "\n",
      "  0%|          | 0/10748 [00:00<?, ?it/s]\u001b[A\n",
      "  3%|▎         | 300/10748 [00:00<00:04, 2327.65it/s]\u001b[A\n",
      "  6%|▌         | 600/10748 [00:00<00:04, 2295.55it/s]\u001b[A\n",
      "  8%|▊         | 900/10748 [00:00<00:04, 2288.30it/s]\u001b[A\n",
      " 11%|█         | 1200/10748 [00:00<00:04, 2283.08it/s]\u001b[A\n",
      " 14%|█▍        | 1500/10748 [00:00<00:04, 2278.55it/s]\u001b[A\n",
      " 17%|█▋        | 1800/10748 [00:00<00:03, 2291.01it/s]\u001b[A\n",
      " 20%|█▉        | 2100/10748 [00:00<00:03, 2300.44it/s]\u001b[A\n",
      " 22%|██▏       | 2400/10748 [00:01<00:03, 2286.43it/s]\u001b[A\n",
      " 25%|██▌       | 2700/10748 [00:01<00:03, 2276.53it/s]\u001b[A\n",
      " 28%|██▊       | 3000/10748 [00:01<00:03, 2264.28it/s]\u001b[A\n",
      " 31%|███       | 3300/10748 [00:01<00:03, 2260.54it/s]\u001b[A\n",
      " 33%|███▎      | 3600/10748 [00:01<00:03, 2266.95it/s]\u001b[A\n",
      " 36%|███▋      | 3900/10748 [00:01<00:03, 2262.54it/s]\u001b[A\n",
      " 39%|███▉      | 4200/10748 [00:01<00:02, 2266.85it/s]\u001b[A\n",
      " 42%|████▏     | 4500/10748 [00:01<00:02, 2275.22it/s]\u001b[A\n",
      " 45%|████▍     | 4800/10748 [00:02<00:02, 2274.83it/s]\u001b[A\n",
      " 47%|████▋     | 5100/10748 [00:02<00:02, 2267.38it/s]\u001b[A\n",
      " 50%|█████     | 5400/10748 [00:02<00:02, 2269.52it/s]\u001b[A\n",
      " 53%|█████▎    | 5700/10748 [00:02<00:02, 2283.96it/s]\u001b[A\n",
      " 56%|█████▌    | 6000/10748 [00:02<00:02, 2285.78it/s]\u001b[A\n",
      " 59%|█████▊    | 6300/10748 [00:02<00:01, 2290.80it/s]\u001b[A\n",
      " 61%|██████▏   | 6600/10748 [00:02<00:01, 2292.42it/s]\u001b[A\n",
      " 64%|██████▍   | 6900/10748 [00:03<00:01, 2282.17it/s]\u001b[A\n",
      " 67%|██████▋   | 7200/10748 [00:03<00:01, 2282.02it/s]\u001b[A\n",
      " 70%|██████▉   | 7500/10748 [00:03<00:01, 2278.20it/s]\u001b[A\n",
      " 73%|███████▎  | 7800/10748 [00:03<00:01, 2269.84it/s]\u001b[A\n",
      " 75%|███████▌  | 8100/10748 [00:03<00:01, 2280.97it/s]\u001b[A\n",
      " 78%|███████▊  | 8400/10748 [00:03<00:01, 2274.11it/s]\u001b[A\n",
      " 81%|████████  | 8700/10748 [00:03<00:00, 2280.91it/s]\u001b[A\n",
      " 84%|████████▎ | 9000/10748 [00:03<00:00, 2278.39it/s]\u001b[A\n",
      " 87%|████████▋ | 9300/10748 [00:04<00:00, 2285.32it/s]\u001b[A\n",
      " 89%|████████▉ | 9600/10748 [00:04<00:00, 2280.76it/s]\u001b[A\n",
      " 92%|█████████▏| 9900/10748 [00:04<00:00, 2258.68it/s]\u001b[A\n",
      " 95%|█████████▍| 10200/10748 [00:04<00:00, 2269.84it/s]\u001b[A\n",
      "100%|██████████| 10748/10748 [00:04<00:00, 2287.81it/s]\n"
     ]
    },
    {
     "name": "stdout",
     "output_type": "stream",
     "text": [
      "epoch [40/100], Loss: 0.0020\n"
     ]
    },
    {
     "name": "stderr",
     "output_type": "stream",
     "text": [
      "\n",
      "  0%|          | 0/10748 [00:00<?, ?it/s]\u001b[A\n",
      "  3%|▎         | 300/10748 [00:00<00:04, 2377.01it/s]\u001b[A\n",
      "  6%|▌         | 600/10748 [00:00<00:04, 2314.95it/s]\u001b[A\n",
      "  8%|▊         | 900/10748 [00:00<00:04, 2310.05it/s]\u001b[A\n",
      " 11%|█         | 1200/10748 [00:00<00:04, 2284.93it/s]\u001b[A\n",
      " 14%|█▍        | 1500/10748 [00:00<00:04, 2296.89it/s]\u001b[A\n",
      " 17%|█▋        | 1800/10748 [00:00<00:03, 2279.82it/s]\u001b[A\n",
      " 20%|█▉        | 2100/10748 [00:00<00:03, 2262.23it/s]\u001b[A\n",
      " 22%|██▏       | 2400/10748 [00:01<00:03, 2278.02it/s]\u001b[A\n",
      " 25%|██▌       | 2700/10748 [00:01<00:03, 2288.82it/s]\u001b[A\n",
      " 28%|██▊       | 3000/10748 [00:01<00:03, 2296.25it/s]\u001b[A\n",
      " 31%|███       | 3300/10748 [00:01<00:03, 2282.10it/s]\u001b[A\n",
      " 33%|███▎      | 3600/10748 [00:01<00:03, 2280.81it/s]\u001b[A\n",
      " 36%|███▋      | 3900/10748 [00:01<00:02, 2284.64it/s]\u001b[A\n",
      " 39%|███▉      | 4200/10748 [00:01<00:02, 2278.40it/s]\u001b[A\n",
      " 42%|████▏     | 4500/10748 [00:01<00:02, 2283.13it/s]\u001b[A\n",
      " 45%|████▍     | 4800/10748 [00:02<00:02, 2282.11it/s]\u001b[A\n",
      " 47%|████▋     | 5100/10748 [00:02<00:02, 2288.57it/s]\u001b[A\n",
      " 50%|█████     | 5400/10748 [00:02<00:02, 2290.54it/s]\u001b[A\n",
      " 53%|█████▎    | 5700/10748 [00:02<00:02, 2284.81it/s]\u001b[A\n",
      " 56%|█████▌    | 6000/10748 [00:02<00:02, 2266.77it/s]\u001b[A\n",
      " 59%|█████▊    | 6300/10748 [00:02<00:01, 2279.11it/s]\u001b[A\n",
      " 61%|██████▏   | 6600/10748 [00:02<00:01, 2288.77it/s]\u001b[A\n",
      " 64%|██████▍   | 6900/10748 [00:03<00:01, 2282.06it/s]\u001b[A\n",
      " 67%|██████▋   | 7200/10748 [00:03<00:01, 2286.21it/s]\u001b[A\n",
      " 70%|██████▉   | 7500/10748 [00:03<00:01, 2270.89it/s]\u001b[A\n",
      " 73%|███████▎  | 7800/10748 [00:03<00:01, 2253.79it/s]\u001b[A\n",
      " 75%|███████▌  | 8100/10748 [00:03<00:01, 2240.52it/s]\u001b[A\n",
      " 78%|███████▊  | 8400/10748 [00:03<00:01, 2250.97it/s]\u001b[A\n",
      " 81%|████████  | 8700/10748 [00:03<00:00, 2275.64it/s]\u001b[A\n",
      " 84%|████████▎ | 9000/10748 [00:03<00:00, 2274.38it/s]\u001b[A\n",
      " 87%|████████▋ | 9300/10748 [00:04<00:00, 2270.04it/s]\u001b[A\n",
      " 89%|████████▉ | 9600/10748 [00:04<00:00, 2267.60it/s]\u001b[A\n",
      " 92%|█████████▏| 9900/10748 [00:04<00:00, 2254.23it/s]\u001b[A\n",
      " 95%|█████████▍| 10200/10748 [00:04<00:00, 2270.24it/s]\u001b[A\n",
      "100%|██████████| 10748/10748 [00:04<00:00, 2286.79it/s]\n"
     ]
    },
    {
     "name": "stdout",
     "output_type": "stream",
     "text": [
      "epoch [41/100], Loss: 0.0020\n"
     ]
    },
    {
     "name": "stderr",
     "output_type": "stream",
     "text": [
      "\n",
      "  0%|          | 0/10748 [00:00<?, ?it/s]\u001b[A\n",
      "  3%|▎         | 300/10748 [00:00<00:04, 2316.83it/s]\u001b[A\n",
      "  6%|▌         | 600/10748 [00:00<00:04, 2313.66it/s]\u001b[A\n",
      "  8%|▊         | 900/10748 [00:00<00:04, 2312.37it/s]\u001b[A\n",
      " 11%|█         | 1200/10748 [00:00<00:04, 2298.31it/s]\u001b[A\n",
      " 14%|█▍        | 1500/10748 [00:00<00:04, 2267.89it/s]\u001b[A\n",
      " 17%|█▋        | 1800/10748 [00:00<00:03, 2269.40it/s]\u001b[A\n",
      " 20%|█▉        | 2100/10748 [00:00<00:03, 2286.98it/s]\u001b[A\n",
      " 22%|██▏       | 2400/10748 [00:01<00:03, 2291.42it/s]\u001b[A\n",
      " 25%|██▌       | 2700/10748 [00:01<00:03, 2293.27it/s]\u001b[A\n",
      " 28%|██▊       | 3000/10748 [00:01<00:03, 2305.28it/s]\u001b[A\n",
      " 31%|███       | 3300/10748 [00:01<00:03, 2285.07it/s]\u001b[A\n",
      " 33%|███▎      | 3600/10748 [00:01<00:03, 2276.19it/s]\u001b[A\n",
      " 36%|███▋      | 3900/10748 [00:01<00:03, 2273.20it/s]\u001b[A\n",
      " 39%|███▉      | 4200/10748 [00:01<00:02, 2267.09it/s]\u001b[A\n",
      " 42%|████▏     | 4500/10748 [00:01<00:02, 2270.12it/s]\u001b[A\n",
      " 45%|████▍     | 4800/10748 [00:02<00:02, 2264.27it/s]\u001b[A\n",
      " 47%|████▋     | 5100/10748 [00:02<00:02, 2259.90it/s]\u001b[A\n",
      " 50%|█████     | 5400/10748 [00:02<00:02, 2268.41it/s]\u001b[A\n",
      " 53%|█████▎    | 5700/10748 [00:02<00:02, 2262.19it/s]\u001b[A\n",
      " 56%|█████▌    | 6000/10748 [00:02<00:02, 2276.72it/s]\u001b[A\n",
      " 59%|█████▊    | 6300/10748 [00:02<00:01, 2278.41it/s]\u001b[A\n",
      " 61%|██████▏   | 6600/10748 [00:02<00:01, 2287.54it/s]\u001b[A\n",
      " 64%|██████▍   | 6900/10748 [00:03<00:01, 2279.85it/s]\u001b[A\n",
      " 67%|██████▋   | 7200/10748 [00:03<00:01, 2280.38it/s]\u001b[A\n",
      " 70%|██████▉   | 7500/10748 [00:03<00:01, 2275.10it/s]\u001b[A\n",
      " 73%|███████▎  | 7800/10748 [00:03<00:01, 2282.01it/s]\u001b[A\n",
      " 75%|███████▌  | 8100/10748 [00:03<00:01, 2280.94it/s]\u001b[A\n",
      " 78%|███████▊  | 8400/10748 [00:03<00:01, 2276.97it/s]\u001b[A\n",
      " 81%|████████  | 8700/10748 [00:03<00:00, 2291.67it/s]\u001b[A\n",
      " 84%|████████▎ | 9000/10748 [00:03<00:00, 2280.88it/s]\u001b[A\n",
      " 87%|████████▋ | 9300/10748 [00:04<00:00, 2278.16it/s]\u001b[A\n",
      " 89%|████████▉ | 9600/10748 [00:04<00:00, 2276.13it/s]\u001b[A\n",
      " 92%|█████████▏| 9900/10748 [00:04<00:00, 2271.17it/s]\u001b[A\n",
      " 95%|█████████▍| 10200/10748 [00:04<00:00, 2270.04it/s]\u001b[A\n",
      "100%|██████████| 10748/10748 [00:04<00:00, 2286.90it/s]\n"
     ]
    },
    {
     "name": "stdout",
     "output_type": "stream",
     "text": [
      "epoch [42/100], Loss: 0.0020\n"
     ]
    },
    {
     "name": "stderr",
     "output_type": "stream",
     "text": [
      "\n",
      "  0%|          | 0/10748 [00:00<?, ?it/s]\u001b[A\n",
      "  3%|▎         | 300/10748 [00:00<00:04, 2363.12it/s]\u001b[A\n",
      "  6%|▌         | 600/10748 [00:00<00:04, 2312.36it/s]\u001b[A\n",
      "  8%|▊         | 900/10748 [00:00<00:04, 2318.78it/s]\u001b[A\n",
      " 11%|█         | 1200/10748 [00:00<00:04, 2302.91it/s]\u001b[A\n",
      " 14%|█▍        | 1500/10748 [00:00<00:04, 2289.88it/s]\u001b[A\n",
      " 17%|█▋        | 1800/10748 [00:00<00:03, 2291.95it/s]\u001b[A\n",
      " 20%|█▉        | 2100/10748 [00:00<00:03, 2289.80it/s]\u001b[A\n",
      " 22%|██▏       | 2400/10748 [00:01<00:03, 2286.13it/s]\u001b[A\n",
      " 25%|██▌       | 2700/10748 [00:01<00:03, 2275.43it/s]\u001b[A\n",
      " 28%|██▊       | 3000/10748 [00:01<00:03, 2279.76it/s]\u001b[A\n",
      " 31%|███       | 3300/10748 [00:01<00:03, 2256.48it/s]\u001b[A\n",
      " 33%|███▎      | 3600/10748 [00:01<00:03, 2254.26it/s]\u001b[A\n",
      " 36%|███▋      | 3900/10748 [00:01<00:03, 2265.45it/s]\u001b[A\n",
      " 39%|███▉      | 4200/10748 [00:01<00:02, 2274.29it/s]\u001b[A\n",
      " 42%|████▏     | 4500/10748 [00:01<00:02, 2282.16it/s]\u001b[A\n",
      " 45%|████▍     | 4800/10748 [00:02<00:02, 2292.92it/s]\u001b[A\n",
      " 47%|████▋     | 5100/10748 [00:02<00:02, 2294.06it/s]\u001b[A\n",
      " 50%|█████     | 5400/10748 [00:02<00:02, 2297.22it/s]\u001b[A\n",
      " 53%|█████▎    | 5700/10748 [00:02<00:02, 2296.52it/s]\u001b[A\n",
      " 56%|█████▌    | 6000/10748 [00:02<00:02, 2302.42it/s]\u001b[A\n",
      " 59%|█████▊    | 6300/10748 [00:02<00:01, 2310.30it/s]\u001b[A\n",
      " 61%|██████▏   | 6600/10748 [00:02<00:01, 2317.82it/s]\u001b[A\n",
      " 64%|██████▍   | 6900/10748 [00:03<00:01, 2305.41it/s]\u001b[A\n",
      " 67%|██████▋   | 7200/10748 [00:03<00:01, 2301.98it/s]\u001b[A\n",
      " 70%|██████▉   | 7500/10748 [00:03<00:01, 2295.30it/s]\u001b[A\n",
      " 73%|███████▎  | 7800/10748 [00:03<00:01, 2284.10it/s]\u001b[A\n",
      " 75%|███████▌  | 8100/10748 [00:03<00:01, 2298.73it/s]\u001b[A\n",
      " 78%|███████▊  | 8400/10748 [00:03<00:01, 2294.04it/s]\u001b[A\n",
      " 81%|████████  | 8700/10748 [00:03<00:00, 2272.08it/s]\u001b[A\n",
      " 84%|████████▎ | 9000/10748 [00:03<00:00, 2277.19it/s]\u001b[A\n",
      " 87%|████████▋ | 9300/10748 [00:04<00:00, 2275.80it/s]\u001b[A\n",
      " 89%|████████▉ | 9600/10748 [00:04<00:00, 2270.44it/s]\u001b[A\n",
      " 92%|█████████▏| 9900/10748 [00:04<00:00, 2272.52it/s]\u001b[A\n",
      " 95%|█████████▍| 10200/10748 [00:04<00:00, 2284.82it/s]\u001b[A\n",
      "100%|██████████| 10748/10748 [00:04<00:00, 2297.97it/s]\n"
     ]
    },
    {
     "name": "stdout",
     "output_type": "stream",
     "text": [
      "epoch [43/100], Loss: 0.0018\n"
     ]
    },
    {
     "name": "stderr",
     "output_type": "stream",
     "text": [
      "\n",
      "  0%|          | 0/10748 [00:00<?, ?it/s]\u001b[A\n",
      "  3%|▎         | 300/10748 [00:00<00:04, 2334.64it/s]\u001b[A\n",
      "  6%|▌         | 600/10748 [00:00<00:04, 2268.66it/s]\u001b[A\n",
      "  8%|▊         | 900/10748 [00:00<00:04, 2269.64it/s]\u001b[A\n",
      " 11%|█         | 1200/10748 [00:00<00:04, 2286.15it/s]\u001b[A\n",
      " 14%|█▍        | 1500/10748 [00:00<00:04, 2275.66it/s]\u001b[A\n",
      " 17%|█▋        | 1800/10748 [00:00<00:03, 2289.54it/s]\u001b[A\n",
      " 20%|█▉        | 2100/10748 [00:00<00:03, 2294.26it/s]\u001b[A\n",
      " 22%|██▏       | 2400/10748 [00:01<00:03, 2268.04it/s]\u001b[A\n",
      " 25%|██▌       | 2700/10748 [00:01<00:03, 2261.74it/s]\u001b[A\n",
      " 28%|██▊       | 3000/10748 [00:01<00:03, 2269.93it/s]\u001b[A\n",
      " 31%|███       | 3300/10748 [00:01<00:03, 2267.33it/s]\u001b[A\n",
      " 33%|███▎      | 3600/10748 [00:01<00:03, 2269.31it/s]\u001b[A\n",
      " 36%|███▋      | 3900/10748 [00:01<00:03, 2269.18it/s]\u001b[A\n",
      " 39%|███▉      | 4200/10748 [00:01<00:02, 2279.10it/s]\u001b[A\n",
      " 42%|████▏     | 4500/10748 [00:01<00:02, 2292.77it/s]\u001b[A\n",
      " 45%|████▍     | 4800/10748 [00:02<00:02, 2288.25it/s]\u001b[A\n",
      " 47%|████▋     | 5100/10748 [00:02<00:02, 2290.84it/s]\u001b[A\n",
      " 50%|█████     | 5400/10748 [00:02<00:02, 2294.58it/s]\u001b[A\n",
      " 53%|█████▎    | 5700/10748 [00:02<00:02, 2292.54it/s]\u001b[A\n",
      " 56%|█████▌    | 6000/10748 [00:02<00:02, 2280.58it/s]\u001b[A\n",
      " 59%|█████▊    | 6300/10748 [00:02<00:01, 2285.80it/s]\u001b[A\n",
      " 61%|██████▏   | 6600/10748 [00:02<00:01, 2285.92it/s]\u001b[A\n",
      " 64%|██████▍   | 6900/10748 [00:03<00:01, 2288.80it/s]\u001b[A\n",
      " 67%|██████▋   | 7200/10748 [00:03<00:01, 2286.03it/s]\u001b[A\n",
      " 70%|██████▉   | 7500/10748 [00:03<00:01, 2290.18it/s]\u001b[A\n",
      " 73%|███████▎  | 7800/10748 [00:03<00:01, 2282.65it/s]\u001b[A\n",
      " 75%|███████▌  | 8100/10748 [00:03<00:01, 2274.43it/s]\u001b[A\n",
      " 78%|███████▊  | 8400/10748 [00:03<00:01, 2268.77it/s]\u001b[A\n",
      " 81%|████████  | 8700/10748 [00:03<00:00, 2278.72it/s]\u001b[A\n",
      " 84%|████████▎ | 9000/10748 [00:03<00:00, 2279.36it/s]\u001b[A\n",
      " 87%|████████▋ | 9300/10748 [00:04<00:00, 2289.17it/s]\u001b[A\n",
      " 89%|████████▉ | 9600/10748 [00:04<00:00, 2298.34it/s]\u001b[A\n",
      " 92%|█████████▏| 9900/10748 [00:04<00:00, 2292.33it/s]\u001b[A\n",
      " 95%|█████████▍| 10200/10748 [00:04<00:00, 2299.69it/s]\u001b[A\n",
      "100%|██████████| 10748/10748 [00:04<00:00, 2293.64it/s]\n"
     ]
    },
    {
     "name": "stdout",
     "output_type": "stream",
     "text": [
      "epoch [44/100], Loss: 0.0017\n"
     ]
    },
    {
     "name": "stderr",
     "output_type": "stream",
     "text": [
      "\n",
      "  0%|          | 0/10748 [00:00<?, ?it/s]\u001b[A\n",
      "  3%|▎         | 300/10748 [00:00<00:04, 2336.95it/s]\u001b[A\n",
      "  6%|▌         | 600/10748 [00:00<00:04, 2309.24it/s]\u001b[A\n",
      "  8%|▊         | 900/10748 [00:00<00:04, 2318.64it/s]\u001b[A\n",
      " 11%|█         | 1200/10748 [00:00<00:04, 2321.44it/s]\u001b[A\n",
      " 14%|█▍        | 1500/10748 [00:00<00:03, 2321.06it/s]\u001b[A\n",
      " 17%|█▋        | 1800/10748 [00:00<00:03, 2322.66it/s]\u001b[A\n",
      " 20%|█▉        | 2100/10748 [00:00<00:03, 2312.31it/s]\u001b[A\n",
      " 22%|██▏       | 2400/10748 [00:01<00:03, 2291.95it/s]\u001b[A\n",
      " 25%|██▌       | 2700/10748 [00:01<00:03, 2296.33it/s]\u001b[A\n",
      " 28%|██▊       | 3000/10748 [00:01<00:03, 2283.82it/s]\u001b[A\n",
      " 31%|███       | 3300/10748 [00:01<00:03, 2278.38it/s]\u001b[A\n",
      " 33%|███▎      | 3600/10748 [00:01<00:03, 2285.29it/s]\u001b[A\n",
      " 36%|███▋      | 3900/10748 [00:01<00:03, 2275.79it/s]\u001b[A\n",
      " 39%|███▉      | 4200/10748 [00:01<00:02, 2264.20it/s]\u001b[A\n",
      " 42%|████▏     | 4500/10748 [00:01<00:02, 2270.52it/s]\u001b[A\n",
      " 45%|████▍     | 4800/10748 [00:02<00:02, 2270.00it/s]\u001b[A\n",
      " 47%|████▋     | 5100/10748 [00:02<00:02, 2267.59it/s]\u001b[A\n",
      " 50%|█████     | 5400/10748 [00:02<00:02, 2272.98it/s]\u001b[A\n",
      " 53%|█████▎    | 5700/10748 [00:02<00:02, 2277.50it/s]\u001b[A\n",
      " 56%|█████▌    | 6000/10748 [00:02<00:02, 2281.82it/s]\u001b[A\n",
      " 59%|█████▊    | 6300/10748 [00:02<00:01, 2289.24it/s]\u001b[A\n",
      " 61%|██████▏   | 6600/10748 [00:02<00:01, 2284.67it/s]\u001b[A\n",
      " 64%|██████▍   | 6900/10748 [00:03<00:01, 2280.93it/s]\u001b[A\n",
      " 67%|██████▋   | 7200/10748 [00:03<00:01, 2282.58it/s]\u001b[A\n",
      " 70%|██████▉   | 7500/10748 [00:03<00:01, 2279.69it/s]\u001b[A\n",
      " 73%|███████▎  | 7800/10748 [00:03<00:01, 2277.53it/s]\u001b[A\n",
      " 75%|███████▌  | 8100/10748 [00:03<00:01, 2281.15it/s]\u001b[A\n",
      " 78%|███████▊  | 8400/10748 [00:03<00:01, 2276.99it/s]\u001b[A\n",
      " 81%|████████  | 8700/10748 [00:03<00:00, 2283.21it/s]\u001b[A\n",
      " 84%|████████▎ | 9000/10748 [00:03<00:00, 2278.83it/s]\u001b[A\n",
      " 87%|████████▋ | 9300/10748 [00:04<00:00, 2265.71it/s]\u001b[A\n",
      " 89%|████████▉ | 9600/10748 [00:04<00:00, 2280.26it/s]\u001b[A\n",
      " 92%|█████████▏| 9900/10748 [00:04<00:00, 2283.12it/s]\u001b[A\n",
      " 95%|█████████▍| 10200/10748 [00:04<00:00, 2271.00it/s]\u001b[A\n",
      "100%|██████████| 10748/10748 [00:04<00:00, 2292.87it/s]\n"
     ]
    },
    {
     "name": "stdout",
     "output_type": "stream",
     "text": [
      "epoch [45/100], Loss: 0.0043\n"
     ]
    },
    {
     "name": "stderr",
     "output_type": "stream",
     "text": [
      "\n",
      "  0%|          | 0/10748 [00:00<?, ?it/s]\u001b[A\n",
      "  3%|▎         | 300/10748 [00:00<00:04, 2351.16it/s]\u001b[A\n",
      "  6%|▌         | 600/10748 [00:00<00:04, 2320.37it/s]\u001b[A\n",
      "  8%|▊         | 900/10748 [00:00<00:04, 2288.91it/s]\u001b[A\n",
      " 11%|█         | 1200/10748 [00:00<00:04, 2243.54it/s]\u001b[A\n",
      " 14%|█▍        | 1500/10748 [00:00<00:04, 2223.78it/s]\u001b[A\n",
      " 17%|█▋        | 1800/10748 [00:00<00:03, 2237.98it/s]\u001b[A\n",
      " 20%|█▉        | 2100/10748 [00:00<00:03, 2262.52it/s]\u001b[A\n",
      " 22%|██▏       | 2400/10748 [00:01<00:03, 2263.54it/s]\u001b[A\n",
      " 25%|██▌       | 2700/10748 [00:01<00:03, 2275.37it/s]\u001b[A\n",
      " 28%|██▊       | 3000/10748 [00:01<00:03, 2274.34it/s]\u001b[A\n",
      " 31%|███       | 3300/10748 [00:01<00:03, 2279.26it/s]\u001b[A\n",
      " 33%|███▎      | 3600/10748 [00:01<00:03, 2282.07it/s]\u001b[A\n",
      " 36%|███▋      | 3900/10748 [00:01<00:03, 2275.31it/s]\u001b[A\n",
      " 39%|███▉      | 4200/10748 [00:01<00:02, 2266.35it/s]\u001b[A\n",
      " 42%|████▏     | 4500/10748 [00:01<00:02, 2264.42it/s]\u001b[A\n",
      " 45%|████▍     | 4800/10748 [00:02<00:02, 2261.16it/s]\u001b[A\n",
      " 47%|████▋     | 5100/10748 [00:02<00:02, 2255.70it/s]\u001b[A\n",
      " 50%|█████     | 5400/10748 [00:02<00:02, 2258.11it/s]\u001b[A\n",
      " 53%|█████▎    | 5700/10748 [00:02<00:02, 2260.80it/s]\u001b[A\n",
      " 56%|█████▌    | 6000/10748 [00:02<00:02, 2271.01it/s]\u001b[A\n",
      " 59%|█████▊    | 6300/10748 [00:02<00:01, 2267.19it/s]\u001b[A\n",
      " 61%|██████▏   | 6600/10748 [00:02<00:01, 2265.68it/s]\u001b[A\n",
      " 64%|██████▍   | 6900/10748 [00:03<00:01, 2278.84it/s]\u001b[A\n",
      " 67%|██████▋   | 7200/10748 [00:03<00:01, 2279.11it/s]\u001b[A\n",
      " 70%|██████▉   | 7500/10748 [00:03<00:01, 2282.70it/s]\u001b[A\n",
      " 73%|███████▎  | 7800/10748 [00:03<00:01, 2276.35it/s]\u001b[A\n",
      " 75%|███████▌  | 8100/10748 [00:03<00:01, 2266.86it/s]\u001b[A\n",
      " 78%|███████▊  | 8400/10748 [00:03<00:01, 2284.63it/s]\u001b[A\n",
      " 81%|████████  | 8700/10748 [00:03<00:00, 2292.16it/s]\u001b[A\n",
      " 84%|████████▎ | 9000/10748 [00:03<00:00, 2291.86it/s]\u001b[A\n",
      " 87%|████████▋ | 9300/10748 [00:04<00:00, 2297.90it/s]\u001b[A\n",
      " 89%|████████▉ | 9600/10748 [00:04<00:00, 2288.93it/s]\u001b[A\n",
      " 92%|█████████▏| 9900/10748 [00:04<00:00, 2293.45it/s]\u001b[A\n",
      " 95%|█████████▍| 10200/10748 [00:04<00:00, 2274.75it/s]\u001b[A\n",
      "100%|██████████| 10748/10748 [00:04<00:00, 2281.71it/s]\n"
     ]
    },
    {
     "name": "stdout",
     "output_type": "stream",
     "text": [
      "epoch [46/100], Loss: 0.0100\n"
     ]
    },
    {
     "name": "stderr",
     "output_type": "stream",
     "text": [
      "\n",
      "  0%|          | 0/10748 [00:00<?, ?it/s]\u001b[A\n",
      "  3%|▎         | 300/10748 [00:00<00:04, 2358.41it/s]\u001b[A\n",
      "  6%|▌         | 600/10748 [00:00<00:04, 2302.68it/s]\u001b[A\n",
      "  8%|▊         | 900/10748 [00:00<00:04, 2305.82it/s]\u001b[A\n",
      " 11%|█         | 1200/10748 [00:00<00:04, 2300.21it/s]\u001b[A\n",
      " 14%|█▍        | 1500/10748 [00:00<00:04, 2293.13it/s]\u001b[A\n",
      " 17%|█▋        | 1800/10748 [00:00<00:03, 2284.40it/s]\u001b[A\n",
      " 20%|█▉        | 2100/10748 [00:00<00:03, 2285.71it/s]\u001b[A\n",
      " 22%|██▏       | 2400/10748 [00:01<00:03, 2282.42it/s]\u001b[A\n",
      " 25%|██▌       | 2700/10748 [00:01<00:03, 2280.18it/s]\u001b[A\n",
      " 28%|██▊       | 3000/10748 [00:01<00:03, 2288.84it/s]\u001b[A\n",
      " 31%|███       | 3300/10748 [00:01<00:03, 2279.26it/s]\u001b[A\n",
      " 33%|███▎      | 3600/10748 [00:01<00:03, 2282.38it/s]\u001b[A\n",
      " 36%|███▋      | 3900/10748 [00:01<00:03, 2268.17it/s]\u001b[A\n",
      " 39%|███▉      | 4200/10748 [00:01<00:02, 2267.29it/s]\u001b[A\n",
      " 42%|████▏     | 4500/10748 [00:01<00:02, 2278.75it/s]\u001b[A\n",
      " 45%|████▍     | 4800/10748 [00:02<00:02, 2274.26it/s]\u001b[A\n",
      " 47%|████▋     | 5100/10748 [00:02<00:02, 2275.37it/s]\u001b[A\n",
      " 50%|█████     | 5400/10748 [00:02<00:02, 2275.47it/s]\u001b[A\n",
      " 53%|█████▎    | 5700/10748 [00:02<00:02, 2277.69it/s]\u001b[A\n",
      " 56%|█████▌    | 6000/10748 [00:02<00:02, 2276.28it/s]\u001b[A\n",
      " 59%|█████▊    | 6300/10748 [00:02<00:01, 2263.89it/s]\u001b[A\n",
      " 61%|██████▏   | 6600/10748 [00:02<00:01, 2264.94it/s]\u001b[A\n",
      " 64%|██████▍   | 6900/10748 [00:03<00:01, 2261.95it/s]\u001b[A\n",
      " 67%|██████▋   | 7200/10748 [00:03<00:01, 2278.73it/s]\u001b[A\n",
      " 70%|██████▉   | 7500/10748 [00:03<00:01, 2275.90it/s]\u001b[A\n",
      " 73%|███████▎  | 7800/10748 [00:03<00:01, 2286.10it/s]\u001b[A\n",
      " 75%|███████▌  | 8100/10748 [00:03<00:01, 2277.24it/s]\u001b[A\n",
      " 78%|███████▊  | 8400/10748 [00:03<00:01, 2278.17it/s]\u001b[A\n",
      " 81%|████████  | 8700/10748 [00:03<00:00, 2277.09it/s]\u001b[A\n",
      " 84%|████████▎ | 9000/10748 [00:03<00:00, 2280.02it/s]\u001b[A\n",
      " 87%|████████▋ | 9300/10748 [00:04<00:00, 2287.21it/s]\u001b[A\n",
      " 89%|████████▉ | 9600/10748 [00:04<00:00, 2277.01it/s]\u001b[A\n",
      " 92%|█████████▏| 9900/10748 [00:04<00:00, 2280.86it/s]\u001b[A\n",
      " 95%|█████████▍| 10200/10748 [00:04<00:00, 2289.65it/s]\u001b[A\n",
      "100%|██████████| 10748/10748 [00:04<00:00, 2289.42it/s]\n"
     ]
    },
    {
     "name": "stdout",
     "output_type": "stream",
     "text": [
      "epoch [47/100], Loss: 0.0189\n"
     ]
    },
    {
     "name": "stderr",
     "output_type": "stream",
     "text": [
      "\n",
      "  0%|          | 0/10748 [00:00<?, ?it/s]\u001b[A\n",
      "  3%|▎         | 300/10748 [00:00<00:04, 2367.06it/s]\u001b[A\n",
      "  6%|▌         | 600/10748 [00:00<00:04, 2332.78it/s]\u001b[A\n",
      "  8%|▊         | 900/10748 [00:00<00:04, 2282.51it/s]\u001b[A\n",
      " 11%|█         | 1200/10748 [00:00<00:04, 2288.04it/s]\u001b[A\n",
      " 14%|█▍        | 1500/10748 [00:00<00:04, 2287.15it/s]\u001b[A\n",
      " 17%|█▋        | 1800/10748 [00:00<00:03, 2279.22it/s]\u001b[A\n",
      " 20%|█▉        | 2100/10748 [00:00<00:03, 2272.29it/s]\u001b[A\n",
      " 22%|██▏       | 2400/10748 [00:01<00:03, 2289.73it/s]\u001b[A\n",
      " 25%|██▌       | 2700/10748 [00:01<00:03, 2279.49it/s]\u001b[A\n",
      " 28%|██▊       | 3000/10748 [00:01<00:03, 2294.08it/s]\u001b[A\n",
      " 31%|███       | 3300/10748 [00:01<00:03, 2275.81it/s]\u001b[A\n",
      " 33%|███▎      | 3600/10748 [00:01<00:03, 2278.07it/s]\u001b[A\n",
      " 36%|███▋      | 3900/10748 [00:01<00:03, 2277.71it/s]\u001b[A\n",
      " 39%|███▉      | 4200/10748 [00:01<00:02, 2259.90it/s]\u001b[A\n",
      " 42%|████▏     | 4500/10748 [00:01<00:02, 2261.53it/s]\u001b[A\n",
      " 45%|████▍     | 4800/10748 [00:02<00:02, 2270.41it/s]\u001b[A\n",
      " 47%|████▋     | 5100/10748 [00:02<00:02, 2265.30it/s]\u001b[A\n",
      " 50%|█████     | 5400/10748 [00:02<00:02, 2278.40it/s]\u001b[A\n",
      " 53%|█████▎    | 5700/10748 [00:02<00:02, 2278.05it/s]\u001b[A\n",
      " 56%|█████▌    | 6000/10748 [00:02<00:02, 2281.79it/s]\u001b[A\n",
      " 59%|█████▊    | 6300/10748 [00:02<00:01, 2286.67it/s]\u001b[A\n",
      " 61%|██████▏   | 6600/10748 [00:02<00:01, 2286.01it/s]\u001b[A\n",
      " 64%|██████▍   | 6900/10748 [00:03<00:01, 2292.50it/s]\u001b[A\n",
      " 67%|██████▋   | 7200/10748 [00:03<00:01, 2296.98it/s]\u001b[A\n",
      " 70%|██████▉   | 7500/10748 [00:03<00:01, 2305.17it/s]\u001b[A\n",
      " 73%|███████▎  | 7800/10748 [00:03<00:01, 2293.91it/s]\u001b[A\n",
      " 75%|███████▌  | 8100/10748 [00:03<00:01, 2293.12it/s]\u001b[A\n",
      " 78%|███████▊  | 8400/10748 [00:03<00:01, 2284.34it/s]\u001b[A\n",
      " 81%|████████  | 8700/10748 [00:03<00:00, 2281.13it/s]\u001b[A\n",
      " 84%|████████▎ | 9000/10748 [00:03<00:00, 2262.95it/s]\u001b[A\n",
      " 87%|████████▋ | 9300/10748 [00:04<00:00, 2274.40it/s]\u001b[A\n",
      " 89%|████████▉ | 9600/10748 [00:04<00:00, 2264.81it/s]\u001b[A\n",
      " 92%|█████████▏| 9900/10748 [00:04<00:00, 2267.50it/s]\u001b[A\n",
      " 95%|█████████▍| 10200/10748 [00:04<00:00, 2269.86it/s]\u001b[A\n",
      "100%|██████████| 10748/10748 [00:04<00:00, 2289.13it/s]\n"
     ]
    },
    {
     "name": "stdout",
     "output_type": "stream",
     "text": [
      "epoch [48/100], Loss: 0.0186\n"
     ]
    },
    {
     "name": "stderr",
     "output_type": "stream",
     "text": [
      "\n",
      "  0%|          | 0/10748 [00:00<?, ?it/s]\u001b[A\n",
      "  3%|▎         | 300/10748 [00:00<00:04, 2337.28it/s]\u001b[A\n",
      "  6%|▌         | 600/10748 [00:00<00:04, 2267.64it/s]\u001b[A\n",
      "  8%|▊         | 900/10748 [00:00<00:04, 2279.48it/s]\u001b[A\n",
      " 11%|█         | 1200/10748 [00:00<00:04, 2260.82it/s]\u001b[A\n",
      " 14%|█▍        | 1500/10748 [00:00<00:04, 2263.56it/s]\u001b[A\n",
      " 17%|█▋        | 1800/10748 [00:00<00:03, 2264.22it/s]\u001b[A\n",
      " 20%|█▉        | 2100/10748 [00:00<00:03, 2265.12it/s]\u001b[A\n",
      " 22%|██▏       | 2400/10748 [00:01<00:03, 2268.81it/s]\u001b[A\n",
      " 25%|██▌       | 2700/10748 [00:01<00:03, 2268.71it/s]\u001b[A\n",
      " 28%|██▊       | 3000/10748 [00:01<00:03, 2266.81it/s]\u001b[A\n",
      " 31%|███       | 3300/10748 [00:01<00:03, 2277.24it/s]\u001b[A\n",
      " 33%|███▎      | 3600/10748 [00:01<00:03, 2276.47it/s]\u001b[A\n",
      " 36%|███▋      | 3900/10748 [00:01<00:03, 2271.57it/s]\u001b[A\n",
      " 39%|███▉      | 4200/10748 [00:01<00:02, 2274.73it/s]\u001b[A\n",
      " 42%|████▏     | 4500/10748 [00:01<00:02, 2285.17it/s]\u001b[A\n",
      " 45%|████▍     | 4800/10748 [00:02<00:02, 2284.87it/s]\u001b[A\n",
      " 47%|████▋     | 5100/10748 [00:02<00:02, 2296.96it/s]\u001b[A\n",
      " 50%|█████     | 5400/10748 [00:02<00:02, 2293.73it/s]\u001b[A\n",
      " 53%|█████▎    | 5700/10748 [00:02<00:02, 2286.11it/s]\u001b[A\n",
      " 56%|█████▌    | 6000/10748 [00:02<00:02, 2285.60it/s]\u001b[A\n",
      " 59%|█████▊    | 6300/10748 [00:02<00:01, 2280.23it/s]\u001b[A\n",
      " 61%|██████▏   | 6600/10748 [00:02<00:01, 2282.98it/s]\u001b[A\n",
      " 64%|██████▍   | 6900/10748 [00:03<00:01, 2280.58it/s]\u001b[A\n",
      " 67%|██████▋   | 7200/10748 [00:03<00:01, 2290.38it/s]\u001b[A\n",
      " 70%|██████▉   | 7500/10748 [00:03<00:01, 2277.41it/s]\u001b[A\n",
      " 73%|███████▎  | 7800/10748 [00:03<00:01, 2281.75it/s]\u001b[A\n",
      " 75%|███████▌  | 8100/10748 [00:03<00:01, 2279.73it/s]\u001b[A\n",
      " 78%|███████▊  | 8400/10748 [00:03<00:01, 2288.98it/s]\u001b[A\n",
      " 81%|████████  | 8700/10748 [00:03<00:00, 2273.68it/s]\u001b[A\n",
      " 84%|████████▎ | 9000/10748 [00:03<00:00, 2280.02it/s]\u001b[A\n",
      " 87%|████████▋ | 9300/10748 [00:04<00:00, 2283.69it/s]\u001b[A\n",
      " 89%|████████▉ | 9600/10748 [00:04<00:00, 2297.43it/s]\u001b[A\n",
      " 92%|█████████▏| 9900/10748 [00:04<00:00, 2287.13it/s]\u001b[A\n",
      " 95%|█████████▍| 10200/10748 [00:04<00:00, 2269.53it/s]\u001b[A\n",
      "100%|██████████| 10748/10748 [00:04<00:00, 2287.06it/s]\n"
     ]
    },
    {
     "name": "stdout",
     "output_type": "stream",
     "text": [
      "epoch [49/100], Loss: 0.0127\n"
     ]
    },
    {
     "name": "stderr",
     "output_type": "stream",
     "text": [
      "\n",
      "  0%|          | 0/10748 [00:00<?, ?it/s]\u001b[A\n",
      "  3%|▎         | 300/10748 [00:00<00:04, 2329.23it/s]\u001b[A\n",
      "  6%|▌         | 600/10748 [00:00<00:04, 2293.03it/s]\u001b[A\n",
      "  8%|▊         | 900/10748 [00:00<00:04, 2298.52it/s]\u001b[A\n",
      " 11%|█         | 1200/10748 [00:00<00:04, 2281.34it/s]\u001b[A\n",
      " 14%|█▍        | 1500/10748 [00:00<00:04, 2283.80it/s]\u001b[A\n",
      " 17%|█▋        | 1800/10748 [00:00<00:03, 2280.06it/s]\u001b[A\n",
      " 20%|█▉        | 2100/10748 [00:00<00:03, 2280.02it/s]\u001b[A\n",
      " 22%|██▏       | 2400/10748 [00:01<00:03, 2282.10it/s]\u001b[A\n",
      " 25%|██▌       | 2700/10748 [00:01<00:03, 2291.61it/s]\u001b[A\n",
      " 28%|██▊       | 3000/10748 [00:01<00:03, 2290.75it/s]\u001b[A\n",
      " 30%|███       | 3261/10748 [00:01<00:03, 2371.15it/s]\u001b[A\n",
      " 33%|███▎      | 3500/10748 [00:01<00:03, 2199.06it/s]\u001b[A\n",
      " 35%|███▌      | 3800/10748 [00:01<00:03, 2225.94it/s]\u001b[A\n",
      " 38%|███▊      | 4100/10748 [00:01<00:02, 2230.43it/s]\u001b[A\n",
      " 41%|████      | 4400/10748 [00:01<00:02, 2236.05it/s]\u001b[A\n",
      " 44%|████▎     | 4700/10748 [00:02<00:02, 2242.63it/s]\u001b[A\n",
      " 47%|████▋     | 5000/10748 [00:02<00:02, 2264.92it/s]\u001b[A\n",
      " 49%|████▉     | 5300/10748 [00:02<00:02, 2264.69it/s]\u001b[A\n",
      " 52%|█████▏    | 5600/10748 [00:02<00:02, 2273.62it/s]\u001b[A\n",
      " 55%|█████▍    | 5900/10748 [00:02<00:02, 2278.65it/s]\u001b[A\n",
      " 58%|█████▊    | 6200/10748 [00:02<00:02, 2270.81it/s]\u001b[A\n",
      " 60%|██████    | 6500/10748 [00:02<00:01, 2270.53it/s]\u001b[A\n",
      " 63%|██████▎   | 6800/10748 [00:02<00:01, 2277.49it/s]\u001b[A\n",
      " 66%|██████▌   | 7100/10748 [00:03<00:01, 2278.21it/s]\u001b[A\n",
      " 69%|██████▉   | 7400/10748 [00:03<00:01, 2284.53it/s]\u001b[A\n",
      " 72%|███████▏  | 7700/10748 [00:03<00:01, 2275.44it/s]\u001b[A\n",
      " 74%|███████▍  | 8000/10748 [00:03<00:01, 2280.54it/s]\u001b[A\n",
      " 77%|███████▋  | 8300/10748 [00:03<00:01, 2271.71it/s]\u001b[A\n",
      " 80%|████████  | 8600/10748 [00:03<00:00, 2279.46it/s]\u001b[A\n",
      " 83%|████████▎ | 8900/10748 [00:03<00:00, 2288.17it/s]\u001b[A\n",
      " 86%|████████▌ | 9200/10748 [00:04<00:00, 2289.36it/s]\u001b[A\n",
      " 88%|████████▊ | 9500/10748 [00:04<00:00, 2296.12it/s]\u001b[A\n",
      " 91%|█████████ | 9800/10748 [00:04<00:00, 2298.49it/s]\u001b[A\n",
      " 94%|█████████▍| 10100/10748 [00:04<00:00, 2286.95it/s]\u001b[A\n",
      " 97%|█████████▋| 10400/10748 [00:04<00:00, 2284.57it/s]\u001b[A\n",
      "100%|██████████| 10748/10748 [00:04<00:00, 2285.87it/s]\n"
     ]
    },
    {
     "name": "stdout",
     "output_type": "stream",
     "text": [
      "epoch [50/100], Loss: 0.0066\n"
     ]
    },
    {
     "name": "stderr",
     "output_type": "stream",
     "text": [
      "\n",
      "  0%|          | 0/10748 [00:00<?, ?it/s]\u001b[A\n",
      "  3%|▎         | 300/10748 [00:00<00:04, 2348.32it/s]\u001b[A\n",
      "  6%|▌         | 600/10748 [00:00<00:04, 2325.87it/s]\u001b[A\n",
      "  8%|▊         | 900/10748 [00:00<00:04, 2318.79it/s]\u001b[A\n",
      " 11%|█         | 1200/10748 [00:00<00:04, 2301.60it/s]\u001b[A\n",
      " 14%|█▍        | 1500/10748 [00:00<00:04, 2302.62it/s]\u001b[A\n",
      " 17%|█▋        | 1800/10748 [00:00<00:03, 2291.76it/s]\u001b[A\n",
      " 20%|█▉        | 2100/10748 [00:00<00:03, 2300.22it/s]\u001b[A\n",
      " 22%|██▏       | 2400/10748 [00:01<00:03, 2277.63it/s]\u001b[A\n",
      " 25%|██▌       | 2700/10748 [00:01<00:03, 2274.42it/s]\u001b[A\n",
      " 28%|██▊       | 3000/10748 [00:01<00:03, 2285.18it/s]\u001b[A\n",
      " 31%|███       | 3300/10748 [00:01<00:03, 2278.31it/s]\u001b[A\n",
      " 33%|███▎      | 3600/10748 [00:01<00:03, 2290.17it/s]\u001b[A\n",
      " 36%|███▋      | 3900/10748 [00:01<00:02, 2295.28it/s]\u001b[A\n",
      " 39%|███▉      | 4200/10748 [00:01<00:02, 2286.09it/s]\u001b[A\n",
      " 42%|████▏     | 4500/10748 [00:01<00:02, 2284.00it/s]\u001b[A\n",
      " 45%|████▍     | 4800/10748 [00:02<00:02, 2293.30it/s]\u001b[A\n",
      " 47%|████▋     | 5100/10748 [00:02<00:02, 2298.19it/s]\u001b[A\n",
      " 50%|█████     | 5400/10748 [00:02<00:02, 2305.75it/s]\u001b[A\n",
      " 53%|█████▎    | 5700/10748 [00:02<00:02, 2301.27it/s]\u001b[A\n",
      " 56%|█████▌    | 6000/10748 [00:02<00:02, 2301.77it/s]\u001b[A\n",
      " 59%|█████▊    | 6300/10748 [00:02<00:01, 2283.85it/s]\u001b[A\n",
      " 61%|██████▏   | 6600/10748 [00:02<00:01, 2285.21it/s]\u001b[A\n",
      " 64%|██████▍   | 6900/10748 [00:03<00:01, 2293.58it/s]\u001b[A\n",
      " 67%|██████▋   | 7200/10748 [00:03<00:01, 2292.48it/s]\u001b[A\n",
      " 70%|██████▉   | 7500/10748 [00:03<00:01, 2299.10it/s]\u001b[A\n",
      " 73%|███████▎  | 7800/10748 [00:03<00:01, 2288.88it/s]\u001b[A\n",
      " 75%|███████▌  | 8100/10748 [00:03<00:01, 2292.14it/s]\u001b[A\n",
      " 78%|███████▊  | 8400/10748 [00:03<00:01, 2274.38it/s]\u001b[A\n",
      " 81%|████████  | 8700/10748 [00:03<00:00, 2260.23it/s]\u001b[A\n",
      " 84%|████████▎ | 9000/10748 [00:03<00:00, 2248.08it/s]\u001b[A\n",
      " 87%|████████▋ | 9300/10748 [00:04<00:00, 2253.14it/s]\u001b[A\n",
      " 89%|████████▉ | 9600/10748 [00:04<00:00, 2268.60it/s]\u001b[A\n",
      " 92%|█████████▏| 9900/10748 [00:04<00:00, 2283.63it/s]\u001b[A\n",
      " 95%|█████████▍| 10200/10748 [00:04<00:00, 2291.57it/s]\u001b[A\n",
      "100%|██████████| 10748/10748 [00:04<00:00, 2296.95it/s]\n"
     ]
    },
    {
     "name": "stdout",
     "output_type": "stream",
     "text": [
      "epoch [51/100], Loss: 0.0041\n"
     ]
    },
    {
     "name": "stderr",
     "output_type": "stream",
     "text": [
      "\n",
      "  0%|          | 0/10748 [00:00<?, ?it/s]\u001b[A\n",
      "  3%|▎         | 300/10748 [00:00<00:04, 2340.17it/s]\u001b[A\n",
      "  6%|▌         | 600/10748 [00:00<00:04, 2317.65it/s]\u001b[A\n",
      "  8%|▊         | 900/10748 [00:00<00:04, 2303.03it/s]\u001b[A\n",
      " 11%|█         | 1200/10748 [00:00<00:04, 2291.53it/s]\u001b[A\n",
      " 14%|█▍        | 1500/10748 [00:00<00:04, 2288.20it/s]\u001b[A\n",
      " 17%|█▋        | 1800/10748 [00:00<00:03, 2293.80it/s]\u001b[A\n",
      " 20%|█▉        | 2100/10748 [00:00<00:03, 2281.93it/s]\u001b[A\n",
      " 22%|██▏       | 2400/10748 [00:01<00:03, 2278.58it/s]\u001b[A\n",
      " 25%|██▌       | 2700/10748 [00:01<00:03, 2284.01it/s]\u001b[A\n",
      " 28%|██▊       | 3000/10748 [00:01<00:03, 2282.32it/s]\u001b[A\n",
      " 31%|███       | 3300/10748 [00:01<00:03, 2289.44it/s]\u001b[A\n",
      " 33%|███▎      | 3600/10748 [00:01<00:03, 2289.48it/s]\u001b[A\n",
      " 36%|███▋      | 3900/10748 [00:01<00:03, 2269.50it/s]\u001b[A\n",
      " 39%|███▉      | 4200/10748 [00:01<00:02, 2257.66it/s]\u001b[A\n",
      " 42%|████▏     | 4500/10748 [00:01<00:02, 2255.67it/s]\u001b[A\n",
      " 45%|████▍     | 4800/10748 [00:02<00:02, 2266.74it/s]\u001b[A\n",
      " 47%|████▋     | 5100/10748 [00:02<00:02, 2265.88it/s]\u001b[A\n",
      " 50%|█████     | 5400/10748 [00:02<00:02, 2280.98it/s]\u001b[A\n",
      " 53%|█████▎    | 5700/10748 [00:02<00:02, 2271.42it/s]\u001b[A\n",
      " 56%|█████▌    | 6000/10748 [00:02<00:02, 2274.78it/s]\u001b[A\n",
      " 59%|█████▊    | 6300/10748 [00:02<00:01, 2278.92it/s]\u001b[A\n",
      " 61%|██████▏   | 6600/10748 [00:02<00:01, 2276.53it/s]\u001b[A\n",
      " 64%|██████▍   | 6900/10748 [00:03<00:01, 2291.00it/s]\u001b[A\n",
      " 67%|██████▋   | 7200/10748 [00:03<00:01, 2285.21it/s]\u001b[A\n",
      " 70%|██████▉   | 7500/10748 [00:03<00:01, 2282.73it/s]\u001b[A\n",
      " 73%|███████▎  | 7800/10748 [00:03<00:01, 2283.28it/s]\u001b[A\n",
      " 75%|███████▌  | 8100/10748 [00:03<00:01, 2273.05it/s]\u001b[A\n",
      " 78%|███████▊  | 8400/10748 [00:03<00:01, 2263.79it/s]\u001b[A\n",
      " 81%|████████  | 8700/10748 [00:03<00:00, 2256.76it/s]\u001b[A\n",
      " 84%|████████▎ | 9000/10748 [00:03<00:00, 2254.84it/s]\u001b[A\n",
      " 87%|████████▋ | 9300/10748 [00:04<00:00, 2269.23it/s]\u001b[A\n",
      " 89%|████████▉ | 9600/10748 [00:04<00:00, 2277.71it/s]\u001b[A\n",
      " 92%|█████████▏| 9900/10748 [00:04<00:00, 2267.69it/s]\u001b[A\n",
      " 95%|█████████▍| 10200/10748 [00:04<00:00, 2271.92it/s]\u001b[A\n",
      "100%|██████████| 10748/10748 [00:04<00:00, 2286.09it/s]\n"
     ]
    },
    {
     "name": "stdout",
     "output_type": "stream",
     "text": [
      "epoch [52/100], Loss: 0.0027\n"
     ]
    },
    {
     "name": "stderr",
     "output_type": "stream",
     "text": [
      "\n",
      "  0%|          | 0/10748 [00:00<?, ?it/s]\u001b[A\n",
      "  3%|▎         | 300/10748 [00:00<00:04, 2348.72it/s]\u001b[A\n",
      "  6%|▌         | 600/10748 [00:00<00:04, 2311.05it/s]\u001b[A\n",
      "  8%|▊         | 900/10748 [00:00<00:04, 2307.59it/s]\u001b[A\n",
      " 11%|█         | 1200/10748 [00:00<00:04, 2307.85it/s]\u001b[A\n",
      " 14%|█▍        | 1500/10748 [00:00<00:04, 2305.04it/s]\u001b[A\n",
      " 17%|█▋        | 1800/10748 [00:00<00:03, 2305.16it/s]\u001b[A\n",
      " 20%|█▉        | 2100/10748 [00:00<00:03, 2297.49it/s]\u001b[A\n",
      " 22%|██▏       | 2400/10748 [00:01<00:03, 2302.10it/s]\u001b[A\n",
      " 25%|██▌       | 2700/10748 [00:01<00:03, 2291.48it/s]\u001b[A\n",
      " 28%|██▊       | 3000/10748 [00:01<00:03, 2288.09it/s]\u001b[A\n",
      " 31%|███       | 3300/10748 [00:01<00:03, 2289.76it/s]\u001b[A\n",
      " 33%|███▎      | 3600/10748 [00:01<00:03, 2291.68it/s]\u001b[A\n",
      " 36%|███▋      | 3900/10748 [00:01<00:02, 2286.60it/s]\u001b[A\n",
      " 39%|███▉      | 4200/10748 [00:01<00:02, 2290.06it/s]\u001b[A\n",
      " 42%|████▏     | 4500/10748 [00:01<00:02, 2282.38it/s]\u001b[A\n",
      " 45%|████▍     | 4800/10748 [00:02<00:02, 2279.98it/s]\u001b[A\n",
      " 47%|████▋     | 5100/10748 [00:02<00:02, 2274.61it/s]\u001b[A\n",
      " 50%|█████     | 5400/10748 [00:02<00:02, 2281.86it/s]\u001b[A\n",
      " 53%|█████▎    | 5700/10748 [00:02<00:02, 2271.06it/s]\u001b[A\n",
      " 56%|█████▌    | 6000/10748 [00:02<00:02, 2278.94it/s]\u001b[A\n",
      " 59%|█████▊    | 6300/10748 [00:02<00:01, 2286.87it/s]\u001b[A\n",
      " 61%|██████▏   | 6600/10748 [00:02<00:01, 2291.59it/s]\u001b[A\n",
      " 64%|██████▍   | 6900/10748 [00:03<00:01, 2310.40it/s]\u001b[A\n",
      " 67%|██████▋   | 7200/10748 [00:03<00:01, 2309.79it/s]\u001b[A\n",
      " 70%|██████▉   | 7500/10748 [00:03<00:01, 2293.56it/s]\u001b[A\n",
      " 73%|███████▎  | 7800/10748 [00:03<00:01, 2278.39it/s]\u001b[A\n",
      " 75%|███████▌  | 8100/10748 [00:03<00:01, 2293.66it/s]\u001b[A\n",
      " 78%|███████▊  | 8400/10748 [00:03<00:01, 2286.80it/s]\u001b[A\n",
      " 81%|████████  | 8700/10748 [00:03<00:00, 2282.10it/s]\u001b[A\n",
      " 84%|████████▎ | 9000/10748 [00:03<00:00, 2294.16it/s]\u001b[A\n",
      " 87%|████████▋ | 9300/10748 [00:04<00:00, 2301.71it/s]\u001b[A\n",
      " 89%|████████▉ | 9600/10748 [00:04<00:00, 2291.85it/s]\u001b[A\n",
      " 92%|█████████▏| 9900/10748 [00:04<00:00, 2293.11it/s]\u001b[A\n",
      " 95%|█████████▍| 10200/10748 [00:04<00:00, 2283.19it/s]\u001b[A\n",
      "100%|██████████| 10748/10748 [00:04<00:00, 2297.97it/s]\n"
     ]
    },
    {
     "name": "stdout",
     "output_type": "stream",
     "text": [
      "epoch [53/100], Loss: 0.0020\n"
     ]
    },
    {
     "name": "stderr",
     "output_type": "stream",
     "text": [
      "\n",
      "  0%|          | 0/10748 [00:00<?, ?it/s]\u001b[A\n",
      "  3%|▎         | 300/10748 [00:00<00:04, 2392.06it/s]\u001b[A\n",
      "  6%|▌         | 600/10748 [00:00<00:04, 2319.37it/s]\u001b[A\n",
      "  8%|▊         | 900/10748 [00:00<00:04, 2299.22it/s]\u001b[A\n",
      " 11%|█         | 1200/10748 [00:00<00:04, 2287.19it/s]\u001b[A\n",
      " 14%|█▍        | 1500/10748 [00:00<00:04, 2287.03it/s]\u001b[A\n",
      " 17%|█▋        | 1800/10748 [00:00<00:03, 2293.96it/s]\u001b[A\n",
      " 20%|█▉        | 2100/10748 [00:00<00:03, 2281.15it/s]\u001b[A\n",
      " 22%|██▏       | 2400/10748 [00:01<00:03, 2276.07it/s]\u001b[A\n",
      " 25%|██▌       | 2700/10748 [00:01<00:03, 2279.44it/s]\u001b[A\n",
      " 28%|██▊       | 3000/10748 [00:01<00:03, 2286.19it/s]\u001b[A\n",
      " 31%|███       | 3300/10748 [00:01<00:03, 2292.63it/s]\u001b[A\n",
      " 33%|███▎      | 3600/10748 [00:01<00:03, 2290.85it/s]\u001b[A\n",
      " 36%|███▋      | 3900/10748 [00:01<00:02, 2297.00it/s]\u001b[A\n",
      " 39%|███▉      | 4200/10748 [00:01<00:02, 2300.22it/s]\u001b[A\n",
      " 42%|████▏     | 4500/10748 [00:01<00:02, 2292.03it/s]\u001b[A\n",
      " 45%|████▍     | 4800/10748 [00:02<00:02, 2292.73it/s]\u001b[A\n",
      " 47%|████▋     | 5100/10748 [00:02<00:02, 2290.60it/s]\u001b[A\n",
      " 50%|█████     | 5400/10748 [00:02<00:02, 2291.23it/s]\u001b[A\n",
      " 53%|█████▎    | 5700/10748 [00:02<00:02, 2296.40it/s]\u001b[A\n",
      " 56%|█████▌    | 6000/10748 [00:02<00:02, 2291.05it/s]\u001b[A\n",
      " 59%|█████▊    | 6300/10748 [00:02<00:01, 2273.73it/s]\u001b[A\n",
      " 61%|██████▏   | 6600/10748 [00:02<00:01, 2276.45it/s]\u001b[A\n",
      " 64%|██████▍   | 6900/10748 [00:03<00:01, 2272.94it/s]\u001b[A\n",
      " 67%|██████▋   | 7200/10748 [00:03<00:01, 2288.76it/s]\u001b[A\n",
      " 70%|██████▉   | 7500/10748 [00:03<00:01, 2297.25it/s]\u001b[A\n",
      " 73%|███████▎  | 7800/10748 [00:03<00:01, 2302.36it/s]\u001b[A\n",
      " 75%|███████▌  | 8100/10748 [00:03<00:01, 2274.29it/s]\u001b[A\n",
      " 78%|███████▊  | 8400/10748 [00:03<00:01, 2282.19it/s]\u001b[A\n",
      " 81%|████████  | 8700/10748 [00:03<00:00, 2288.25it/s]\u001b[A\n",
      " 84%|████████▎ | 9000/10748 [00:03<00:00, 2283.05it/s]\u001b[A\n",
      " 87%|████████▋ | 9300/10748 [00:04<00:00, 2272.74it/s]\u001b[A\n",
      " 89%|████████▉ | 9600/10748 [00:04<00:00, 2270.62it/s]\u001b[A\n",
      " 92%|█████████▏| 9900/10748 [00:04<00:00, 2273.50it/s]\u001b[A\n",
      " 95%|█████████▍| 10200/10748 [00:04<00:00, 2266.06it/s]\u001b[A\n",
      "100%|██████████| 10748/10748 [00:04<00:00, 2293.92it/s]\n"
     ]
    },
    {
     "name": "stdout",
     "output_type": "stream",
     "text": [
      "epoch [54/100], Loss: 0.0016\n"
     ]
    },
    {
     "name": "stderr",
     "output_type": "stream",
     "text": [
      "\n",
      "  0%|          | 0/10748 [00:00<?, ?it/s]\u001b[A\n",
      "  3%|▎         | 300/10748 [00:00<00:04, 2364.28it/s]\u001b[A\n",
      "  6%|▌         | 600/10748 [00:00<00:04, 2302.73it/s]\u001b[A\n",
      "  8%|▊         | 900/10748 [00:00<00:04, 2289.63it/s]\u001b[A\n",
      " 11%|█         | 1200/10748 [00:00<00:04, 2280.25it/s]\u001b[A\n",
      " 14%|█▍        | 1500/10748 [00:00<00:04, 2282.72it/s]\u001b[A\n",
      " 17%|█▋        | 1800/10748 [00:00<00:03, 2281.29it/s]\u001b[A\n",
      " 20%|█▉        | 2100/10748 [00:00<00:03, 2281.89it/s]\u001b[A\n",
      " 22%|██▏       | 2400/10748 [00:01<00:03, 2283.48it/s]\u001b[A\n",
      " 25%|██▌       | 2700/10748 [00:01<00:03, 2292.87it/s]\u001b[A\n",
      " 28%|██▊       | 3000/10748 [00:01<00:03, 2296.23it/s]\u001b[A\n",
      " 31%|███       | 3300/10748 [00:01<00:03, 2284.76it/s]\u001b[A\n",
      " 33%|███▎      | 3600/10748 [00:01<00:03, 2277.01it/s]\u001b[A\n",
      " 36%|███▋      | 3900/10748 [00:01<00:03, 2257.72it/s]\u001b[A\n",
      " 39%|███▉      | 4200/10748 [00:01<00:02, 2271.98it/s]\u001b[A\n",
      " 42%|████▏     | 4500/10748 [00:01<00:02, 2285.70it/s]\u001b[A\n",
      " 45%|████▍     | 4800/10748 [00:02<00:02, 2287.96it/s]\u001b[A\n",
      " 47%|████▋     | 5100/10748 [00:02<00:02, 2279.26it/s]\u001b[A\n",
      " 50%|█████     | 5400/10748 [00:02<00:02, 2290.20it/s]\u001b[A\n",
      " 53%|█████▎    | 5700/10748 [00:02<00:02, 2292.35it/s]\u001b[A\n",
      " 56%|█████▌    | 6000/10748 [00:02<00:02, 2298.82it/s]\u001b[A\n",
      " 59%|█████▊    | 6300/10748 [00:02<00:01, 2302.15it/s]\u001b[A\n",
      " 61%|██████▏   | 6600/10748 [00:02<00:01, 2298.12it/s]\u001b[A\n",
      " 64%|██████▍   | 6900/10748 [00:03<00:01, 2283.68it/s]\u001b[A\n",
      " 67%|██████▋   | 7200/10748 [00:03<00:01, 2289.99it/s]\u001b[A\n",
      " 70%|██████▉   | 7500/10748 [00:03<00:01, 2293.93it/s]\u001b[A\n",
      " 73%|███████▎  | 7800/10748 [00:03<00:01, 2276.61it/s]\u001b[A\n",
      " 75%|███████▌  | 8100/10748 [00:03<00:01, 2279.59it/s]\u001b[A\n",
      " 78%|███████▊  | 8400/10748 [00:03<00:01, 2271.56it/s]\u001b[A\n",
      " 81%|████████  | 8700/10748 [00:03<00:00, 2275.22it/s]\u001b[A\n",
      " 84%|████████▎ | 9000/10748 [00:03<00:00, 2283.31it/s]\u001b[A\n",
      " 87%|████████▋ | 9300/10748 [00:04<00:00, 2271.46it/s]\u001b[A\n",
      " 89%|████████▉ | 9600/10748 [00:04<00:00, 2281.14it/s]\u001b[A\n",
      " 92%|█████████▏| 9900/10748 [00:04<00:00, 2268.58it/s]\u001b[A\n",
      " 95%|█████████▍| 10200/10748 [00:04<00:00, 2265.73it/s]\u001b[A\n",
      "100%|██████████| 10748/10748 [00:04<00:00, 2291.08it/s]\n"
     ]
    },
    {
     "name": "stdout",
     "output_type": "stream",
     "text": [
      "epoch [55/100], Loss: 0.0013\n"
     ]
    },
    {
     "name": "stderr",
     "output_type": "stream",
     "text": [
      "\n",
      "  0%|          | 0/10748 [00:00<?, ?it/s]\u001b[A\n",
      "  3%|▎         | 300/10748 [00:00<00:04, 2356.35it/s]\u001b[A\n",
      "  6%|▌         | 600/10748 [00:00<00:04, 2297.56it/s]\u001b[A\n",
      "  8%|▊         | 900/10748 [00:00<00:04, 2294.21it/s]\u001b[A\n",
      " 11%|█         | 1200/10748 [00:00<00:04, 2283.78it/s]\u001b[A\n",
      " 14%|█▍        | 1500/10748 [00:00<00:04, 2286.38it/s]\u001b[A\n",
      " 17%|█▋        | 1800/10748 [00:00<00:03, 2286.83it/s]\u001b[A\n",
      " 20%|█▉        | 2100/10748 [00:00<00:03, 2286.34it/s]\u001b[A\n",
      " 22%|██▏       | 2400/10748 [00:01<00:03, 2279.99it/s]\u001b[A\n",
      " 25%|██▌       | 2700/10748 [00:01<00:03, 2267.25it/s]\u001b[A\n",
      " 28%|██▊       | 3000/10748 [00:01<00:03, 2265.52it/s]\u001b[A\n",
      " 31%|███       | 3300/10748 [00:01<00:03, 2279.16it/s]\u001b[A\n",
      " 33%|███▎      | 3600/10748 [00:01<00:03, 2289.43it/s]\u001b[A\n",
      " 36%|███▋      | 3900/10748 [00:01<00:02, 2288.05it/s]\u001b[A\n",
      " 39%|███▉      | 4200/10748 [00:01<00:02, 2280.71it/s]\u001b[A\n",
      " 42%|████▏     | 4500/10748 [00:01<00:02, 2280.07it/s]\u001b[A\n",
      " 45%|████▍     | 4800/10748 [00:02<00:02, 2266.10it/s]\u001b[A\n",
      " 47%|████▋     | 5100/10748 [00:02<00:02, 2271.01it/s]\u001b[A\n",
      " 50%|█████     | 5400/10748 [00:02<00:02, 2270.51it/s]\u001b[A\n",
      " 53%|█████▎    | 5700/10748 [00:02<00:02, 2280.01it/s]\u001b[A\n",
      " 56%|█████▌    | 6000/10748 [00:02<00:02, 2284.41it/s]\u001b[A\n",
      " 59%|█████▊    | 6300/10748 [00:02<00:01, 2297.07it/s]\u001b[A\n",
      " 61%|██████▏   | 6600/10748 [00:02<00:01, 2281.32it/s]\u001b[A\n",
      " 64%|██████▍   | 6900/10748 [00:03<00:01, 2277.80it/s]\u001b[A\n",
      " 67%|██████▋   | 7200/10748 [00:03<00:01, 2252.70it/s]\u001b[A\n",
      " 70%|██████▉   | 7500/10748 [00:03<00:01, 2257.38it/s]\u001b[A\n",
      " 73%|███████▎  | 7800/10748 [00:03<00:01, 2262.64it/s]\u001b[A\n",
      " 75%|███████▌  | 8100/10748 [00:03<00:01, 2269.82it/s]\u001b[A\n",
      " 78%|███████▊  | 8400/10748 [00:03<00:01, 2279.02it/s]\u001b[A\n",
      " 81%|████████  | 8700/10748 [00:03<00:00, 2287.85it/s]\u001b[A\n",
      " 84%|████████▎ | 9000/10748 [00:03<00:00, 2265.60it/s]\u001b[A\n",
      " 87%|████████▋ | 9300/10748 [00:04<00:00, 2275.92it/s]\u001b[A\n",
      " 89%|████████▉ | 9600/10748 [00:04<00:00, 2289.95it/s]\u001b[A\n",
      " 92%|█████████▏| 9900/10748 [00:04<00:00, 2293.30it/s]\u001b[A\n",
      " 95%|█████████▍| 10200/10748 [00:04<00:00, 2298.22it/s]\u001b[A\n",
      "100%|██████████| 10748/10748 [00:04<00:00, 2290.36it/s]\n"
     ]
    },
    {
     "name": "stdout",
     "output_type": "stream",
     "text": [
      "epoch [56/100], Loss: 0.0012\n"
     ]
    },
    {
     "name": "stderr",
     "output_type": "stream",
     "text": [
      "\n",
      "  0%|          | 0/10748 [00:00<?, ?it/s]\u001b[A\n",
      "  3%|▎         | 300/10748 [00:00<00:04, 2289.81it/s]\u001b[A\n",
      "  6%|▌         | 600/10748 [00:00<00:04, 2272.92it/s]\u001b[A\n",
      "  8%|▊         | 900/10748 [00:00<00:04, 2271.49it/s]\u001b[A\n",
      " 11%|█         | 1200/10748 [00:00<00:04, 2286.76it/s]\u001b[A\n",
      " 14%|█▍        | 1500/10748 [00:00<00:04, 2280.37it/s]\u001b[A\n",
      " 17%|█▋        | 1800/10748 [00:00<00:03, 2299.18it/s]\u001b[A\n",
      " 20%|█▉        | 2100/10748 [00:00<00:03, 2292.13it/s]\u001b[A\n",
      " 22%|██▏       | 2400/10748 [00:01<00:03, 2284.20it/s]\u001b[A\n",
      " 25%|██▌       | 2700/10748 [00:01<00:03, 2297.31it/s]\u001b[A\n",
      " 28%|██▊       | 3000/10748 [00:01<00:03, 2299.64it/s]\u001b[A\n",
      " 31%|███       | 3300/10748 [00:01<00:03, 2305.08it/s]\u001b[A\n",
      " 33%|███▎      | 3600/10748 [00:01<00:03, 2295.70it/s]\u001b[A\n",
      " 36%|███▋      | 3900/10748 [00:01<00:02, 2283.96it/s]\u001b[A\n",
      " 39%|███▉      | 4200/10748 [00:01<00:02, 2274.36it/s]\u001b[A\n",
      " 42%|████▏     | 4500/10748 [00:01<00:02, 2278.98it/s]\u001b[A\n",
      " 45%|████▍     | 4800/10748 [00:02<00:02, 2258.98it/s]\u001b[A\n",
      " 47%|████▋     | 5100/10748 [00:02<00:02, 2262.31it/s]\u001b[A\n",
      " 50%|█████     | 5400/10748 [00:02<00:02, 2262.58it/s]\u001b[A\n",
      " 53%|█████▎    | 5700/10748 [00:02<00:02, 2269.70it/s]\u001b[A\n",
      " 56%|█████▌    | 6000/10748 [00:02<00:02, 2268.38it/s]\u001b[A\n",
      " 59%|█████▊    | 6300/10748 [00:02<00:01, 2262.14it/s]\u001b[A\n",
      " 61%|██████▏   | 6600/10748 [00:02<00:01, 2275.05it/s]\u001b[A\n",
      " 64%|██████▍   | 6900/10748 [00:03<00:01, 2273.77it/s]\u001b[A\n",
      " 67%|██████▋   | 7200/10748 [00:03<00:01, 2276.76it/s]\u001b[A\n",
      " 70%|██████▉   | 7500/10748 [00:03<00:01, 2282.58it/s]\u001b[A\n",
      " 73%|███████▎  | 7800/10748 [00:03<00:01, 2278.86it/s]\u001b[A\n",
      " 75%|███████▌  | 8100/10748 [00:03<00:01, 2285.00it/s]\u001b[A\n",
      " 78%|███████▊  | 8400/10748 [00:03<00:01, 2279.21it/s]\u001b[A\n",
      " 81%|████████  | 8700/10748 [00:03<00:00, 2284.02it/s]\u001b[A\n",
      " 84%|████████▎ | 9000/10748 [00:03<00:00, 2272.59it/s]\u001b[A\n",
      " 87%|████████▋ | 9300/10748 [00:04<00:00, 2275.90it/s]\u001b[A\n",
      " 89%|████████▉ | 9600/10748 [00:04<00:00, 2264.38it/s]\u001b[A\n",
      " 92%|█████████▏| 9900/10748 [00:04<00:00, 2259.47it/s]\u001b[A\n",
      " 95%|█████████▍| 10200/10748 [00:04<00:00, 2271.64it/s]\u001b[A\n",
      "100%|██████████| 10748/10748 [00:04<00:00, 2285.61it/s]\n"
     ]
    },
    {
     "name": "stdout",
     "output_type": "stream",
     "text": [
      "epoch [57/100], Loss: 0.0011\n"
     ]
    },
    {
     "name": "stderr",
     "output_type": "stream",
     "text": [
      "\n",
      "  0%|          | 0/10748 [00:00<?, ?it/s]\u001b[A\n",
      "  3%|▎         | 300/10748 [00:00<00:04, 2379.72it/s]\u001b[A\n",
      "  6%|▌         | 600/10748 [00:00<00:04, 2343.07it/s]\u001b[A\n",
      "  8%|▊         | 900/10748 [00:00<00:04, 2294.58it/s]\u001b[A\n",
      " 11%|█         | 1200/10748 [00:00<00:04, 2280.98it/s]\u001b[A\n",
      " 14%|█▍        | 1500/10748 [00:00<00:04, 2259.17it/s]\u001b[A\n",
      " 17%|█▋        | 1800/10748 [00:00<00:03, 2240.83it/s]\u001b[A\n",
      " 20%|█▉        | 2100/10748 [00:00<00:03, 2253.87it/s]\u001b[A\n",
      " 22%|██▏       | 2400/10748 [00:01<00:03, 2264.29it/s]\u001b[A\n",
      " 25%|██▌       | 2700/10748 [00:01<00:03, 2274.02it/s]\u001b[A\n",
      " 28%|██▊       | 3000/10748 [00:01<00:03, 2272.02it/s]\u001b[A\n",
      " 31%|███       | 3300/10748 [00:01<00:03, 2288.12it/s]\u001b[A\n",
      " 33%|███▎      | 3600/10748 [00:01<00:03, 2276.74it/s]\u001b[A\n",
      " 36%|███▋      | 3900/10748 [00:01<00:02, 2285.41it/s]\u001b[A\n",
      " 39%|███▉      | 4200/10748 [00:01<00:02, 2278.00it/s]\u001b[A\n",
      " 42%|████▏     | 4500/10748 [00:01<00:02, 2277.97it/s]\u001b[A\n",
      " 45%|████▍     | 4800/10748 [00:02<00:02, 2272.43it/s]\u001b[A\n",
      " 47%|████▋     | 5100/10748 [00:02<00:02, 2274.35it/s]\u001b[A\n",
      " 50%|█████     | 5400/10748 [00:02<00:02, 2272.38it/s]\u001b[A\n",
      " 53%|█████▎    | 5700/10748 [00:02<00:02, 2278.58it/s]\u001b[A\n",
      " 56%|█████▌    | 6000/10748 [00:02<00:02, 2277.81it/s]\u001b[A\n",
      " 59%|█████▊    | 6300/10748 [00:02<00:01, 2271.11it/s]\u001b[A\n",
      " 61%|██████▏   | 6600/10748 [00:02<00:01, 2279.84it/s]\u001b[A\n",
      " 64%|██████▍   | 6900/10748 [00:03<00:01, 2282.53it/s]\u001b[A\n",
      " 67%|██████▋   | 7200/10748 [00:03<00:01, 2279.46it/s]\u001b[A\n",
      " 70%|██████▉   | 7500/10748 [00:03<00:01, 2286.18it/s]\u001b[A\n",
      " 73%|███████▎  | 7800/10748 [00:03<00:01, 2291.56it/s]\u001b[A\n",
      " 75%|███████▌  | 8100/10748 [00:03<00:01, 2290.28it/s]\u001b[A\n",
      " 78%|███████▊  | 8400/10748 [00:03<00:01, 2284.41it/s]\u001b[A\n",
      " 81%|████████  | 8700/10748 [00:03<00:00, 2289.36it/s]\u001b[A\n",
      " 84%|████████▎ | 9000/10748 [00:03<00:00, 2278.07it/s]\u001b[A\n",
      " 87%|████████▋ | 9300/10748 [00:04<00:00, 2288.10it/s]\u001b[A\n",
      " 89%|████████▉ | 9600/10748 [00:04<00:00, 2286.41it/s]\u001b[A\n",
      " 92%|█████████▏| 9900/10748 [00:04<00:00, 2268.76it/s]\u001b[A\n",
      " 95%|█████████▍| 10200/10748 [00:04<00:00, 2278.20it/s]\u001b[A\n",
      "100%|██████████| 10748/10748 [00:04<00:00, 2286.72it/s]\n"
     ]
    },
    {
     "name": "stdout",
     "output_type": "stream",
     "text": [
      "epoch [58/100], Loss: 0.0011\n"
     ]
    },
    {
     "name": "stderr",
     "output_type": "stream",
     "text": [
      "\n",
      "  0%|          | 0/10748 [00:00<?, ?it/s]\u001b[A\n",
      "  3%|▎         | 300/10748 [00:00<00:04, 2316.69it/s]\u001b[A\n",
      "  6%|▌         | 600/10748 [00:00<00:04, 2287.16it/s]\u001b[A\n",
      "  8%|▊         | 900/10748 [00:00<00:04, 2289.43it/s]\u001b[A\n",
      " 11%|█         | 1200/10748 [00:00<00:04, 2289.00it/s]\u001b[A\n",
      " 14%|█▍        | 1500/10748 [00:00<00:04, 2289.82it/s]\u001b[A\n",
      " 17%|█▋        | 1800/10748 [00:00<00:03, 2296.62it/s]\u001b[A\n",
      " 20%|█▉        | 2100/10748 [00:00<00:03, 2292.62it/s]\u001b[A\n",
      " 22%|██▏       | 2400/10748 [00:01<00:03, 2294.47it/s]\u001b[A\n",
      " 25%|██▌       | 2700/10748 [00:01<00:03, 2297.82it/s]\u001b[A\n",
      " 28%|██▊       | 3000/10748 [00:01<00:03, 2293.08it/s]\u001b[A\n",
      " 31%|███       | 3300/10748 [00:01<00:03, 2283.16it/s]\u001b[A\n",
      " 33%|███▎      | 3600/10748 [00:01<00:03, 2277.82it/s]\u001b[A\n",
      " 36%|███▋      | 3900/10748 [00:01<00:03, 2280.30it/s]\u001b[A\n",
      " 39%|███▉      | 4200/10748 [00:01<00:02, 2282.13it/s]\u001b[A\n",
      " 42%|████▏     | 4500/10748 [00:01<00:02, 2273.65it/s]\u001b[A\n",
      " 45%|████▍     | 4800/10748 [00:02<00:02, 2286.06it/s]\u001b[A\n",
      " 47%|████▋     | 5100/10748 [00:02<00:02, 2282.61it/s]\u001b[A\n",
      " 50%|█████     | 5400/10748 [00:02<00:02, 2293.73it/s]\u001b[A\n",
      " 53%|█████▎    | 5700/10748 [00:02<00:02, 2285.35it/s]\u001b[A\n",
      " 56%|█████▌    | 6000/10748 [00:02<00:02, 2277.07it/s]\u001b[A\n",
      " 59%|█████▊    | 6300/10748 [00:02<00:01, 2273.73it/s]\u001b[A\n",
      " 61%|██████▏   | 6600/10748 [00:02<00:01, 2276.56it/s]\u001b[A\n",
      " 64%|██████▍   | 6900/10748 [00:03<00:01, 2272.74it/s]\u001b[A\n",
      " 67%|██████▋   | 7200/10748 [00:03<00:01, 2273.79it/s]\u001b[A\n",
      " 70%|██████▉   | 7500/10748 [00:03<00:01, 2283.29it/s]\u001b[A\n",
      " 73%|███████▎  | 7800/10748 [00:03<00:01, 2284.00it/s]\u001b[A\n",
      " 75%|███████▌  | 8100/10748 [00:03<00:01, 2274.30it/s]\u001b[A\n",
      " 78%|███████▊  | 8400/10748 [00:03<00:01, 2279.53it/s]\u001b[A\n",
      " 81%|████████  | 8700/10748 [00:03<00:00, 2290.53it/s]\u001b[A\n",
      " 84%|████████▎ | 9000/10748 [00:03<00:00, 2289.53it/s]\u001b[A\n",
      " 87%|████████▋ | 9300/10748 [00:04<00:00, 2299.23it/s]\u001b[A\n",
      " 89%|████████▉ | 9600/10748 [00:04<00:00, 2308.32it/s]\u001b[A\n",
      " 92%|█████████▏| 9900/10748 [00:04<00:00, 2313.50it/s]\u001b[A\n",
      " 95%|█████████▍| 10200/10748 [00:04<00:00, 2297.54it/s]\u001b[A\n",
      "100%|██████████| 10748/10748 [00:04<00:00, 2296.20it/s]\n"
     ]
    },
    {
     "name": "stdout",
     "output_type": "stream",
     "text": [
      "epoch [59/100], Loss: 0.0011\n"
     ]
    },
    {
     "name": "stderr",
     "output_type": "stream",
     "text": [
      "\n",
      "  0%|          | 0/10748 [00:00<?, ?it/s]\u001b[A\n",
      "  3%|▎         | 300/10748 [00:00<00:04, 2362.10it/s]\u001b[A\n",
      "  6%|▌         | 600/10748 [00:00<00:04, 2331.62it/s]\u001b[A\n",
      "  8%|▊         | 900/10748 [00:00<00:04, 2304.11it/s]\u001b[A\n",
      " 11%|█         | 1200/10748 [00:00<00:04, 2309.91it/s]\u001b[A\n",
      " 14%|█▍        | 1500/10748 [00:00<00:04, 2299.14it/s]\u001b[A\n",
      " 17%|█▋        | 1800/10748 [00:00<00:03, 2273.56it/s]\u001b[A\n",
      " 20%|█▉        | 2100/10748 [00:00<00:03, 2279.74it/s]\u001b[A\n",
      " 22%|██▏       | 2400/10748 [00:01<00:03, 2277.69it/s]\u001b[A\n",
      " 25%|██▌       | 2700/10748 [00:01<00:03, 2277.44it/s]\u001b[A\n",
      " 28%|██▊       | 3000/10748 [00:01<00:03, 2282.16it/s]\u001b[A\n",
      " 31%|███       | 3300/10748 [00:01<00:03, 2289.85it/s]\u001b[A\n",
      " 33%|███▎      | 3600/10748 [00:01<00:03, 2288.50it/s]\u001b[A\n",
      " 36%|███▋      | 3900/10748 [00:01<00:03, 2277.64it/s]\u001b[A\n",
      " 39%|███▉      | 4200/10748 [00:01<00:02, 2283.94it/s]\u001b[A\n",
      " 42%|████▏     | 4500/10748 [00:01<00:02, 2280.52it/s]\u001b[A\n",
      " 45%|████▍     | 4800/10748 [00:02<00:02, 2290.62it/s]\u001b[A\n",
      " 47%|████▋     | 5100/10748 [00:02<00:02, 2289.35it/s]\u001b[A\n",
      " 50%|█████     | 5400/10748 [00:02<00:02, 2284.57it/s]\u001b[A\n",
      " 53%|█████▎    | 5700/10748 [00:02<00:02, 2275.96it/s]\u001b[A\n",
      " 56%|█████▌    | 6000/10748 [00:02<00:02, 2284.86it/s]\u001b[A\n",
      " 59%|█████▊    | 6300/10748 [00:02<00:01, 2293.68it/s]\u001b[A\n",
      " 61%|██████▏   | 6600/10748 [00:02<00:01, 2296.11it/s]\u001b[A\n",
      " 64%|██████▍   | 6900/10748 [00:03<00:01, 2303.62it/s]\u001b[A\n",
      " 67%|██████▋   | 7200/10748 [00:03<00:01, 2297.22it/s]\u001b[A\n",
      " 70%|██████▉   | 7500/10748 [00:03<00:01, 2276.17it/s]\u001b[A\n",
      " 73%|███████▎  | 7800/10748 [00:03<00:01, 2277.32it/s]\u001b[A\n",
      " 75%|███████▌  | 8100/10748 [00:03<00:01, 2291.14it/s]\u001b[A\n",
      " 78%|███████▊  | 8400/10748 [00:03<00:01, 2293.33it/s]\u001b[A\n",
      " 81%|████████  | 8700/10748 [00:03<00:00, 2284.27it/s]\u001b[A\n",
      " 84%|████████▎ | 9000/10748 [00:03<00:00, 2292.01it/s]\u001b[A\n",
      " 87%|████████▋ | 9300/10748 [00:04<00:00, 2288.59it/s]\u001b[A\n",
      " 89%|████████▉ | 9600/10748 [00:04<00:00, 2288.91it/s]\u001b[A\n",
      " 92%|█████████▏| 9900/10748 [00:04<00:00, 2290.69it/s]\u001b[A\n",
      " 95%|█████████▍| 10200/10748 [00:04<00:00, 2288.70it/s]\u001b[A\n",
      "100%|██████████| 10748/10748 [00:04<00:00, 2297.88it/s]\n"
     ]
    },
    {
     "name": "stdout",
     "output_type": "stream",
     "text": [
      "epoch [60/100], Loss: 0.0010\n"
     ]
    },
    {
     "name": "stderr",
     "output_type": "stream",
     "text": [
      "\n",
      "  0%|          | 0/10748 [00:00<?, ?it/s]\u001b[A\n",
      "  3%|▎         | 300/10748 [00:00<00:04, 2348.24it/s]\u001b[A\n",
      "  6%|▌         | 600/10748 [00:00<00:04, 2344.33it/s]\u001b[A\n",
      "  8%|▊         | 900/10748 [00:00<00:04, 2335.51it/s]\u001b[A\n",
      " 11%|█         | 1200/10748 [00:00<00:04, 2329.78it/s]\u001b[A\n",
      " 14%|█▍        | 1500/10748 [00:00<00:04, 2309.21it/s]\u001b[A\n",
      " 17%|█▋        | 1800/10748 [00:00<00:03, 2282.37it/s]\u001b[A\n",
      " 20%|█▉        | 2100/10748 [00:00<00:03, 2279.42it/s]\u001b[A\n",
      " 22%|██▏       | 2400/10748 [00:01<00:03, 2286.96it/s]\u001b[A\n",
      " 25%|██▌       | 2700/10748 [00:01<00:03, 2277.13it/s]\u001b[A\n",
      " 28%|██▊       | 3000/10748 [00:01<00:03, 2271.41it/s]\u001b[A\n",
      " 31%|███       | 3300/10748 [00:01<00:03, 2278.74it/s]\u001b[A\n",
      " 33%|███▎      | 3600/10748 [00:01<00:03, 2272.21it/s]\u001b[A\n",
      " 36%|███▋      | 3900/10748 [00:01<00:03, 2267.78it/s]\u001b[A\n",
      " 39%|███▉      | 4200/10748 [00:01<00:02, 2270.62it/s]\u001b[A\n",
      " 42%|████▏     | 4500/10748 [00:01<00:02, 2253.69it/s]\u001b[A\n",
      " 45%|████▍     | 4800/10748 [00:02<00:02, 2259.23it/s]\u001b[A\n",
      " 47%|████▋     | 5100/10748 [00:02<00:02, 2274.83it/s]\u001b[A\n",
      " 50%|█████     | 5400/10748 [00:02<00:02, 2276.05it/s]\u001b[A\n",
      " 53%|█████▎    | 5700/10748 [00:02<00:02, 2280.69it/s]\u001b[A\n",
      " 56%|█████▌    | 6000/10748 [00:02<00:02, 2278.59it/s]\u001b[A\n",
      " 59%|█████▊    | 6300/10748 [00:02<00:01, 2282.66it/s]\u001b[A\n",
      " 61%|██████▏   | 6600/10748 [00:02<00:01, 2282.88it/s]\u001b[A\n",
      " 64%|██████▍   | 6900/10748 [00:03<00:01, 2287.35it/s]\u001b[A\n",
      " 67%|██████▋   | 7200/10748 [00:03<00:01, 2297.99it/s]\u001b[A\n",
      " 70%|██████▉   | 7500/10748 [00:03<00:01, 2287.67it/s]\u001b[A\n",
      " 73%|███████▎  | 7800/10748 [00:03<00:01, 2287.50it/s]\u001b[A\n",
      " 75%|███████▌  | 8100/10748 [00:03<00:01, 2282.05it/s]\u001b[A\n",
      " 78%|███████▊  | 8400/10748 [00:03<00:01, 2281.05it/s]\u001b[A\n",
      " 81%|████████  | 8700/10748 [00:03<00:00, 2287.60it/s]\u001b[A\n",
      " 84%|████████▎ | 9000/10748 [00:03<00:00, 2292.60it/s]\u001b[A\n",
      " 87%|████████▋ | 9300/10748 [00:04<00:00, 2273.28it/s]\u001b[A\n",
      " 89%|████████▉ | 9600/10748 [00:04<00:00, 2271.14it/s]\u001b[A\n",
      " 92%|█████████▏| 9900/10748 [00:04<00:00, 2280.21it/s]\u001b[A\n",
      " 95%|█████████▍| 10200/10748 [00:04<00:00, 2274.91it/s]\u001b[A\n",
      "100%|██████████| 10748/10748 [00:04<00:00, 2292.31it/s]\n"
     ]
    },
    {
     "name": "stdout",
     "output_type": "stream",
     "text": [
      "epoch [61/100], Loss: 0.0010\n"
     ]
    },
    {
     "name": "stderr",
     "output_type": "stream",
     "text": [
      "\n",
      "  0%|          | 0/10748 [00:00<?, ?it/s]\u001b[A\n",
      "  3%|▎         | 300/10748 [00:00<00:04, 2387.87it/s]\u001b[A\n",
      "  6%|▌         | 600/10748 [00:00<00:04, 2322.34it/s]\u001b[A\n",
      "  8%|▊         | 900/10748 [00:00<00:04, 2308.12it/s]\u001b[A\n",
      " 11%|█         | 1200/10748 [00:00<00:04, 2292.48it/s]\u001b[A\n",
      " 14%|█▍        | 1500/10748 [00:00<00:04, 2289.75it/s]\u001b[A\n",
      " 17%|█▋        | 1800/10748 [00:00<00:03, 2276.65it/s]\u001b[A\n",
      " 20%|█▉        | 2100/10748 [00:00<00:03, 2239.74it/s]\u001b[A\n",
      " 22%|██▏       | 2400/10748 [00:01<00:03, 2243.59it/s]\u001b[A\n",
      " 25%|██▌       | 2700/10748 [00:01<00:03, 2242.19it/s]\u001b[A\n",
      " 28%|██▊       | 3000/10748 [00:01<00:03, 2230.42it/s]\u001b[A\n",
      " 31%|███       | 3300/10748 [00:01<00:03, 2249.42it/s]\u001b[A\n",
      " 33%|███▎      | 3600/10748 [00:01<00:03, 2266.66it/s]\u001b[A\n",
      " 36%|███▋      | 3900/10748 [00:01<00:02, 2285.56it/s]\u001b[A\n",
      " 39%|███▉      | 4200/10748 [00:01<00:02, 2289.60it/s]\u001b[A\n",
      " 42%|████▏     | 4500/10748 [00:01<00:02, 2288.16it/s]\u001b[A\n",
      " 45%|████▍     | 4800/10748 [00:02<00:02, 2289.21it/s]\u001b[A\n",
      " 47%|████▋     | 5100/10748 [00:02<00:02, 2287.72it/s]\u001b[A\n",
      " 50%|█████     | 5400/10748 [00:02<00:02, 2275.80it/s]\u001b[A\n",
      " 53%|█████▎    | 5700/10748 [00:02<00:02, 2283.61it/s]\u001b[A\n",
      " 56%|█████▌    | 6000/10748 [00:02<00:02, 2290.52it/s]\u001b[A\n",
      " 59%|█████▊    | 6300/10748 [00:02<00:01, 2296.58it/s]\u001b[A\n",
      " 61%|██████▏   | 6600/10748 [00:02<00:01, 2306.11it/s]\u001b[A\n",
      " 64%|██████▍   | 6900/10748 [00:03<00:01, 2283.35it/s]\u001b[A\n",
      " 67%|██████▋   | 7200/10748 [00:03<00:01, 2279.34it/s]\u001b[A\n",
      " 70%|██████▉   | 7500/10748 [00:03<00:01, 2270.14it/s]\u001b[A\n",
      " 73%|███████▎  | 7800/10748 [00:03<00:01, 2270.58it/s]\u001b[A\n",
      " 75%|███████▌  | 8100/10748 [00:03<00:01, 2271.83it/s]\u001b[A\n",
      " 78%|███████▊  | 8400/10748 [00:03<00:01, 2286.86it/s]\u001b[A\n",
      " 81%|████████  | 8700/10748 [00:03<00:00, 2280.14it/s]\u001b[A\n",
      " 84%|████████▎ | 9000/10748 [00:03<00:00, 2277.28it/s]\u001b[A\n",
      " 87%|████████▋ | 9300/10748 [00:04<00:00, 2268.71it/s]\u001b[A\n",
      " 89%|████████▉ | 9600/10748 [00:04<00:00, 2281.31it/s]\u001b[A\n",
      " 92%|█████████▏| 9900/10748 [00:04<00:00, 2279.64it/s]\u001b[A\n",
      " 95%|█████████▍| 10200/10748 [00:04<00:00, 2285.55it/s]\u001b[A\n",
      "100%|██████████| 10748/10748 [00:04<00:00, 2289.66it/s]\n"
     ]
    },
    {
     "name": "stdout",
     "output_type": "stream",
     "text": [
      "epoch [62/100], Loss: 0.0010\n"
     ]
    },
    {
     "name": "stderr",
     "output_type": "stream",
     "text": [
      "\n",
      "  0%|          | 0/10748 [00:00<?, ?it/s]\u001b[A\n",
      "  3%|▎         | 300/10748 [00:00<00:04, 2407.52it/s]\u001b[A\n",
      "  6%|▌         | 600/10748 [00:00<00:04, 2340.28it/s]\u001b[A\n",
      "  8%|▊         | 900/10748 [00:00<00:04, 2328.52it/s]\u001b[A\n",
      " 11%|█         | 1200/10748 [00:00<00:04, 2315.93it/s]\u001b[A\n",
      " 14%|█▍        | 1500/10748 [00:00<00:04, 2259.47it/s]\u001b[A\n",
      " 17%|█▋        | 1800/10748 [00:00<00:03, 2258.81it/s]\u001b[A\n",
      " 20%|█▉        | 2100/10748 [00:00<00:03, 2259.61it/s]\u001b[A\n",
      " 22%|██▏       | 2400/10748 [00:01<00:03, 2260.08it/s]\u001b[A\n",
      " 25%|██▌       | 2700/10748 [00:01<00:03, 2267.84it/s]\u001b[A\n",
      " 28%|██▊       | 3000/10748 [00:01<00:03, 2275.34it/s]\u001b[A\n",
      " 31%|███       | 3300/10748 [00:01<00:03, 2283.38it/s]\u001b[A\n",
      " 33%|███▎      | 3600/10748 [00:01<00:03, 2292.04it/s]\u001b[A\n",
      " 36%|███▋      | 3900/10748 [00:01<00:03, 2282.15it/s]\u001b[A\n",
      " 39%|███▉      | 4200/10748 [00:01<00:02, 2293.83it/s]\u001b[A\n",
      " 42%|████▏     | 4500/10748 [00:01<00:02, 2283.61it/s]\u001b[A\n",
      " 45%|████▍     | 4800/10748 [00:02<00:02, 2277.88it/s]\u001b[A\n",
      " 47%|████▋     | 5100/10748 [00:02<00:02, 2278.63it/s]\u001b[A\n",
      " 50%|█████     | 5400/10748 [00:02<00:02, 2273.82it/s]\u001b[A\n",
      " 53%|█████▎    | 5700/10748 [00:02<00:02, 2278.12it/s]\u001b[A\n",
      " 56%|█████▌    | 6000/10748 [00:02<00:02, 2278.20it/s]\u001b[A\n",
      " 59%|█████▊    | 6300/10748 [00:02<00:01, 2280.12it/s]\u001b[A\n",
      " 61%|██████▏   | 6600/10748 [00:02<00:01, 2280.66it/s]\u001b[A\n",
      " 64%|██████▍   | 6900/10748 [00:03<00:01, 2282.92it/s]\u001b[A\n",
      " 67%|██████▋   | 7200/10748 [00:03<00:01, 2280.74it/s]\u001b[A\n",
      " 70%|██████▉   | 7500/10748 [00:03<00:01, 2277.75it/s]\u001b[A\n",
      " 73%|███████▎  | 7800/10748 [00:03<00:01, 2289.34it/s]\u001b[A\n",
      " 75%|███████▌  | 8100/10748 [00:03<00:01, 2293.21it/s]\u001b[A\n",
      " 78%|███████▊  | 8400/10748 [00:03<00:01, 2279.51it/s]\u001b[A\n",
      " 81%|████████  | 8700/10748 [00:03<00:00, 2288.59it/s]\u001b[A\n",
      " 84%|████████▎ | 9000/10748 [00:03<00:00, 2286.87it/s]\u001b[A\n",
      " 87%|████████▋ | 9300/10748 [00:04<00:00, 2279.41it/s]\u001b[A\n",
      " 89%|████████▉ | 9600/10748 [00:04<00:00, 2275.20it/s]\u001b[A\n",
      " 92%|█████████▏| 9900/10748 [00:04<00:00, 2281.20it/s]\u001b[A\n",
      " 95%|█████████▍| 10200/10748 [00:04<00:00, 2292.04it/s]\u001b[A\n",
      "100%|██████████| 10748/10748 [00:04<00:00, 2291.97it/s]\n"
     ]
    },
    {
     "name": "stdout",
     "output_type": "stream",
     "text": [
      "epoch [63/100], Loss: 0.0009\n"
     ]
    },
    {
     "name": "stderr",
     "output_type": "stream",
     "text": [
      "\n",
      "  0%|          | 0/10748 [00:00<?, ?it/s]\u001b[A\n",
      "  3%|▎         | 300/10748 [00:00<00:04, 2278.61it/s]\u001b[A\n",
      "  6%|▌         | 600/10748 [00:00<00:04, 2277.41it/s]\u001b[A\n",
      "  8%|▊         | 900/10748 [00:00<00:04, 2252.86it/s]\u001b[A\n",
      " 11%|█         | 1200/10748 [00:00<00:04, 2269.78it/s]\u001b[A\n",
      " 14%|█▍        | 1500/10748 [00:00<00:04, 2268.80it/s]\u001b[A\n",
      " 17%|█▋        | 1800/10748 [00:00<00:03, 2267.56it/s]\u001b[A\n",
      " 20%|█▉        | 2100/10748 [00:00<00:03, 2273.27it/s]\u001b[A\n",
      " 22%|██▏       | 2400/10748 [00:01<00:03, 2279.73it/s]\u001b[A\n",
      " 25%|██▌       | 2700/10748 [00:01<00:03, 2271.18it/s]\u001b[A\n",
      " 28%|██▊       | 3000/10748 [00:01<00:03, 2280.62it/s]\u001b[A\n",
      " 31%|███       | 3300/10748 [00:01<00:03, 2283.62it/s]\u001b[A\n",
      " 33%|███▎      | 3600/10748 [00:01<00:03, 2283.72it/s]\u001b[A\n",
      " 36%|███▋      | 3900/10748 [00:01<00:02, 2290.16it/s]\u001b[A\n",
      " 39%|███▉      | 4200/10748 [00:01<00:02, 2280.71it/s]\u001b[A\n",
      " 42%|████▏     | 4500/10748 [00:01<00:02, 2281.76it/s]\u001b[A\n",
      " 45%|████▍     | 4800/10748 [00:02<00:02, 2293.71it/s]\u001b[A\n",
      " 47%|████▋     | 5100/10748 [00:02<00:02, 2299.72it/s]\u001b[A\n",
      " 50%|█████     | 5400/10748 [00:02<00:02, 2296.12it/s]\u001b[A\n",
      " 53%|█████▎    | 5700/10748 [00:02<00:02, 2296.70it/s]\u001b[A\n",
      " 56%|█████▌    | 6000/10748 [00:02<00:02, 2289.86it/s]\u001b[A\n",
      " 59%|█████▊    | 6300/10748 [00:02<00:01, 2283.42it/s]\u001b[A\n",
      " 61%|██████▏   | 6600/10748 [00:02<00:01, 2278.72it/s]\u001b[A\n",
      " 64%|██████▍   | 6900/10748 [00:03<00:01, 2269.51it/s]\u001b[A\n",
      " 67%|██████▋   | 7200/10748 [00:03<00:01, 2264.60it/s]\u001b[A\n",
      " 70%|██████▉   | 7500/10748 [00:03<00:01, 2265.10it/s]\u001b[A\n",
      " 73%|███████▎  | 7800/10748 [00:03<00:01, 2272.14it/s]\u001b[A\n",
      " 75%|███████▌  | 8100/10748 [00:03<00:01, 2266.76it/s]\u001b[A\n",
      " 78%|███████▊  | 8400/10748 [00:03<00:01, 2259.80it/s]\u001b[A\n",
      " 81%|████████  | 8700/10748 [00:03<00:00, 2268.53it/s]\u001b[A\n",
      " 84%|████████▎ | 9000/10748 [00:03<00:00, 2282.36it/s]\u001b[A\n",
      " 87%|████████▋ | 9300/10748 [00:04<00:00, 2278.50it/s]\u001b[A\n",
      " 89%|████████▉ | 9600/10748 [00:04<00:00, 2281.59it/s]\u001b[A\n",
      " 92%|█████████▏| 9900/10748 [00:04<00:00, 2288.38it/s]\u001b[A\n",
      " 95%|█████████▍| 10200/10748 [00:04<00:00, 2287.26it/s]\u001b[A\n",
      "100%|██████████| 10748/10748 [00:04<00:00, 2289.20it/s]\n"
     ]
    },
    {
     "name": "stdout",
     "output_type": "stream",
     "text": [
      "epoch [64/100], Loss: 0.0008\n"
     ]
    },
    {
     "name": "stderr",
     "output_type": "stream",
     "text": [
      "\n",
      "  0%|          | 0/10748 [00:00<?, ?it/s]\u001b[A\n",
      "  3%|▎         | 300/10748 [00:00<00:04, 2364.29it/s]\u001b[A\n",
      "  6%|▌         | 600/10748 [00:00<00:04, 2329.49it/s]\u001b[A\n",
      "  8%|▊         | 900/10748 [00:00<00:04, 2306.21it/s]\u001b[A\n",
      " 11%|█         | 1200/10748 [00:00<00:04, 2307.99it/s]\u001b[A\n",
      " 14%|█▍        | 1500/10748 [00:00<00:04, 2306.98it/s]\u001b[A\n",
      " 17%|█▋        | 1800/10748 [00:00<00:03, 2298.76it/s]\u001b[A\n",
      " 20%|█▉        | 2100/10748 [00:00<00:03, 2286.23it/s]\u001b[A\n",
      " 22%|██▏       | 2400/10748 [00:01<00:03, 2264.95it/s]\u001b[A\n",
      " 25%|██▌       | 2700/10748 [00:01<00:03, 2281.72it/s]\u001b[A\n",
      " 28%|██▊       | 3000/10748 [00:01<00:03, 2267.21it/s]\u001b[A\n",
      " 31%|███       | 3300/10748 [00:01<00:03, 2263.21it/s]\u001b[A\n",
      " 33%|███▎      | 3600/10748 [00:01<00:03, 2276.24it/s]\u001b[A\n",
      " 36%|███▋      | 3900/10748 [00:01<00:02, 2289.15it/s]\u001b[A\n",
      " 39%|███▉      | 4200/10748 [00:01<00:02, 2283.85it/s]\u001b[A\n",
      " 42%|████▏     | 4500/10748 [00:01<00:02, 2275.53it/s]\u001b[A\n",
      " 45%|████▍     | 4800/10748 [00:02<00:02, 2259.56it/s]\u001b[A\n",
      " 47%|████▋     | 5100/10748 [00:02<00:02, 2276.55it/s]\u001b[A\n",
      " 50%|█████     | 5400/10748 [00:02<00:02, 2280.41it/s]\u001b[A\n",
      " 53%|█████▎    | 5700/10748 [00:02<00:02, 2290.49it/s]\u001b[A\n",
      " 56%|█████▌    | 6000/10748 [00:02<00:02, 2275.33it/s]\u001b[A\n",
      " 59%|█████▊    | 6300/10748 [00:02<00:01, 2262.21it/s]\u001b[A\n",
      " 61%|██████▏   | 6600/10748 [00:02<00:01, 2269.12it/s]\u001b[A\n",
      " 64%|██████▍   | 6900/10748 [00:03<00:01, 2271.44it/s]\u001b[A\n",
      " 67%|██████▋   | 7200/10748 [00:03<00:01, 2256.17it/s]\u001b[A\n",
      " 70%|██████▉   | 7500/10748 [00:03<00:01, 2257.56it/s]\u001b[A\n",
      " 73%|███████▎  | 7800/10748 [00:03<00:01, 2258.27it/s]\u001b[A\n",
      " 75%|███████▌  | 8100/10748 [00:03<00:01, 2257.33it/s]\u001b[A\n",
      " 78%|███████▊  | 8400/10748 [00:03<00:01, 2251.17it/s]\u001b[A\n",
      " 81%|████████  | 8700/10748 [00:03<00:00, 2257.81it/s]\u001b[A\n",
      " 84%|████████▎ | 9000/10748 [00:03<00:00, 2264.73it/s]\u001b[A\n",
      " 87%|████████▋ | 9300/10748 [00:04<00:00, 2271.07it/s]\u001b[A\n",
      " 89%|████████▉ | 9600/10748 [00:04<00:00, 2269.43it/s]\u001b[A\n",
      " 92%|█████████▏| 9900/10748 [00:04<00:00, 2281.72it/s]\u001b[A\n",
      " 95%|█████████▍| 10200/10748 [00:04<00:00, 2277.58it/s]\u001b[A\n",
      "100%|██████████| 10748/10748 [00:04<00:00, 2283.66it/s]\n"
     ]
    },
    {
     "name": "stdout",
     "output_type": "stream",
     "text": [
      "epoch [65/100], Loss: 0.0010\n"
     ]
    },
    {
     "name": "stderr",
     "output_type": "stream",
     "text": [
      "\n",
      "  0%|          | 0/10748 [00:00<?, ?it/s]\u001b[A\n",
      "  3%|▎         | 300/10748 [00:00<00:04, 2302.48it/s]\u001b[A\n",
      "  6%|▌         | 600/10748 [00:00<00:04, 2243.80it/s]\u001b[A\n",
      "  8%|▊         | 900/10748 [00:00<00:04, 2185.06it/s]\u001b[A\n",
      " 11%|█         | 1200/10748 [00:00<00:04, 2213.39it/s]\u001b[A\n",
      " 14%|█▍        | 1500/10748 [00:00<00:04, 2229.35it/s]\u001b[A\n",
      " 17%|█▋        | 1800/10748 [00:00<00:03, 2255.29it/s]\u001b[A\n",
      " 20%|█▉        | 2100/10748 [00:00<00:03, 2241.84it/s]\u001b[A\n",
      " 22%|██▏       | 2400/10748 [00:01<00:03, 2247.83it/s]\u001b[A\n",
      " 25%|██▌       | 2700/10748 [00:01<00:03, 2265.42it/s]\u001b[A\n",
      " 28%|██▊       | 3000/10748 [00:01<00:03, 2262.85it/s]\u001b[A\n",
      " 31%|███       | 3300/10748 [00:01<00:03, 2271.09it/s]\u001b[A\n",
      " 33%|███▎      | 3600/10748 [00:01<00:03, 2265.63it/s]\u001b[A\n",
      " 36%|███▋      | 3900/10748 [00:01<00:03, 2240.17it/s]\u001b[A\n",
      " 39%|███▉      | 4200/10748 [00:01<00:02, 2243.35it/s]\u001b[A\n",
      " 42%|████▏     | 4500/10748 [00:02<00:02, 2262.09it/s]\u001b[A\n",
      " 45%|████▍     | 4800/10748 [00:02<00:02, 2265.56it/s]\u001b[A\n",
      " 47%|████▋     | 5100/10748 [00:02<00:02, 2266.12it/s]\u001b[A\n",
      " 50%|█████     | 5400/10748 [00:02<00:02, 2282.63it/s]\u001b[A\n",
      " 53%|█████▎    | 5700/10748 [00:02<00:02, 2287.72it/s]\u001b[A\n",
      " 56%|█████▌    | 6000/10748 [00:02<00:02, 2280.36it/s]\u001b[A\n",
      " 59%|█████▊    | 6300/10748 [00:02<00:01, 2270.81it/s]\u001b[A\n",
      " 61%|██████▏   | 6600/10748 [00:02<00:01, 2281.97it/s]\u001b[A\n",
      " 64%|██████▍   | 6900/10748 [00:03<00:01, 2285.54it/s]\u001b[A\n",
      " 67%|██████▋   | 7200/10748 [00:03<00:01, 2288.03it/s]\u001b[A\n",
      " 70%|██████▉   | 7500/10748 [00:03<00:01, 2276.22it/s]\u001b[A\n",
      " 73%|███████▎  | 7800/10748 [00:03<00:01, 2286.80it/s]\u001b[A\n",
      " 75%|███████▌  | 8100/10748 [00:03<00:01, 2266.12it/s]\u001b[A\n",
      " 78%|███████▊  | 8400/10748 [00:03<00:01, 2264.75it/s]\u001b[A\n",
      " 81%|████████  | 8700/10748 [00:03<00:00, 2267.92it/s]\u001b[A\n",
      " 84%|████████▎ | 9000/10748 [00:03<00:00, 2262.02it/s]\u001b[A\n",
      " 87%|████████▋ | 9300/10748 [00:04<00:00, 2271.27it/s]\u001b[A\n",
      " 89%|████████▉ | 9600/10748 [00:04<00:00, 2276.12it/s]\u001b[A\n",
      " 92%|█████████▏| 9900/10748 [00:04<00:00, 2282.13it/s]\u001b[A\n",
      " 95%|█████████▍| 10200/10748 [00:04<00:00, 2265.51it/s]\u001b[A\n",
      "100%|██████████| 10748/10748 [00:04<00:00, 2274.68it/s]\n"
     ]
    },
    {
     "name": "stdout",
     "output_type": "stream",
     "text": [
      "epoch [66/100], Loss: 0.0010\n"
     ]
    },
    {
     "name": "stderr",
     "output_type": "stream",
     "text": [
      "\n",
      "  0%|          | 0/10748 [00:00<?, ?it/s]\u001b[A\n",
      "  3%|▎         | 300/10748 [00:00<00:04, 2343.30it/s]\u001b[A\n",
      "  6%|▌         | 600/10748 [00:00<00:04, 2293.03it/s]\u001b[A\n",
      "  8%|▊         | 900/10748 [00:00<00:04, 2289.59it/s]\u001b[A\n",
      " 11%|█         | 1200/10748 [00:00<00:04, 2283.84it/s]\u001b[A\n",
      " 14%|█▍        | 1500/10748 [00:00<00:04, 2282.52it/s]\u001b[A\n",
      " 17%|█▋        | 1800/10748 [00:00<00:03, 2275.38it/s]\u001b[A\n",
      " 20%|█▉        | 2100/10748 [00:00<00:03, 2278.06it/s]\u001b[A\n",
      " 22%|██▏       | 2400/10748 [00:01<00:03, 2266.68it/s]\u001b[A\n",
      " 25%|██▌       | 2700/10748 [00:01<00:03, 2280.23it/s]\u001b[A\n",
      " 28%|██▊       | 3000/10748 [00:01<00:03, 2274.62it/s]\u001b[A\n",
      " 31%|███       | 3300/10748 [00:01<00:03, 2276.25it/s]\u001b[A\n",
      " 33%|███▎      | 3600/10748 [00:01<00:03, 2275.29it/s]\u001b[A\n",
      " 36%|███▋      | 3900/10748 [00:01<00:03, 2242.37it/s]\u001b[A\n",
      " 39%|███▉      | 4200/10748 [00:01<00:02, 2256.85it/s]\u001b[A\n",
      " 42%|████▏     | 4500/10748 [00:01<00:02, 2264.10it/s]\u001b[A\n",
      " 45%|████▍     | 4800/10748 [00:02<00:02, 2257.05it/s]\u001b[A\n",
      " 47%|████▋     | 5100/10748 [00:02<00:02, 2264.29it/s]\u001b[A\n",
      " 50%|█████     | 5400/10748 [00:02<00:02, 2278.28it/s]\u001b[A\n",
      " 53%|█████▎    | 5700/10748 [00:02<00:02, 2281.02it/s]\u001b[A\n",
      " 56%|█████▌    | 6000/10748 [00:02<00:02, 2277.71it/s]\u001b[A\n",
      " 59%|█████▊    | 6300/10748 [00:02<00:01, 2266.55it/s]\u001b[A\n",
      " 61%|██████▏   | 6600/10748 [00:02<00:01, 2281.16it/s]\u001b[A\n",
      " 64%|██████▍   | 6900/10748 [00:03<00:01, 2292.24it/s]\u001b[A\n",
      " 67%|██████▋   | 7200/10748 [00:03<00:01, 2299.76it/s]\u001b[A\n",
      " 70%|██████▉   | 7500/10748 [00:03<00:01, 2299.77it/s]\u001b[A\n",
      " 73%|███████▎  | 7800/10748 [00:03<00:01, 2280.14it/s]\u001b[A\n",
      " 75%|███████▌  | 8100/10748 [00:03<00:01, 2288.49it/s]\u001b[A\n",
      " 78%|███████▊  | 8400/10748 [00:03<00:01, 2283.82it/s]\u001b[A\n",
      " 81%|████████  | 8700/10748 [00:03<00:00, 2279.54it/s]\u001b[A\n",
      " 84%|████████▎ | 9000/10748 [00:03<00:00, 2279.98it/s]\u001b[A\n",
      " 87%|████████▋ | 9300/10748 [00:04<00:00, 2278.88it/s]\u001b[A\n",
      " 89%|████████▉ | 9600/10748 [00:04<00:00, 2285.25it/s]\u001b[A\n",
      " 92%|█████████▏| 9900/10748 [00:04<00:00, 2277.50it/s]\u001b[A\n",
      " 95%|█████████▍| 10200/10748 [00:04<00:00, 2268.77it/s]\u001b[A\n",
      "100%|██████████| 10748/10748 [00:04<00:00, 2286.66it/s]\n"
     ]
    },
    {
     "name": "stdout",
     "output_type": "stream",
     "text": [
      "epoch [67/100], Loss: 0.0008\n"
     ]
    },
    {
     "name": "stderr",
     "output_type": "stream",
     "text": [
      "\n",
      "  0%|          | 0/10748 [00:00<?, ?it/s]\u001b[A\n",
      "  3%|▎         | 300/10748 [00:00<00:04, 2334.04it/s]\u001b[A\n",
      "  6%|▌         | 600/10748 [00:00<00:04, 2298.04it/s]\u001b[A\n",
      "  8%|▊         | 900/10748 [00:00<00:04, 2296.24it/s]\u001b[A\n",
      " 11%|█         | 1200/10748 [00:00<00:04, 2281.06it/s]\u001b[A\n",
      " 14%|█▍        | 1500/10748 [00:00<00:04, 2268.33it/s]\u001b[A\n",
      " 17%|█▋        | 1800/10748 [00:00<00:03, 2264.06it/s]\u001b[A\n",
      " 20%|█▉        | 2100/10748 [00:00<00:03, 2259.19it/s]\u001b[A\n",
      " 22%|██▏       | 2400/10748 [00:01<00:03, 2237.85it/s]\u001b[A\n",
      " 25%|██▌       | 2700/10748 [00:01<00:03, 2259.53it/s]\u001b[A\n",
      " 28%|██▊       | 3000/10748 [00:01<00:03, 2277.83it/s]\u001b[A\n",
      " 31%|███       | 3300/10748 [00:01<00:03, 2293.52it/s]\u001b[A\n",
      " 33%|███▎      | 3600/10748 [00:01<00:03, 2287.77it/s]\u001b[A\n",
      " 36%|███▋      | 3900/10748 [00:01<00:03, 2279.34it/s]\u001b[A\n",
      " 39%|███▉      | 4200/10748 [00:01<00:02, 2272.11it/s]\u001b[A\n",
      " 42%|████▏     | 4500/10748 [00:01<00:02, 2263.24it/s]\u001b[A\n",
      " 45%|████▍     | 4800/10748 [00:02<00:02, 2265.56it/s]\u001b[A\n",
      " 47%|████▋     | 5100/10748 [00:02<00:02, 2268.50it/s]\u001b[A\n",
      " 50%|█████     | 5400/10748 [00:02<00:02, 2270.28it/s]\u001b[A\n",
      " 53%|█████▎    | 5700/10748 [00:02<00:02, 2270.48it/s]\u001b[A\n",
      " 56%|█████▌    | 6000/10748 [00:02<00:02, 2264.25it/s]\u001b[A\n",
      " 59%|█████▊    | 6300/10748 [00:02<00:01, 2264.16it/s]\u001b[A\n",
      " 61%|██████▏   | 6600/10748 [00:02<00:01, 2281.66it/s]\u001b[A\n",
      " 64%|██████▍   | 6900/10748 [00:03<00:01, 2284.23it/s]\u001b[A\n",
      " 67%|██████▋   | 7200/10748 [00:03<00:01, 2278.57it/s]\u001b[A\n",
      " 70%|██████▉   | 7500/10748 [00:03<00:01, 2281.97it/s]\u001b[A\n",
      " 73%|███████▎  | 7800/10748 [00:03<00:01, 2279.66it/s]\u001b[A\n",
      " 75%|███████▌  | 8100/10748 [00:03<00:01, 2284.19it/s]\u001b[A\n",
      " 78%|███████▊  | 8400/10748 [00:03<00:01, 2274.73it/s]\u001b[A\n",
      " 81%|████████  | 8700/10748 [00:03<00:00, 2276.33it/s]\u001b[A\n",
      " 84%|████████▎ | 9000/10748 [00:03<00:00, 2270.99it/s]\u001b[A\n",
      " 87%|████████▋ | 9300/10748 [00:04<00:00, 2269.24it/s]\u001b[A\n",
      " 89%|████████▉ | 9600/10748 [00:04<00:00, 2258.25it/s]\u001b[A\n",
      " 92%|█████████▏| 9900/10748 [00:04<00:00, 2236.33it/s]\u001b[A\n",
      " 95%|█████████▍| 10200/10748 [00:04<00:00, 2255.30it/s]\u001b[A\n",
      "100%|██████████| 10748/10748 [00:04<00:00, 2279.18it/s]\n"
     ]
    },
    {
     "name": "stdout",
     "output_type": "stream",
     "text": [
      "epoch [68/100], Loss: 0.0008\n"
     ]
    },
    {
     "name": "stderr",
     "output_type": "stream",
     "text": [
      "\n",
      "  0%|          | 0/10748 [00:00<?, ?it/s]\u001b[A\n",
      "  3%|▎         | 300/10748 [00:00<00:04, 2353.11it/s]\u001b[A\n",
      "  6%|▌         | 600/10748 [00:00<00:04, 2309.19it/s]\u001b[A\n",
      "  8%|▊         | 900/10748 [00:00<00:04, 2283.48it/s]\u001b[A\n",
      " 11%|█         | 1200/10748 [00:00<00:04, 2280.26it/s]\u001b[A\n",
      " 14%|█▍        | 1500/10748 [00:00<00:04, 2280.56it/s]\u001b[A\n",
      " 17%|█▋        | 1800/10748 [00:00<00:03, 2283.33it/s]\u001b[A\n",
      " 20%|█▉        | 2100/10748 [00:00<00:03, 2259.63it/s]\u001b[A\n",
      " 22%|██▏       | 2400/10748 [00:01<00:03, 2258.15it/s]\u001b[A\n",
      " 25%|██▌       | 2700/10748 [00:01<00:03, 2265.14it/s]\u001b[A\n",
      " 28%|██▊       | 3000/10748 [00:01<00:03, 2260.15it/s]\u001b[A\n",
      " 31%|███       | 3300/10748 [00:01<00:03, 2272.68it/s]\u001b[A\n",
      " 33%|███▎      | 3600/10748 [00:01<00:03, 2271.05it/s]\u001b[A\n",
      " 36%|███▋      | 3900/10748 [00:01<00:03, 2268.21it/s]\u001b[A\n",
      " 39%|███▉      | 4200/10748 [00:01<00:02, 2264.28it/s]\u001b[A\n",
      " 42%|████▏     | 4500/10748 [00:01<00:02, 2264.12it/s]\u001b[A\n",
      " 45%|████▍     | 4800/10748 [00:02<00:02, 2266.26it/s]\u001b[A\n",
      " 47%|████▋     | 5100/10748 [00:02<00:02, 2260.34it/s]\u001b[A\n",
      " 50%|█████     | 5400/10748 [00:02<00:02, 2258.56it/s]\u001b[A\n",
      " 53%|█████▎    | 5700/10748 [00:02<00:02, 2262.18it/s]\u001b[A\n",
      " 56%|█████▌    | 6000/10748 [00:02<00:02, 2271.94it/s]\u001b[A\n",
      " 59%|█████▊    | 6300/10748 [00:02<00:01, 2273.37it/s]\u001b[A\n",
      " 61%|██████▏   | 6600/10748 [00:02<00:01, 2270.00it/s]\u001b[A\n",
      " 64%|██████▍   | 6900/10748 [00:03<00:01, 2281.33it/s]\u001b[A\n",
      " 67%|██████▋   | 7200/10748 [00:03<00:01, 2282.73it/s]\u001b[A\n",
      " 70%|██████▉   | 7500/10748 [00:03<00:01, 2277.77it/s]\u001b[A\n",
      " 73%|███████▎  | 7800/10748 [00:03<00:01, 2266.82it/s]\u001b[A\n",
      " 75%|███████▌  | 8100/10748 [00:03<00:01, 2255.62it/s]\u001b[A\n",
      " 78%|███████▊  | 8400/10748 [00:03<00:01, 2262.64it/s]\u001b[A\n",
      " 81%|████████  | 8700/10748 [00:03<00:00, 2255.68it/s]\u001b[A\n",
      " 84%|████████▎ | 9000/10748 [00:03<00:00, 2272.78it/s]\u001b[A\n",
      " 87%|████████▋ | 9300/10748 [00:04<00:00, 2269.80it/s]\u001b[A\n",
      " 89%|████████▉ | 9600/10748 [00:04<00:00, 2267.02it/s]\u001b[A\n",
      " 92%|█████████▏| 9900/10748 [00:04<00:00, 2275.79it/s]\u001b[A\n",
      " 95%|█████████▍| 10200/10748 [00:04<00:00, 2282.19it/s]\u001b[A\n",
      "100%|██████████| 10748/10748 [00:04<00:00, 2281.16it/s]\n"
     ]
    },
    {
     "name": "stdout",
     "output_type": "stream",
     "text": [
      "epoch [69/100], Loss: 0.0009\n"
     ]
    },
    {
     "name": "stderr",
     "output_type": "stream",
     "text": [
      "\n",
      "  0%|          | 0/10748 [00:00<?, ?it/s]\u001b[A\n",
      "  3%|▎         | 300/10748 [00:00<00:04, 2344.93it/s]\u001b[A\n",
      "  6%|▌         | 600/10748 [00:00<00:04, 2296.83it/s]\u001b[A\n",
      "  8%|▊         | 900/10748 [00:00<00:04, 2307.14it/s]\u001b[A\n",
      " 11%|█         | 1200/10748 [00:00<00:04, 2307.60it/s]\u001b[A\n",
      " 14%|█▍        | 1500/10748 [00:00<00:04, 2300.68it/s]\u001b[A\n",
      " 17%|█▋        | 1800/10748 [00:00<00:03, 2291.48it/s]\u001b[A\n",
      " 20%|█▉        | 2100/10748 [00:00<00:03, 2292.94it/s]\u001b[A\n",
      " 22%|██▏       | 2400/10748 [00:01<00:03, 2276.63it/s]\u001b[A\n",
      " 25%|██▌       | 2700/10748 [00:01<00:03, 2270.11it/s]\u001b[A\n",
      " 28%|██▊       | 3000/10748 [00:01<00:03, 2269.37it/s]\u001b[A\n",
      " 31%|███       | 3300/10748 [00:01<00:03, 2274.77it/s]\u001b[A\n",
      " 33%|███▎      | 3600/10748 [00:01<00:03, 2270.84it/s]\u001b[A\n",
      " 36%|███▋      | 3900/10748 [00:01<00:03, 2280.32it/s]\u001b[A\n",
      " 39%|███▉      | 4200/10748 [00:01<00:02, 2285.05it/s]\u001b[A\n",
      " 42%|████▏     | 4500/10748 [00:01<00:02, 2278.72it/s]\u001b[A\n",
      " 45%|████▍     | 4800/10748 [00:02<00:02, 2277.10it/s]\u001b[A\n",
      " 47%|████▋     | 5100/10748 [00:02<00:02, 2277.55it/s]\u001b[A\n",
      " 50%|█████     | 5400/10748 [00:02<00:02, 2265.59it/s]\u001b[A\n",
      " 53%|█████▎    | 5700/10748 [00:02<00:02, 2271.57it/s]\u001b[A\n",
      " 56%|█████▌    | 6000/10748 [00:02<00:02, 2279.19it/s]\u001b[A\n",
      " 59%|█████▊    | 6300/10748 [00:02<00:01, 2287.99it/s]\u001b[A\n",
      " 61%|██████▏   | 6600/10748 [00:02<00:01, 2295.47it/s]\u001b[A\n",
      " 64%|██████▍   | 6900/10748 [00:03<00:01, 2289.24it/s]\u001b[A\n",
      " 67%|██████▋   | 7200/10748 [00:03<00:01, 2280.30it/s]\u001b[A\n",
      " 70%|██████▉   | 7500/10748 [00:03<00:01, 2285.16it/s]\u001b[A\n",
      " 73%|███████▎  | 7800/10748 [00:03<00:01, 2284.75it/s]\u001b[A\n",
      " 75%|███████▌  | 8100/10748 [00:03<00:01, 2295.37it/s]\u001b[A\n",
      " 78%|███████▊  | 8400/10748 [00:03<00:01, 2282.84it/s]\u001b[A\n",
      " 81%|████████  | 8700/10748 [00:03<00:00, 2280.27it/s]\u001b[A\n",
      " 84%|████████▎ | 9000/10748 [00:03<00:00, 2275.74it/s]\u001b[A\n",
      " 87%|████████▋ | 9300/10748 [00:04<00:00, 2281.28it/s]\u001b[A\n",
      " 89%|████████▉ | 9600/10748 [00:04<00:00, 2276.24it/s]\u001b[A\n",
      " 92%|█████████▏| 9900/10748 [00:04<00:00, 2271.45it/s]\u001b[A\n",
      " 95%|█████████▍| 10200/10748 [00:04<00:00, 2270.70it/s]\u001b[A\n",
      "100%|██████████| 10748/10748 [00:04<00:00, 2290.93it/s]\n"
     ]
    },
    {
     "name": "stdout",
     "output_type": "stream",
     "text": [
      "epoch [70/100], Loss: 0.0008\n"
     ]
    },
    {
     "name": "stderr",
     "output_type": "stream",
     "text": [
      "\n",
      "  0%|          | 0/10748 [00:00<?, ?it/s]\u001b[A\n",
      "  3%|▎         | 300/10748 [00:00<00:04, 2362.44it/s]\u001b[A\n",
      "  6%|▌         | 600/10748 [00:00<00:04, 2294.53it/s]\u001b[A\n",
      "  8%|▊         | 900/10748 [00:00<00:04, 2266.33it/s]\u001b[A\n",
      " 11%|█         | 1200/10748 [00:00<00:04, 2271.07it/s]\u001b[A\n",
      " 14%|█▍        | 1500/10748 [00:00<00:04, 2283.46it/s]\u001b[A\n",
      " 17%|█▋        | 1800/10748 [00:00<00:03, 2288.05it/s]\u001b[A\n",
      " 20%|█▉        | 2100/10748 [00:00<00:03, 2281.99it/s]\u001b[A\n",
      " 22%|██▏       | 2400/10748 [00:01<00:03, 2287.12it/s]\u001b[A\n",
      " 25%|██▌       | 2700/10748 [00:01<00:03, 2284.87it/s]\u001b[A\n",
      " 28%|██▊       | 3000/10748 [00:01<00:03, 2294.31it/s]\u001b[A\n",
      " 31%|███       | 3300/10748 [00:01<00:03, 2295.40it/s]\u001b[A\n",
      " 33%|███▎      | 3600/10748 [00:01<00:03, 2303.59it/s]\u001b[A\n",
      " 36%|███▋      | 3900/10748 [00:01<00:02, 2300.57it/s]\u001b[A\n",
      " 39%|███▉      | 4200/10748 [00:01<00:02, 2282.16it/s]\u001b[A\n",
      " 42%|████▏     | 4500/10748 [00:01<00:02, 2282.72it/s]\u001b[A\n",
      " 45%|████▍     | 4800/10748 [00:02<00:02, 2285.26it/s]\u001b[A\n",
      " 47%|████▋     | 5100/10748 [00:02<00:02, 2275.84it/s]\u001b[A\n",
      " 50%|█████     | 5400/10748 [00:02<00:02, 2282.62it/s]\u001b[A\n",
      " 53%|█████▎    | 5700/10748 [00:02<00:02, 2296.15it/s]\u001b[A\n",
      " 56%|█████▌    | 6000/10748 [00:02<00:02, 2287.24it/s]\u001b[A\n",
      " 59%|█████▊    | 6300/10748 [00:02<00:01, 2279.63it/s]\u001b[A\n",
      " 61%|██████▏   | 6600/10748 [00:02<00:01, 2292.19it/s]\u001b[A\n",
      " 64%|██████▍   | 6900/10748 [00:03<00:01, 2282.06it/s]\u001b[A\n",
      " 67%|██████▋   | 7200/10748 [00:03<00:01, 2278.26it/s]\u001b[A\n",
      " 70%|██████▉   | 7500/10748 [00:03<00:01, 2275.25it/s]\u001b[A\n",
      " 73%|███████▎  | 7800/10748 [00:03<00:01, 2279.88it/s]\u001b[A\n",
      " 75%|███████▌  | 8100/10748 [00:03<00:01, 2264.69it/s]\u001b[A\n",
      " 78%|███████▊  | 8400/10748 [00:03<00:01, 2272.28it/s]\u001b[A\n",
      " 81%|████████  | 8700/10748 [00:03<00:00, 2268.36it/s]\u001b[A\n",
      " 84%|████████▎ | 9000/10748 [00:03<00:00, 2263.50it/s]\u001b[A\n",
      " 87%|████████▋ | 9300/10748 [00:04<00:00, 2273.89it/s]\u001b[A\n",
      " 89%|████████▉ | 9600/10748 [00:04<00:00, 2265.60it/s]\u001b[A\n",
      " 92%|█████████▏| 9900/10748 [00:04<00:00, 2260.78it/s]\u001b[A\n",
      " 95%|█████████▍| 10200/10748 [00:04<00:00, 2275.91it/s]\u001b[A\n",
      "100%|██████████| 10748/10748 [00:04<00:00, 2290.28it/s]\n"
     ]
    },
    {
     "name": "stdout",
     "output_type": "stream",
     "text": [
      "epoch [71/100], Loss: 0.0007\n"
     ]
    },
    {
     "name": "stderr",
     "output_type": "stream",
     "text": [
      "\n",
      "  0%|          | 0/10748 [00:00<?, ?it/s]\u001b[A\n",
      "  3%|▎         | 300/10748 [00:00<00:04, 2308.83it/s]\u001b[A\n",
      "  6%|▌         | 600/10748 [00:00<00:04, 2299.70it/s]\u001b[A\n",
      "  8%|▊         | 900/10748 [00:00<00:04, 2289.99it/s]\u001b[A\n",
      " 11%|█         | 1200/10748 [00:00<00:04, 2277.41it/s]\u001b[A\n",
      " 14%|█▍        | 1500/10748 [00:00<00:04, 2265.94it/s]\u001b[A\n",
      " 17%|█▋        | 1800/10748 [00:00<00:03, 2256.40it/s]\u001b[A\n",
      " 20%|█▉        | 2100/10748 [00:00<00:03, 2268.94it/s]\u001b[A\n",
      " 22%|██▏       | 2400/10748 [00:01<00:03, 2271.18it/s]\u001b[A\n",
      " 25%|██▌       | 2700/10748 [00:01<00:03, 2275.77it/s]\u001b[A\n",
      " 28%|██▊       | 3000/10748 [00:01<00:03, 2286.62it/s]\u001b[A\n",
      " 31%|███       | 3300/10748 [00:01<00:03, 2270.14it/s]\u001b[A\n",
      " 33%|███▎      | 3600/10748 [00:01<00:03, 2283.86it/s]\u001b[A\n",
      " 36%|███▋      | 3900/10748 [00:01<00:03, 2278.22it/s]\u001b[A\n",
      " 39%|███▉      | 4200/10748 [00:01<00:02, 2278.73it/s]\u001b[A\n",
      " 42%|████▏     | 4500/10748 [00:01<00:02, 2290.72it/s]\u001b[A\n",
      " 45%|████▍     | 4800/10748 [00:02<00:02, 2282.50it/s]\u001b[A\n",
      " 47%|████▋     | 5100/10748 [00:02<00:02, 2290.79it/s]\u001b[A\n",
      " 50%|█████     | 5400/10748 [00:02<00:02, 2268.63it/s]\u001b[A\n",
      " 53%|█████▎    | 5700/10748 [00:02<00:02, 2273.04it/s]\u001b[A\n",
      " 56%|█████▌    | 6000/10748 [00:02<00:02, 2272.83it/s]\u001b[A\n",
      " 59%|█████▊    | 6300/10748 [00:02<00:01, 2274.22it/s]\u001b[A\n",
      " 61%|██████▏   | 6600/10748 [00:02<00:01, 2259.36it/s]\u001b[A\n",
      " 64%|██████▍   | 6900/10748 [00:03<00:01, 2258.55it/s]\u001b[A\n",
      " 67%|██████▋   | 7200/10748 [00:03<00:01, 2259.47it/s]\u001b[A\n",
      " 70%|██████▉   | 7500/10748 [00:03<00:01, 2262.05it/s]\u001b[A\n",
      " 73%|███████▎  | 7800/10748 [00:03<00:01, 2261.70it/s]\u001b[A\n",
      " 75%|███████▌  | 8100/10748 [00:03<00:01, 2265.23it/s]\u001b[A\n",
      " 78%|███████▊  | 8400/10748 [00:03<00:01, 2262.54it/s]\u001b[A\n",
      " 81%|████████  | 8700/10748 [00:03<00:00, 2264.15it/s]\u001b[A\n",
      " 84%|████████▎ | 9000/10748 [00:03<00:00, 2281.66it/s]\u001b[A\n",
      " 87%|████████▋ | 9300/10748 [00:04<00:00, 2271.23it/s]\u001b[A\n",
      " 89%|████████▉ | 9600/10748 [00:04<00:00, 2269.23it/s]\u001b[A\n",
      " 92%|█████████▏| 9900/10748 [00:04<00:00, 2270.88it/s]\u001b[A\n",
      " 95%|█████████▍| 10200/10748 [00:04<00:00, 2281.62it/s]\u001b[A\n",
      "100%|██████████| 10748/10748 [00:04<00:00, 2283.07it/s]\n"
     ]
    },
    {
     "name": "stdout",
     "output_type": "stream",
     "text": [
      "epoch [72/100], Loss: 0.0006\n"
     ]
    },
    {
     "name": "stderr",
     "output_type": "stream",
     "text": [
      "\n",
      "  0%|          | 0/10748 [00:00<?, ?it/s]\u001b[A\n",
      "  3%|▎         | 300/10748 [00:00<00:04, 2340.48it/s]\u001b[A\n",
      "  6%|▌         | 600/10748 [00:00<00:04, 2273.09it/s]\u001b[A\n",
      "  8%|▊         | 900/10748 [00:00<00:04, 2265.20it/s]\u001b[A\n",
      " 11%|█         | 1200/10748 [00:00<00:04, 2262.60it/s]\u001b[A\n",
      " 14%|█▍        | 1500/10748 [00:00<00:04, 2266.23it/s]\u001b[A\n",
      " 17%|█▋        | 1800/10748 [00:00<00:03, 2267.05it/s]\u001b[A\n",
      " 20%|█▉        | 2100/10748 [00:00<00:03, 2274.94it/s]\u001b[A\n",
      " 22%|██▏       | 2400/10748 [00:01<00:03, 2291.67it/s]\u001b[A\n",
      " 25%|██▌       | 2700/10748 [00:01<00:03, 2282.21it/s]\u001b[A\n",
      " 28%|██▊       | 3000/10748 [00:01<00:03, 2291.25it/s]\u001b[A\n",
      " 31%|███       | 3300/10748 [00:01<00:03, 2300.48it/s]\u001b[A\n",
      " 33%|███▎      | 3600/10748 [00:01<00:03, 2294.96it/s]\u001b[A\n",
      " 36%|███▋      | 3900/10748 [00:01<00:02, 2286.57it/s]\u001b[A\n",
      " 39%|███▉      | 4200/10748 [00:01<00:02, 2283.39it/s]\u001b[A\n",
      " 42%|████▏     | 4500/10748 [00:01<00:02, 2287.05it/s]\u001b[A\n",
      " 45%|████▍     | 4800/10748 [00:02<00:02, 2294.96it/s]\u001b[A\n",
      " 47%|████▋     | 5100/10748 [00:02<00:02, 2297.36it/s]\u001b[A\n",
      " 50%|█████     | 5400/10748 [00:02<00:02, 2296.04it/s]\u001b[A\n",
      " 53%|█████▎    | 5700/10748 [00:02<00:02, 2286.94it/s]\u001b[A\n",
      " 56%|█████▌    | 6000/10748 [00:02<00:02, 2289.98it/s]\u001b[A\n",
      " 59%|█████▊    | 6300/10748 [00:02<00:01, 2286.45it/s]\u001b[A\n",
      " 61%|██████▏   | 6600/10748 [00:02<00:01, 2301.71it/s]\u001b[A\n",
      " 64%|██████▍   | 6900/10748 [00:03<00:01, 2300.52it/s]\u001b[A\n",
      " 67%|██████▋   | 7200/10748 [00:03<00:01, 2296.99it/s]\u001b[A\n",
      " 70%|██████▉   | 7500/10748 [00:03<00:01, 2285.70it/s]\u001b[A\n",
      " 73%|███████▎  | 7800/10748 [00:03<00:01, 2304.14it/s]\u001b[A\n",
      " 75%|███████▌  | 8100/10748 [00:03<00:01, 2300.22it/s]\u001b[A\n",
      " 78%|███████▊  | 8400/10748 [00:03<00:01, 2290.59it/s]\u001b[A\n",
      " 81%|████████  | 8700/10748 [00:03<00:00, 2286.45it/s]\u001b[A\n",
      " 84%|████████▎ | 9000/10748 [00:03<00:00, 2280.43it/s]\u001b[A\n",
      " 87%|████████▋ | 9300/10748 [00:04<00:00, 2291.69it/s]\u001b[A\n",
      " 89%|████████▉ | 9600/10748 [00:04<00:00, 2277.85it/s]\u001b[A\n",
      " 92%|█████████▏| 9900/10748 [00:04<00:00, 2267.70it/s]\u001b[A\n",
      " 95%|█████████▍| 10200/10748 [00:04<00:00, 2277.57it/s]\u001b[A\n",
      "100%|██████████| 10748/10748 [00:04<00:00, 2293.74it/s]\n"
     ]
    },
    {
     "name": "stdout",
     "output_type": "stream",
     "text": [
      "epoch [73/100], Loss: 0.0006\n"
     ]
    },
    {
     "name": "stderr",
     "output_type": "stream",
     "text": [
      "\n",
      "  0%|          | 0/10748 [00:00<?, ?it/s]\u001b[A\n",
      "  3%|▎         | 300/10748 [00:00<00:04, 2321.45it/s]\u001b[A\n",
      "  6%|▌         | 600/10748 [00:00<00:04, 2313.06it/s]\u001b[A\n",
      "  8%|▊         | 900/10748 [00:00<00:04, 2254.37it/s]\u001b[A\n",
      " 11%|█         | 1200/10748 [00:00<00:04, 2268.12it/s]\u001b[A\n",
      " 14%|█▍        | 1500/10748 [00:00<00:04, 2251.76it/s]\u001b[A\n",
      " 17%|█▋        | 1800/10748 [00:00<00:03, 2252.08it/s]\u001b[A\n",
      " 20%|█▉        | 2100/10748 [00:00<00:03, 2249.97it/s]\u001b[A\n",
      " 22%|██▏       | 2400/10748 [00:01<00:03, 2237.09it/s]\u001b[A\n",
      " 25%|██▌       | 2700/10748 [00:01<00:03, 2249.81it/s]\u001b[A\n",
      " 28%|██▊       | 3000/10748 [00:01<00:03, 2255.64it/s]\u001b[A\n",
      " 31%|███       | 3300/10748 [00:01<00:03, 2254.73it/s]\u001b[A\n",
      " 33%|███▎      | 3600/10748 [00:01<00:03, 2245.64it/s]\u001b[A\n",
      " 36%|███▋      | 3900/10748 [00:01<00:03, 2254.36it/s]\u001b[A\n",
      " 39%|███▉      | 4200/10748 [00:01<00:02, 2263.26it/s]\u001b[A\n",
      " 42%|████▏     | 4500/10748 [00:01<00:02, 2277.15it/s]\u001b[A\n",
      " 45%|████▍     | 4800/10748 [00:02<00:02, 2285.69it/s]\u001b[A\n",
      " 47%|████▋     | 5100/10748 [00:02<00:02, 2279.90it/s]\u001b[A\n",
      " 50%|█████     | 5400/10748 [00:02<00:02, 2282.90it/s]\u001b[A\n",
      " 53%|█████▎    | 5700/10748 [00:02<00:02, 2282.21it/s]\u001b[A\n",
      " 56%|█████▌    | 6000/10748 [00:02<00:02, 2286.84it/s]\u001b[A\n",
      " 59%|█████▊    | 6300/10748 [00:02<00:01, 2290.21it/s]\u001b[A\n",
      " 61%|██████▏   | 6600/10748 [00:02<00:01, 2294.67it/s]\u001b[A\n",
      " 64%|██████▍   | 6900/10748 [00:03<00:01, 2297.65it/s]\u001b[A\n",
      " 67%|██████▋   | 7200/10748 [00:03<00:01, 2298.17it/s]\u001b[A\n",
      " 70%|██████▉   | 7500/10748 [00:03<00:01, 2288.16it/s]\u001b[A\n",
      " 73%|███████▎  | 7800/10748 [00:03<00:01, 2281.73it/s]\u001b[A\n",
      " 75%|███████▌  | 8100/10748 [00:03<00:01, 2277.00it/s]\u001b[A\n",
      " 78%|███████▊  | 8400/10748 [00:03<00:01, 2280.57it/s]\u001b[A\n",
      " 81%|████████  | 8700/10748 [00:03<00:00, 2285.98it/s]\u001b[A\n",
      " 84%|████████▎ | 9000/10748 [00:03<00:00, 2293.38it/s]\u001b[A\n",
      " 87%|████████▋ | 9300/10748 [00:04<00:00, 2282.78it/s]\u001b[A\n",
      " 89%|████████▉ | 9600/10748 [00:04<00:00, 2285.88it/s]\u001b[A\n",
      " 92%|█████████▏| 9900/10748 [00:04<00:00, 2283.08it/s]\u001b[A\n",
      " 95%|█████████▍| 10200/10748 [00:04<00:00, 2280.61it/s]\u001b[A\n",
      "100%|██████████| 10748/10748 [00:04<00:00, 2284.98it/s]\n"
     ]
    },
    {
     "name": "stdout",
     "output_type": "stream",
     "text": [
      "epoch [74/100], Loss: 0.0006\n"
     ]
    },
    {
     "name": "stderr",
     "output_type": "stream",
     "text": [
      "\n",
      "  0%|          | 0/10748 [00:00<?, ?it/s]\u001b[A\n",
      "  3%|▎         | 300/10748 [00:00<00:04, 2357.66it/s]\u001b[A\n",
      "  6%|▌         | 600/10748 [00:00<00:04, 2323.80it/s]\u001b[A\n",
      "  8%|▊         | 900/10748 [00:00<00:04, 2293.87it/s]\u001b[A\n",
      " 11%|█         | 1200/10748 [00:00<00:04, 2266.82it/s]\u001b[A\n",
      " 14%|█▍        | 1500/10748 [00:00<00:04, 2262.69it/s]\u001b[A\n",
      " 17%|█▋        | 1800/10748 [00:00<00:03, 2269.50it/s]\u001b[A\n",
      " 20%|█▉        | 2100/10748 [00:00<00:03, 2261.90it/s]\u001b[A\n",
      " 22%|██▏       | 2400/10748 [00:01<00:03, 2260.62it/s]\u001b[A\n",
      " 25%|██▌       | 2700/10748 [00:01<00:03, 2268.44it/s]\u001b[A\n",
      " 28%|██▊       | 3000/10748 [00:01<00:03, 2257.77it/s]\u001b[A\n",
      " 31%|███       | 3300/10748 [00:01<00:03, 2262.24it/s]\u001b[A\n",
      " 33%|███▎      | 3600/10748 [00:01<00:03, 2283.88it/s]\u001b[A\n",
      " 36%|███▋      | 3900/10748 [00:01<00:02, 2284.05it/s]\u001b[A\n",
      " 39%|███▉      | 4200/10748 [00:01<00:02, 2276.92it/s]\u001b[A\n",
      " 42%|████▏     | 4500/10748 [00:01<00:02, 2270.91it/s]\u001b[A\n",
      " 45%|████▍     | 4800/10748 [00:02<00:02, 2280.59it/s]\u001b[A\n",
      " 47%|████▋     | 5100/10748 [00:02<00:02, 2286.57it/s]\u001b[A\n",
      " 50%|█████     | 5400/10748 [00:02<00:02, 2281.68it/s]\u001b[A\n",
      " 53%|█████▎    | 5700/10748 [00:02<00:02, 2271.32it/s]\u001b[A\n",
      " 56%|█████▌    | 6000/10748 [00:02<00:02, 2280.41it/s]\u001b[A\n",
      " 59%|█████▊    | 6300/10748 [00:02<00:01, 2274.13it/s]\u001b[A\n",
      " 61%|██████▏   | 6600/10748 [00:02<00:01, 2277.93it/s]\u001b[A\n",
      " 64%|██████▍   | 6900/10748 [00:03<00:01, 2288.02it/s]\u001b[A\n",
      " 67%|██████▋   | 7200/10748 [00:03<00:01, 2276.56it/s]\u001b[A\n",
      " 70%|██████▉   | 7500/10748 [00:03<00:01, 2271.43it/s]\u001b[A\n",
      " 73%|███████▎  | 7800/10748 [00:03<00:01, 2270.30it/s]\u001b[A\n",
      " 75%|███████▌  | 8100/10748 [00:03<00:01, 2269.00it/s]\u001b[A\n",
      " 78%|███████▊  | 8400/10748 [00:03<00:01, 2273.75it/s]\u001b[A\n",
      " 81%|████████  | 8700/10748 [00:03<00:00, 2270.17it/s]\u001b[A\n",
      " 84%|████████▎ | 9000/10748 [00:03<00:00, 2274.03it/s]\u001b[A\n",
      " 87%|████████▋ | 9300/10748 [00:04<00:00, 2273.45it/s]\u001b[A\n",
      " 89%|████████▉ | 9600/10748 [00:04<00:00, 2270.96it/s]\u001b[A\n",
      " 92%|█████████▏| 9900/10748 [00:04<00:00, 2279.31it/s]\u001b[A\n",
      " 95%|█████████▍| 10200/10748 [00:04<00:00, 2274.69it/s]\u001b[A\n",
      "100%|██████████| 10748/10748 [00:04<00:00, 2286.46it/s]\n"
     ]
    },
    {
     "name": "stdout",
     "output_type": "stream",
     "text": [
      "epoch [75/100], Loss: 0.0006\n"
     ]
    },
    {
     "name": "stderr",
     "output_type": "stream",
     "text": [
      "\n",
      "  0%|          | 0/10748 [00:00<?, ?it/s]\u001b[A\n",
      "  3%|▎         | 300/10748 [00:00<00:04, 2319.34it/s]\u001b[A\n",
      "  6%|▌         | 600/10748 [00:00<00:04, 2278.21it/s]\u001b[A\n",
      "  8%|▊         | 900/10748 [00:00<00:04, 2269.66it/s]\u001b[A\n",
      " 11%|█         | 1200/10748 [00:00<00:04, 2271.23it/s]\u001b[A\n",
      " 14%|█▍        | 1500/10748 [00:00<00:04, 2276.01it/s]\u001b[A\n",
      " 17%|█▋        | 1800/10748 [00:00<00:03, 2271.12it/s]\u001b[A\n",
      " 20%|█▉        | 2100/10748 [00:00<00:03, 2263.03it/s]\u001b[A\n",
      " 22%|██▏       | 2400/10748 [00:01<00:03, 2265.56it/s]\u001b[A\n",
      " 25%|██▌       | 2700/10748 [00:01<00:03, 2245.16it/s]\u001b[A\n",
      " 28%|██▊       | 3000/10748 [00:01<00:03, 2257.03it/s]\u001b[A\n",
      " 31%|███       | 3300/10748 [00:01<00:03, 2270.92it/s]\u001b[A\n",
      " 33%|███▎      | 3600/10748 [00:01<00:03, 2267.63it/s]\u001b[A\n",
      " 36%|███▋      | 3900/10748 [00:01<00:03, 2260.74it/s]\u001b[A\n",
      " 39%|███▉      | 4200/10748 [00:01<00:02, 2262.36it/s]\u001b[A\n",
      " 42%|████▏     | 4500/10748 [00:01<00:02, 2258.66it/s]\u001b[A\n",
      " 45%|████▍     | 4800/10748 [00:02<00:02, 2269.21it/s]\u001b[A\n",
      " 47%|████▋     | 5100/10748 [00:02<00:02, 2279.99it/s]\u001b[A\n",
      " 50%|█████     | 5400/10748 [00:02<00:02, 2278.71it/s]\u001b[A\n",
      " 53%|█████▎    | 5700/10748 [00:02<00:02, 2274.29it/s]\u001b[A\n",
      " 56%|█████▌    | 6000/10748 [00:02<00:02, 2280.10it/s]\u001b[A\n",
      " 59%|█████▊    | 6300/10748 [00:02<00:01, 2286.19it/s]\u001b[A\n",
      " 61%|██████▏   | 6600/10748 [00:02<00:01, 2283.14it/s]\u001b[A\n",
      " 64%|██████▍   | 6900/10748 [00:03<00:01, 2269.53it/s]\u001b[A\n",
      " 67%|██████▋   | 7200/10748 [00:03<00:01, 2272.72it/s]\u001b[A\n",
      " 70%|██████▉   | 7500/10748 [00:03<00:01, 2271.99it/s]\u001b[A\n",
      " 73%|███████▎  | 7800/10748 [00:03<00:01, 2272.00it/s]\u001b[A\n",
      " 75%|███████▌  | 8100/10748 [00:03<00:01, 2272.29it/s]\u001b[A\n",
      " 78%|███████▊  | 8400/10748 [00:03<00:01, 2285.21it/s]\u001b[A\n",
      " 81%|████████  | 8700/10748 [00:03<00:00, 2276.35it/s]\u001b[A\n",
      " 84%|████████▎ | 9000/10748 [00:03<00:00, 2262.93it/s]\u001b[A\n",
      " 87%|████████▋ | 9300/10748 [00:04<00:00, 2275.25it/s]\u001b[A\n",
      " 89%|████████▉ | 9600/10748 [00:04<00:00, 2280.83it/s]\u001b[A\n",
      " 92%|█████████▏| 9900/10748 [00:04<00:00, 2272.11it/s]\u001b[A\n",
      " 95%|█████████▍| 10200/10748 [00:04<00:00, 2267.84it/s]\u001b[A\n",
      "100%|██████████| 10748/10748 [00:04<00:00, 2280.50it/s]\n"
     ]
    },
    {
     "name": "stdout",
     "output_type": "stream",
     "text": [
      "epoch [76/100], Loss: 0.0006\n"
     ]
    },
    {
     "name": "stderr",
     "output_type": "stream",
     "text": [
      "\n",
      "  0%|          | 0/10748 [00:00<?, ?it/s]\u001b[A\n",
      "  3%|▎         | 300/10748 [00:00<00:04, 2373.68it/s]\u001b[A\n",
      "  6%|▌         | 600/10748 [00:00<00:04, 2310.40it/s]\u001b[A\n",
      "  8%|▊         | 900/10748 [00:00<00:04, 2304.43it/s]\u001b[A\n",
      " 11%|█         | 1200/10748 [00:00<00:04, 2289.66it/s]\u001b[A\n",
      " 14%|█▍        | 1500/10748 [00:00<00:04, 2268.14it/s]\u001b[A\n",
      " 17%|█▋        | 1800/10748 [00:00<00:03, 2277.53it/s]\u001b[A\n",
      " 20%|█▉        | 2100/10748 [00:00<00:03, 2266.89it/s]\u001b[A\n",
      " 22%|██▏       | 2400/10748 [00:01<00:03, 2234.00it/s]\u001b[A\n",
      " 25%|██▌       | 2700/10748 [00:01<00:03, 2231.06it/s]\u001b[A\n",
      " 28%|██▊       | 3000/10748 [00:01<00:03, 2237.79it/s]\u001b[A\n",
      " 31%|███       | 3300/10748 [00:01<00:03, 2251.58it/s]\u001b[A\n",
      " 33%|███▎      | 3600/10748 [00:01<00:03, 2262.94it/s]\u001b[A\n",
      " 36%|███▋      | 3900/10748 [00:01<00:03, 2261.49it/s]\u001b[A\n",
      " 39%|███▉      | 4200/10748 [00:01<00:02, 2274.16it/s]\u001b[A\n",
      " 42%|████▏     | 4500/10748 [00:01<00:02, 2272.89it/s]\u001b[A\n",
      " 45%|████▍     | 4800/10748 [00:02<00:02, 2268.20it/s]\u001b[A\n",
      " 47%|████▋     | 5100/10748 [00:02<00:02, 2272.12it/s]\u001b[A\n",
      " 50%|█████     | 5400/10748 [00:02<00:02, 2258.97it/s]\u001b[A\n",
      " 53%|█████▎    | 5700/10748 [00:02<00:02, 2277.53it/s]\u001b[A\n",
      " 56%|█████▌    | 6000/10748 [00:02<00:02, 2272.22it/s]\u001b[A\n",
      " 59%|█████▊    | 6300/10748 [00:02<00:01, 2279.17it/s]\u001b[A\n",
      " 61%|██████▏   | 6600/10748 [00:02<00:01, 2279.23it/s]\u001b[A\n",
      " 64%|██████▍   | 6900/10748 [00:03<00:01, 2286.84it/s]\u001b[A\n",
      " 67%|██████▋   | 7200/10748 [00:03<00:01, 2283.99it/s]\u001b[A\n",
      " 70%|██████▉   | 7500/10748 [00:03<00:01, 2286.81it/s]\u001b[A\n",
      " 73%|███████▎  | 7800/10748 [00:03<00:01, 2296.90it/s]\u001b[A\n",
      " 75%|███████▌  | 8100/10748 [00:03<00:01, 2299.21it/s]\u001b[A\n",
      " 78%|███████▊  | 8400/10748 [00:03<00:01, 2304.59it/s]\u001b[A\n",
      " 81%|████████  | 8700/10748 [00:03<00:00, 2293.55it/s]\u001b[A\n",
      " 84%|████████▎ | 9000/10748 [00:03<00:00, 2286.68it/s]\u001b[A\n",
      " 87%|████████▋ | 9300/10748 [00:04<00:00, 2273.89it/s]\u001b[A\n",
      " 89%|████████▉ | 9600/10748 [00:04<00:00, 2269.18it/s]\u001b[A\n",
      " 92%|█████████▏| 9900/10748 [00:04<00:00, 2263.13it/s]\u001b[A\n",
      " 95%|█████████▍| 10200/10748 [00:04<00:00, 2251.00it/s]\u001b[A\n",
      "100%|██████████| 10748/10748 [00:04<00:00, 2281.55it/s]\n"
     ]
    },
    {
     "name": "stdout",
     "output_type": "stream",
     "text": [
      "epoch [77/100], Loss: 0.0006\n"
     ]
    },
    {
     "name": "stderr",
     "output_type": "stream",
     "text": [
      "\n",
      "  0%|          | 0/10748 [00:00<?, ?it/s]\u001b[A\n",
      "  3%|▎         | 300/10748 [00:00<00:04, 2326.14it/s]\u001b[A\n",
      "  6%|▌         | 600/10748 [00:00<00:04, 2293.28it/s]\u001b[A\n",
      "  8%|▊         | 900/10748 [00:00<00:04, 2287.45it/s]\u001b[A\n",
      " 11%|█         | 1200/10748 [00:00<00:04, 2280.81it/s]\u001b[A\n",
      " 14%|█▍        | 1500/10748 [00:00<00:04, 2293.00it/s]\u001b[A\n",
      " 17%|█▋        | 1800/10748 [00:00<00:03, 2303.08it/s]\u001b[A\n",
      " 20%|█▉        | 2100/10748 [00:00<00:03, 2308.98it/s]\u001b[A\n",
      " 22%|██▏       | 2400/10748 [00:01<00:03, 2302.56it/s]\u001b[A\n",
      " 25%|██▌       | 2700/10748 [00:01<00:03, 2302.06it/s]\u001b[A\n",
      " 28%|██▊       | 3000/10748 [00:01<00:03, 2296.27it/s]\u001b[A\n",
      " 31%|███       | 3300/10748 [00:01<00:03, 2295.71it/s]\u001b[A\n",
      " 33%|███▎      | 3600/10748 [00:01<00:03, 2293.30it/s]\u001b[A\n",
      " 36%|███▋      | 3900/10748 [00:01<00:02, 2292.54it/s]\u001b[A\n",
      " 39%|███▉      | 4200/10748 [00:01<00:02, 2275.96it/s]\u001b[A\n",
      " 42%|████▏     | 4500/10748 [00:01<00:02, 2272.87it/s]\u001b[A\n",
      " 45%|████▍     | 4800/10748 [00:02<00:02, 2271.42it/s]\u001b[A\n",
      " 47%|████▋     | 5100/10748 [00:02<00:02, 2284.29it/s]\u001b[A\n",
      " 50%|█████     | 5400/10748 [00:02<00:02, 2290.77it/s]\u001b[A\n",
      " 53%|█████▎    | 5700/10748 [00:02<00:02, 2293.72it/s]\u001b[A\n",
      " 56%|█████▌    | 6000/10748 [00:02<00:02, 2301.57it/s]\u001b[A\n",
      " 59%|█████▊    | 6300/10748 [00:02<00:01, 2294.89it/s]\u001b[A\n",
      " 61%|██████▏   | 6600/10748 [00:02<00:01, 2289.47it/s]\u001b[A\n",
      " 64%|██████▍   | 6900/10748 [00:03<00:01, 2277.78it/s]\u001b[A\n",
      " 67%|██████▋   | 7200/10748 [00:03<00:01, 2277.83it/s]\u001b[A\n",
      " 70%|██████▉   | 7500/10748 [00:03<00:01, 2281.02it/s]\u001b[A\n",
      " 73%|███████▎  | 7800/10748 [00:03<00:01, 2279.81it/s]\u001b[A\n",
      " 75%|███████▌  | 8100/10748 [00:03<00:01, 2293.08it/s]\u001b[A\n",
      " 78%|███████▊  | 8400/10748 [00:03<00:01, 2289.58it/s]\u001b[A\n",
      " 81%|████████  | 8700/10748 [00:03<00:00, 2292.78it/s]\u001b[A\n",
      " 84%|████████▎ | 9000/10748 [00:03<00:00, 2280.92it/s]\u001b[A\n",
      " 87%|████████▋ | 9300/10748 [00:04<00:00, 2280.13it/s]\u001b[A\n",
      " 89%|████████▉ | 9600/10748 [00:04<00:00, 2282.88it/s]\u001b[A\n",
      " 92%|█████████▏| 9900/10748 [00:04<00:00, 2290.86it/s]\u001b[A\n",
      " 95%|█████████▍| 10200/10748 [00:04<00:00, 2285.71it/s]\u001b[A\n",
      "100%|██████████| 10748/10748 [00:04<00:00, 2297.27it/s]\n"
     ]
    },
    {
     "name": "stdout",
     "output_type": "stream",
     "text": [
      "epoch [78/100], Loss: 0.0006\n"
     ]
    },
    {
     "name": "stderr",
     "output_type": "stream",
     "text": [
      "\n",
      "  0%|          | 0/10748 [00:00<?, ?it/s]\u001b[A\n",
      "  3%|▎         | 300/10748 [00:00<00:04, 2371.83it/s]\u001b[A\n",
      "  6%|▌         | 600/10748 [00:00<00:04, 2315.48it/s]\u001b[A\n",
      "  8%|▊         | 900/10748 [00:00<00:04, 2312.63it/s]\u001b[A\n",
      " 11%|█         | 1200/10748 [00:00<00:04, 2318.70it/s]\u001b[A\n",
      " 14%|█▍        | 1500/10748 [00:00<00:04, 2299.90it/s]\u001b[A\n",
      " 17%|█▋        | 1800/10748 [00:00<00:03, 2283.55it/s]\u001b[A\n",
      " 20%|█▉        | 2100/10748 [00:00<00:03, 2274.70it/s]\u001b[A\n",
      " 22%|██▏       | 2400/10748 [00:01<00:03, 2281.24it/s]\u001b[A\n",
      " 25%|██▌       | 2700/10748 [00:01<00:03, 2271.12it/s]\u001b[A\n",
      " 28%|██▊       | 3000/10748 [00:01<00:03, 2271.63it/s]\u001b[A\n",
      " 31%|███       | 3300/10748 [00:01<00:03, 2280.58it/s]\u001b[A\n",
      " 33%|███▎      | 3600/10748 [00:01<00:03, 2278.28it/s]\u001b[A\n",
      " 36%|███▋      | 3900/10748 [00:01<00:03, 2265.98it/s]\u001b[A\n",
      " 39%|███▉      | 4200/10748 [00:01<00:02, 2267.05it/s]\u001b[A\n",
      " 42%|████▏     | 4500/10748 [00:01<00:02, 2272.50it/s]\u001b[A\n",
      " 45%|████▍     | 4800/10748 [00:02<00:02, 2284.16it/s]\u001b[A\n",
      " 47%|████▋     | 5100/10748 [00:02<00:02, 2276.53it/s]\u001b[A\n",
      " 50%|█████     | 5400/10748 [00:02<00:02, 2269.86it/s]\u001b[A\n",
      " 53%|█████▎    | 5700/10748 [00:02<00:02, 2266.04it/s]\u001b[A\n",
      " 56%|█████▌    | 6000/10748 [00:02<00:02, 2266.56it/s]\u001b[A\n",
      " 59%|█████▊    | 6300/10748 [00:02<00:01, 2276.22it/s]\u001b[A\n",
      " 61%|██████▏   | 6600/10748 [00:02<00:01, 2274.78it/s]\u001b[A\n",
      " 64%|██████▍   | 6900/10748 [00:03<00:01, 2280.67it/s]\u001b[A\n",
      " 67%|██████▋   | 7200/10748 [00:03<00:01, 2281.20it/s]\u001b[A\n",
      " 70%|██████▉   | 7500/10748 [00:03<00:01, 2287.18it/s]\u001b[A\n",
      " 73%|███████▎  | 7800/10748 [00:03<00:01, 2286.83it/s]\u001b[A\n",
      " 75%|███████▌  | 8100/10748 [00:03<00:01, 2292.87it/s]\u001b[A\n",
      " 78%|███████▊  | 8400/10748 [00:03<00:01, 2293.41it/s]\u001b[A\n",
      " 81%|████████  | 8700/10748 [00:03<00:00, 2282.79it/s]\u001b[A\n",
      " 84%|████████▎ | 9000/10748 [00:03<00:00, 2284.61it/s]\u001b[A\n",
      " 87%|████████▋ | 9300/10748 [00:04<00:00, 2275.16it/s]\u001b[A\n",
      " 89%|████████▉ | 9600/10748 [00:04<00:00, 2250.93it/s]\u001b[A\n",
      " 92%|█████████▏| 9900/10748 [00:04<00:00, 2253.02it/s]\u001b[A\n",
      " 95%|█████████▍| 10200/10748 [00:04<00:00, 2265.04it/s]\u001b[A\n",
      "100%|██████████| 10748/10748 [00:04<00:00, 2288.64it/s]\n"
     ]
    },
    {
     "name": "stdout",
     "output_type": "stream",
     "text": [
      "epoch [79/100], Loss: 0.0005\n"
     ]
    },
    {
     "name": "stderr",
     "output_type": "stream",
     "text": [
      "\n",
      "  0%|          | 0/10748 [00:00<?, ?it/s]\u001b[A\n",
      "  3%|▎         | 300/10748 [00:00<00:04, 2338.28it/s]\u001b[A\n",
      "  6%|▌         | 600/10748 [00:00<00:04, 2295.75it/s]\u001b[A\n",
      "  8%|▊         | 900/10748 [00:00<00:04, 2273.32it/s]\u001b[A\n",
      " 11%|█         | 1200/10748 [00:00<00:04, 2277.61it/s]\u001b[A\n",
      " 14%|█▍        | 1500/10748 [00:00<00:04, 2283.41it/s]\u001b[A\n",
      " 17%|█▋        | 1800/10748 [00:00<00:03, 2265.14it/s]\u001b[A\n",
      " 20%|█▉        | 2100/10748 [00:00<00:03, 2268.28it/s]\u001b[A\n",
      " 22%|██▏       | 2400/10748 [00:01<00:03, 2282.68it/s]\u001b[A\n",
      " 25%|██▌       | 2700/10748 [00:01<00:03, 2270.31it/s]\u001b[A\n",
      " 28%|██▊       | 3000/10748 [00:01<00:03, 2285.97it/s]\u001b[A\n",
      " 31%|███       | 3300/10748 [00:01<00:03, 2285.97it/s]\u001b[A\n",
      " 33%|███▎      | 3600/10748 [00:01<00:03, 2275.28it/s]\u001b[A\n",
      " 36%|███▋      | 3900/10748 [00:01<00:02, 2284.18it/s]\u001b[A\n",
      " 39%|███▉      | 4200/10748 [00:01<00:02, 2286.87it/s]\u001b[A\n",
      " 42%|████▏     | 4500/10748 [00:01<00:02, 2285.97it/s]\u001b[A\n",
      " 45%|████▍     | 4800/10748 [00:02<00:02, 2281.71it/s]\u001b[A\n",
      " 47%|████▋     | 5100/10748 [00:02<00:02, 2280.89it/s]\u001b[A\n",
      " 50%|█████     | 5400/10748 [00:02<00:02, 2287.89it/s]\u001b[A\n",
      " 53%|█████▎    | 5700/10748 [00:02<00:02, 2281.65it/s]\u001b[A\n",
      " 56%|█████▌    | 6000/10748 [00:02<00:02, 2266.54it/s]\u001b[A\n",
      " 59%|█████▊    | 6300/10748 [00:02<00:01, 2266.81it/s]\u001b[A\n",
      " 61%|██████▏   | 6600/10748 [00:02<00:01, 2267.22it/s]\u001b[A\n",
      " 64%|██████▍   | 6900/10748 [00:03<00:01, 2271.64it/s]\u001b[A\n",
      " 67%|██████▋   | 7200/10748 [00:03<00:01, 2286.44it/s]\u001b[A\n",
      " 70%|██████▉   | 7500/10748 [00:03<00:01, 2288.44it/s]\u001b[A\n",
      " 73%|███████▎  | 7800/10748 [00:03<00:01, 2277.90it/s]\u001b[A\n",
      " 75%|███████▌  | 8100/10748 [00:03<00:01, 2263.16it/s]\u001b[A\n",
      " 78%|███████▊  | 8400/10748 [00:03<00:01, 2259.65it/s]\u001b[A\n",
      " 81%|████████  | 8700/10748 [00:03<00:00, 2255.40it/s]\u001b[A\n",
      " 84%|████████▎ | 9000/10748 [00:03<00:00, 2265.51it/s]\u001b[A\n",
      " 87%|████████▋ | 9300/10748 [00:04<00:00, 2269.16it/s]\u001b[A\n",
      " 89%|████████▉ | 9600/10748 [00:04<00:00, 2264.40it/s]\u001b[A\n",
      " 92%|█████████▏| 9900/10748 [00:04<00:00, 2266.75it/s]\u001b[A\n",
      " 95%|█████████▍| 10200/10748 [00:04<00:00, 2258.05it/s]\u001b[A\n",
      "100%|██████████| 10748/10748 [00:04<00:00, 2281.83it/s]\n"
     ]
    },
    {
     "name": "stdout",
     "output_type": "stream",
     "text": [
      "epoch [80/100], Loss: 0.0005\n"
     ]
    },
    {
     "name": "stderr",
     "output_type": "stream",
     "text": [
      "\n",
      "  0%|          | 0/10748 [00:00<?, ?it/s]\u001b[A\n",
      "  3%|▎         | 300/10748 [00:00<00:04, 2398.03it/s]\u001b[A\n",
      "  6%|▌         | 600/10748 [00:00<00:04, 2340.13it/s]\u001b[A\n",
      "  8%|▊         | 900/10748 [00:00<00:04, 2318.23it/s]\u001b[A\n",
      " 11%|█         | 1200/10748 [00:00<00:04, 2294.54it/s]\u001b[A\n",
      " 14%|█▍        | 1500/10748 [00:00<00:04, 2279.50it/s]\u001b[A\n",
      " 17%|█▋        | 1800/10748 [00:00<00:03, 2278.42it/s]\u001b[A\n",
      " 20%|█▉        | 2100/10748 [00:00<00:03, 2284.70it/s]\u001b[A\n",
      " 22%|██▏       | 2400/10748 [00:01<00:03, 2276.72it/s]\u001b[A\n",
      " 25%|██▌       | 2700/10748 [00:01<00:03, 2282.49it/s]\u001b[A\n",
      " 28%|██▊       | 3000/10748 [00:01<00:03, 2287.50it/s]\u001b[A\n",
      " 31%|███       | 3300/10748 [00:01<00:03, 2288.58it/s]\u001b[A\n",
      " 33%|███▎      | 3600/10748 [00:01<00:03, 2292.59it/s]\u001b[A\n",
      " 36%|███▋      | 3900/10748 [00:01<00:02, 2286.33it/s]\u001b[A\n",
      " 39%|███▉      | 4200/10748 [00:01<00:02, 2292.80it/s]\u001b[A\n",
      " 42%|████▏     | 4500/10748 [00:01<00:02, 2299.43it/s]\u001b[A\n",
      " 45%|████▍     | 4800/10748 [00:02<00:02, 2299.71it/s]\u001b[A\n",
      " 47%|████▋     | 5100/10748 [00:02<00:02, 2296.37it/s]\u001b[A\n",
      " 50%|█████     | 5400/10748 [00:02<00:02, 2298.74it/s]\u001b[A\n",
      " 53%|█████▎    | 5700/10748 [00:02<00:02, 2274.13it/s]\u001b[A\n",
      " 56%|█████▌    | 6000/10748 [00:02<00:02, 2253.09it/s]\u001b[A\n",
      " 59%|█████▊    | 6300/10748 [00:02<00:01, 2254.82it/s]\u001b[A\n",
      " 61%|██████▏   | 6600/10748 [00:02<00:01, 2265.01it/s]\u001b[A\n",
      " 64%|██████▍   | 6900/10748 [00:03<00:01, 2280.21it/s]\u001b[A\n",
      " 67%|██████▋   | 7200/10748 [00:03<00:01, 2287.59it/s]\u001b[A\n",
      " 70%|██████▉   | 7500/10748 [00:03<00:01, 2291.10it/s]\u001b[A\n",
      " 73%|███████▎  | 7800/10748 [00:03<00:01, 2284.79it/s]\u001b[A\n",
      " 75%|███████▌  | 8100/10748 [00:03<00:01, 2282.08it/s]\u001b[A\n",
      " 78%|███████▊  | 8400/10748 [00:03<00:01, 2289.25it/s]\u001b[A\n",
      " 81%|████████  | 8700/10748 [00:03<00:00, 2281.20it/s]\u001b[A\n",
      " 84%|████████▎ | 9000/10748 [00:03<00:00, 2277.35it/s]\u001b[A\n",
      " 87%|████████▋ | 9300/10748 [00:04<00:00, 2284.04it/s]\u001b[A\n",
      " 89%|████████▉ | 9600/10748 [00:04<00:00, 2285.58it/s]\u001b[A\n",
      " 92%|█████████▏| 9900/10748 [00:04<00:00, 2281.29it/s]\u001b[A\n",
      " 95%|█████████▍| 10200/10748 [00:04<00:00, 2280.09it/s]\u001b[A\n",
      "100%|██████████| 10748/10748 [00:04<00:00, 2295.50it/s]\n"
     ]
    },
    {
     "name": "stdout",
     "output_type": "stream",
     "text": [
      "epoch [81/100], Loss: 0.0005\n"
     ]
    },
    {
     "name": "stderr",
     "output_type": "stream",
     "text": [
      "\n",
      "  0%|          | 0/10748 [00:00<?, ?it/s]\u001b[A\n",
      "  3%|▎         | 300/10748 [00:00<00:04, 2310.41it/s]\u001b[A\n",
      "  6%|▌         | 600/10748 [00:00<00:04, 2307.40it/s]\u001b[A\n",
      "  8%|▊         | 900/10748 [00:00<00:04, 2297.04it/s]\u001b[A\n",
      " 11%|█         | 1200/10748 [00:00<00:04, 2281.81it/s]\u001b[A\n",
      " 14%|█▍        | 1500/10748 [00:00<00:04, 2266.00it/s]\u001b[A\n",
      " 17%|█▋        | 1800/10748 [00:00<00:03, 2265.01it/s]\u001b[A\n",
      " 20%|█▉        | 2100/10748 [00:00<00:03, 2267.99it/s]\u001b[A\n",
      " 22%|██▏       | 2400/10748 [00:01<00:03, 2264.64it/s]\u001b[A\n",
      " 25%|██▌       | 2700/10748 [00:01<00:03, 2273.73it/s]\u001b[A\n",
      " 28%|██▊       | 3000/10748 [00:01<00:03, 2279.62it/s]\u001b[A\n",
      " 31%|███       | 3300/10748 [00:01<00:03, 2277.43it/s]\u001b[A\n",
      " 33%|███▎      | 3600/10748 [00:01<00:03, 2275.62it/s]\u001b[A\n",
      " 36%|███▋      | 3900/10748 [00:01<00:02, 2282.96it/s]\u001b[A\n",
      " 39%|███▉      | 4200/10748 [00:01<00:02, 2279.79it/s]\u001b[A\n",
      " 42%|████▏     | 4500/10748 [00:01<00:02, 2257.22it/s]\u001b[A\n",
      " 45%|████▍     | 4800/10748 [00:02<00:02, 2264.91it/s]\u001b[A\n",
      " 47%|████▋     | 5100/10748 [00:02<00:02, 2263.49it/s]\u001b[A\n",
      " 50%|█████     | 5400/10748 [00:02<00:02, 2276.23it/s]\u001b[A\n",
      " 53%|█████▎    | 5700/10748 [00:02<00:02, 2283.97it/s]\u001b[A\n",
      " 56%|█████▌    | 6000/10748 [00:02<00:02, 2286.24it/s]\u001b[A\n",
      " 59%|█████▊    | 6300/10748 [00:02<00:01, 2272.54it/s]\u001b[A\n",
      " 61%|██████▏   | 6600/10748 [00:02<00:01, 2282.42it/s]\u001b[A\n",
      " 64%|██████▍   | 6900/10748 [00:03<00:01, 2280.41it/s]\u001b[A\n",
      " 67%|██████▋   | 7200/10748 [00:03<00:01, 2288.59it/s]\u001b[A\n",
      " 70%|██████▉   | 7500/10748 [00:03<00:01, 2280.10it/s]\u001b[A\n",
      " 73%|███████▎  | 7800/10748 [00:03<00:01, 2273.69it/s]\u001b[A\n",
      " 75%|███████▌  | 8100/10748 [00:03<00:01, 2270.02it/s]\u001b[A\n",
      " 78%|███████▊  | 8400/10748 [00:03<00:01, 2271.34it/s]\u001b[A\n",
      " 81%|████████  | 8700/10748 [00:03<00:00, 2282.77it/s]\u001b[A\n",
      " 84%|████████▎ | 9000/10748 [00:03<00:00, 2283.57it/s]\u001b[A\n",
      " 87%|████████▋ | 9300/10748 [00:04<00:00, 2276.37it/s]\u001b[A\n",
      " 89%|████████▉ | 9600/10748 [00:04<00:00, 2274.92it/s]\u001b[A\n",
      " 92%|█████████▏| 9900/10748 [00:04<00:00, 2278.63it/s]\u001b[A\n",
      " 95%|█████████▍| 10200/10748 [00:04<00:00, 2286.85it/s]\u001b[A\n",
      "100%|██████████| 10748/10748 [00:04<00:00, 2286.97it/s]\n"
     ]
    },
    {
     "name": "stdout",
     "output_type": "stream",
     "text": [
      "epoch [82/100], Loss: 0.0005\n"
     ]
    },
    {
     "name": "stderr",
     "output_type": "stream",
     "text": [
      "\n",
      "  0%|          | 0/10748 [00:00<?, ?it/s]\u001b[A\n",
      "  3%|▎         | 300/10748 [00:00<00:04, 2368.45it/s]\u001b[A\n",
      "  6%|▌         | 600/10748 [00:00<00:04, 2289.75it/s]\u001b[A\n",
      "  8%|▊         | 900/10748 [00:00<00:04, 2290.32it/s]\u001b[A\n",
      " 11%|█         | 1200/10748 [00:00<00:04, 2290.14it/s]\u001b[A\n",
      " 14%|█▍        | 1500/10748 [00:00<00:04, 2290.94it/s]\u001b[A\n",
      " 17%|█▋        | 1800/10748 [00:00<00:03, 2296.69it/s]\u001b[A\n",
      " 20%|█▉        | 2100/10748 [00:00<00:03, 2277.23it/s]\u001b[A\n",
      " 22%|██▏       | 2400/10748 [00:01<00:03, 2259.42it/s]\u001b[A\n",
      " 25%|██▌       | 2700/10748 [00:01<00:03, 2267.11it/s]\u001b[A\n",
      " 28%|██▊       | 3000/10748 [00:01<00:03, 2262.29it/s]\u001b[A\n",
      " 31%|███       | 3300/10748 [00:01<00:03, 2263.09it/s]\u001b[A\n",
      " 33%|███▎      | 3600/10748 [00:01<00:03, 2279.27it/s]\u001b[A\n",
      " 36%|███▋      | 3900/10748 [00:01<00:02, 2283.73it/s]\u001b[A\n",
      " 39%|███▉      | 4200/10748 [00:01<00:02, 2276.54it/s]\u001b[A\n",
      " 42%|████▏     | 4500/10748 [00:01<00:02, 2289.27it/s]\u001b[A\n",
      " 45%|████▍     | 4800/10748 [00:02<00:02, 2290.13it/s]\u001b[A\n",
      " 47%|████▋     | 5100/10748 [00:02<00:02, 2289.73it/s]\u001b[A\n",
      " 50%|█████     | 5400/10748 [00:02<00:02, 2281.35it/s]\u001b[A\n",
      " 53%|█████▎    | 5700/10748 [00:02<00:02, 2283.15it/s]\u001b[A\n",
      " 56%|█████▌    | 6000/10748 [00:02<00:02, 2285.68it/s]\u001b[A\n",
      " 59%|█████▊    | 6300/10748 [00:02<00:01, 2288.26it/s]\u001b[A\n",
      " 61%|██████▏   | 6600/10748 [00:02<00:01, 2291.72it/s]\u001b[A\n",
      " 64%|██████▍   | 6900/10748 [00:03<00:01, 2297.17it/s]\u001b[A\n",
      " 67%|██████▋   | 7200/10748 [00:03<00:01, 2288.60it/s]\u001b[A\n",
      " 70%|██████▉   | 7500/10748 [00:03<00:01, 2290.74it/s]\u001b[A\n",
      " 73%|███████▎  | 7800/10748 [00:03<00:01, 2288.69it/s]\u001b[A\n",
      " 75%|███████▌  | 8100/10748 [00:03<00:01, 2275.46it/s]\u001b[A\n",
      " 78%|███████▊  | 8400/10748 [00:03<00:01, 2265.32it/s]\u001b[A\n",
      " 81%|████████  | 8700/10748 [00:03<00:00, 2266.21it/s]\u001b[A\n",
      " 84%|████████▎ | 9000/10748 [00:03<00:00, 2270.43it/s]\u001b[A\n",
      " 87%|████████▋ | 9300/10748 [00:04<00:00, 2249.27it/s]\u001b[A\n",
      " 89%|████████▉ | 9600/10748 [00:04<00:00, 2267.34it/s]\u001b[A\n",
      " 92%|█████████▏| 9900/10748 [00:04<00:00, 2270.24it/s]\u001b[A\n",
      " 95%|█████████▍| 10200/10748 [00:04<00:00, 2273.54it/s]\u001b[A\n",
      "100%|██████████| 10748/10748 [00:04<00:00, 2287.47it/s]\n"
     ]
    },
    {
     "name": "stdout",
     "output_type": "stream",
     "text": [
      "epoch [83/100], Loss: 0.0005\n"
     ]
    },
    {
     "name": "stderr",
     "output_type": "stream",
     "text": [
      "\n",
      "  0%|          | 0/10748 [00:00<?, ?it/s]\u001b[A\n",
      "  3%|▎         | 300/10748 [00:00<00:04, 2315.52it/s]\u001b[A\n",
      "  6%|▌         | 600/10748 [00:00<00:04, 2284.87it/s]\u001b[A\n",
      "  8%|▊         | 900/10748 [00:00<00:04, 2286.33it/s]\u001b[A\n",
      " 11%|█         | 1200/10748 [00:00<00:04, 2293.83it/s]\u001b[A\n",
      " 14%|█▍        | 1500/10748 [00:00<00:04, 2287.42it/s]\u001b[A\n",
      " 17%|█▋        | 1800/10748 [00:00<00:03, 2270.87it/s]\u001b[A\n",
      " 20%|█▉        | 2100/10748 [00:00<00:03, 2260.30it/s]\u001b[A\n",
      " 22%|██▏       | 2400/10748 [00:01<00:03, 2243.81it/s]\u001b[A\n",
      " 25%|██▌       | 2700/10748 [00:01<00:03, 2255.85it/s]\u001b[A\n",
      " 28%|██▊       | 3000/10748 [00:01<00:03, 2257.14it/s]\u001b[A\n",
      " 31%|███       | 3300/10748 [00:01<00:03, 2255.47it/s]\u001b[A\n",
      " 33%|███▎      | 3600/10748 [00:01<00:03, 2274.02it/s]\u001b[A\n",
      " 36%|███▋      | 3900/10748 [00:01<00:03, 2280.26it/s]\u001b[A\n",
      " 39%|███▉      | 4200/10748 [00:01<00:02, 2293.51it/s]\u001b[A\n",
      " 42%|████▏     | 4500/10748 [00:01<00:02, 2289.67it/s]\u001b[A\n",
      " 45%|████▍     | 4800/10748 [00:02<00:02, 2294.73it/s]\u001b[A\n",
      " 47%|████▋     | 5100/10748 [00:02<00:02, 2282.37it/s]\u001b[A\n",
      " 50%|█████     | 5400/10748 [00:02<00:02, 2287.51it/s]\u001b[A\n",
      " 53%|█████▎    | 5700/10748 [00:02<00:02, 2293.43it/s]\u001b[A\n",
      " 56%|█████▌    | 6000/10748 [00:02<00:02, 2278.65it/s]\u001b[A\n",
      " 59%|█████▊    | 6300/10748 [00:02<00:01, 2280.57it/s]\u001b[A\n",
      " 61%|██████▏   | 6600/10748 [00:02<00:01, 2275.95it/s]\u001b[A\n",
      " 64%|██████▍   | 6900/10748 [00:03<00:01, 2272.91it/s]\u001b[A\n",
      " 67%|██████▋   | 7200/10748 [00:03<00:01, 2286.19it/s]\u001b[A\n",
      " 70%|██████▉   | 7500/10748 [00:03<00:01, 2270.84it/s]\u001b[A\n",
      " 73%|███████▎  | 7800/10748 [00:03<00:01, 2282.80it/s]\u001b[A\n",
      " 75%|███████▌  | 8100/10748 [00:03<00:01, 2275.31it/s]\u001b[A\n",
      " 78%|███████▊  | 8400/10748 [00:03<00:01, 2290.94it/s]\u001b[A\n",
      " 81%|████████  | 8700/10748 [00:03<00:00, 2286.00it/s]\u001b[A\n",
      " 84%|████████▎ | 9000/10748 [00:03<00:00, 2275.92it/s]\u001b[A\n",
      " 87%|████████▋ | 9300/10748 [00:04<00:00, 2261.78it/s]\u001b[A\n",
      " 89%|████████▉ | 9600/10748 [00:04<00:00, 2277.27it/s]\u001b[A\n",
      " 92%|█████████▏| 9900/10748 [00:04<00:00, 2250.20it/s]\u001b[A\n",
      " 95%|█████████▍| 10200/10748 [00:04<00:00, 2254.79it/s]\u001b[A\n",
      "100%|██████████| 10748/10748 [00:04<00:00, 2283.32it/s]\n"
     ]
    },
    {
     "name": "stdout",
     "output_type": "stream",
     "text": [
      "epoch [84/100], Loss: 0.0005\n"
     ]
    },
    {
     "name": "stderr",
     "output_type": "stream",
     "text": [
      "\n",
      "  0%|          | 0/10748 [00:00<?, ?it/s]\u001b[A\n",
      "  3%|▎         | 300/10748 [00:00<00:04, 2332.69it/s]\u001b[A\n",
      "  6%|▌         | 600/10748 [00:00<00:04, 2303.20it/s]\u001b[A\n",
      "  8%|▊         | 900/10748 [00:00<00:04, 2280.10it/s]\u001b[A\n",
      " 11%|█         | 1200/10748 [00:00<00:04, 2268.76it/s]\u001b[A\n",
      " 14%|█▍        | 1500/10748 [00:00<00:04, 2266.26it/s]\u001b[A\n",
      " 17%|█▋        | 1800/10748 [00:00<00:03, 2278.67it/s]\u001b[A\n",
      " 20%|█▉        | 2100/10748 [00:00<00:03, 2271.35it/s]\u001b[A\n",
      " 22%|██▏       | 2400/10748 [00:01<00:03, 2274.45it/s]\u001b[A\n",
      " 25%|██▌       | 2700/10748 [00:01<00:03, 2262.94it/s]\u001b[A\n",
      " 28%|██▊       | 3000/10748 [00:01<00:03, 2279.18it/s]\u001b[A\n",
      " 31%|███       | 3300/10748 [00:01<00:03, 2267.30it/s]\u001b[A\n",
      " 33%|███▎      | 3600/10748 [00:01<00:03, 2267.90it/s]\u001b[A\n",
      " 36%|███▋      | 3900/10748 [00:01<00:03, 2270.17it/s]\u001b[A\n",
      " 39%|███▉      | 4200/10748 [00:01<00:02, 2262.66it/s]\u001b[A\n",
      " 42%|████▏     | 4500/10748 [00:01<00:02, 2267.34it/s]\u001b[A\n",
      " 45%|████▍     | 4800/10748 [00:02<00:02, 2277.80it/s]\u001b[A\n",
      " 47%|████▋     | 5100/10748 [00:02<00:02, 2240.96it/s]\u001b[A\n",
      " 50%|█████     | 5400/10748 [00:02<00:02, 2243.47it/s]\u001b[A\n",
      " 53%|█████▎    | 5700/10748 [00:02<00:02, 2251.76it/s]\u001b[A\n",
      " 56%|█████▌    | 6000/10748 [00:02<00:02, 2270.36it/s]\u001b[A\n",
      " 59%|█████▊    | 6300/10748 [00:02<00:01, 2265.62it/s]\u001b[A\n",
      " 61%|██████▏   | 6600/10748 [00:02<00:01, 2270.38it/s]\u001b[A\n",
      " 64%|██████▍   | 6900/10748 [00:03<00:01, 2266.56it/s]\u001b[A\n",
      " 67%|██████▋   | 7200/10748 [00:03<00:01, 2278.10it/s]\u001b[A\n",
      " 70%|██████▉   | 7500/10748 [00:03<00:01, 2284.12it/s]\u001b[A\n",
      " 73%|███████▎  | 7800/10748 [00:03<00:01, 2277.85it/s]\u001b[A\n",
      " 75%|███████▌  | 8100/10748 [00:03<00:01, 2273.21it/s]\u001b[A\n",
      " 78%|███████▊  | 8400/10748 [00:03<00:01, 2274.86it/s]\u001b[A\n",
      " 81%|████████  | 8700/10748 [00:03<00:00, 2270.33it/s]\u001b[A\n",
      " 84%|████████▎ | 9000/10748 [00:03<00:00, 2251.38it/s]\u001b[A\n",
      " 87%|████████▋ | 9300/10748 [00:04<00:00, 2249.75it/s]\u001b[A\n",
      " 89%|████████▉ | 9600/10748 [00:04<00:00, 2253.77it/s]\u001b[A\n",
      " 92%|█████████▏| 9900/10748 [00:04<00:00, 2257.92it/s]\u001b[A\n",
      " 95%|█████████▍| 10200/10748 [00:04<00:00, 2268.42it/s]\u001b[A\n",
      "100%|██████████| 10748/10748 [00:04<00:00, 2277.82it/s]\n"
     ]
    },
    {
     "name": "stdout",
     "output_type": "stream",
     "text": [
      "epoch [85/100], Loss: 0.0004\n"
     ]
    },
    {
     "name": "stderr",
     "output_type": "stream",
     "text": [
      "\n",
      "  0%|          | 0/10748 [00:00<?, ?it/s]\u001b[A\n",
      "  3%|▎         | 300/10748 [00:00<00:04, 2314.64it/s]\u001b[A\n",
      "  6%|▌         | 600/10748 [00:00<00:04, 2308.86it/s]\u001b[A\n",
      "  8%|▊         | 900/10748 [00:00<00:04, 2292.17it/s]\u001b[A\n",
      " 11%|█         | 1200/10748 [00:00<00:04, 2296.52it/s]\u001b[A\n",
      " 14%|█▍        | 1500/10748 [00:00<00:04, 2295.10it/s]\u001b[A\n",
      " 17%|█▋        | 1800/10748 [00:00<00:03, 2285.84it/s]\u001b[A\n",
      " 20%|█▉        | 2100/10748 [00:00<00:03, 2272.03it/s]\u001b[A\n",
      " 22%|██▏       | 2400/10748 [00:01<00:03, 2258.66it/s]\u001b[A\n",
      " 25%|██▌       | 2700/10748 [00:01<00:03, 2254.45it/s]\u001b[A\n",
      " 28%|██▊       | 3000/10748 [00:01<00:03, 2265.62it/s]\u001b[A\n",
      " 31%|███       | 3300/10748 [00:01<00:03, 2276.10it/s]\u001b[A\n",
      " 33%|███▎      | 3600/10748 [00:01<00:03, 2280.88it/s]\u001b[A\n",
      " 36%|███▋      | 3900/10748 [00:01<00:03, 2272.89it/s]\u001b[A\n",
      " 39%|███▉      | 4200/10748 [00:01<00:02, 2276.23it/s]\u001b[A\n",
      " 42%|████▏     | 4500/10748 [00:01<00:02, 2285.23it/s]\u001b[A\n",
      " 45%|████▍     | 4800/10748 [00:02<00:02, 2279.53it/s]\u001b[A\n",
      " 47%|████▋     | 5100/10748 [00:02<00:02, 2280.00it/s]\u001b[A\n",
      " 50%|█████     | 5400/10748 [00:02<00:02, 2270.58it/s]\u001b[A\n",
      " 53%|█████▎    | 5700/10748 [00:02<00:02, 2268.07it/s]\u001b[A\n",
      " 56%|█████▌    | 6000/10748 [00:02<00:02, 2263.62it/s]\u001b[A\n",
      " 59%|█████▊    | 6300/10748 [00:02<00:01, 2258.12it/s]\u001b[A\n",
      " 61%|██████▏   | 6600/10748 [00:02<00:01, 2272.45it/s]\u001b[A\n",
      " 64%|██████▍   | 6900/10748 [00:03<00:01, 2267.23it/s]\u001b[A\n",
      " 67%|██████▋   | 7200/10748 [00:03<00:01, 2274.56it/s]\u001b[A\n",
      " 70%|██████▉   | 7500/10748 [00:03<00:01, 2284.59it/s]\u001b[A\n",
      " 73%|███████▎  | 7800/10748 [00:03<00:01, 2283.94it/s]\u001b[A\n",
      " 75%|███████▌  | 8100/10748 [00:03<00:01, 2283.28it/s]\u001b[A\n",
      " 78%|███████▊  | 8400/10748 [00:03<00:01, 2280.22it/s]\u001b[A\n",
      " 81%|████████  | 8700/10748 [00:03<00:00, 2273.60it/s]\u001b[A\n",
      " 84%|████████▎ | 9000/10748 [00:03<00:00, 2273.79it/s]\u001b[A\n",
      " 87%|████████▋ | 9300/10748 [00:04<00:00, 2265.04it/s]\u001b[A\n",
      " 89%|████████▉ | 9600/10748 [00:04<00:00, 2277.82it/s]\u001b[A\n",
      " 92%|█████████▏| 9900/10748 [00:04<00:00, 2276.23it/s]\u001b[A\n",
      " 95%|█████████▍| 10200/10748 [00:04<00:00, 2281.01it/s]\u001b[A\n",
      "100%|██████████| 10748/10748 [00:04<00:00, 2288.28it/s]\n"
     ]
    },
    {
     "name": "stdout",
     "output_type": "stream",
     "text": [
      "epoch [86/100], Loss: 0.0004\n"
     ]
    },
    {
     "name": "stderr",
     "output_type": "stream",
     "text": [
      "\n",
      "  0%|          | 0/10748 [00:00<?, ?it/s]\u001b[A\n",
      "  3%|▎         | 300/10748 [00:00<00:04, 2357.79it/s]\u001b[A\n",
      "  6%|▌         | 600/10748 [00:00<00:04, 2311.66it/s]\u001b[A\n",
      "  8%|▊         | 900/10748 [00:00<00:04, 2223.22it/s]\u001b[A\n",
      " 11%|█         | 1200/10748 [00:00<00:04, 2239.41it/s]\u001b[A\n",
      " 14%|█▍        | 1500/10748 [00:00<00:04, 2218.85it/s]\u001b[A\n",
      " 17%|█▋        | 1800/10748 [00:00<00:03, 2242.63it/s]\u001b[A\n",
      " 20%|█▉        | 2100/10748 [00:00<00:03, 2239.17it/s]\u001b[A\n",
      " 22%|██▏       | 2400/10748 [00:01<00:03, 2243.40it/s]\u001b[A\n",
      " 25%|██▌       | 2700/10748 [00:01<00:03, 2255.20it/s]\u001b[A\n",
      " 28%|██▊       | 3000/10748 [00:01<00:03, 2271.48it/s]\u001b[A\n",
      " 31%|███       | 3300/10748 [00:01<00:03, 2287.60it/s]\u001b[A\n",
      " 33%|███▎      | 3600/10748 [00:01<00:03, 2289.11it/s]\u001b[A\n",
      " 36%|███▋      | 3900/10748 [00:01<00:02, 2293.31it/s]\u001b[A\n",
      " 39%|███▉      | 4200/10748 [00:01<00:02, 2285.25it/s]\u001b[A\n",
      " 42%|████▏     | 4500/10748 [00:01<00:02, 2272.34it/s]\u001b[A\n",
      " 45%|████▍     | 4800/10748 [00:02<00:02, 2285.99it/s]\u001b[A\n",
      " 47%|████▋     | 5100/10748 [00:02<00:02, 2275.51it/s]\u001b[A\n",
      " 50%|█████     | 5400/10748 [00:02<00:02, 2286.95it/s]\u001b[A\n",
      " 53%|█████▎    | 5700/10748 [00:02<00:02, 2292.59it/s]\u001b[A\n",
      " 56%|█████▌    | 6000/10748 [00:02<00:02, 2296.94it/s]\u001b[A\n",
      " 59%|█████▊    | 6300/10748 [00:02<00:01, 2285.17it/s]\u001b[A\n",
      " 61%|██████▏   | 6600/10748 [00:02<00:01, 2288.47it/s]\u001b[A\n",
      " 64%|██████▍   | 6900/10748 [00:03<00:01, 2289.83it/s]\u001b[A\n",
      " 67%|██████▋   | 7200/10748 [00:03<00:01, 2274.04it/s]\u001b[A\n",
      " 70%|██████▉   | 7500/10748 [00:03<00:01, 2283.61it/s]\u001b[A\n",
      " 73%|███████▎  | 7800/10748 [00:03<00:01, 2269.37it/s]\u001b[A\n",
      " 75%|███████▌  | 8100/10748 [00:03<00:01, 2269.44it/s]\u001b[A\n",
      " 78%|███████▊  | 8400/10748 [00:03<00:01, 2286.29it/s]\u001b[A\n",
      " 81%|████████  | 8700/10748 [00:03<00:00, 2277.16it/s]\u001b[A\n",
      " 84%|████████▎ | 9000/10748 [00:03<00:00, 2280.74it/s]\u001b[A\n",
      " 87%|████████▋ | 9300/10748 [00:04<00:00, 2260.51it/s]\u001b[A\n",
      " 89%|████████▉ | 9600/10748 [00:04<00:00, 2265.52it/s]\u001b[A\n",
      " 92%|█████████▏| 9900/10748 [00:04<00:00, 2250.19it/s]\u001b[A\n",
      " 95%|█████████▍| 10200/10748 [00:04<00:00, 2265.61it/s]\u001b[A\n",
      "100%|██████████| 10748/10748 [00:04<00:00, 2281.23it/s]\n"
     ]
    },
    {
     "name": "stdout",
     "output_type": "stream",
     "text": [
      "epoch [87/100], Loss: 0.0005\n"
     ]
    },
    {
     "name": "stderr",
     "output_type": "stream",
     "text": [
      "\n",
      "  0%|          | 0/10748 [00:00<?, ?it/s]\u001b[A\n",
      "  3%|▎         | 300/10748 [00:00<00:04, 2328.58it/s]\u001b[A\n",
      "  6%|▌         | 600/10748 [00:00<00:04, 2297.90it/s]\u001b[A\n",
      "  8%|▊         | 900/10748 [00:00<00:04, 2303.66it/s]\u001b[A\n",
      " 11%|█         | 1200/10748 [00:00<00:04, 2286.95it/s]\u001b[A\n",
      " 14%|█▍        | 1500/10748 [00:00<00:04, 2286.83it/s]\u001b[A\n",
      " 17%|█▋        | 1800/10748 [00:00<00:03, 2284.02it/s]\u001b[A\n",
      " 20%|█▉        | 2100/10748 [00:00<00:03, 2291.04it/s]\u001b[A\n",
      " 22%|██▏       | 2400/10748 [00:01<00:03, 2274.39it/s]\u001b[A\n",
      " 25%|██▌       | 2700/10748 [00:01<00:03, 2285.59it/s]\u001b[A\n",
      " 28%|██▊       | 3000/10748 [00:01<00:03, 2278.22it/s]\u001b[A\n",
      " 31%|███       | 3300/10748 [00:01<00:03, 2282.80it/s]\u001b[A\n",
      " 33%|███▎      | 3600/10748 [00:01<00:03, 2279.99it/s]\u001b[A\n",
      " 36%|███▋      | 3900/10748 [00:01<00:03, 2259.78it/s]\u001b[A\n",
      " 39%|███▉      | 4200/10748 [00:01<00:02, 2267.62it/s]\u001b[A\n",
      " 42%|████▏     | 4500/10748 [00:01<00:02, 2270.93it/s]\u001b[A\n",
      " 45%|████▍     | 4800/10748 [00:02<00:02, 2275.28it/s]\u001b[A\n",
      " 47%|████▋     | 5100/10748 [00:02<00:02, 2274.91it/s]\u001b[A\n",
      " 50%|█████     | 5400/10748 [00:02<00:02, 2280.73it/s]\u001b[A\n",
      " 53%|█████▎    | 5700/10748 [00:02<00:02, 2270.72it/s]\u001b[A\n",
      " 56%|█████▌    | 6000/10748 [00:02<00:02, 2266.38it/s]\u001b[A\n",
      " 59%|█████▊    | 6300/10748 [00:02<00:01, 2273.82it/s]\u001b[A\n",
      " 61%|██████▏   | 6600/10748 [00:02<00:01, 2276.96it/s]\u001b[A\n",
      " 64%|██████▍   | 6900/10748 [00:03<00:01, 2285.56it/s]\u001b[A\n",
      " 67%|██████▋   | 7200/10748 [00:03<00:01, 2290.25it/s]\u001b[A\n",
      " 70%|██████▉   | 7500/10748 [00:03<00:01, 2286.50it/s]\u001b[A\n",
      " 73%|███████▎  | 7800/10748 [00:03<00:01, 2287.63it/s]\u001b[A\n",
      " 75%|███████▌  | 8100/10748 [00:03<00:01, 2288.37it/s]\u001b[A\n",
      " 78%|███████▊  | 8400/10748 [00:03<00:01, 2277.04it/s]\u001b[A\n",
      " 81%|████████  | 8700/10748 [00:03<00:00, 2257.68it/s]\u001b[A\n",
      " 84%|████████▎ | 9000/10748 [00:03<00:00, 2273.11it/s]\u001b[A\n",
      " 87%|████████▋ | 9300/10748 [00:04<00:00, 2269.99it/s]\u001b[A\n",
      " 89%|████████▉ | 9600/10748 [00:04<00:00, 2273.54it/s]\u001b[A\n",
      " 92%|█████████▏| 9900/10748 [00:04<00:00, 2256.02it/s]\u001b[A\n",
      " 95%|█████████▍| 10200/10748 [00:04<00:00, 2229.47it/s]\u001b[A\n",
      "100%|██████████| 10748/10748 [00:04<00:00, 2282.91it/s]\n"
     ]
    },
    {
     "name": "stdout",
     "output_type": "stream",
     "text": [
      "epoch [88/100], Loss: 0.0004\n"
     ]
    },
    {
     "name": "stderr",
     "output_type": "stream",
     "text": [
      "\n",
      "  0%|          | 0/10748 [00:00<?, ?it/s]\u001b[A\n",
      "  3%|▎         | 300/10748 [00:00<00:04, 2380.45it/s]\u001b[A\n",
      "  6%|▌         | 600/10748 [00:00<00:04, 2316.74it/s]\u001b[A\n",
      "  8%|▊         | 900/10748 [00:00<00:04, 2287.17it/s]\u001b[A\n",
      " 11%|█         | 1200/10748 [00:00<00:04, 2272.13it/s]\u001b[A\n",
      " 14%|█▍        | 1500/10748 [00:00<00:04, 2270.10it/s]\u001b[A\n",
      " 17%|█▋        | 1800/10748 [00:00<00:03, 2265.56it/s]\u001b[A\n",
      " 20%|█▉        | 2100/10748 [00:00<00:03, 2271.89it/s]\u001b[A\n",
      " 22%|██▏       | 2400/10748 [00:01<00:03, 2274.06it/s]\u001b[A\n",
      " 25%|██▌       | 2700/10748 [00:01<00:03, 2282.78it/s]\u001b[A\n",
      " 28%|██▊       | 3000/10748 [00:01<00:03, 2267.63it/s]\u001b[A\n",
      " 31%|███       | 3300/10748 [00:01<00:03, 2277.05it/s]\u001b[A\n",
      " 33%|███▎      | 3600/10748 [00:01<00:03, 2275.11it/s]\u001b[A\n",
      " 36%|███▋      | 3900/10748 [00:01<00:03, 2266.46it/s]\u001b[A\n",
      " 39%|███▉      | 4200/10748 [00:01<00:02, 2275.58it/s]\u001b[A\n",
      " 42%|████▏     | 4500/10748 [00:01<00:02, 2284.73it/s]\u001b[A\n",
      " 45%|████▍     | 4800/10748 [00:02<00:02, 2279.24it/s]\u001b[A\n",
      " 47%|████▋     | 5100/10748 [00:02<00:02, 2283.20it/s]\u001b[A\n",
      " 50%|█████     | 5400/10748 [00:02<00:02, 2291.05it/s]\u001b[A\n",
      " 53%|█████▎    | 5700/10748 [00:02<00:02, 2289.05it/s]\u001b[A\n",
      " 56%|█████▌    | 6000/10748 [00:02<00:02, 2293.34it/s]\u001b[A\n",
      " 59%|█████▊    | 6300/10748 [00:02<00:01, 2280.06it/s]\u001b[A\n",
      " 61%|██████▏   | 6600/10748 [00:02<00:01, 2280.41it/s]\u001b[A\n",
      " 64%|██████▍   | 6900/10748 [00:03<00:01, 2284.63it/s]\u001b[A\n",
      " 67%|██████▋   | 7200/10748 [00:03<00:01, 2277.96it/s]\u001b[A\n",
      " 70%|██████▉   | 7500/10748 [00:03<00:01, 2280.73it/s]\u001b[A\n",
      " 73%|███████▎  | 7800/10748 [00:03<00:01, 2277.10it/s]\u001b[A\n",
      " 75%|███████▌  | 8100/10748 [00:03<00:01, 2283.12it/s]\u001b[A\n",
      " 78%|███████▊  | 8400/10748 [00:03<00:01, 2271.91it/s]\u001b[A\n",
      " 81%|████████  | 8700/10748 [00:03<00:00, 2278.02it/s]\u001b[A\n",
      " 84%|████████▎ | 9000/10748 [00:03<00:00, 2284.08it/s]\u001b[A\n",
      " 87%|████████▋ | 9300/10748 [00:04<00:00, 2278.03it/s]\u001b[A\n",
      " 89%|████████▉ | 9600/10748 [00:04<00:00, 2279.65it/s]\u001b[A\n",
      " 92%|█████████▏| 9900/10748 [00:04<00:00, 2284.45it/s]\u001b[A\n",
      " 95%|█████████▍| 10200/10748 [00:04<00:00, 2295.14it/s]\u001b[A\n",
      "100%|██████████| 10748/10748 [00:04<00:00, 2290.94it/s]\n"
     ]
    },
    {
     "name": "stdout",
     "output_type": "stream",
     "text": [
      "epoch [89/100], Loss: 0.0004\n"
     ]
    },
    {
     "name": "stderr",
     "output_type": "stream",
     "text": [
      "\n",
      "  0%|          | 0/10748 [00:00<?, ?it/s]\u001b[A\n",
      "  3%|▎         | 300/10748 [00:00<00:04, 2352.73it/s]\u001b[A\n",
      "  6%|▌         | 600/10748 [00:00<00:04, 2309.25it/s]\u001b[A\n",
      "  8%|▊         | 900/10748 [00:00<00:04, 2296.53it/s]\u001b[A\n",
      " 11%|█         | 1200/10748 [00:00<00:04, 2300.57it/s]\u001b[A\n",
      " 14%|█▍        | 1500/10748 [00:00<00:04, 2292.63it/s]\u001b[A\n",
      " 17%|█▋        | 1800/10748 [00:00<00:03, 2286.05it/s]\u001b[A\n",
      " 20%|█▉        | 2100/10748 [00:00<00:03, 2287.60it/s]\u001b[A\n",
      " 22%|██▏       | 2400/10748 [00:01<00:03, 2274.99it/s]\u001b[A\n",
      " 25%|██▌       | 2700/10748 [00:01<00:03, 2280.85it/s]\u001b[A\n",
      " 28%|██▊       | 3000/10748 [00:01<00:03, 2270.69it/s]\u001b[A\n",
      " 31%|███       | 3300/10748 [00:01<00:03, 2256.32it/s]\u001b[A\n",
      " 33%|███▎      | 3600/10748 [00:01<00:03, 2269.38it/s]\u001b[A\n",
      " 36%|███▋      | 3900/10748 [00:01<00:03, 2280.86it/s]\u001b[A\n",
      " 39%|███▉      | 4200/10748 [00:01<00:02, 2283.35it/s]\u001b[A\n",
      " 42%|████▏     | 4500/10748 [00:01<00:02, 2279.13it/s]\u001b[A\n",
      " 45%|████▍     | 4800/10748 [00:02<00:02, 2274.86it/s]\u001b[A\n",
      " 47%|████▋     | 5100/10748 [00:02<00:02, 2267.08it/s]\u001b[A\n",
      " 50%|█████     | 5400/10748 [00:02<00:02, 2277.46it/s]\u001b[A\n",
      " 53%|█████▎    | 5700/10748 [00:02<00:02, 2290.49it/s]\u001b[A\n",
      " 56%|█████▌    | 6000/10748 [00:02<00:02, 2277.99it/s]\u001b[A\n",
      " 59%|█████▊    | 6300/10748 [00:02<00:01, 2284.56it/s]\u001b[A\n",
      " 61%|██████▏   | 6600/10748 [00:02<00:01, 2276.33it/s]\u001b[A\n",
      " 64%|██████▍   | 6900/10748 [00:03<00:01, 2271.36it/s]\u001b[A\n",
      " 67%|██████▋   | 7200/10748 [00:03<00:01, 2269.13it/s]\u001b[A\n",
      " 70%|██████▉   | 7500/10748 [00:03<00:01, 2273.80it/s]\u001b[A\n",
      " 73%|███████▎  | 7800/10748 [00:03<00:01, 2267.98it/s]\u001b[A\n",
      " 75%|███████▌  | 8100/10748 [00:03<00:01, 2270.56it/s]\u001b[A\n",
      " 78%|███████▊  | 8400/10748 [00:03<00:01, 2269.47it/s]\u001b[A\n",
      " 81%|████████  | 8700/10748 [00:03<00:00, 2270.90it/s]\u001b[A\n",
      " 84%|████████▎ | 9000/10748 [00:03<00:00, 2269.88it/s]\u001b[A\n",
      " 87%|████████▋ | 9300/10748 [00:04<00:00, 2268.85it/s]\u001b[A\n",
      " 89%|████████▉ | 9600/10748 [00:04<00:00, 2268.86it/s]\u001b[A\n",
      " 92%|█████████▏| 9900/10748 [00:04<00:00, 2266.99it/s]\u001b[A\n",
      " 95%|█████████▍| 10200/10748 [00:04<00:00, 2268.15it/s]\u001b[A\n",
      "100%|██████████| 10748/10748 [00:04<00:00, 2286.37it/s]\n"
     ]
    },
    {
     "name": "stdout",
     "output_type": "stream",
     "text": [
      "epoch [90/100], Loss: 0.0004\n"
     ]
    },
    {
     "name": "stderr",
     "output_type": "stream",
     "text": [
      "\n",
      "  0%|          | 0/10748 [00:00<?, ?it/s]\u001b[A\n",
      "  3%|▎         | 300/10748 [00:00<00:04, 2326.27it/s]\u001b[A\n",
      "  6%|▌         | 600/10748 [00:00<00:04, 2287.41it/s]\u001b[A\n",
      "  8%|▊         | 900/10748 [00:00<00:04, 2286.51it/s]\u001b[A\n",
      " 11%|█         | 1200/10748 [00:00<00:04, 2293.14it/s]\u001b[A\n",
      " 14%|█▍        | 1500/10748 [00:00<00:04, 2292.92it/s]\u001b[A\n",
      " 17%|█▋        | 1800/10748 [00:00<00:03, 2295.87it/s]\u001b[A\n",
      " 20%|█▉        | 2100/10748 [00:00<00:03, 2290.82it/s]\u001b[A\n",
      " 22%|██▏       | 2400/10748 [00:01<00:03, 2289.69it/s]\u001b[A\n",
      " 25%|██▌       | 2700/10748 [00:01<00:03, 2281.55it/s]\u001b[A\n",
      " 28%|██▊       | 3000/10748 [00:01<00:03, 2273.64it/s]\u001b[A\n",
      " 31%|███       | 3300/10748 [00:01<00:03, 2271.19it/s]\u001b[A\n",
      " 33%|███▎      | 3600/10748 [00:01<00:03, 2264.82it/s]\u001b[A\n",
      " 36%|███▋      | 3900/10748 [00:01<00:03, 2272.33it/s]\u001b[A\n",
      " 39%|███▉      | 4200/10748 [00:01<00:02, 2290.47it/s]\u001b[A\n",
      " 42%|████▏     | 4500/10748 [00:01<00:02, 2291.20it/s]\u001b[A\n",
      " 45%|████▍     | 4800/10748 [00:02<00:02, 2280.83it/s]\u001b[A\n",
      " 47%|████▋     | 5100/10748 [00:02<00:02, 2284.70it/s]\u001b[A\n",
      " 50%|█████     | 5400/10748 [00:02<00:02, 2278.39it/s]\u001b[A\n",
      " 53%|█████▎    | 5700/10748 [00:02<00:02, 2287.64it/s]\u001b[A\n",
      " 56%|█████▌    | 6000/10748 [00:02<00:02, 2288.12it/s]\u001b[A\n",
      " 59%|█████▊    | 6300/10748 [00:02<00:01, 2290.30it/s]\u001b[A\n",
      " 61%|██████▏   | 6600/10748 [00:02<00:01, 2283.28it/s]\u001b[A\n",
      " 64%|██████▍   | 6900/10748 [00:03<00:01, 2277.66it/s]\u001b[A\n",
      " 67%|██████▋   | 7200/10748 [00:03<00:01, 2273.56it/s]\u001b[A\n",
      " 70%|██████▉   | 7500/10748 [00:03<00:01, 2264.59it/s]\u001b[A\n",
      " 73%|███████▎  | 7800/10748 [00:03<00:01, 2260.10it/s]\u001b[A\n",
      " 75%|███████▌  | 8100/10748 [00:03<00:01, 2253.78it/s]\u001b[A\n",
      " 78%|███████▊  | 8400/10748 [00:03<00:01, 2249.15it/s]\u001b[A\n",
      " 81%|████████  | 8700/10748 [00:03<00:00, 2268.23it/s]\u001b[A\n",
      " 84%|████████▎ | 9000/10748 [00:03<00:00, 2259.61it/s]\u001b[A\n",
      " 87%|████████▋ | 9300/10748 [00:04<00:00, 2268.16it/s]\u001b[A\n",
      " 89%|████████▉ | 9600/10748 [00:04<00:00, 2274.71it/s]\u001b[A\n",
      " 92%|█████████▏| 9900/10748 [00:04<00:00, 2271.63it/s]\u001b[A\n",
      " 95%|█████████▍| 10200/10748 [00:04<00:00, 2262.40it/s]\u001b[A\n",
      "100%|██████████| 10748/10748 [00:04<00:00, 2285.52it/s]\n"
     ]
    },
    {
     "name": "stdout",
     "output_type": "stream",
     "text": [
      "epoch [91/100], Loss: 0.0005\n"
     ]
    },
    {
     "name": "stderr",
     "output_type": "stream",
     "text": [
      "\n",
      "  0%|          | 0/10748 [00:00<?, ?it/s]\u001b[A\n",
      "  3%|▎         | 300/10748 [00:00<00:04, 2347.22it/s]\u001b[A\n",
      "  6%|▌         | 600/10748 [00:00<00:04, 2305.76it/s]\u001b[A\n",
      "  8%|▊         | 900/10748 [00:00<00:04, 2317.10it/s]\u001b[A\n",
      " 11%|█         | 1200/10748 [00:00<00:04, 2313.26it/s]\u001b[A\n",
      " 14%|█▍        | 1500/10748 [00:00<00:04, 2305.44it/s]\u001b[A\n",
      " 17%|█▋        | 1800/10748 [00:00<00:03, 2280.16it/s]\u001b[A\n",
      " 20%|█▉        | 2100/10748 [00:00<00:03, 2289.43it/s]\u001b[A\n",
      " 22%|██▏       | 2400/10748 [00:01<00:03, 2299.62it/s]\u001b[A\n",
      " 25%|██▌       | 2700/10748 [00:01<00:03, 2288.94it/s]\u001b[A\n",
      " 28%|██▊       | 3000/10748 [00:01<00:03, 2283.32it/s]\u001b[A\n",
      " 31%|███       | 3300/10748 [00:01<00:03, 2294.36it/s]\u001b[A\n",
      " 33%|███▎      | 3600/10748 [00:01<00:03, 2295.45it/s]\u001b[A\n",
      " 36%|███▋      | 3900/10748 [00:01<00:03, 2277.22it/s]\u001b[A\n",
      " 39%|███▉      | 4200/10748 [00:01<00:02, 2261.85it/s]\u001b[A\n",
      " 42%|████▏     | 4500/10748 [00:01<00:02, 2276.48it/s]\u001b[A\n",
      " 45%|████▍     | 4800/10748 [00:02<00:02, 2258.84it/s]\u001b[A\n",
      " 47%|████▋     | 5100/10748 [00:02<00:02, 2270.19it/s]\u001b[A\n",
      " 50%|█████     | 5400/10748 [00:02<00:02, 2284.35it/s]\u001b[A\n",
      " 53%|█████▎    | 5700/10748 [00:02<00:02, 2279.81it/s]\u001b[A\n",
      " 56%|█████▌    | 6000/10748 [00:02<00:02, 2263.32it/s]\u001b[A\n",
      " 59%|█████▊    | 6300/10748 [00:02<00:01, 2258.64it/s]\u001b[A\n",
      " 61%|██████▏   | 6600/10748 [00:02<00:01, 2262.74it/s]\u001b[A\n",
      " 64%|██████▍   | 6900/10748 [00:03<00:01, 2269.65it/s]\u001b[A\n",
      " 67%|██████▋   | 7200/10748 [00:03<00:01, 2271.02it/s]\u001b[A\n",
      " 70%|██████▉   | 7500/10748 [00:03<00:01, 2278.70it/s]\u001b[A\n",
      " 73%|███████▎  | 7800/10748 [00:03<00:01, 2278.19it/s]\u001b[A\n",
      " 75%|███████▌  | 8100/10748 [00:03<00:01, 2279.28it/s]\u001b[A\n",
      " 78%|███████▊  | 8400/10748 [00:03<00:01, 2269.62it/s]\u001b[A\n",
      " 81%|████████  | 8700/10748 [00:03<00:00, 2271.83it/s]\u001b[A\n",
      " 84%|████████▎ | 9000/10748 [00:03<00:00, 2271.00it/s]\u001b[A\n",
      " 87%|████████▋ | 9300/10748 [00:04<00:00, 2276.97it/s]\u001b[A\n",
      " 89%|████████▉ | 9600/10748 [00:04<00:00, 2282.05it/s]\u001b[A\n",
      " 92%|█████████▏| 9900/10748 [00:04<00:00, 2275.27it/s]\u001b[A\n",
      " 95%|█████████▍| 10200/10748 [00:04<00:00, 2270.96it/s]\u001b[A\n",
      "100%|██████████| 10748/10748 [00:04<00:00, 2288.51it/s]\n"
     ]
    },
    {
     "name": "stdout",
     "output_type": "stream",
     "text": [
      "epoch [92/100], Loss: 0.0005\n"
     ]
    },
    {
     "name": "stderr",
     "output_type": "stream",
     "text": [
      "\n",
      "  0%|          | 0/10748 [00:00<?, ?it/s]\u001b[A\n",
      "  3%|▎         | 300/10748 [00:00<00:04, 2351.80it/s]\u001b[A\n",
      "  6%|▌         | 600/10748 [00:00<00:04, 2308.86it/s]\u001b[A\n",
      "  8%|▊         | 900/10748 [00:00<00:04, 2298.38it/s]\u001b[A\n",
      " 11%|█         | 1200/10748 [00:00<00:04, 2288.56it/s]\u001b[A\n",
      " 14%|█▍        | 1500/10748 [00:00<00:04, 2274.99it/s]\u001b[A\n",
      " 17%|█▋        | 1800/10748 [00:00<00:03, 2283.69it/s]\u001b[A\n",
      " 20%|█▉        | 2100/10748 [00:00<00:03, 2281.58it/s]\u001b[A\n",
      " 22%|██▏       | 2400/10748 [00:01<00:03, 2269.48it/s]\u001b[A\n",
      " 25%|██▌       | 2700/10748 [00:01<00:03, 2263.01it/s]\u001b[A\n",
      " 28%|██▊       | 3000/10748 [00:01<00:03, 2273.59it/s]\u001b[A\n",
      " 31%|███       | 3300/10748 [00:01<00:03, 2276.41it/s]\u001b[A\n",
      " 33%|███▎      | 3600/10748 [00:01<00:03, 2289.86it/s]\u001b[A\n",
      " 36%|███▋      | 3900/10748 [00:01<00:02, 2286.37it/s]\u001b[A\n",
      " 39%|███▉      | 4200/10748 [00:01<00:02, 2280.81it/s]\u001b[A\n",
      " 42%|████▏     | 4500/10748 [00:01<00:02, 2286.80it/s]\u001b[A\n",
      " 45%|████▍     | 4800/10748 [00:02<00:02, 2283.27it/s]\u001b[A\n",
      " 47%|████▋     | 5100/10748 [00:02<00:02, 2287.57it/s]\u001b[A\n",
      " 50%|█████     | 5400/10748 [00:02<00:02, 2282.94it/s]\u001b[A\n",
      " 53%|█████▎    | 5700/10748 [00:02<00:02, 2285.86it/s]\u001b[A\n",
      " 56%|█████▌    | 6000/10748 [00:02<00:02, 2279.34it/s]\u001b[A\n",
      " 59%|█████▊    | 6300/10748 [00:02<00:01, 2283.74it/s]\u001b[A\n",
      " 61%|██████▏   | 6600/10748 [00:02<00:01, 2278.46it/s]\u001b[A\n",
      " 64%|██████▍   | 6900/10748 [00:03<00:01, 2264.61it/s]\u001b[A\n",
      " 67%|██████▋   | 7200/10748 [00:03<00:01, 2281.09it/s]\u001b[A\n",
      " 70%|██████▉   | 7500/10748 [00:03<00:01, 2282.98it/s]\u001b[A\n",
      " 73%|███████▎  | 7800/10748 [00:03<00:01, 2275.01it/s]\u001b[A\n",
      " 75%|███████▌  | 8100/10748 [00:03<00:01, 2279.35it/s]\u001b[A\n",
      " 78%|███████▊  | 8400/10748 [00:03<00:01, 2283.67it/s]\u001b[A\n",
      " 81%|████████  | 8700/10748 [00:03<00:00, 2284.69it/s]\u001b[A\n",
      " 84%|████████▎ | 9000/10748 [00:03<00:00, 2279.88it/s]\u001b[A\n",
      " 87%|████████▋ | 9300/10748 [00:04<00:00, 2269.07it/s]\u001b[A\n",
      " 89%|████████▉ | 9600/10748 [00:04<00:00, 2261.99it/s]\u001b[A\n",
      " 92%|█████████▏| 9900/10748 [00:04<00:00, 2255.01it/s]\u001b[A\n",
      " 95%|█████████▍| 10200/10748 [00:04<00:00, 2261.57it/s]\u001b[A\n",
      "100%|██████████| 10748/10748 [00:04<00:00, 2286.28it/s]\n"
     ]
    },
    {
     "name": "stdout",
     "output_type": "stream",
     "text": [
      "epoch [93/100], Loss: 0.0004\n"
     ]
    },
    {
     "name": "stderr",
     "output_type": "stream",
     "text": [
      "\n",
      "  0%|          | 0/10748 [00:00<?, ?it/s]\u001b[A\n",
      "  3%|▎         | 300/10748 [00:00<00:04, 2340.31it/s]\u001b[A\n",
      "  6%|▌         | 600/10748 [00:00<00:04, 2286.62it/s]\u001b[A\n",
      "  8%|▊         | 900/10748 [00:00<00:04, 2290.84it/s]\u001b[A\n",
      " 11%|█         | 1200/10748 [00:00<00:04, 2280.28it/s]\u001b[A\n",
      " 14%|█▍        | 1500/10748 [00:00<00:04, 2280.48it/s]\u001b[A\n",
      " 17%|█▋        | 1800/10748 [00:00<00:03, 2281.45it/s]\u001b[A\n",
      " 20%|█▉        | 2100/10748 [00:00<00:03, 2273.85it/s]\u001b[A\n",
      " 22%|██▏       | 2400/10748 [00:01<00:03, 2275.39it/s]\u001b[A\n",
      " 25%|██▌       | 2700/10748 [00:01<00:03, 2260.54it/s]\u001b[A\n",
      " 28%|██▊       | 3000/10748 [00:01<00:03, 2261.73it/s]\u001b[A\n",
      " 31%|███       | 3300/10748 [00:01<00:03, 2271.40it/s]\u001b[A\n",
      " 33%|███▎      | 3600/10748 [00:01<00:03, 2263.77it/s]\u001b[A\n",
      " 36%|███▋      | 3900/10748 [00:01<00:03, 2257.65it/s]\u001b[A\n",
      " 39%|███▉      | 4200/10748 [00:01<00:02, 2271.44it/s]\u001b[A\n",
      " 42%|████▏     | 4500/10748 [00:01<00:02, 2257.54it/s]\u001b[A\n",
      " 45%|████▍     | 4800/10748 [00:02<00:02, 2260.41it/s]\u001b[A\n",
      " 47%|████▋     | 5100/10748 [00:02<00:02, 2259.37it/s]\u001b[A\n",
      " 50%|█████     | 5400/10748 [00:02<00:02, 2243.30it/s]\u001b[A\n",
      " 53%|█████▎    | 5700/10748 [00:02<00:02, 2262.75it/s]\u001b[A\n",
      " 56%|█████▌    | 6000/10748 [00:02<00:02, 2265.52it/s]\u001b[A\n",
      " 59%|█████▊    | 6300/10748 [00:02<00:01, 2262.82it/s]\u001b[A\n",
      " 61%|██████▏   | 6600/10748 [00:02<00:01, 2266.84it/s]\u001b[A\n",
      " 64%|██████▍   | 6900/10748 [00:03<00:01, 2273.86it/s]\u001b[A\n",
      " 67%|██████▋   | 7200/10748 [00:03<00:01, 2281.54it/s]\u001b[A\n",
      " 70%|██████▉   | 7500/10748 [00:03<00:01, 2285.59it/s]\u001b[A\n",
      " 73%|███████▎  | 7800/10748 [00:03<00:01, 2277.37it/s]\u001b[A\n",
      " 75%|███████▌  | 8100/10748 [00:03<00:01, 2265.43it/s]\u001b[A\n",
      " 78%|███████▊  | 8400/10748 [00:03<00:01, 2278.40it/s]\u001b[A\n",
      " 81%|████████  | 8700/10748 [00:03<00:00, 2280.67it/s]\u001b[A\n",
      " 84%|████████▎ | 9000/10748 [00:03<00:00, 2290.36it/s]\u001b[A\n",
      " 87%|████████▋ | 9300/10748 [00:04<00:00, 2283.24it/s]\u001b[A\n",
      " 89%|████████▉ | 9600/10748 [00:04<00:00, 2262.46it/s]\u001b[A\n",
      " 92%|█████████▏| 9900/10748 [00:04<00:00, 2267.88it/s]\u001b[A\n",
      " 95%|█████████▍| 10200/10748 [00:04<00:00, 2282.94it/s]\u001b[A\n",
      "100%|██████████| 10748/10748 [00:04<00:00, 2281.72it/s]\n"
     ]
    },
    {
     "name": "stdout",
     "output_type": "stream",
     "text": [
      "epoch [94/100], Loss: 0.0004\n"
     ]
    },
    {
     "name": "stderr",
     "output_type": "stream",
     "text": [
      "\n",
      "  0%|          | 0/10748 [00:00<?, ?it/s]\u001b[A\n",
      "  3%|▎         | 300/10748 [00:00<00:04, 2349.86it/s]\u001b[A\n",
      "  6%|▌         | 600/10748 [00:00<00:04, 2307.71it/s]\u001b[A\n",
      "  8%|▊         | 900/10748 [00:00<00:04, 2273.32it/s]\u001b[A\n",
      " 11%|█         | 1200/10748 [00:00<00:04, 2283.59it/s]\u001b[A\n",
      " 14%|█▍        | 1500/10748 [00:00<00:04, 2279.90it/s]\u001b[A\n",
      " 17%|█▋        | 1800/10748 [00:00<00:03, 2288.13it/s]\u001b[A\n",
      " 20%|█▉        | 2100/10748 [00:00<00:03, 2282.19it/s]\u001b[A\n",
      " 22%|██▏       | 2400/10748 [00:01<00:03, 2298.19it/s]\u001b[A\n",
      " 25%|██▌       | 2700/10748 [00:01<00:03, 2295.85it/s]\u001b[A\n",
      " 28%|██▊       | 3000/10748 [00:01<00:03, 2303.30it/s]\u001b[A\n",
      " 31%|███       | 3300/10748 [00:01<00:03, 2294.91it/s]\u001b[A\n",
      " 33%|███▎      | 3600/10748 [00:01<00:03, 2278.14it/s]\u001b[A\n",
      " 36%|███▋      | 3900/10748 [00:01<00:03, 2280.79it/s]\u001b[A\n",
      " 39%|███▉      | 4200/10748 [00:01<00:02, 2274.15it/s]\u001b[A\n",
      " 42%|████▏     | 4500/10748 [00:01<00:02, 2283.99it/s]\u001b[A\n",
      " 45%|████▍     | 4800/10748 [00:02<00:02, 2286.25it/s]\u001b[A\n",
      " 47%|████▋     | 5100/10748 [00:02<00:02, 2281.79it/s]\u001b[A\n",
      " 50%|█████     | 5400/10748 [00:02<00:02, 2287.89it/s]\u001b[A\n",
      " 53%|█████▎    | 5700/10748 [00:02<00:02, 2280.69it/s]\u001b[A\n",
      " 56%|█████▌    | 6000/10748 [00:02<00:02, 2287.46it/s]\u001b[A\n",
      " 59%|█████▊    | 6300/10748 [00:02<00:01, 2276.90it/s]\u001b[A\n",
      " 61%|██████▏   | 6600/10748 [00:02<00:01, 2274.89it/s]\u001b[A\n",
      " 64%|██████▍   | 6900/10748 [00:03<00:01, 2272.90it/s]\u001b[A\n",
      " 67%|██████▋   | 7200/10748 [00:03<00:01, 2271.30it/s]\u001b[A\n",
      " 70%|██████▉   | 7500/10748 [00:03<00:01, 2273.27it/s]\u001b[A\n",
      " 73%|███████▎  | 7800/10748 [00:03<00:01, 2272.76it/s]\u001b[A\n",
      " 75%|███████▌  | 8100/10748 [00:03<00:01, 2267.31it/s]\u001b[A\n",
      " 78%|███████▊  | 8400/10748 [00:03<00:01, 2263.29it/s]\u001b[A\n",
      " 81%|████████  | 8700/10748 [00:03<00:00, 2265.15it/s]\u001b[A\n",
      " 84%|████████▎ | 9000/10748 [00:03<00:00, 2270.03it/s]\u001b[A\n",
      " 87%|████████▋ | 9300/10748 [00:04<00:00, 2277.59it/s]\u001b[A\n",
      " 89%|████████▉ | 9600/10748 [00:04<00:00, 2278.53it/s]\u001b[A\n",
      " 92%|█████████▏| 9900/10748 [00:04<00:00, 2269.51it/s]\u001b[A\n",
      " 95%|█████████▍| 10200/10748 [00:04<00:00, 2275.14it/s]\u001b[A\n",
      "100%|██████████| 10748/10748 [00:04<00:00, 2288.40it/s]\n"
     ]
    },
    {
     "name": "stdout",
     "output_type": "stream",
     "text": [
      "epoch [95/100], Loss: 0.0003\n"
     ]
    },
    {
     "name": "stderr",
     "output_type": "stream",
     "text": [
      "\n",
      "  0%|          | 0/10748 [00:00<?, ?it/s]\u001b[A\n",
      "  3%|▎         | 300/10748 [00:00<00:04, 2394.56it/s]\u001b[A\n",
      "  6%|▌         | 600/10748 [00:00<00:04, 2319.32it/s]\u001b[A\n",
      "  8%|▊         | 900/10748 [00:00<00:04, 2296.43it/s]\u001b[A\n",
      " 11%|█         | 1200/10748 [00:00<00:04, 2302.27it/s]\u001b[A\n",
      " 14%|█▍        | 1500/10748 [00:00<00:04, 2286.92it/s]\u001b[A\n",
      " 17%|█▋        | 1800/10748 [00:00<00:03, 2288.75it/s]\u001b[A\n",
      " 20%|█▉        | 2100/10748 [00:00<00:03, 2283.07it/s]\u001b[A\n",
      " 22%|██▏       | 2400/10748 [00:01<00:03, 2277.70it/s]\u001b[A\n",
      " 25%|██▌       | 2700/10748 [00:01<00:03, 2289.98it/s]\u001b[A\n",
      " 28%|██▊       | 3000/10748 [00:01<00:03, 2300.50it/s]\u001b[A\n",
      " 31%|███       | 3300/10748 [00:01<00:03, 2298.00it/s]\u001b[A\n",
      " 33%|███▎      | 3600/10748 [00:01<00:03, 2294.02it/s]\u001b[A\n",
      " 36%|███▋      | 3900/10748 [00:01<00:02, 2296.00it/s]\u001b[A\n",
      " 39%|███▉      | 4200/10748 [00:01<00:02, 2298.68it/s]\u001b[A\n",
      " 42%|████▏     | 4500/10748 [00:01<00:02, 2301.33it/s]\u001b[A\n",
      " 45%|████▍     | 4800/10748 [00:02<00:02, 2289.74it/s]\u001b[A\n",
      " 47%|████▋     | 5100/10748 [00:02<00:02, 2284.48it/s]\u001b[A\n",
      " 50%|█████     | 5400/10748 [00:02<00:02, 2280.51it/s]\u001b[A\n",
      " 53%|█████▎    | 5700/10748 [00:02<00:02, 2283.57it/s]\u001b[A\n",
      " 56%|█████▌    | 6000/10748 [00:02<00:02, 2269.09it/s]\u001b[A\n",
      " 59%|█████▊    | 6300/10748 [00:02<00:01, 2272.32it/s]\u001b[A\n",
      " 61%|██████▏   | 6600/10748 [00:02<00:01, 2283.89it/s]\u001b[A\n",
      " 64%|██████▍   | 6900/10748 [00:03<00:01, 2294.17it/s]\u001b[A\n",
      " 67%|██████▋   | 7200/10748 [00:03<00:01, 2292.62it/s]\u001b[A\n",
      " 70%|██████▉   | 7500/10748 [00:03<00:01, 2293.23it/s]\u001b[A\n",
      " 73%|███████▎  | 7800/10748 [00:03<00:01, 2257.87it/s]\u001b[A\n",
      " 75%|███████▌  | 8100/10748 [00:03<00:01, 2266.09it/s]\u001b[A\n",
      " 78%|███████▊  | 8400/10748 [00:03<00:01, 2259.96it/s]\u001b[A\n",
      " 81%|████████  | 8700/10748 [00:03<00:00, 2260.26it/s]\u001b[A\n",
      " 84%|████████▎ | 9000/10748 [00:03<00:00, 2268.15it/s]\u001b[A\n",
      " 87%|████████▋ | 9300/10748 [00:04<00:00, 2270.44it/s]\u001b[A\n",
      " 89%|████████▉ | 9600/10748 [00:04<00:00, 2282.10it/s]\u001b[A\n",
      " 92%|█████████▏| 9900/10748 [00:04<00:00, 2289.10it/s]\u001b[A\n",
      " 95%|█████████▍| 10200/10748 [00:04<00:00, 2275.24it/s]\u001b[A\n",
      "100%|██████████| 10748/10748 [00:04<00:00, 2292.45it/s]\n"
     ]
    },
    {
     "name": "stdout",
     "output_type": "stream",
     "text": [
      "epoch [96/100], Loss: 0.0004\n"
     ]
    },
    {
     "name": "stderr",
     "output_type": "stream",
     "text": [
      "\n",
      "  0%|          | 0/10748 [00:00<?, ?it/s]\u001b[A\n",
      "  3%|▎         | 300/10748 [00:00<00:04, 2397.01it/s]\u001b[A\n",
      "  6%|▌         | 600/10748 [00:00<00:04, 2305.63it/s]\u001b[A\n",
      "  8%|▊         | 900/10748 [00:00<00:04, 2300.31it/s]\u001b[A\n",
      " 11%|█         | 1200/10748 [00:00<00:04, 2265.15it/s]\u001b[A\n",
      " 14%|█▍        | 1500/10748 [00:00<00:04, 2240.74it/s]\u001b[A\n",
      " 17%|█▋        | 1800/10748 [00:00<00:03, 2247.51it/s]\u001b[A\n",
      " 20%|█▉        | 2100/10748 [00:00<00:03, 2269.09it/s]\u001b[A\n",
      " 22%|██▏       | 2400/10748 [00:01<00:03, 2277.40it/s]\u001b[A\n",
      " 25%|██▌       | 2700/10748 [00:01<00:03, 2281.59it/s]\u001b[A\n",
      " 28%|██▊       | 3000/10748 [00:01<00:03, 2283.80it/s]\u001b[A\n",
      " 31%|███       | 3300/10748 [00:01<00:03, 2282.19it/s]\u001b[A\n",
      " 33%|███▎      | 3600/10748 [00:01<00:03, 2295.30it/s]\u001b[A\n",
      " 36%|███▋      | 3900/10748 [00:01<00:03, 2281.69it/s]\u001b[A\n",
      " 39%|███▉      | 4200/10748 [00:01<00:02, 2273.93it/s]\u001b[A\n",
      " 42%|████▏     | 4500/10748 [00:01<00:02, 2270.77it/s]\u001b[A\n",
      " 45%|████▍     | 4800/10748 [00:02<00:02, 2276.04it/s]\u001b[A\n",
      " 47%|████▋     | 5100/10748 [00:02<00:02, 2253.48it/s]\u001b[A\n",
      " 50%|█████     | 5400/10748 [00:02<00:02, 2253.68it/s]\u001b[A\n",
      " 53%|█████▎    | 5700/10748 [00:02<00:02, 2265.94it/s]\u001b[A\n",
      " 56%|█████▌    | 6000/10748 [00:02<00:02, 2260.96it/s]\u001b[A\n",
      " 59%|█████▊    | 6300/10748 [00:02<00:01, 2261.57it/s]\u001b[A\n",
      " 61%|██████▏   | 6600/10748 [00:02<00:01, 2272.94it/s]\u001b[A\n",
      " 64%|██████▍   | 6900/10748 [00:03<00:01, 2279.10it/s]\u001b[A\n",
      " 67%|██████▋   | 7200/10748 [00:03<00:01, 2283.17it/s]\u001b[A\n",
      " 70%|██████▉   | 7500/10748 [00:03<00:01, 2294.30it/s]\u001b[A\n",
      " 73%|███████▎  | 7800/10748 [00:03<00:01, 2282.25it/s]\u001b[A\n",
      " 75%|███████▌  | 8100/10748 [00:03<00:01, 2287.61it/s]\u001b[A\n",
      " 78%|███████▊  | 8400/10748 [00:03<00:01, 2282.58it/s]\u001b[A\n",
      " 81%|████████  | 8700/10748 [00:03<00:00, 2281.79it/s]\u001b[A\n",
      " 84%|████████▎ | 9000/10748 [00:03<00:00, 2269.48it/s]\u001b[A\n",
      " 87%|████████▋ | 9300/10748 [00:04<00:00, 2281.67it/s]\u001b[A\n",
      " 89%|████████▉ | 9600/10748 [00:04<00:00, 2285.84it/s]\u001b[A\n",
      " 92%|█████████▏| 9900/10748 [00:04<00:00, 2286.24it/s]\u001b[A\n",
      " 95%|█████████▍| 10200/10748 [00:04<00:00, 2289.50it/s]\u001b[A\n",
      "100%|██████████| 10748/10748 [00:04<00:00, 2286.63it/s]\n"
     ]
    },
    {
     "name": "stdout",
     "output_type": "stream",
     "text": [
      "epoch [97/100], Loss: 0.0004\n"
     ]
    },
    {
     "name": "stderr",
     "output_type": "stream",
     "text": [
      "\n",
      "  0%|          | 0/10748 [00:00<?, ?it/s]\u001b[A\n",
      "  3%|▎         | 300/10748 [00:00<00:04, 2387.83it/s]\u001b[A\n",
      "  6%|▌         | 600/10748 [00:00<00:04, 2299.69it/s]\u001b[A\n",
      "  8%|▊         | 900/10748 [00:00<00:04, 2293.91it/s]\u001b[A\n",
      " 11%|█         | 1200/10748 [00:00<00:04, 2273.26it/s]\u001b[A\n",
      " 14%|█▍        | 1500/10748 [00:00<00:04, 2269.03it/s]\u001b[A\n",
      " 17%|█▋        | 1800/10748 [00:00<00:03, 2278.32it/s]\u001b[A\n",
      " 20%|█▉        | 2100/10748 [00:00<00:03, 2273.79it/s]\u001b[A\n",
      " 22%|██▏       | 2400/10748 [00:01<00:03, 2271.48it/s]\u001b[A\n",
      " 25%|██▌       | 2700/10748 [00:01<00:03, 2271.01it/s]\u001b[A\n",
      " 28%|██▊       | 3000/10748 [00:01<00:03, 2264.52it/s]\u001b[A\n",
      " 31%|███       | 3300/10748 [00:01<00:03, 2262.43it/s]\u001b[A\n",
      " 33%|███▎      | 3600/10748 [00:01<00:03, 2273.33it/s]\u001b[A\n",
      " 36%|███▋      | 3900/10748 [00:01<00:03, 2281.94it/s]\u001b[A\n",
      " 39%|███▉      | 4200/10748 [00:01<00:02, 2278.40it/s]\u001b[A\n",
      " 42%|████▏     | 4500/10748 [00:01<00:02, 2274.30it/s]\u001b[A\n",
      " 45%|████▍     | 4800/10748 [00:02<00:02, 2279.44it/s]\u001b[A\n",
      " 47%|████▋     | 5100/10748 [00:02<00:02, 2282.04it/s]\u001b[A\n",
      " 50%|█████     | 5400/10748 [00:02<00:02, 2275.61it/s]\u001b[A\n",
      " 53%|█████▎    | 5700/10748 [00:02<00:02, 2279.76it/s]\u001b[A\n",
      " 56%|█████▌    | 6000/10748 [00:02<00:02, 2283.21it/s]\u001b[A\n",
      " 59%|█████▊    | 6300/10748 [00:02<00:01, 2285.11it/s]\u001b[A\n",
      " 61%|██████▏   | 6600/10748 [00:02<00:01, 2284.61it/s]\u001b[A\n",
      " 64%|██████▍   | 6900/10748 [00:03<00:01, 2283.46it/s]\u001b[A\n",
      " 67%|██████▋   | 7200/10748 [00:03<00:01, 2290.87it/s]\u001b[A\n",
      " 70%|██████▉   | 7500/10748 [00:03<00:01, 2283.39it/s]\u001b[A\n",
      " 73%|███████▎  | 7800/10748 [00:03<00:01, 2289.31it/s]\u001b[A\n",
      " 75%|███████▌  | 8100/10748 [00:03<00:01, 2274.95it/s]\u001b[A\n",
      " 78%|███████▊  | 8400/10748 [00:03<00:01, 2278.45it/s]\u001b[A\n",
      " 81%|████████  | 8700/10748 [00:03<00:00, 2267.04it/s]\u001b[A\n",
      " 84%|████████▎ | 9000/10748 [00:03<00:00, 2272.30it/s]\u001b[A\n",
      " 87%|████████▋ | 9300/10748 [00:04<00:00, 2270.43it/s]\u001b[A\n",
      " 89%|████████▉ | 9600/10748 [00:04<00:00, 2280.12it/s]\u001b[A\n",
      " 92%|█████████▏| 9900/10748 [00:04<00:00, 2286.53it/s]\u001b[A\n",
      " 95%|█████████▍| 10200/10748 [00:04<00:00, 2287.71it/s]\u001b[A\n",
      "100%|██████████| 10748/10748 [00:04<00:00, 2287.62it/s]\n"
     ]
    },
    {
     "name": "stdout",
     "output_type": "stream",
     "text": [
      "epoch [98/100], Loss: 0.0003\n"
     ]
    },
    {
     "name": "stderr",
     "output_type": "stream",
     "text": [
      "\n",
      "  0%|          | 0/10748 [00:00<?, ?it/s]\u001b[A\n",
      "  3%|▎         | 300/10748 [00:00<00:04, 2296.23it/s]\u001b[A\n",
      "  6%|▌         | 600/10748 [00:00<00:04, 2283.57it/s]\u001b[A\n",
      "  8%|▊         | 900/10748 [00:00<00:04, 2269.02it/s]\u001b[A\n",
      " 11%|█         | 1200/10748 [00:00<00:04, 2272.00it/s]\u001b[A\n",
      " 14%|█▍        | 1500/10748 [00:00<00:04, 2282.87it/s]\u001b[A\n",
      " 17%|█▋        | 1800/10748 [00:00<00:03, 2280.45it/s]\u001b[A\n",
      " 20%|█▉        | 2100/10748 [00:00<00:03, 2274.20it/s]\u001b[A\n",
      " 22%|██▏       | 2400/10748 [00:01<00:03, 2263.52it/s]\u001b[A\n",
      " 25%|██▌       | 2700/10748 [00:01<00:03, 2265.59it/s]\u001b[A\n",
      " 28%|██▊       | 3000/10748 [00:01<00:03, 2265.89it/s]\u001b[A\n",
      " 31%|███       | 3300/10748 [00:01<00:03, 2264.92it/s]\u001b[A\n",
      " 33%|███▎      | 3600/10748 [00:01<00:03, 2273.57it/s]\u001b[A\n",
      " 36%|███▋      | 3900/10748 [00:01<00:02, 2282.84it/s]\u001b[A\n",
      " 39%|███▉      | 4200/10748 [00:01<00:02, 2282.32it/s]\u001b[A\n",
      " 42%|████▏     | 4500/10748 [00:01<00:02, 2280.27it/s]\u001b[A\n",
      " 45%|████▍     | 4800/10748 [00:02<00:02, 2280.49it/s]\u001b[A\n",
      " 47%|████▋     | 5100/10748 [00:02<00:02, 2278.16it/s]\u001b[A\n",
      " 50%|█████     | 5400/10748 [00:02<00:02, 2288.09it/s]\u001b[A\n",
      " 53%|█████▎    | 5700/10748 [00:02<00:02, 2281.27it/s]\u001b[A\n",
      " 56%|█████▌    | 6000/10748 [00:02<00:02, 2277.46it/s]\u001b[A\n",
      " 59%|█████▊    | 6300/10748 [00:02<00:01, 2282.09it/s]\u001b[A\n",
      " 61%|██████▏   | 6600/10748 [00:02<00:01, 2265.62it/s]\u001b[A\n",
      " 64%|██████▍   | 6900/10748 [00:03<00:01, 2271.43it/s]\u001b[A\n",
      " 67%|██████▋   | 7200/10748 [00:03<00:01, 2264.42it/s]\u001b[A\n",
      " 70%|██████▉   | 7500/10748 [00:03<00:01, 2265.07it/s]\u001b[A\n",
      " 73%|███████▎  | 7800/10748 [00:03<00:01, 2276.47it/s]\u001b[A\n",
      " 75%|███████▌  | 8100/10748 [00:03<00:01, 2275.34it/s]\u001b[A\n",
      " 78%|███████▊  | 8400/10748 [00:03<00:01, 2277.49it/s]\u001b[A\n",
      " 81%|████████  | 8700/10748 [00:03<00:00, 2274.44it/s]\u001b[A\n",
      " 84%|████████▎ | 9000/10748 [00:03<00:00, 2274.26it/s]\u001b[A\n",
      " 87%|████████▋ | 9300/10748 [00:04<00:00, 2264.72it/s]\u001b[A\n",
      " 89%|████████▉ | 9600/10748 [00:04<00:00, 2258.71it/s]\u001b[A\n",
      " 92%|█████████▏| 9900/10748 [00:04<00:00, 2275.49it/s]\u001b[A\n",
      " 95%|█████████▍| 10200/10748 [00:04<00:00, 2274.81it/s]\u001b[A\n",
      "100%|██████████| 10748/10748 [00:04<00:00, 2282.29it/s]\n"
     ]
    },
    {
     "name": "stdout",
     "output_type": "stream",
     "text": [
      "epoch [99/100], Loss: 0.0003\n"
     ]
    },
    {
     "name": "stderr",
     "output_type": "stream",
     "text": [
      "\n",
      "  0%|          | 0/10748 [00:00<?, ?it/s]\u001b[A\n",
      "  3%|▎         | 300/10748 [00:00<00:04, 2303.39it/s]\u001b[A\n",
      "  6%|▌         | 600/10748 [00:00<00:04, 2270.67it/s]\u001b[A\n",
      "  8%|▊         | 900/10748 [00:00<00:04, 2267.58it/s]\u001b[A\n",
      " 11%|█         | 1200/10748 [00:00<00:04, 2270.61it/s]\u001b[A\n",
      " 14%|█▍        | 1500/10748 [00:00<00:04, 2270.62it/s]\u001b[A\n",
      " 17%|█▋        | 1800/10748 [00:00<00:03, 2278.60it/s]\u001b[A\n",
      " 20%|█▉        | 2100/10748 [00:00<00:03, 2265.85it/s]\u001b[A\n",
      " 22%|██▏       | 2400/10748 [00:01<00:03, 2272.67it/s]\u001b[A\n",
      " 25%|██▌       | 2700/10748 [00:01<00:03, 2279.97it/s]\u001b[A\n",
      " 28%|██▊       | 3000/10748 [00:01<00:03, 2270.44it/s]\u001b[A\n",
      " 31%|███       | 3300/10748 [00:01<00:03, 2246.58it/s]\u001b[A\n",
      " 33%|███▎      | 3600/10748 [00:01<00:03, 2264.23it/s]\u001b[A\n",
      " 36%|███▋      | 3900/10748 [00:01<00:03, 2274.82it/s]\u001b[A\n",
      " 39%|███▉      | 4200/10748 [00:01<00:02, 2269.99it/s]\u001b[A\n",
      " 42%|████▏     | 4500/10748 [00:01<00:02, 2279.34it/s]\u001b[A\n",
      " 45%|████▍     | 4800/10748 [00:02<00:02, 2288.64it/s]\u001b[A\n",
      " 47%|████▋     | 5100/10748 [00:02<00:02, 2253.58it/s]\u001b[A\n",
      " 50%|█████     | 5400/10748 [00:02<00:02, 2255.23it/s]\u001b[A\n",
      " 53%|█████▎    | 5700/10748 [00:02<00:02, 2272.65it/s]\u001b[A\n",
      " 56%|█████▌    | 6000/10748 [00:02<00:02, 2270.13it/s]\u001b[A\n",
      " 59%|█████▊    | 6300/10748 [00:02<00:01, 2284.63it/s]\u001b[A\n",
      " 61%|██████▏   | 6600/10748 [00:02<00:01, 2281.00it/s]\u001b[A\n",
      " 64%|██████▍   | 6900/10748 [00:03<00:01, 2289.56it/s]\u001b[A\n",
      " 67%|██████▋   | 7200/10748 [00:03<00:01, 2290.98it/s]\u001b[A\n",
      " 70%|██████▉   | 7500/10748 [00:03<00:01, 2284.22it/s]\u001b[A\n",
      " 73%|███████▎  | 7800/10748 [00:03<00:01, 2282.11it/s]\u001b[A\n",
      " 75%|███████▌  | 8100/10748 [00:03<00:01, 2282.48it/s]\u001b[A\n",
      " 78%|███████▊  | 8400/10748 [00:03<00:01, 2278.98it/s]\u001b[A\n",
      " 81%|████████  | 8700/10748 [00:03<00:00, 2276.29it/s]\u001b[A\n",
      " 84%|████████▎ | 9000/10748 [00:03<00:00, 2273.04it/s]\u001b[A\n",
      " 87%|████████▋ | 9300/10748 [00:04<00:00, 2272.99it/s]\u001b[A\n",
      " 89%|████████▉ | 9600/10748 [00:04<00:00, 2281.22it/s]\u001b[A\n",
      " 92%|█████████▏| 9900/10748 [00:04<00:00, 2296.50it/s]\u001b[A\n",
      " 95%|█████████▍| 10200/10748 [00:04<00:00, 2299.28it/s]\u001b[A\n",
      "100%|██████████| 10748/10748 [00:04<00:00, 2285.53it/s]"
     ]
    },
    {
     "name": "stdout",
     "output_type": "stream",
     "text": [
      "epoch [100/100], Loss: 0.0003\n"
     ]
    },
    {
     "name": "stderr",
     "output_type": "stream",
     "text": [
      "\n"
     ]
    }
   ],
   "source": [
    "import os\n",
    "import shutil\n",
    "import pickle as pk\n",
    "from torch.utils.tensorboard import SummaryWriter\n",
    "\n",
    "\n",
    "# 构建模型\n",
    "model = bilstm(parameter).to(parameter['device'])\n",
    "\n",
    "# 确定训练模式\n",
    "model.train()\n",
    "\n",
    "# 确定优化器和损失\n",
    "optimizer = torch.optim.SGD(model.parameters(),lr=0.1, momentum=0.95, nesterov=True)\n",
    "criterion = nn.CrossEntropyLoss()\n",
    "\n",
    "# 准备迭代器\n",
    "train_yield = batch_yield(parameter)\n",
    "\n",
    "# 开始训练\n",
    "loss_cal = []\n",
    "min_loss = float('inf')\n",
    "while 1:\n",
    "        inputs,targets,epoch,keys = next(train_yield)\n",
    "        if keys:\n",
    "            break\n",
    "        out = model(inputs.long().to(parameter['device']))\n",
    "        loss = criterion(out, targets.view(-1).long().to(parameter['device']))\n",
    "        optimizer.zero_grad()\n",
    "        loss.backward()\n",
    "        optimizer.step()\n",
    "        loss_cal.append(loss.item())\n",
    "        if epoch is not None:\n",
    "            if (epoch+1)%1 == 0:\n",
    "                loss_cal = sum(loss_cal)/len(loss_cal)\n",
    "                if loss_cal < min_loss:\n",
    "                    min_loss = loss_cal\n",
    "                    torch.save(model.state_dict(), 'bilstm.h5')\n",
    "                print('epoch [{}/{}], Loss: {:.4f}'.format(epoch+1, \\\n",
    "                                                       parameter['epoch'],loss_cal))\n",
    "            loss_cal = [loss.item()]\n"
   ]
  },
  {
   "cell_type": "markdown",
   "metadata": {
    "id": "IBP9pHBW6BDu"
   },
   "source": [
    "# 基于双向lstm+CRF"
   ]
  },
  {
   "cell_type": "code",
   "execution_count": null,
   "metadata": {
    "ExecuteTime": {
     "end_time": "2021-08-26T09:40:57.143671Z",
     "start_time": "2021-08-26T09:40:57.129644Z"
    },
    "id": "y-VEU5sP6BDv"
   },
   "outputs": [],
   "source": [
    "import torch.nn.functional as F # pytorch 激活函数的类\n",
    "from torch import nn,optim # 构建模型和优化器\n",
    "from torchcrf import CRF\n",
    "\n",
    "\n",
    "# 构建基于bilstm+crf实现ner\n",
    "class bilstm_crf(nn.Module):\n",
    "    def __init__(self, parameter):\n",
    "        super(bilstm_crf, self).__init__()\n",
    "        word_size = parameter['word_size']\n",
    "        embedding_dim = parameter['d_model']\n",
    "        self.embedding = nn.Embedding(word_size, embedding_dim, padding_idx=0)\n",
    "\n",
    "        hidden_size = parameter['hid_dim']\n",
    "        num_layers = parameter['n_layers']\n",
    "        dropout = parameter['dropout']\n",
    "        self.lstm = nn.LSTM(embedding_dim, hidden_size, num_layers, bidirectional=True, batch_first=True, dropout=dropout)\n",
    "\n",
    "        output_size = parameter['output_size']\n",
    "        self.fc = nn.Linear(hidden_size*2, output_size)\n",
    "        \n",
    "        self.crf = CRF(output_size,batch_first=True)\n",
    "        \n",
    "    def forward(self, x):\n",
    "        out = self.embedding(x)\n",
    "        out,(h, c)= self.lstm(out)\n",
    "        out = self.fc(out)\n",
    "        return out"
   ]
  },
  {
   "cell_type": "code",
   "execution_count": null,
   "metadata": {
    "ExecuteTime": {
     "end_time": "2021-08-26T10:13:32.492731Z",
     "start_time": "2021-08-26T09:40:59.221240Z"
    },
    "id": "INwACR1-6BDv",
    "outputId": "c673e2a3-7c86-4e93-800c-ae7d651a133b"
   },
   "outputs": [
    {
     "name": "stderr",
     "output_type": "stream",
     "text": [
      "100%|███████████████████████████████████████████████████████████████████████████| 10748/10748 [00:19<00:00, 554.59it/s]\n",
      "  1%|▋                                                                            | 100/10748 [00:00<00:19, 534.18it/s]"
     ]
    },
    {
     "name": "stdout",
     "output_type": "stream",
     "text": [
      "epoch [1/100], Loss: 3310.1270\n"
     ]
    },
    {
     "name": "stderr",
     "output_type": "stream",
     "text": [
      "100%|███████████████████████████████████████████████████████████████████████████| 10748/10748 [00:19<00:00, 560.79it/s]\n",
      "  0%|                                                                                        | 0/10748 [00:00<?, ?it/s]"
     ]
    },
    {
     "name": "stdout",
     "output_type": "stream",
     "text": [
      "epoch [2/100], Loss: 945.8785\n"
     ]
    },
    {
     "name": "stderr",
     "output_type": "stream",
     "text": [
      "100%|███████████████████████████████████████████████████████████████████████████| 10748/10748 [00:19<00:00, 556.26it/s]\n",
      "  1%|▋                                                                            | 100/10748 [00:00<00:17, 612.56it/s]"
     ]
    },
    {
     "name": "stdout",
     "output_type": "stream",
     "text": [
      "epoch [3/100], Loss: 568.3059\n"
     ]
    },
    {
     "name": "stderr",
     "output_type": "stream",
     "text": [
      "100%|███████████████████████████████████████████████████████████████████████████| 10748/10748 [00:19<00:00, 550.21it/s]\n",
      "  0%|                                                                                        | 0/10748 [00:00<?, ?it/s]"
     ]
    },
    {
     "name": "stdout",
     "output_type": "stream",
     "text": [
      "epoch [4/100], Loss: 421.6440\n"
     ]
    },
    {
     "name": "stderr",
     "output_type": "stream",
     "text": [
      "100%|███████████████████████████████████████████████████████████████████████████| 10748/10748 [00:19<00:00, 543.80it/s]\n",
      "  1%|▋                                                                            | 100/10748 [00:00<00:17, 606.59it/s]"
     ]
    },
    {
     "name": "stdout",
     "output_type": "stream",
     "text": [
      "epoch [5/100], Loss: 332.4437\n"
     ]
    },
    {
     "name": "stderr",
     "output_type": "stream",
     "text": [
      "100%|███████████████████████████████████████████████████████████████████████████| 10748/10748 [00:19<00:00, 560.74it/s]\n",
      "  0%|                                                                                        | 0/10748 [00:00<?, ?it/s]"
     ]
    },
    {
     "name": "stdout",
     "output_type": "stream",
     "text": [
      "epoch [6/100], Loss: 265.2279\n"
     ]
    },
    {
     "name": "stderr",
     "output_type": "stream",
     "text": [
      "100%|███████████████████████████████████████████████████████████████████████████| 10748/10748 [00:19<00:00, 546.27it/s]\n",
      "  1%|▋                                                                            | 100/10748 [00:00<00:17, 604.00it/s]"
     ]
    },
    {
     "name": "stdout",
     "output_type": "stream",
     "text": [
      "epoch [7/100], Loss: 211.9677\n"
     ]
    },
    {
     "name": "stderr",
     "output_type": "stream",
     "text": [
      "100%|███████████████████████████████████████████████████████████████████████████| 10748/10748 [00:19<00:00, 554.90it/s]\n",
      "  0%|                                                                                        | 0/10748 [00:00<?, ?it/s]"
     ]
    },
    {
     "name": "stdout",
     "output_type": "stream",
     "text": [
      "epoch [8/100], Loss: 172.5639\n"
     ]
    },
    {
     "name": "stderr",
     "output_type": "stream",
     "text": [
      "100%|███████████████████████████████████████████████████████████████████████████| 10748/10748 [00:19<00:00, 548.82it/s]\n",
      "  1%|▋                                                                            | 100/10748 [00:00<00:17, 604.36it/s]"
     ]
    },
    {
     "name": "stdout",
     "output_type": "stream",
     "text": [
      "epoch [9/100], Loss: 137.0499\n"
     ]
    },
    {
     "name": "stderr",
     "output_type": "stream",
     "text": [
      "100%|███████████████████████████████████████████████████████████████████████████| 10748/10748 [00:19<00:00, 552.32it/s]\n",
      "  1%|▋                                                                            | 100/10748 [00:00<00:17, 616.92it/s]"
     ]
    },
    {
     "name": "stdout",
     "output_type": "stream",
     "text": [
      "epoch [10/100], Loss: 110.4967\n"
     ]
    },
    {
     "name": "stderr",
     "output_type": "stream",
     "text": [
      "100%|███████████████████████████████████████████████████████████████████████████| 10748/10748 [00:19<00:00, 553.67it/s]\n",
      "  1%|▋                                                                            | 100/10748 [00:00<00:17, 607.46it/s]"
     ]
    },
    {
     "name": "stdout",
     "output_type": "stream",
     "text": [
      "epoch [11/100], Loss: 86.3848\n"
     ]
    },
    {
     "name": "stderr",
     "output_type": "stream",
     "text": [
      "100%|███████████████████████████████████████████████████████████████████████████| 10748/10748 [00:19<00:00, 562.04it/s]\n",
      "  0%|                                                                                        | 0/10748 [00:00<?, ?it/s]"
     ]
    },
    {
     "name": "stdout",
     "output_type": "stream",
     "text": [
      "epoch [12/100], Loss: 70.5258\n"
     ]
    },
    {
     "name": "stderr",
     "output_type": "stream",
     "text": [
      "100%|███████████████████████████████████████████████████████████████████████████| 10748/10748 [00:19<00:00, 556.99it/s]\n",
      "  0%|                                                                                        | 0/10748 [00:00<?, ?it/s]"
     ]
    },
    {
     "name": "stdout",
     "output_type": "stream",
     "text": [
      "epoch [13/100], Loss: 60.7880\n"
     ]
    },
    {
     "name": "stderr",
     "output_type": "stream",
     "text": [
      "100%|███████████████████████████████████████████████████████████████████████████| 10748/10748 [00:19<00:00, 556.83it/s]\n",
      "  0%|                                                                                        | 0/10748 [00:00<?, ?it/s]"
     ]
    },
    {
     "name": "stdout",
     "output_type": "stream",
     "text": [
      "epoch [14/100], Loss: 52.8391\n"
     ]
    },
    {
     "name": "stderr",
     "output_type": "stream",
     "text": [
      "100%|███████████████████████████████████████████████████████████████████████████| 10748/10748 [00:19<00:00, 557.60it/s]\n",
      "  1%|▋                                                                            | 100/10748 [00:00<00:17, 599.37it/s]"
     ]
    },
    {
     "name": "stdout",
     "output_type": "stream",
     "text": [
      "epoch [15/100], Loss: 45.8495\n"
     ]
    },
    {
     "name": "stderr",
     "output_type": "stream",
     "text": [
      "100%|███████████████████████████████████████████████████████████████████████████| 10748/10748 [00:19<00:00, 556.36it/s]\n",
      "  0%|                                                                                        | 0/10748 [00:00<?, ?it/s]"
     ]
    },
    {
     "name": "stdout",
     "output_type": "stream",
     "text": [
      "epoch [16/100], Loss: 37.5853\n"
     ]
    },
    {
     "name": "stderr",
     "output_type": "stream",
     "text": [
      "100%|███████████████████████████████████████████████████████████████████████████| 10748/10748 [00:19<00:00, 558.22it/s]\n",
      "  1%|▋                                                                            | 100/10748 [00:00<00:18, 573.40it/s]"
     ]
    },
    {
     "name": "stdout",
     "output_type": "stream",
     "text": [
      "epoch [17/100], Loss: 33.9748\n"
     ]
    },
    {
     "name": "stderr",
     "output_type": "stream",
     "text": [
      "100%|███████████████████████████████████████████████████████████████████████████| 10748/10748 [00:19<00:00, 547.87it/s]\n",
      "  1%|▋                                                                            | 100/10748 [00:00<00:17, 606.50it/s]"
     ]
    },
    {
     "name": "stdout",
     "output_type": "stream",
     "text": [
      "epoch [18/100], Loss: 32.3178\n"
     ]
    },
    {
     "name": "stderr",
     "output_type": "stream",
     "text": [
      "100%|███████████████████████████████████████████████████████████████████████████| 10748/10748 [00:19<00:00, 551.10it/s]\n",
      "  1%|▋                                                                            | 100/10748 [00:00<00:18, 572.35it/s]"
     ]
    },
    {
     "name": "stdout",
     "output_type": "stream",
     "text": [
      "epoch [19/100], Loss: 26.8575\n"
     ]
    },
    {
     "name": "stderr",
     "output_type": "stream",
     "text": [
      "100%|███████████████████████████████████████████████████████████████████████████| 10748/10748 [00:19<00:00, 559.75it/s]\n",
      "  0%|                                                                                        | 0/10748 [00:00<?, ?it/s]"
     ]
    },
    {
     "name": "stdout",
     "output_type": "stream",
     "text": [
      "epoch [20/100], Loss: 22.8522\n"
     ]
    },
    {
     "name": "stderr",
     "output_type": "stream",
     "text": [
      "100%|███████████████████████████████████████████████████████████████████████████| 10748/10748 [00:19<00:00, 543.41it/s]\n",
      "  1%|▋                                                                            | 100/10748 [00:00<00:18, 589.77it/s]"
     ]
    },
    {
     "name": "stdout",
     "output_type": "stream",
     "text": [
      "epoch [21/100], Loss: 20.1551\n"
     ]
    },
    {
     "name": "stderr",
     "output_type": "stream",
     "text": [
      "100%|███████████████████████████████████████████████████████████████████████████| 10748/10748 [00:19<00:00, 546.52it/s]\n",
      "  1%|▋                                                                            | 100/10748 [00:00<00:17, 604.59it/s]"
     ]
    },
    {
     "name": "stdout",
     "output_type": "stream",
     "text": [
      "epoch [22/100], Loss: 21.0407\n"
     ]
    },
    {
     "name": "stderr",
     "output_type": "stream",
     "text": [
      "100%|███████████████████████████████████████████████████████████████████████████| 10748/10748 [00:19<00:00, 552.09it/s]\n",
      "  1%|▋                                                                            | 100/10748 [00:00<00:18, 587.24it/s]"
     ]
    },
    {
     "name": "stdout",
     "output_type": "stream",
     "text": [
      "epoch [23/100], Loss: 20.1733\n"
     ]
    },
    {
     "name": "stderr",
     "output_type": "stream",
     "text": [
      "100%|███████████████████████████████████████████████████████████████████████████| 10748/10748 [00:19<00:00, 561.06it/s]\n",
      "  0%|                                                                                        | 0/10748 [00:00<?, ?it/s]"
     ]
    },
    {
     "name": "stdout",
     "output_type": "stream",
     "text": [
      "epoch [24/100], Loss: 18.3727\n"
     ]
    },
    {
     "name": "stderr",
     "output_type": "stream",
     "text": [
      "100%|███████████████████████████████████████████████████████████████████████████| 10748/10748 [00:19<00:00, 546.06it/s]\n",
      "  1%|▋                                                                            | 100/10748 [00:00<00:18, 577.86it/s]"
     ]
    },
    {
     "name": "stdout",
     "output_type": "stream",
     "text": [
      "epoch [25/100], Loss: 15.7001\n"
     ]
    },
    {
     "name": "stderr",
     "output_type": "stream",
     "text": [
      "100%|███████████████████████████████████████████████████████████████████████████| 10748/10748 [00:19<00:00, 551.88it/s]\n",
      "  0%|                                                                                        | 0/10748 [00:00<?, ?it/s]"
     ]
    },
    {
     "name": "stdout",
     "output_type": "stream",
     "text": [
      "epoch [26/100], Loss: 17.1244\n"
     ]
    },
    {
     "name": "stderr",
     "output_type": "stream",
     "text": [
      "100%|███████████████████████████████████████████████████████████████████████████| 10748/10748 [00:19<00:00, 556.94it/s]\n",
      "  1%|▋                                                                            | 100/10748 [00:00<00:18, 591.21it/s]"
     ]
    },
    {
     "name": "stdout",
     "output_type": "stream",
     "text": [
      "epoch [27/100], Loss: 16.1325\n"
     ]
    },
    {
     "name": "stderr",
     "output_type": "stream",
     "text": [
      "100%|███████████████████████████████████████████████████████████████████████████| 10748/10748 [00:19<00:00, 557.31it/s]\n",
      "  1%|▋                                                                            | 100/10748 [00:00<00:17, 601.41it/s]"
     ]
    },
    {
     "name": "stdout",
     "output_type": "stream",
     "text": [
      "epoch [28/100], Loss: 14.1012\n"
     ]
    },
    {
     "name": "stderr",
     "output_type": "stream",
     "text": [
      "100%|███████████████████████████████████████████████████████████████████████████| 10748/10748 [00:19<00:00, 553.04it/s]\n",
      "  1%|▋                                                                            | 100/10748 [00:00<00:17, 610.69it/s]"
     ]
    },
    {
     "name": "stdout",
     "output_type": "stream",
     "text": [
      "epoch [29/100], Loss: 12.5347\n"
     ]
    },
    {
     "name": "stderr",
     "output_type": "stream",
     "text": [
      "100%|███████████████████████████████████████████████████████████████████████████| 10748/10748 [00:19<00:00, 547.17it/s]\n",
      "  1%|▋                                                                            | 100/10748 [00:00<00:17, 601.46it/s]"
     ]
    },
    {
     "name": "stdout",
     "output_type": "stream",
     "text": [
      "epoch [30/100], Loss: 11.2677\n"
     ]
    },
    {
     "name": "stderr",
     "output_type": "stream",
     "text": [
      "100%|███████████████████████████████████████████████████████████████████████████| 10748/10748 [00:19<00:00, 554.99it/s]\n",
      "  0%|                                                                                        | 0/10748 [00:00<?, ?it/s]"
     ]
    },
    {
     "name": "stdout",
     "output_type": "stream",
     "text": [
      "epoch [31/100], Loss: 10.3089\n"
     ]
    },
    {
     "name": "stderr",
     "output_type": "stream",
     "text": [
      "100%|███████████████████████████████████████████████████████████████████████████| 10748/10748 [00:19<00:00, 555.31it/s]\n",
      "  1%|▋                                                                            | 100/10748 [00:00<00:17, 602.58it/s]"
     ]
    },
    {
     "name": "stdout",
     "output_type": "stream",
     "text": [
      "epoch [32/100], Loss: 9.1061\n"
     ]
    },
    {
     "name": "stderr",
     "output_type": "stream",
     "text": [
      "100%|███████████████████████████████████████████████████████████████████████████| 10748/10748 [00:19<00:00, 559.09it/s]\n",
      "  1%|▋                                                                            | 100/10748 [00:00<00:17, 599.39it/s]"
     ]
    },
    {
     "name": "stdout",
     "output_type": "stream",
     "text": [
      "epoch [33/100], Loss: 9.2686\n"
     ]
    },
    {
     "name": "stderr",
     "output_type": "stream",
     "text": [
      "100%|███████████████████████████████████████████████████████████████████████████| 10748/10748 [00:19<00:00, 558.17it/s]\n",
      "  1%|▋                                                                            | 100/10748 [00:00<00:17, 607.68it/s]"
     ]
    },
    {
     "name": "stdout",
     "output_type": "stream",
     "text": [
      "epoch [34/100], Loss: 8.2703\n"
     ]
    },
    {
     "name": "stderr",
     "output_type": "stream",
     "text": [
      "100%|███████████████████████████████████████████████████████████████████████████| 10748/10748 [00:19<00:00, 560.78it/s]\n",
      "  1%|▋                                                                            | 100/10748 [00:00<00:17, 606.88it/s]"
     ]
    },
    {
     "name": "stdout",
     "output_type": "stream",
     "text": [
      "epoch [35/100], Loss: 8.0974\n"
     ]
    },
    {
     "name": "stderr",
     "output_type": "stream",
     "text": [
      "100%|███████████████████████████████████████████████████████████████████████████| 10748/10748 [00:19<00:00, 558.02it/s]\n",
      "  1%|▋                                                                            | 100/10748 [00:00<00:17, 592.78it/s]"
     ]
    },
    {
     "name": "stdout",
     "output_type": "stream",
     "text": [
      "epoch [36/100], Loss: 7.6383\n"
     ]
    },
    {
     "name": "stderr",
     "output_type": "stream",
     "text": [
      "100%|███████████████████████████████████████████████████████████████████████████| 10748/10748 [00:19<00:00, 545.02it/s]\n",
      "  0%|                                                                                        | 0/10748 [00:00<?, ?it/s]"
     ]
    },
    {
     "name": "stdout",
     "output_type": "stream",
     "text": [
      "epoch [37/100], Loss: 6.9660\n"
     ]
    },
    {
     "name": "stderr",
     "output_type": "stream",
     "text": [
      "100%|███████████████████████████████████████████████████████████████████████████| 10748/10748 [00:19<00:00, 559.77it/s]\n",
      "  0%|                                                                                        | 0/10748 [00:00<?, ?it/s]"
     ]
    },
    {
     "name": "stdout",
     "output_type": "stream",
     "text": [
      "epoch [38/100], Loss: 8.3725\n"
     ]
    },
    {
     "name": "stderr",
     "output_type": "stream",
     "text": [
      "100%|███████████████████████████████████████████████████████████████████████████| 10748/10748 [00:18<00:00, 570.13it/s]\n",
      "  0%|                                                                                        | 0/10748 [00:00<?, ?it/s]"
     ]
    },
    {
     "name": "stdout",
     "output_type": "stream",
     "text": [
      "epoch [39/100], Loss: 6.8889\n"
     ]
    },
    {
     "name": "stderr",
     "output_type": "stream",
     "text": [
      "100%|███████████████████████████████████████████████████████████████████████████| 10748/10748 [00:19<00:00, 547.72it/s]\n",
      "  1%|▋                                                                            | 100/10748 [00:00<00:18, 588.49it/s]"
     ]
    },
    {
     "name": "stdout",
     "output_type": "stream",
     "text": [
      "epoch [40/100], Loss: 5.7368\n"
     ]
    },
    {
     "name": "stderr",
     "output_type": "stream",
     "text": [
      "100%|███████████████████████████████████████████████████████████████████████████| 10748/10748 [00:19<00:00, 557.79it/s]\n",
      "  1%|▋                                                                            | 100/10748 [00:00<00:17, 602.64it/s]"
     ]
    },
    {
     "name": "stdout",
     "output_type": "stream",
     "text": [
      "epoch [41/100], Loss: 5.8219\n"
     ]
    },
    {
     "name": "stderr",
     "output_type": "stream",
     "text": [
      "100%|███████████████████████████████████████████████████████████████████████████| 10748/10748 [00:19<00:00, 557.06it/s]\n",
      "  0%|                                                                                        | 0/10748 [00:00<?, ?it/s]"
     ]
    },
    {
     "name": "stdout",
     "output_type": "stream",
     "text": [
      "epoch [42/100], Loss: 5.4784\n"
     ]
    },
    {
     "name": "stderr",
     "output_type": "stream",
     "text": [
      "100%|███████████████████████████████████████████████████████████████████████████| 10748/10748 [00:19<00:00, 551.10it/s]\n",
      "  1%|▋                                                                            | 100/10748 [00:00<00:17, 620.61it/s]"
     ]
    },
    {
     "name": "stdout",
     "output_type": "stream",
     "text": [
      "epoch [43/100], Loss: 5.8280\n"
     ]
    },
    {
     "name": "stderr",
     "output_type": "stream",
     "text": [
      "100%|███████████████████████████████████████████████████████████████████████████| 10748/10748 [00:19<00:00, 552.25it/s]\n",
      "  1%|▋                                                                            | 100/10748 [00:00<00:17, 593.65it/s]"
     ]
    },
    {
     "name": "stdout",
     "output_type": "stream",
     "text": [
      "epoch [44/100], Loss: 5.2383\n"
     ]
    },
    {
     "name": "stderr",
     "output_type": "stream",
     "text": [
      "100%|███████████████████████████████████████████████████████████████████████████| 10748/10748 [00:19<00:00, 551.41it/s]\n",
      "  1%|▋                                                                            | 100/10748 [00:00<00:19, 552.45it/s]"
     ]
    },
    {
     "name": "stdout",
     "output_type": "stream",
     "text": [
      "epoch [45/100], Loss: 4.5247\n"
     ]
    },
    {
     "name": "stderr",
     "output_type": "stream",
     "text": [
      "100%|███████████████████████████████████████████████████████████████████████████| 10748/10748 [00:19<00:00, 552.42it/s]\n",
      "  0%|                                                                                        | 0/10748 [00:00<?, ?it/s]"
     ]
    },
    {
     "name": "stdout",
     "output_type": "stream",
     "text": [
      "epoch [46/100], Loss: 4.7619\n"
     ]
    },
    {
     "name": "stderr",
     "output_type": "stream",
     "text": [
      "100%|███████████████████████████████████████████████████████████████████████████| 10748/10748 [00:19<00:00, 554.44it/s]\n",
      "  0%|                                                                                        | 0/10748 [00:00<?, ?it/s]"
     ]
    },
    {
     "name": "stdout",
     "output_type": "stream",
     "text": [
      "epoch [47/100], Loss: 5.0268\n"
     ]
    },
    {
     "name": "stderr",
     "output_type": "stream",
     "text": [
      "100%|███████████████████████████████████████████████████████████████████████████| 10748/10748 [00:19<00:00, 549.72it/s]\n",
      "  0%|                                                                                        | 0/10748 [00:00<?, ?it/s]"
     ]
    },
    {
     "name": "stdout",
     "output_type": "stream",
     "text": [
      "epoch [48/100], Loss: 4.5702\n"
     ]
    },
    {
     "name": "stderr",
     "output_type": "stream",
     "text": [
      "100%|███████████████████████████████████████████████████████████████████████████| 10748/10748 [00:19<00:00, 554.92it/s]\n",
      "  0%|                                                                                        | 0/10748 [00:00<?, ?it/s]"
     ]
    },
    {
     "name": "stdout",
     "output_type": "stream",
     "text": [
      "epoch [49/100], Loss: 4.0506\n"
     ]
    },
    {
     "name": "stderr",
     "output_type": "stream",
     "text": [
      "100%|███████████████████████████████████████████████████████████████████████████| 10748/10748 [00:19<00:00, 544.36it/s]\n",
      "  1%|▋                                                                            | 100/10748 [00:00<00:17, 612.28it/s]"
     ]
    },
    {
     "name": "stdout",
     "output_type": "stream",
     "text": [
      "epoch [50/100], Loss: 3.9747\n"
     ]
    },
    {
     "name": "stderr",
     "output_type": "stream",
     "text": [
      "100%|███████████████████████████████████████████████████████████████████████████| 10748/10748 [00:18<00:00, 566.85it/s]\n",
      "  1%|▋                                                                            | 100/10748 [00:00<00:18, 573.75it/s]"
     ]
    },
    {
     "name": "stdout",
     "output_type": "stream",
     "text": [
      "epoch [51/100], Loss: 3.6528\n"
     ]
    },
    {
     "name": "stderr",
     "output_type": "stream",
     "text": [
      "100%|███████████████████████████████████████████████████████████████████████████| 10748/10748 [00:18<00:00, 566.78it/s]\n",
      "  1%|▋                                                                            | 100/10748 [00:00<00:17, 605.36it/s]"
     ]
    },
    {
     "name": "stdout",
     "output_type": "stream",
     "text": [
      "epoch [52/100], Loss: 3.8242\n"
     ]
    },
    {
     "name": "stderr",
     "output_type": "stream",
     "text": [
      "100%|███████████████████████████████████████████████████████████████████████████| 10748/10748 [00:19<00:00, 565.14it/s]\n",
      "  0%|                                                                                        | 0/10748 [00:00<?, ?it/s]"
     ]
    },
    {
     "name": "stdout",
     "output_type": "stream",
     "text": [
      "epoch [53/100], Loss: 3.4696\n"
     ]
    },
    {
     "name": "stderr",
     "output_type": "stream",
     "text": [
      "100%|███████████████████████████████████████████████████████████████████████████| 10748/10748 [00:19<00:00, 559.49it/s]\n",
      "  1%|▋                                                                            | 100/10748 [00:00<00:18, 584.56it/s]"
     ]
    },
    {
     "name": "stdout",
     "output_type": "stream",
     "text": [
      "epoch [54/100], Loss: 3.4050\n"
     ]
    },
    {
     "name": "stderr",
     "output_type": "stream",
     "text": [
      "100%|███████████████████████████████████████████████████████████████████████████| 10748/10748 [00:19<00:00, 541.87it/s]\n",
      "  0%|                                                                                        | 0/10748 [00:00<?, ?it/s]"
     ]
    },
    {
     "name": "stdout",
     "output_type": "stream",
     "text": [
      "epoch [55/100], Loss: 3.3332\n"
     ]
    },
    {
     "name": "stderr",
     "output_type": "stream",
     "text": [
      "100%|███████████████████████████████████████████████████████████████████████████| 10748/10748 [00:19<00:00, 560.86it/s]\n",
      "  1%|▋                                                                            | 100/10748 [00:00<00:17, 602.95it/s]"
     ]
    },
    {
     "name": "stdout",
     "output_type": "stream",
     "text": [
      "epoch [56/100], Loss: 3.6641\n"
     ]
    },
    {
     "name": "stderr",
     "output_type": "stream",
     "text": [
      "100%|███████████████████████████████████████████████████████████████████████████| 10748/10748 [00:19<00:00, 563.90it/s]\n",
      "  0%|                                                                                        | 0/10748 [00:00<?, ?it/s]"
     ]
    },
    {
     "name": "stdout",
     "output_type": "stream",
     "text": [
      "epoch [57/100], Loss: 3.1048\n"
     ]
    },
    {
     "name": "stderr",
     "output_type": "stream",
     "text": [
      "100%|███████████████████████████████████████████████████████████████████████████| 10748/10748 [00:19<00:00, 558.28it/s]\n",
      "  1%|▋                                                                            | 100/10748 [00:00<00:17, 609.29it/s]"
     ]
    },
    {
     "name": "stdout",
     "output_type": "stream",
     "text": [
      "epoch [58/100], Loss: 3.0770\n"
     ]
    },
    {
     "name": "stderr",
     "output_type": "stream",
     "text": [
      "100%|███████████████████████████████████████████████████████████████████████████| 10748/10748 [00:19<00:00, 553.23it/s]\n",
      "  1%|▋                                                                            | 100/10748 [00:00<00:19, 550.31it/s]"
     ]
    },
    {
     "name": "stdout",
     "output_type": "stream",
     "text": [
      "epoch [59/100], Loss: 2.9419\n"
     ]
    },
    {
     "name": "stderr",
     "output_type": "stream",
     "text": [
      "100%|███████████████████████████████████████████████████████████████████████████| 10748/10748 [00:19<00:00, 550.72it/s]\n",
      "  1%|▋                                                                            | 100/10748 [00:00<00:17, 615.77it/s]"
     ]
    },
    {
     "name": "stdout",
     "output_type": "stream",
     "text": [
      "epoch [60/100], Loss: 2.7535\n"
     ]
    },
    {
     "name": "stderr",
     "output_type": "stream",
     "text": [
      "100%|███████████████████████████████████████████████████████████████████████████| 10748/10748 [00:19<00:00, 552.00it/s]\n",
      "  0%|                                                                                        | 0/10748 [00:00<?, ?it/s]"
     ]
    },
    {
     "name": "stdout",
     "output_type": "stream",
     "text": [
      "epoch [61/100], Loss: 2.8441\n"
     ]
    },
    {
     "name": "stderr",
     "output_type": "stream",
     "text": [
      "100%|███████████████████████████████████████████████████████████████████████████| 10748/10748 [00:19<00:00, 548.30it/s]\n",
      "  1%|▋                                                                            | 100/10748 [00:00<00:17, 607.68it/s]"
     ]
    },
    {
     "name": "stdout",
     "output_type": "stream",
     "text": [
      "epoch [62/100], Loss: 2.7974\n"
     ]
    },
    {
     "name": "stderr",
     "output_type": "stream",
     "text": [
      "100%|███████████████████████████████████████████████████████████████████████████| 10748/10748 [00:19<00:00, 555.44it/s]\n",
      "  1%|▋                                                                            | 100/10748 [00:00<00:18, 580.15it/s]"
     ]
    },
    {
     "name": "stdout",
     "output_type": "stream",
     "text": [
      "epoch [63/100], Loss: 2.9439\n"
     ]
    },
    {
     "name": "stderr",
     "output_type": "stream",
     "text": [
      "100%|███████████████████████████████████████████████████████████████████████████| 10748/10748 [00:19<00:00, 561.21it/s]\n",
      "  1%|▋                                                                            | 100/10748 [00:00<00:17, 613.83it/s]"
     ]
    },
    {
     "name": "stdout",
     "output_type": "stream",
     "text": [
      "epoch [64/100], Loss: 2.6525\n"
     ]
    },
    {
     "name": "stderr",
     "output_type": "stream",
     "text": [
      "100%|███████████████████████████████████████████████████████████████████████████| 10748/10748 [00:19<00:00, 559.24it/s]\n",
      "  0%|                                                                                        | 0/10748 [00:00<?, ?it/s]"
     ]
    },
    {
     "name": "stdout",
     "output_type": "stream",
     "text": [
      "epoch [65/100], Loss: 2.5621\n"
     ]
    },
    {
     "name": "stderr",
     "output_type": "stream",
     "text": [
      "100%|███████████████████████████████████████████████████████████████████████████| 10748/10748 [00:19<00:00, 551.83it/s]\n",
      "  1%|▋                                                                            | 100/10748 [00:00<00:17, 598.75it/s]"
     ]
    },
    {
     "name": "stdout",
     "output_type": "stream",
     "text": [
      "epoch [66/100], Loss: 2.3355\n"
     ]
    },
    {
     "name": "stderr",
     "output_type": "stream",
     "text": [
      "100%|███████████████████████████████████████████████████████████████████████████| 10748/10748 [00:19<00:00, 559.63it/s]\n",
      "  0%|                                                                                        | 0/10748 [00:00<?, ?it/s]"
     ]
    },
    {
     "name": "stdout",
     "output_type": "stream",
     "text": [
      "epoch [67/100], Loss: 2.6173\n"
     ]
    },
    {
     "name": "stderr",
     "output_type": "stream",
     "text": [
      "100%|███████████████████████████████████████████████████████████████████████████| 10748/10748 [00:19<00:00, 553.38it/s]\n",
      "  0%|                                                                                        | 0/10748 [00:00<?, ?it/s]"
     ]
    },
    {
     "name": "stdout",
     "output_type": "stream",
     "text": [
      "epoch [68/100], Loss: 2.5438\n"
     ]
    },
    {
     "name": "stderr",
     "output_type": "stream",
     "text": [
      "100%|███████████████████████████████████████████████████████████████████████████| 10748/10748 [00:19<00:00, 554.81it/s]\n",
      "  1%|▋                                                                            | 100/10748 [00:00<00:17, 604.69it/s]"
     ]
    },
    {
     "name": "stdout",
     "output_type": "stream",
     "text": [
      "epoch [69/100], Loss: 2.4093\n"
     ]
    },
    {
     "name": "stderr",
     "output_type": "stream",
     "text": [
      "100%|███████████████████████████████████████████████████████████████████████████| 10748/10748 [00:19<00:00, 557.72it/s]\n",
      "  0%|                                                                                        | 0/10748 [00:00<?, ?it/s]"
     ]
    },
    {
     "name": "stdout",
     "output_type": "stream",
     "text": [
      "epoch [70/100], Loss: 2.4099\n"
     ]
    },
    {
     "name": "stderr",
     "output_type": "stream",
     "text": [
      "100%|███████████████████████████████████████████████████████████████████████████| 10748/10748 [00:19<00:00, 549.45it/s]\n",
      "  0%|                                                                                        | 0/10748 [00:00<?, ?it/s]"
     ]
    },
    {
     "name": "stdout",
     "output_type": "stream",
     "text": [
      "epoch [71/100], Loss: 2.4447\n"
     ]
    },
    {
     "name": "stderr",
     "output_type": "stream",
     "text": [
      "100%|███████████████████████████████████████████████████████████████████████████| 10748/10748 [00:19<00:00, 549.34it/s]\n",
      "  1%|▋                                                                            | 100/10748 [00:00<00:17, 614.44it/s]"
     ]
    },
    {
     "name": "stdout",
     "output_type": "stream",
     "text": [
      "epoch [72/100], Loss: 2.1743\n"
     ]
    },
    {
     "name": "stderr",
     "output_type": "stream",
     "text": [
      "100%|███████████████████████████████████████████████████████████████████████████| 10748/10748 [00:19<00:00, 554.88it/s]\n",
      "  0%|                                                                                        | 0/10748 [00:00<?, ?it/s]"
     ]
    },
    {
     "name": "stdout",
     "output_type": "stream",
     "text": [
      "epoch [73/100], Loss: 2.2345\n"
     ]
    },
    {
     "name": "stderr",
     "output_type": "stream",
     "text": [
      "100%|███████████████████████████████████████████████████████████████████████████| 10748/10748 [00:19<00:00, 557.54it/s]\n",
      "  1%|▋                                                                            | 100/10748 [00:00<00:17, 610.05it/s]"
     ]
    },
    {
     "name": "stdout",
     "output_type": "stream",
     "text": [
      "epoch [74/100], Loss: 2.2251\n"
     ]
    },
    {
     "name": "stderr",
     "output_type": "stream",
     "text": [
      "100%|███████████████████████████████████████████████████████████████████████████| 10748/10748 [00:19<00:00, 563.19it/s]\n",
      "  0%|                                                                                        | 0/10748 [00:00<?, ?it/s]"
     ]
    },
    {
     "name": "stdout",
     "output_type": "stream",
     "text": [
      "epoch [75/100], Loss: 2.1140\n"
     ]
    },
    {
     "name": "stderr",
     "output_type": "stream",
     "text": [
      "100%|███████████████████████████████████████████████████████████████████████████| 10748/10748 [00:19<00:00, 558.09it/s]\n",
      "  1%|▋                                                                            | 100/10748 [00:00<00:17, 615.31it/s]"
     ]
    },
    {
     "name": "stdout",
     "output_type": "stream",
     "text": [
      "epoch [76/100], Loss: 2.1768\n"
     ]
    },
    {
     "name": "stderr",
     "output_type": "stream",
     "text": [
      "100%|███████████████████████████████████████████████████████████████████████████| 10748/10748 [00:19<00:00, 549.07it/s]\n",
      "  1%|▋                                                                            | 100/10748 [00:00<00:17, 598.83it/s]"
     ]
    },
    {
     "name": "stdout",
     "output_type": "stream",
     "text": [
      "epoch [77/100], Loss: 2.1434\n"
     ]
    },
    {
     "name": "stderr",
     "output_type": "stream",
     "text": [
      "100%|███████████████████████████████████████████████████████████████████████████| 10748/10748 [00:19<00:00, 562.42it/s]\n",
      "  0%|                                                                                        | 0/10748 [00:00<?, ?it/s]"
     ]
    },
    {
     "name": "stdout",
     "output_type": "stream",
     "text": [
      "epoch [78/100], Loss: 2.0958\n"
     ]
    },
    {
     "name": "stderr",
     "output_type": "stream",
     "text": [
      "100%|███████████████████████████████████████████████████████████████████████████| 10748/10748 [00:19<00:00, 553.86it/s]\n",
      "  0%|                                                                                        | 0/10748 [00:00<?, ?it/s]"
     ]
    },
    {
     "name": "stdout",
     "output_type": "stream",
     "text": [
      "epoch [79/100], Loss: 1.8684\n"
     ]
    },
    {
     "name": "stderr",
     "output_type": "stream",
     "text": [
      "100%|███████████████████████████████████████████████████████████████████████████| 10748/10748 [00:19<00:00, 549.46it/s]\n",
      "  0%|                                                                                        | 0/10748 [00:00<?, ?it/s]"
     ]
    },
    {
     "name": "stdout",
     "output_type": "stream",
     "text": [
      "epoch [80/100], Loss: 2.0949\n"
     ]
    },
    {
     "name": "stderr",
     "output_type": "stream",
     "text": [
      "100%|███████████████████████████████████████████████████████████████████████████| 10748/10748 [00:19<00:00, 558.79it/s]\n",
      "  1%|▋                                                                            | 100/10748 [00:00<00:17, 602.19it/s]"
     ]
    },
    {
     "name": "stdout",
     "output_type": "stream",
     "text": [
      "epoch [81/100], Loss: 1.7868\n"
     ]
    },
    {
     "name": "stderr",
     "output_type": "stream",
     "text": [
      "100%|███████████████████████████████████████████████████████████████████████████| 10748/10748 [00:19<00:00, 561.99it/s]\n",
      "  1%|▋                                                                            | 100/10748 [00:00<00:17, 609.67it/s]"
     ]
    },
    {
     "name": "stdout",
     "output_type": "stream",
     "text": [
      "epoch [82/100], Loss: 1.8721\n"
     ]
    },
    {
     "name": "stderr",
     "output_type": "stream",
     "text": [
      "100%|███████████████████████████████████████████████████████████████████████████| 10748/10748 [00:19<00:00, 560.16it/s]\n",
      "  1%|▋                                                                            | 100/10748 [00:00<00:17, 604.53it/s]"
     ]
    },
    {
     "name": "stdout",
     "output_type": "stream",
     "text": [
      "epoch [83/100], Loss: 1.7435\n"
     ]
    },
    {
     "name": "stderr",
     "output_type": "stream",
     "text": [
      "100%|███████████████████████████████████████████████████████████████████████████| 10748/10748 [00:19<00:00, 561.69it/s]\n",
      "  1%|▋                                                                            | 100/10748 [00:00<00:17, 613.85it/s]"
     ]
    },
    {
     "name": "stdout",
     "output_type": "stream",
     "text": [
      "epoch [84/100], Loss: 1.7943\n"
     ]
    },
    {
     "name": "stderr",
     "output_type": "stream",
     "text": [
      "100%|███████████████████████████████████████████████████████████████████████████| 10748/10748 [00:19<00:00, 556.86it/s]\n",
      "  1%|▋                                                                            | 100/10748 [00:00<00:17, 599.09it/s]"
     ]
    },
    {
     "name": "stdout",
     "output_type": "stream",
     "text": [
      "epoch [85/100], Loss: 1.7375\n"
     ]
    },
    {
     "name": "stderr",
     "output_type": "stream",
     "text": [
      "100%|███████████████████████████████████████████████████████████████████████████| 10748/10748 [00:18<00:00, 571.89it/s]\n",
      "  1%|▋                                                                            | 100/10748 [00:00<00:17, 606.74it/s]"
     ]
    },
    {
     "name": "stdout",
     "output_type": "stream",
     "text": [
      "epoch [86/100], Loss: 1.7620\n"
     ]
    },
    {
     "name": "stderr",
     "output_type": "stream",
     "text": [
      "100%|███████████████████████████████████████████████████████████████████████████| 10748/10748 [00:19<00:00, 565.28it/s]\n",
      "  1%|▋                                                                            | 100/10748 [00:00<00:17, 598.98it/s]"
     ]
    },
    {
     "name": "stdout",
     "output_type": "stream",
     "text": [
      "epoch [87/100], Loss: 1.7210\n"
     ]
    },
    {
     "name": "stderr",
     "output_type": "stream",
     "text": [
      "100%|███████████████████████████████████████████████████████████████████████████| 10748/10748 [00:19<00:00, 557.47it/s]\n",
      "  0%|                                                                                        | 0/10748 [00:00<?, ?it/s]"
     ]
    },
    {
     "name": "stdout",
     "output_type": "stream",
     "text": [
      "epoch [88/100], Loss: 1.7424\n"
     ]
    },
    {
     "name": "stderr",
     "output_type": "stream",
     "text": [
      "100%|███████████████████████████████████████████████████████████████████████████| 10748/10748 [00:19<00:00, 560.73it/s]\n",
      "  0%|                                                                                        | 0/10748 [00:00<?, ?it/s]"
     ]
    },
    {
     "name": "stdout",
     "output_type": "stream",
     "text": [
      "epoch [89/100], Loss: 1.6349\n"
     ]
    },
    {
     "name": "stderr",
     "output_type": "stream",
     "text": [
      "100%|███████████████████████████████████████████████████████████████████████████| 10748/10748 [00:19<00:00, 548.33it/s]\n",
      "  1%|▋                                                                            | 100/10748 [00:00<00:18, 586.17it/s]"
     ]
    },
    {
     "name": "stdout",
     "output_type": "stream",
     "text": [
      "epoch [90/100], Loss: 1.6981\n"
     ]
    },
    {
     "name": "stderr",
     "output_type": "stream",
     "text": [
      "100%|███████████████████████████████████████████████████████████████████████████| 10748/10748 [00:19<00:00, 557.53it/s]\n",
      "  0%|                                                                                        | 0/10748 [00:00<?, ?it/s]"
     ]
    },
    {
     "name": "stdout",
     "output_type": "stream",
     "text": [
      "epoch [91/100], Loss: 1.6422\n"
     ]
    },
    {
     "name": "stderr",
     "output_type": "stream",
     "text": [
      "100%|███████████████████████████████████████████████████████████████████████████| 10748/10748 [00:19<00:00, 553.97it/s]\n",
      "  0%|                                                                                        | 0/10748 [00:00<?, ?it/s]"
     ]
    },
    {
     "name": "stdout",
     "output_type": "stream",
     "text": [
      "epoch [92/100], Loss: 1.7439\n"
     ]
    },
    {
     "name": "stderr",
     "output_type": "stream",
     "text": [
      "100%|███████████████████████████████████████████████████████████████████████████| 10748/10748 [00:19<00:00, 562.09it/s]\n",
      "  0%|                                                                                        | 0/10748 [00:00<?, ?it/s]"
     ]
    },
    {
     "name": "stdout",
     "output_type": "stream",
     "text": [
      "epoch [93/100], Loss: 1.7348\n"
     ]
    },
    {
     "name": "stderr",
     "output_type": "stream",
     "text": [
      "100%|███████████████████████████████████████████████████████████████████████████| 10748/10748 [00:19<00:00, 543.86it/s]\n",
      "  0%|                                                                                        | 0/10748 [00:00<?, ?it/s]"
     ]
    },
    {
     "name": "stdout",
     "output_type": "stream",
     "text": [
      "epoch [94/100], Loss: 1.7032\n"
     ]
    },
    {
     "name": "stderr",
     "output_type": "stream",
     "text": [
      "100%|███████████████████████████████████████████████████████████████████████████| 10748/10748 [00:19<00:00, 558.31it/s]\n",
      "  1%|▋                                                                            | 100/10748 [00:00<00:17, 605.88it/s]"
     ]
    },
    {
     "name": "stdout",
     "output_type": "stream",
     "text": [
      "epoch [95/100], Loss: 1.4579\n"
     ]
    },
    {
     "name": "stderr",
     "output_type": "stream",
     "text": [
      "100%|███████████████████████████████████████████████████████████████████████████| 10748/10748 [00:19<00:00, 553.60it/s]\n",
      "  0%|                                                                                        | 0/10748 [00:00<?, ?it/s]"
     ]
    },
    {
     "name": "stdout",
     "output_type": "stream",
     "text": [
      "epoch [96/100], Loss: 1.6124\n"
     ]
    },
    {
     "name": "stderr",
     "output_type": "stream",
     "text": [
      "100%|███████████████████████████████████████████████████████████████████████████| 10748/10748 [00:19<00:00, 558.65it/s]\n",
      "  1%|▋                                                                            | 100/10748 [00:00<00:17, 605.82it/s]"
     ]
    },
    {
     "name": "stdout",
     "output_type": "stream",
     "text": [
      "epoch [97/100], Loss: 1.5664\n"
     ]
    },
    {
     "name": "stderr",
     "output_type": "stream",
     "text": [
      "100%|███████████████████████████████████████████████████████████████████████████| 10748/10748 [00:19<00:00, 555.56it/s]\n",
      "  0%|                                                                                        | 0/10748 [00:00<?, ?it/s]"
     ]
    },
    {
     "name": "stdout",
     "output_type": "stream",
     "text": [
      "epoch [98/100], Loss: 1.6461\n"
     ]
    },
    {
     "name": "stderr",
     "output_type": "stream",
     "text": [
      "100%|███████████████████████████████████████████████████████████████████████████| 10748/10748 [00:19<00:00, 557.72it/s]\n",
      "  1%|▋                                                                            | 100/10748 [00:00<00:18, 589.17it/s]"
     ]
    },
    {
     "name": "stdout",
     "output_type": "stream",
     "text": [
      "epoch [99/100], Loss: 1.5255\n"
     ]
    },
    {
     "name": "stderr",
     "output_type": "stream",
     "text": [
      "100%|███████████████████████████████████████████████████████████████████████████| 10748/10748 [00:19<00:00, 556.13it/s]\n"
     ]
    },
    {
     "name": "stdout",
     "output_type": "stream",
     "text": [
      "epoch [100/100], Loss: 1.5273\n"
     ]
    }
   ],
   "source": [
    "import os\n",
    "import shutil\n",
    "import pickle as pk\n",
    "from torch.utils.tensorboard import SummaryWriter\n",
    "\n",
    "\n",
    "# 构建模型\n",
    "model = bilstm_crf(parameter).to(parameter['device'])\n",
    "\n",
    "# 确定训练模式\n",
    "model.train()\n",
    "\n",
    "# 确定优化器和损失\n",
    "optimizer = torch.optim.SGD(model.parameters(),lr=0.00005, momentum=0.95, nesterov=True)\n",
    "# optimizer = torch.optim.Adam(model.parameters(),lr = parameter['lr'], \\\n",
    "#                              weight_decay = 0.01)\n",
    "\n",
    "# 准备学习率策略\n",
    "scheduler = torch.optim.lr_scheduler.StepLR(optimizer, step_size=10, gamma=0.9)\n",
    "\n",
    "# 准备迭代器\n",
    "train_yield = batch_yield(parameter)\n",
    "\n",
    "# 开始训练\n",
    "loss_cal = []\n",
    "min_loss = float('inf')\n",
    "while 1:\n",
    "        inputs,targets,epoch,keys = next(train_yield)\n",
    "        if keys:\n",
    "            break\n",
    "        out = model(inputs.long().to(parameter['device']))\n",
    "        # crf被用于损失\n",
    "        loss = -model.crf(out,targets.long().to(parameter['device']))\n",
    "        optimizer.zero_grad()\n",
    "        loss.backward()\n",
    "        optimizer.step()\n",
    "        loss_cal.append(loss.item())\n",
    "        if epoch is not None:\n",
    "            if (epoch+1)%1 == 0:\n",
    "                loss_cal = sum(loss_cal)/len(loss_cal)\n",
    "                if loss_cal < min_loss:\n",
    "                    min_loss = loss_cal\n",
    "                    torch.save(model.state_dict(), 'bilstm_crf.h5')\n",
    "                print('epoch [{}/{}], Loss: {:.4f}'.format(epoch+1, \\\n",
    "                                                       parameter['epoch'],loss_cal))\n",
    "            loss_cal = [loss.item()]\n",
    "            scheduler.step()\n"
   ]
  }
 ],
 "metadata": {
  "accelerator": "GPU",
  "colab": {
   "machine_shape": "hm",
   "name": "bilstm+bilstm_crf.ipynb",
   "provenance": []
  },
  "kernelspec": {
   "display_name": "Python 3",
   "language": "python",
   "name": "python3"
  },
  "language_info": {
   "codemirror_mode": {
    "name": "ipython",
    "version": 3
   },
   "file_extension": ".py",
   "mimetype": "text/x-python",
   "name": "python",
   "nbconvert_exporter": "python",
   "pygments_lexer": "ipython3",
   "version": "3.8.10"
  },
  "toc": {
   "base_numbering": 1,
   "nav_menu": {},
   "number_sections": true,
   "sideBar": true,
   "skip_h1_title": false,
   "title_cell": "Table of Contents",
   "title_sidebar": "Contents",
   "toc_cell": false,
   "toc_position": {
    "height": "calc(100% - 180px)",
    "left": "10px",
    "top": "150px",
    "width": "165px"
   },
   "toc_section_display": true,
   "toc_window_display": false
  },
  "varInspector": {
   "cols": {
    "lenName": 16,
    "lenType": 16,
    "lenVar": 40
   },
   "kernels_config": {
    "python": {
     "delete_cmd_postfix": "",
     "delete_cmd_prefix": "del ",
     "library": "var_list.py",
     "varRefreshCmd": "print(var_dic_list())"
    },
    "r": {
     "delete_cmd_postfix": ") ",
     "delete_cmd_prefix": "rm(",
     "library": "var_list.r",
     "varRefreshCmd": "cat(var_dic_list()) "
    }
   },
   "types_to_exclude": [
    "module",
    "function",
    "builtin_function_or_method",
    "instance",
    "_Feature"
   ],
   "window_display": false
  }
 },
 "nbformat": 4,
 "nbformat_minor": 1
}
