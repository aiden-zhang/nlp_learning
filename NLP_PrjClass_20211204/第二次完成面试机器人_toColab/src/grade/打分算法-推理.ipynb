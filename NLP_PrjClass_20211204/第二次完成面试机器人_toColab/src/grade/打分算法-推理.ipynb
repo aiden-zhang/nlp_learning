{
 "cells": [
  {
   "cell_type": "code",
   "execution_count": 21,
   "metadata": {
    "ExecuteTime": {
     "end_time": "2021-08-26T06:28:46.051464Z",
     "start_time": "2021-08-26T06:28:46.029499Z"
    }
   },
   "outputs": [],
   "source": [
    "import torch.nn.functional as F # pytorch 激活函数的类\n",
    "from torch import nn,optim # 构建模型和优化器\n",
    "import torch\n",
    "import pickle as pk\n",
    "import numpy as np\n",
    "import jieba\n",
    "\n",
    "class Grade(nn.Module):\n",
    "    def __init__(self, parameter):\n",
    "        super(Grade, self).__init__()\n",
    "        embedding_dim = parameter['embedding_dim']\n",
    "        hidden_size = parameter['hidden_size']\n",
    "        num_layers = parameter['num_layers']\n",
    "        dropout = parameter['dropout']\n",
    "        word_size = parameter['word_size']\n",
    "        self.embedding = nn.Embedding(word_size, embedding_dim, padding_idx=0)\n",
    "        \n",
    "        self.lstm_q = nn.LSTM(embedding_dim, hidden_size, num_layers, bidirectional=True, batch_first=True, dropout=dropout)\n",
    "\n",
    "        self.lstm_a = nn.LSTM(embedding_dim, hidden_size, num_layers, bidirectional=True, batch_first=True, dropout=dropout)\n",
    "\n",
    "        self.dropout = nn.Dropout(p=dropout)\n",
    "\n",
    "        \n",
    "    def forward(self, q, a1,a2 = None):\n",
    "        q_emd = self.embedding(q)\n",
    "        q_emd,(h, c)= self.lstm_q(q_emd)\n",
    "        q_emd = torch.max(q_emd,1)[0]\n",
    "\n",
    "        a1_emd = self.embedding(a1)\n",
    "        a1_emd,(h, c)= self.lstm_a(a1_emd)\n",
    "        a1_emd = torch.max(a1_emd,1)[0]\n",
    "        if a2 is not None:\n",
    "            a2_emd = self.embedding(a2)\n",
    "            a2_emd,(h, c)= self.lstm_a(a2_emd)\n",
    "            a2_emd = torch.max(a2_emd,1)[0]\n",
    "            return q_emd,a1_emd,a2_emd\n",
    "        return F.cosine_similarity(q_emd,a1_emd,1,1e-8)\n",
    "\n",
    "\n",
    "    \n",
    "def list2torch(a):\n",
    "    return torch.from_numpy(np.array(a)).long().to(parameter['cuda'])\n",
    "\n",
    "def predict(model,parameter,q,a):\n",
    "    q = list(q)\n",
    "    a = list(a)\n",
    "    q_cut = []\n",
    "    for i in q:\n",
    "        if i in parameter['word2id']:\n",
    "            q_cut.append(parameter['word2id'][i])\n",
    "        else:\n",
    "            q_cut.append(parameter['word2id']['<UNK>'])\n",
    "    a_cut = []\n",
    "    for i in a:\n",
    "        if i in parameter['word2id']:\n",
    "            a_cut.append(parameter['word2id'][i])\n",
    "        else:\n",
    "            a_cut.append(parameter['word2id']['<UNK>'])\n",
    "    print(q_cut,a_cut)\n",
    "    q_cut,a_cut = [q_cut[:parameter['max_len']]],[a_cut[:parameter['max_len']]]\n",
    "    prob = model(list2torch(q_cut),list2torch(a_cut))\n",
    "    print(prob)\n",
    "    return prob.cpu().item()\n",
    "\n",
    "def load_model(root_path = './'):\n",
    "    parameter = pk.load(open(root_path+'parameter.pkl','rb'))\n",
    "    print(parameter['cuda'])\n",
    "    \n",
    "    #修改参数parameter中中的cuda元素\n",
    "    parameter['cuda']='cpu'\n",
    "    print(parameter['cuda'])\n",
    "    \n",
    "    #model = Grade(parameter).to(parameter['cuda']) #我不支持\n",
    "    model = Grade(parameter).to(parameter['cuda'])#这里parameter['cuda']='cpu'\n",
    "    \n",
    "    #model.load_state_dict(torch.load(root_path+'grade.h5'))\n",
    "    #模型转移到cpu\n",
    "    model.load_state_dict(torch.load(root_path+'grade.h5',map_location='cpu'))\n",
    "\n",
    "    model.eval()\n",
    "    return model,parameter"
   ]
  },
  {
   "cell_type": "code",
   "execution_count": 20,
   "metadata": {
    "ExecuteTime": {
     "end_time": "2021-08-26T06:28:47.028547Z",
     "start_time": "2021-08-26T06:28:46.974685Z"
    },
    "scrolled": true
   },
   "outputs": [
    {
     "name": "stdout",
     "output_type": "stream",
     "text": [
      "cuda\n",
      "cpu\n",
      "[13, 14, 21, 22, 15, 16, 23, 24, 25] [30, 31, 50, 51, 52, 53, 29, 32, 54, 55, 56, 57, 58, 55, 59, 7, 35, 36]\n",
      "tensor([0.6987], grad_fn=<DivBackward0>)\n"
     ]
    },
    {
     "data": {
      "text/plain": [
       "0.6986644268035889"
      ]
     },
     "execution_count": 20,
     "metadata": {},
     "output_type": "execute_result"
    }
   ],
   "source": [
    "model,parameter = load_model()\n",
    "q = '特征工程选择思路？'\n",
    "a = '基于统计信息的，熵、相关性、KL系数'\n",
    "prob = predict(model,parameter,q,a)\n",
    "prob"
   ]
  },
  {
   "cell_type": "code",
   "execution_count": null,
   "metadata": {},
   "outputs": [],
   "source": []
  }
 ],
 "metadata": {
  "kernelspec": {
   "display_name": "Python 3",
   "language": "python",
   "name": "python3"
  },
  "language_info": {
   "codemirror_mode": {
    "name": "ipython",
    "version": 3
   },
   "file_extension": ".py",
   "mimetype": "text/x-python",
   "name": "python",
   "nbconvert_exporter": "python",
   "pygments_lexer": "ipython3",
   "version": "3.8.10"
  },
  "toc": {
   "base_numbering": 1,
   "nav_menu": {},
   "number_sections": true,
   "sideBar": true,
   "skip_h1_title": false,
   "title_cell": "Table of Contents",
   "title_sidebar": "Contents",
   "toc_cell": false,
   "toc_position": {},
   "toc_section_display": true,
   "toc_window_display": false
  },
  "varInspector": {
   "cols": {
    "lenName": 16,
    "lenType": 16,
    "lenVar": 40
   },
   "kernels_config": {
    "python": {
     "delete_cmd_postfix": "",
     "delete_cmd_prefix": "del ",
     "library": "var_list.py",
     "varRefreshCmd": "print(var_dic_list())"
    },
    "r": {
     "delete_cmd_postfix": ") ",
     "delete_cmd_prefix": "rm(",
     "library": "var_list.r",
     "varRefreshCmd": "cat(var_dic_list()) "
    }
   },
   "types_to_exclude": [
    "module",
    "function",
    "builtin_function_or_method",
    "instance",
    "_Feature"
   ],
   "window_display": false
  }
 },
 "nbformat": 4,
 "nbformat_minor": 2
}
