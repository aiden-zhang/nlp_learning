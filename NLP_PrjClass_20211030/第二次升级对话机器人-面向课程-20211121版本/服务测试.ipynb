{
 "cells": [
  {
   "cell_type": "code",
   "execution_count": null,
   "metadata": {
    "ExecuteTime": {
     "start_time": "2021-11-21T03:35:01.042Z"
    }
   },
   "outputs": [
    {
     "name": "stdout",
     "output_type": "stream",
     "text": [
      "请输入->高中地理有哪些知识点\n",
      "['中国台湾省、香港和澳门', '国际贸易和国际金融', '中国的交通运输业、商业和旅游业', '海洋开发', '中国走可持续发展道路的必然性', '世界主要自然灾害带的分布', '粮食问题', '区域能源、矿产资源的开发与区域可持续发展的关系', '工业地域的形成条件与发展特点', '现代交通运输方式的特点和城市交通的特点', '环境污染防治的主要措施', '欧洲西部、欧洲东部及北亚', '水体的运动规律', '地域分异的基本规律', '自然灾害发生的主要原因及危害', '人类认识的宇宙', '旅游业的发展对社会、经济、文化的作用', '人类对宇宙的新探索', '收集旅游信息，确定旅游点，选择合理的旅游路线', '光照图的综合判读', '地球所处的宇宙环境', '地球是太阳系中一颗既普通又特殊的行星', '环境污染形成的原因、过程及危害', '台风、寒潮、干旱、洪涝等气象灾害的形成原因', '旅游景观的欣赏', '全球气候变化对人类活动的影响', '北美和拉丁美洲', '地震、泥石流、滑坡等地质地貌灾害的产生机制与发生过程', '自然地理环境整体性的表现', '生态环境问题的成因及其形成的一般过程', '地壳内部物质循环过程', '海洋和海岸带', '中国的自然资源', '太阳对地球的影响', '世界主要陆地自然带', '地球运动的基本形式', '区域农业生产的条件、布局特点、问题', '地球的形状和大小', '主要农业地域类型的特点及其形成条件', '全球气压带、风带的分布、移动规律及其对气候的影响', '大洋洲和南极洲', '世界的陆地和海洋', '大气受热过程', '中国的地形', '中国的河流和湖泊', '内力作用与地貌', '中国东部季风区（北方地区和南方地区）', '等压面、等压线、等温线等分布图的判读', '东亚、东南亚、南亚和中亚', '地球仪，经纬网及其地理意义', '世界洋流分布规律及其对地理环境的影响', '等高线地形图、地形剖面图', '中国的西北地区和青藏地区', '数字地球的含义', '西亚和北非、撒哈拉以南非洲', '水资源的合理利用', '自然资源的分布和利用', '流域开发的地理条件、内容、综合治理措施', '不同发展阶段地理环境对人类生产和生活方式的影响', '大气运动', '自然地理要素的相互作用', '区域存在的环境与发展问题', '全球定位系统(GPS)在定位导航中的应用', '遥感(RS)在资源普查、环境和灾害监测中的应用', '区域的含义', '商业中心及其形成', '三大产业发展及其产业结构转移', '可持续发展的基本内涵及协调人地关系的主要途径', '中国的农业和工业', '3S技术综合应用', '地图的基本知识', '中外著名旅游景区的景观特点及其形成原因', '世界的居民和政区', '湿地资源的开发与保护', '地球的内部圈层结构及特点', '地球的外部圈层结构及特点', '生产活动中地域联系的重要性和主要方式', '交通运输与地理环境', '陆地上水体间的相互关系', '地球运动的地理意义', '中国的天气和气候', '荒漠化的防治', '城乡建设与生活环境', '交通运输布局及其变化对生产、生活和社会经济的影响', '世界气候类型和自然景观', '不同区域自然环境、人类活动的差异', '区域工业化和城市化的推进过程产生的问题及解决措施', '大气、天气、气候变化规律', '传统工业区和新兴工业区', '水土流失的治理', '地理信息系统(GIS)在城市管理中的应用', '水循环过程和主要环节及地理意义', '产业转移和资源跨区域调配对区域地理环境的影响', '农业区位因素', '城乡规划', '等值线图', '常见的天气系统', '地表形态对聚落及交通线路分布的影响', '交通运输线路及站点的区位因素', '中国的疆域行政区划、人口和民族', '气候类型及其判断', '工业区位因素', '地壳物质循环及地表形态的塑造', '外力作用与地貌', '地域文化对人口或城市的影响', '人口性别构成、年龄构成图的判断', '城市的空间结构及其形成原因', '人口增长与人口问题', '城市化的过程和特点', '城市的区位因素', '城市化对地理环境的影响', '人口迁移与人口流动', '城乡分布', '城市地域结构及服务功能', '人口分布与人口合理容量']\n"
     ]
    }
   ],
   "source": [
    "import requests\n",
    "import json\n",
    "\n",
    "while 1:\n",
    "    question = input('请输入->')\n",
    "    if len(question) > 0:\n",
    "        data = {\n",
    "        'question':question\n",
    "        }\n",
    "        url = 'http://127.0.0.1:8081/test'\n",
    "        answer = requests.post(url,data=json.dumps(data)).json()\n",
    "        print(answer)\n",
    "    else:\n",
    "        break"
   ]
  },
  {
   "cell_type": "code",
   "execution_count": null,
   "metadata": {},
   "outputs": [],
   "source": []
  }
 ],
 "metadata": {
  "kernelspec": {
   "display_name": "Python 3",
   "language": "python",
   "name": "python3"
  },
  "language_info": {
   "codemirror_mode": {
    "name": "ipython",
    "version": 3
   },
   "file_extension": ".py",
   "mimetype": "text/x-python",
   "name": "python",
   "nbconvert_exporter": "python",
   "pygments_lexer": "ipython3",
   "version": "3.8.10"
  },
  "toc": {
   "base_numbering": 1,
   "nav_menu": {},
   "number_sections": true,
   "sideBar": true,
   "skip_h1_title": false,
   "title_cell": "Table of Contents",
   "title_sidebar": "Contents",
   "toc_cell": false,
   "toc_position": {},
   "toc_section_display": true,
   "toc_window_display": false
  },
  "varInspector": {
   "cols": {
    "lenName": 16,
    "lenType": 16,
    "lenVar": 40
   },
   "kernels_config": {
    "python": {
     "delete_cmd_postfix": "",
     "delete_cmd_prefix": "del ",
     "library": "var_list.py",
     "varRefreshCmd": "print(var_dic_list())"
    },
    "r": {
     "delete_cmd_postfix": ") ",
     "delete_cmd_prefix": "rm(",
     "library": "var_list.r",
     "varRefreshCmd": "cat(var_dic_list()) "
    }
   },
   "types_to_exclude": [
    "module",
    "function",
    "builtin_function_or_method",
    "instance",
    "_Feature"
   ],
   "window_display": false
  }
 },
 "nbformat": 4,
 "nbformat_minor": 2
}
